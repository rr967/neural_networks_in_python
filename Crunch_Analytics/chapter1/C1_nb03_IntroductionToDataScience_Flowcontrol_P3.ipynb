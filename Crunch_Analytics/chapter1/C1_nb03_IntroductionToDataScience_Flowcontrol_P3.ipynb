{
 "cells": [
  {
   "cell_type": "markdown",
   "metadata": {},
   "source": [
    "# 1.3 Flow Control - conditional structures (done)"
   ]
  },
  {
   "cell_type": "code",
   "execution_count": null,
   "metadata": {},
   "outputs": [],
   "source": [
    "# to make the .py script runnable\n",
    "#!/usr/bin/env python"
   ]
  },
  {
   "cell_type": "code",
   "execution_count": null,
   "metadata": {},
   "outputs": [],
   "source": [
    "from sklearn import datasets\n",
    "import pandas as pd\n",
    "import numpy as np\n",
    "import matplotlib.pyplot as plt\n",
    "\n",
    "%matplotlib inline\n",
    "plt.style.use('ggplot')"
   ]
  },
  {
   "cell_type": "markdown",
   "metadata": {},
   "source": [
    "---\n",
    "\n",
    "$Traditional$\n",
    "\n",
    "---\n",
    "\n",
    "```python\n",
    "if condition:\n",
    "    action\n",
    "else:\n",
    "    alternative\n",
    "```\n",
    "---\n",
    "### Note that whitespace matters! Whitespace defines blocks, as opposed to brackets in other languages.\n",
    "---\n",
    "\n",
    "$Ternary$\n",
    "\n",
    "---\n",
    "\n",
    "```python\n",
    "\n",
    "action if condition else alternative   \n",
    "```"
   ]
  },
  {
   "cell_type": "code",
   "execution_count": null,
   "metadata": {
    "scrolled": true
   },
   "outputs": [],
   "source": [
    "x = 5; y = 3\n",
    "if x > y:\n",
    "    print(1)\n",
    "else:\n",
    "    print(0)\n",
    "'The block has already finished'"
   ]
  },
  {
   "cell_type": "code",
   "execution_count": null,
   "metadata": {},
   "outputs": [],
   "source": [
    "print(1) if x > y else 0\n",
    "'The block has already finished'"
   ]
  },
  {
   "cell_type": "code",
   "execution_count": null,
   "metadata": {},
   "outputs": [],
   "source": [
    "name = 'Mr A'\n",
    "\n",
    "if 'Mrs' in name:\n",
    "    print(\"This person is female\")\n",
    "else:\n",
    "    print(\"This person is male\")"
   ]
  },
  {
   "cell_type": "code",
   "execution_count": null,
   "metadata": {},
   "outputs": [],
   "source": [
    "print('This person is ' + ('female' if 'Mrs' in name else 'male'))"
   ]
  },
  {
   "cell_type": "code",
   "execution_count": null,
   "metadata": {},
   "outputs": [],
   "source": [
    "name = 'Alex'"
   ]
  },
  {
   "cell_type": "code",
   "execution_count": null,
   "metadata": {},
   "outputs": [],
   "source": [
    "if (name == 'Alex'):\n",
    "    print('Hi Alex')"
   ]
  },
  {
   "cell_type": "code",
   "execution_count": null,
   "metadata": {},
   "outputs": [],
   "source": [
    "if name != 'Alice':\n",
    "    print('You are not Alice')"
   ]
  },
  {
   "cell_type": "code",
   "execution_count": null,
   "metadata": {},
   "outputs": [],
   "source": [
    "name = 'Johny'\n",
    "age = 15\n",
    "lastname = 'Doe'"
   ]
  },
  {
   "cell_type": "code",
   "execution_count": null,
   "metadata": {},
   "outputs": [],
   "source": [
    "if (name == 'John'):\n",
    "    print('How are you?')\n",
    "elif age < 18:\n",
    "    print(\"You're just a teenager\")\n",
    "elif (lastname == 'Doe'):\n",
    "    print(\"Never heard that name before\")\n",
    "else:\n",
    "    print('you do not qualify')"
   ]
  },
  {
   "cell_type": "markdown",
   "metadata": {},
   "source": [
    "# 1.4. The `for` Loop"
   ]
  },
  {
   "cell_type": "markdown",
   "metadata": {},
   "source": [
    "---\n",
    "### Note thate whitespace is again used to denote blocks. You can iterate over any ordered set.\n",
    "---"
   ]
  },
  {
   "cell_type": "code",
   "execution_count": null,
   "metadata": {},
   "outputs": [],
   "source": [
    "list1 = [1,6,7]\n",
    "for i in list1:\n",
    "    print(i)\n",
    "    print(2*i)\n",
    "'The block has already finished'"
   ]
  },
  {
   "cell_type": "code",
   "execution_count": null,
   "metadata": {},
   "outputs": [],
   "source": [
    "list2=range(0, 10, 2) # range can be used to easily make lists to iterate over\n",
    "for i in list2:       # range(start, stop, step)\n",
    "    print(i)"
   ]
  },
  {
   "cell_type": "code",
   "execution_count": null,
   "metadata": {},
   "outputs": [],
   "source": [
    "range(0, 10, 2)"
   ]
  },
  {
   "cell_type": "code",
   "execution_count": null,
   "metadata": {},
   "outputs": [],
   "source": [
    "for t in range(10):\n",
    "    print(t)"
   ]
  },
  {
   "cell_type": "code",
   "execution_count": null,
   "metadata": {},
   "outputs": [],
   "source": [
    "tuple = (-9, 'it works with strings!', ['work', 'with', 'list', 'is', True]) \n",
    "for count in tuple: #note that we now count over a tuple, not a list.\n",
    "    print(count)\n",
    "    print(2*count)\n",
    "    print('\\n')"
   ]
  }
 ],
 "metadata": {
  "kernelspec": {
   "display_name": "Python 3 (ipykernel)",
   "language": "python",
   "name": "python3"
  },
  "language_info": {
   "codemirror_mode": {
    "name": "ipython",
    "version": 3
   },
   "file_extension": ".py",
   "mimetype": "text/x-python",
   "name": "python",
   "nbconvert_exporter": "python",
   "pygments_lexer": "ipython3",
   "version": "3.9.6"
  },
  "toc": {
   "base_numbering": 1,
   "nav_menu": {},
   "number_sections": true,
   "sideBar": true,
   "skip_h1_title": false,
   "title_cell": "Table of Contents",
   "title_sidebar": "Contents",
   "toc_cell": false,
   "toc_position": {},
   "toc_section_display": true,
   "toc_window_display": false
  }
 },
 "nbformat": 4,
 "nbformat_minor": 4
}
