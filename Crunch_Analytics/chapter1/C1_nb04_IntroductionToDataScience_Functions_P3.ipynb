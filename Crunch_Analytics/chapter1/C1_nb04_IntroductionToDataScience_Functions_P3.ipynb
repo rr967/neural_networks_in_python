{
 "cells": [
  {
   "cell_type": "markdown",
   "metadata": {},
   "source": [
    "# 1.5 Functions (done)"
   ]
  },
  {
   "cell_type": "code",
   "execution_count": null,
   "metadata": {},
   "outputs": [],
   "source": [
    "# to make the .py script runnable\n",
    "#!/usr/bin/env python"
   ]
  },
  {
   "cell_type": "code",
   "execution_count": null,
   "metadata": {},
   "outputs": [],
   "source": [
    "from sklearn import datasets\n",
    "import pandas as pd\n",
    "import numpy as np\n",
    "import matplotlib.pyplot as plt\n",
    "\n",
    "%matplotlib inline\n",
    "plt.style.use('ggplot')"
   ]
  },
  {
   "cell_type": "markdown",
   "metadata": {},
   "source": [
    "---\n",
    "\n",
    "Simply put, you can think of functions as groups of code that have a name and can be called using parentheses. But in\n",
    "practice, functions are perhaps the most powerful and convenient way of accomplishing two critical tasks:\n",
    "\n",
    "- code organization (think about your project as being composed of modules, bundle up code in functions for each)\n",
    "- code reuse (functionality that you will use in multiple places)\n",
    "\n",
    "As a direct extension of the famous DRY principle (Don't Repeat Yourself) if you ever find yourself copy-pasting code\n",
    "written earlier in a script to do a similar task, stop and write a function. As a guiding principle, take a leaf from the UNIX\n",
    "philosophy, and\n",
    "\n",
    "> Write short functions that do one thing, but do it really well.\n",
    "\n",
    "Every function in Python is characterized by the following steps:  \n",
    "\n",
    "\n",
    "1. Take some argument(s)\n",
    "2. Flow it through the body of the function\n",
    "3. Return object(s)  \n",
    "\n",
    "### `args` and `kwargs`\n",
    "\n",
    "- Functions in Python can take positional and keyword arguments. \n",
    "    - Note that when passing both kinds of arguments to a function, the positional arguments should be listed first. \n",
    "- It is also possible to declare default arguments, which will take the values specified with the function's definition, unless overriden by explicitly passing parameters.\n",
    "\n",
    "\n",
    "## Syntax\n",
    "\n",
    "---\n",
    "\n",
    "- Function **Definition**:\n",
    "\n",
    "```python\n",
    "def func-name(parameters):\n",
    "    \"\"\"Docstring\"\"\"\n",
    "    .\n",
    "    .\n",
    "    function body\n",
    "    .\n",
    "    .\n",
    "    return something\n",
    "```\n",
    "\n",
    "---\n",
    "\n",
    "- Function **Call:**\n",
    "\n",
    "\n",
    "`func-name(arguments)`\n",
    "\n",
    "\n",
    "---"
   ]
  },
  {
   "cell_type": "markdown",
   "metadata": {
    "collapsed": true,
    "jupyter": {
     "outputs_hidden": true
    }
   },
   "source": [
    "## 1.5.1 Define your own functions"
   ]
  },
  {
   "cell_type": "markdown",
   "metadata": {},
   "source": [
    "---\n",
    "### Note thate whitespace is again used to denote blocks.\n",
    "---"
   ]
  },
  {
   "cell_type": "code",
   "execution_count": null,
   "metadata": {},
   "outputs": [],
   "source": [
    "def greetings ():\n",
    "    print('Hello how are you?')\n",
    "    print('I am fine, thank you')\n",
    "'The block has already finished'"
   ]
  },
  {
   "cell_type": "code",
   "execution_count": null,
   "metadata": {},
   "outputs": [],
   "source": [
    "greetings()"
   ]
  },
  {
   "cell_type": "code",
   "execution_count": null,
   "metadata": {},
   "outputs": [],
   "source": [
    "def squareprint(num):\n",
    "    sq= num*num\n",
    "    print('The square of '+ str(num) + ' is: ' + str(sq))"
   ]
  },
  {
   "cell_type": "code",
   "execution_count": null,
   "metadata": {},
   "outputs": [],
   "source": [
    "squareprint(9)"
   ]
  },
  {
   "cell_type": "code",
   "execution_count": null,
   "metadata": {},
   "outputs": [],
   "source": [
    "def squarereturn(num):\n",
    "    sq = num * num\n",
    "    return sq"
   ]
  },
  {
   "cell_type": "code",
   "execution_count": null,
   "metadata": {},
   "outputs": [],
   "source": [
    "squarereturn(9)"
   ]
  },
  {
   "cell_type": "code",
   "execution_count": null,
   "metadata": {},
   "outputs": [],
   "source": [
    "outcome = squarereturn(8)\n",
    "12*outcome"
   ]
  },
  {
   "cell_type": "code",
   "execution_count": null,
   "metadata": {},
   "outputs": [],
   "source": [
    "outcome2 = squareprint(8)\n",
    "12*outcome"
   ]
  },
  {
   "cell_type": "markdown",
   "metadata": {},
   "source": [
    "### 1.5.1.1 Default Variables"
   ]
  },
  {
   "cell_type": "code",
   "execution_count": null,
   "metadata": {},
   "outputs": [],
   "source": [
    "def squarereturn_default4(num=4):\n",
    "    sq = num * num\n",
    "    return sq"
   ]
  },
  {
   "cell_type": "code",
   "execution_count": null,
   "metadata": {},
   "outputs": [],
   "source": [
    "outcome_default = squarereturn_default4()\n",
    "outcome_Nodefault = squarereturn_default4(5)\n",
    "print(outcome_default)\n",
    "print(outcome_Nodefault)"
   ]
  },
  {
   "cell_type": "code",
   "execution_count": null,
   "metadata": {},
   "outputs": [],
   "source": [
    "import numpy as np\n",
    "def func1(*args):\n",
    "    \"\"\"\n",
    "    \"\"\"\n",
    "    try:\n",
    "        print(np.sum(args))\n",
    "    except:\n",
    "        print('Humse na ho payega')"
   ]
  },
  {
   "cell_type": "code",
   "execution_count": null,
   "metadata": {},
   "outputs": [],
   "source": [
    "func1(1, 2, 3)"
   ]
  },
  {
   "cell_type": "code",
   "execution_count": null,
   "metadata": {},
   "outputs": [],
   "source": [
    "func1(1, 2, [1, 2, 3], 'a', {'k1': 12})"
   ]
  },
  {
   "cell_type": "code",
   "execution_count": null,
   "metadata": {},
   "outputs": [],
   "source": [
    "def add_one(num):\n",
    "    \"\"\"\n",
    "    This function takes a number, and increases it by 1\n",
    "    Returns the increased value\n",
    "    \"\"\"\n",
    "    return num + 1"
   ]
  },
  {
   "cell_type": "code",
   "execution_count": null,
   "metadata": {},
   "outputs": [],
   "source": [
    "add_one(99)"
   ]
  },
  {
   "cell_type": "code",
   "execution_count": null,
   "metadata": {},
   "outputs": [],
   "source": [
    "add_one(199)"
   ]
  },
  {
   "cell_type": "code",
   "execution_count": null,
   "metadata": {},
   "outputs": [],
   "source": [
    "def adder(m, n, *args, **kwargs):\n",
    "    print(m+n)\n",
    "    print(args)\n",
    "    print(type(args))\n",
    "    print(args[2])\n",
    "    print(kwargs)\n",
    "    print(type(kwargs))\n",
    "    print(kwargs['color'])\n",
    "    return(m + n)\n",
    "\n",
    "adder(998, 2, 10, 20, 30, 40, 50, name='Dush', car='None', color='Red')"
   ]
  },
  {
   "cell_type": "code",
   "execution_count": null,
   "metadata": {},
   "outputs": [],
   "source": [
    "def any_adder(*args):\n",
    "    \"\"\"\n",
    "    args passed will be summed together\n",
    "    This is a flexible function\n",
    "    \"\"\"\n",
    "    return np.sum(args)"
   ]
  },
  {
   "cell_type": "code",
   "execution_count": null,
   "metadata": {},
   "outputs": [],
   "source": [
    "any_adder(1, 2, 3, 4)"
   ]
  },
  {
   "cell_type": "code",
   "execution_count": null,
   "metadata": {},
   "outputs": [],
   "source": [
    "any_adder(10, 78, -234, 99)"
   ]
  },
  {
   "cell_type": "code",
   "execution_count": null,
   "metadata": {},
   "outputs": [],
   "source": [
    "def characters_printer(*args, **kwargs):\n",
    "    \"\"\"\n",
    "    \"\"\"\n",
    "    try:\n",
    "        if bool(kwargs):\n",
    "            print(kwargs)\n",
    "            if kwargs['which'] == 'vowels':\n",
    "                print([c for c in args if c in set('aeiou')])\n",
    "            else:\n",
    "                print([c for c in args if c not in set('aeiou')])\n",
    "        else:\n",
    "            print(\"Specify whether you want vowels or consonants\")\n",
    "    except:\n",
    "        print('Oops. Something went wrong. Check the input again.')        "
   ]
  },
  {
   "cell_type": "code",
   "execution_count": null,
   "metadata": {},
   "outputs": [],
   "source": [
    "characters_printer('a', 'b', 'c', 'o', 'f', 'i', 'j', which='vowels')"
   ]
  },
  {
   "cell_type": "code",
   "execution_count": null,
   "metadata": {},
   "outputs": [],
   "source": [
    "characters_printer('a', 'b', 'c', 'o', 'f', 'i', 'j', which='')"
   ]
  },
  {
   "cell_type": "code",
   "execution_count": null,
   "metadata": {},
   "outputs": [],
   "source": [
    "characters_printer('a', 'b', 'c', 'o', 'f', 'i', 'j')"
   ]
  },
  {
   "cell_type": "markdown",
   "metadata": {},
   "source": [
    "### 1.5.1.2 Functions that will push invalid inputs into a list of errors for later inspection"
   ]
  },
  {
   "cell_type": "code",
   "execution_count": null,
   "metadata": {},
   "outputs": [],
   "source": [
    "errs = []\n",
    "\n",
    "def add_10(n):\n",
    "    \"\"\"\n",
    "    \"\"\"\n",
    "    try:\n",
    "        return n + 10\n",
    "    except:\n",
    "        errs.append(n)"
   ]
  },
  {
   "cell_type": "code",
   "execution_count": null,
   "metadata": {},
   "outputs": [],
   "source": [
    "add_10('a')"
   ]
  },
  {
   "cell_type": "code",
   "execution_count": null,
   "metadata": {},
   "outputs": [],
   "source": [
    "add_10(10)"
   ]
  },
  {
   "cell_type": "code",
   "execution_count": null,
   "metadata": {},
   "outputs": [],
   "source": [
    "add_10('foo')"
   ]
  },
  {
   "cell_type": "code",
   "execution_count": null,
   "metadata": {},
   "outputs": [],
   "source": [
    "errs"
   ]
  },
  {
   "cell_type": "markdown",
   "metadata": {},
   "source": [
    "---\n",
    "\n",
    "Checklist\n",
    "\n",
    "- Syntax for declaring a function\n",
    "- Identation, try-except-finally, args & kwargs, return\n",
    "    \n",
    "---"
   ]
  },
  {
   "cell_type": "markdown",
   "metadata": {},
   "source": [
    "### 1.5.1.3 Functions are objects. "
   ]
  },
  {
   "cell_type": "code",
   "execution_count": null,
   "metadata": {},
   "outputs": [],
   "source": [
    "type(add_one)"
   ]
  },
  {
   "cell_type": "code",
   "execution_count": null,
   "metadata": {},
   "outputs": [],
   "source": [
    "type(add_10)"
   ]
  },
  {
   "cell_type": "code",
   "execution_count": null,
   "metadata": {},
   "outputs": [],
   "source": [
    "list_of_funcs = [add_one, add_10]"
   ]
  },
  {
   "cell_type": "code",
   "execution_count": null,
   "metadata": {},
   "outputs": [],
   "source": [
    "list_of_funcs[0](99)"
   ]
  },
  {
   "cell_type": "code",
   "execution_count": null,
   "metadata": {},
   "outputs": [],
   "source": [
    "list_of_funcs[1](90)"
   ]
  },
  {
   "cell_type": "code",
   "execution_count": null,
   "metadata": {},
   "outputs": [],
   "source": [
    "dict_of_funcs = {'f1': add_one,\n",
    "                'f2': add_10,\n",
    "                'f3': np.sqrt}"
   ]
  },
  {
   "cell_type": "code",
   "execution_count": null,
   "metadata": {},
   "outputs": [],
   "source": [
    "dict_of_funcs['f3'](100)"
   ]
  },
  {
   "cell_type": "code",
   "execution_count": null,
   "metadata": {},
   "outputs": [],
   "source": [
    "def meta_func(*args, **kwargs):\n",
    "    \"\"\"DS\"\"\"\n",
    "    return kwargs['func'](args)"
   ]
  },
  {
   "cell_type": "code",
   "execution_count": null,
   "metadata": {},
   "outputs": [],
   "source": [
    "meta_func(range(10), func=np.sum)"
   ]
  },
  {
   "cell_type": "code",
   "execution_count": null,
   "metadata": {},
   "outputs": [],
   "source": [
    "meta_func(range(100), func=np.mean)"
   ]
  },
  {
   "cell_type": "markdown",
   "metadata": {},
   "source": [
    "### 1.5.1.4 Error Handling"
   ]
  },
  {
   "cell_type": "code",
   "execution_count": null,
   "metadata": {},
   "outputs": [],
   "source": [
    "def div_by(a, b):\n",
    "    try:\n",
    "        return a/float(b)\n",
    "    except:\n",
    "        return 'Invalid Input'"
   ]
  },
  {
   "cell_type": "code",
   "execution_count": null,
   "metadata": {},
   "outputs": [],
   "source": [
    "div_by(1245, 2)"
   ]
  },
  {
   "cell_type": "code",
   "execution_count": null,
   "metadata": {
    "scrolled": true
   },
   "outputs": [],
   "source": [
    "div_by(0, 4)"
   ]
  },
  {
   "cell_type": "code",
   "execution_count": null,
   "metadata": {
    "scrolled": true
   },
   "outputs": [],
   "source": [
    "div_by(4, 0)"
   ]
  },
  {
   "cell_type": "markdown",
   "metadata": {},
   "source": [
    "## 1.5.2 Lambda Functions"
   ]
  },
  {
   "cell_type": "markdown",
   "metadata": {},
   "source": [
    "- do not have a name\n",
    "- are temporary in nature and intent\n",
    "- use & throw"
   ]
  },
  {
   "cell_type": "code",
   "execution_count": null,
   "metadata": {},
   "outputs": [],
   "source": [
    "def squarer(x):\n",
    "    \"\"\"\n",
    "    This function takes a number and returns its square\n",
    "    \"\"\"\n",
    "    return x**2"
   ]
  },
  {
   "cell_type": "code",
   "execution_count": null,
   "metadata": {},
   "outputs": [],
   "source": [
    "squarer(5)"
   ]
  },
  {
   "cell_type": "code",
   "execution_count": null,
   "metadata": {},
   "outputs": [],
   "source": [
    "squarer = lambda x: x**2"
   ]
  },
  {
   "cell_type": "code",
   "execution_count": null,
   "metadata": {},
   "outputs": [],
   "source": [
    "squarer(5)"
   ]
  },
  {
   "cell_type": "markdown",
   "metadata": {},
   "source": [
    "## 1.5.3 Functional Programming in Python"
   ]
  },
  {
   "cell_type": "markdown",
   "metadata": {},
   "source": [
    "- `map()` - take a function and apply it to every element of a collection/sequence and returns a sequence\n",
    "    - `map(function, sequence)`  \n",
    "    \n",
    "- `filter()` - take a function that produces a bool. Return the sequence with function applied where true  \n",
    "    - `filter(function, sequence)`\n",
    "    \n",
    "- `reduce()` - take a function that works on pairs of elements and returns a single value\n",
    "    - `reduce(function, sequence)`"
   ]
  },
  {
   "cell_type": "markdown",
   "metadata": {},
   "source": [
    "### 1.5.3.1 `map` examples"
   ]
  },
  {
   "cell_type": "code",
   "execution_count": null,
   "metadata": {},
   "outputs": [],
   "source": [
    "map(np.sqrt, [100, 225, 349])"
   ]
  },
  {
   "cell_type": "code",
   "execution_count": null,
   "metadata": {},
   "outputs": [],
   "source": [
    "list(map(np.sqrt, [100, 225, 349]))"
   ]
  },
  {
   "cell_type": "markdown",
   "metadata": {},
   "source": [
    "As you can see, a map is on object in itself. You need to specify to which type you want to cast the map"
   ]
  },
  {
   "cell_type": "code",
   "execution_count": null,
   "metadata": {},
   "outputs": [],
   "source": [
    "list(map(lambda x: x+1, [9, 19, 29]))"
   ]
  },
  {
   "cell_type": "code",
   "execution_count": null,
   "metadata": {},
   "outputs": [],
   "source": [
    "tuple(map(lambda x: x+1, [9, 19, 29]))"
   ]
  },
  {
   "cell_type": "code",
   "execution_count": null,
   "metadata": {
    "scrolled": true
   },
   "outputs": [],
   "source": [
    "list(map(lambda x: x + 10, [1, 2, 3]))"
   ]
  },
  {
   "cell_type": "code",
   "execution_count": null,
   "metadata": {},
   "outputs": [],
   "source": [
    "list(map(lambda x: x**2 if x % 2 == 0 else x ** 3, range(5)))"
   ]
  },
  {
   "cell_type": "code",
   "execution_count": null,
   "metadata": {},
   "outputs": [],
   "source": [
    "list(map(lambda x: 'Num_' + str(x), range(5)))"
   ]
  },
  {
   "cell_type": "markdown",
   "metadata": {},
   "source": [
    "### 1.5.3.2 `filter` examples"
   ]
  },
  {
   "cell_type": "code",
   "execution_count": null,
   "metadata": {},
   "outputs": [],
   "source": [
    "list(filter(lambda x: x % 2 != 0, range(10)))"
   ]
  },
  {
   "cell_type": "code",
   "execution_count": null,
   "metadata": {},
   "outputs": [],
   "source": [
    "list(filter(lambda x: x in 'aeiou', list('the sky is blue')))"
   ]
  },
  {
   "cell_type": "markdown",
   "metadata": {},
   "source": [
    "### 1.5.3.3 `reduce` examples"
   ]
  },
  {
   "cell_type": "code",
   "execution_count": null,
   "metadata": {},
   "outputs": [],
   "source": [
    "import functools"
   ]
  },
  {
   "cell_type": "code",
   "execution_count": null,
   "metadata": {},
   "outputs": [],
   "source": [
    "functools.reduce(lambda x, y: x + y, range(11)) #0+1+2+3+4+5+6+7+8+9+10=55"
   ]
  },
  {
   "cell_type": "markdown",
   "metadata": {},
   "source": [
    "### 1.5.3.4 List/dict comprehension"
   ]
  },
  {
   "cell_type": "markdown",
   "metadata": {},
   "source": [
    "In most above cases list/dict comprehension looks a lot more readable. Note the different types of brackets used to denote your type"
   ]
  },
  {
   "cell_type": "code",
   "execution_count": null,
   "metadata": {},
   "outputs": [],
   "source": [
    "[x-4 for x in range(1,6)]"
   ]
  },
  {
   "cell_type": "code",
   "execution_count": null,
   "metadata": {},
   "outputs": [],
   "source": [
    "type([x-4 for x in range(1,6)])"
   ]
  },
  {
   "cell_type": "code",
   "execution_count": null,
   "metadata": {},
   "outputs": [],
   "source": [
    "{k:int(k)*3 for k in \"12345\"}"
   ]
  },
  {
   "cell_type": "code",
   "execution_count": null,
   "metadata": {},
   "outputs": [],
   "source": [
    "type({k:int(k)*3 for k in \"12345\"})"
   ]
  },
  {
   "cell_type": "code",
   "execution_count": null,
   "metadata": {},
   "outputs": [],
   "source": [
    "testlist=[-4,8,-88,-6,78,9,46,5,-7]"
   ]
  },
  {
   "cell_type": "code",
   "execution_count": null,
   "metadata": {},
   "outputs": [],
   "source": [
    "resultlist=[str(x)+\" is a positive even number from the list\" for x in testlist if x>0 and x % 2 == 0]\n",
    "print(resultlist)\n",
    "print(resultlist[0])"
   ]
  }
 ],
 "metadata": {
  "kernelspec": {
   "display_name": "Python 3 (ipykernel)",
   "language": "python",
   "name": "python3"
  },
  "language_info": {
   "codemirror_mode": {
    "name": "ipython",
    "version": 3
   },
   "file_extension": ".py",
   "mimetype": "text/x-python",
   "name": "python",
   "nbconvert_exporter": "python",
   "pygments_lexer": "ipython3",
   "version": "3.9.6"
  },
  "toc": {
   "base_numbering": 1,
   "nav_menu": {},
   "number_sections": true,
   "sideBar": true,
   "skip_h1_title": false,
   "title_cell": "Table of Contents",
   "title_sidebar": "Contents",
   "toc_cell": false,
   "toc_position": {},
   "toc_section_display": true,
   "toc_window_display": false
  }
 },
 "nbformat": 4,
 "nbformat_minor": 4
}
