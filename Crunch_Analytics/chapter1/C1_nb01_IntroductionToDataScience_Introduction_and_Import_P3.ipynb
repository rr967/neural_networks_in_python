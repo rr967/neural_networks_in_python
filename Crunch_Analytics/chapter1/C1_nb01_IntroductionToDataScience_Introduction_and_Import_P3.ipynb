{
 "cells": [
  {
   "cell_type": "markdown",
   "metadata": {},
   "source": [
    "# 1. Python Programming Principles (done)"
   ]
  },
  {
   "cell_type": "code",
   "execution_count": null,
   "metadata": {},
   "outputs": [],
   "source": [
    "# to make the .py script runnable\n",
    "#!/usr/bin/env python"
   ]
  },
  {
   "cell_type": "code",
   "execution_count": null,
   "metadata": {},
   "outputs": [],
   "source": [
    "from sklearn import datasets\n",
    "import pandas as pd\n",
    "import numpy as np\n",
    "import matplotlib.pyplot as plt\n",
    "\n",
    "%matplotlib inline\n",
    "plt.style.use('ggplot')"
   ]
  },
  {
   "cell_type": "markdown",
   "metadata": {},
   "source": [
    "- DRY\n",
    "- The Zen of Python"
   ]
  },
  {
   "cell_type": "code",
   "execution_count": null,
   "metadata": {},
   "outputs": [],
   "source": [
    "print(\"DRY: Don't Repeat Yourself\")"
   ]
  },
  {
   "cell_type": "markdown",
   "metadata": {},
   "source": [
    "Hallo"
   ]
  },
  {
   "cell_type": "code",
   "execution_count": null,
   "metadata": {},
   "outputs": [],
   "source": [
    "import this"
   ]
  },
  {
   "cell_type": "markdown",
   "metadata": {},
   "source": [
    "## Advice for budding programmers"
   ]
  },
  {
   "cell_type": "markdown",
   "metadata": {},
   "source": [
    "To get started with learning any new **OOP** language, the very first steps you have to take include learning about:\n",
    "\n",
    "- variables, values and objects\n",
    "- data types\n",
    "- data structures\n",
    "- arithmetic, control and logical operators\n",
    "\n",
    "Remember that learning a new programming language is much like learning a new foreign language. You cannot claim to know the new language until you have:\n",
    "\n",
    "- built a decent vocabulary (conversational, at least)\n",
    "- can translate/express ideas effectively\n",
    "\n",
    "The following sections will take you through the **core** of the language - build your  vocabulary (commit certain things to memory) as you go along and try to express concepts  that you know (for example, generating numbers from the Fibonacci sequence) using what you learn."
   ]
  },
  {
   "cell_type": "markdown",
   "metadata": {},
   "source": [
    "## Launching the notebook"
   ]
  },
  {
   "cell_type": "markdown",
   "metadata": {},
   "source": [
    "**On windows** - Windows Button + R + type 'cmd' + \n",
    "type 'jupyter notebook' + opens up in the browser + 'New' + Python Notebook"
   ]
  },
  {
   "cell_type": "markdown",
   "metadata": {},
   "source": [
    "**On Mac/Linux** - Terminal + 'jupyter notebook'+ opens up in the browser + 'New' + Python Notebook"
   ]
  },
  {
   "cell_type": "markdown",
   "metadata": {},
   "source": [
    "## About Jupyter Notebooks"
   ]
  },
  {
   "cell_type": "markdown",
   "metadata": {},
   "source": [
    "### Usage basics"
   ]
  },
  {
   "cell_type": "markdown",
   "metadata": {},
   "source": [
    "- Excute cells by pressing shift + enter\n",
    "- Switch between command and edit mode using Esc and Enter\n",
    "- Add comments in cells using # \"insert comment here\"\n",
    "- Pressing 'm' in command mode will make a text box (like this one!)\n",
    "- Pressing 'h' in command mode will show the most important shortcuts\n",
    "- Autocomplete function and object names with < tab >\n",
    "- Get help on functions, objects, methods by appending a '?' and hit Shift-enter.\n",
    "- Get information on command arguments by pressing shift + tab between the brackets of a function\n"
   ]
  },
  {
   "cell_type": "markdown",
   "metadata": {},
   "source": [
    "### Use Jupyter to explore and move finished code into .py files "
   ]
  },
  {
   "cell_type": "markdown",
   "metadata": {},
   "source": [
    "The Jupyter Notebook is a useful tool for exploring data and trying things out in a dynamic way. It is not however an ideal way to create production-ready code (as you may or may not have expected). Moreover, it is not a good idea to collaborate in Jupyter Notebooks using GIT since merging changes in the code can become very cumbersome. "
   ]
  },
  {
   "cell_type": "markdown",
   "metadata": {},
   "source": [
    "### Some useful tips and tricks"
   ]
  },
  {
   "cell_type": "markdown",
   "metadata": {},
   "source": [
    "- There are some magic comands that can come in very handy\n",
    "    - %time : time how long a piece of code takes to run\n",
    "    - %timeit : time using multiple runs\n",
    "    - %run : execute .py scripts or other python notebooks\n",
    "- The easiest way to debug is to to import pdb ('import pdb') and place flags in the code to provide breakpoints ('pdb.set_trace()'). \n",
    "- Prepending a command with '!' will allow you to run bash commands (osx & linux)"
   ]
  },
  {
   "cell_type": "markdown",
   "metadata": {},
   "source": [
    "### When working headless fall back on the old ipython interface"
   ]
  },
  {
   "cell_type": "markdown",
   "metadata": {},
   "source": [
    "> $ ipython"
   ]
  },
  {
   "cell_type": "markdown",
   "metadata": {},
   "source": [
    "## Object Oriented Programming"
   ]
  },
  {
   "cell_type": "markdown",
   "metadata": {},
   "source": [
    "- Classes (are definitions of data and associated functions - sometimes called methods)\n",
    "- Objects are derived from classes.\n",
    "    - Car is an object of type Vehicle. So is scooter\n",
    "    - Human is an object of type Mammal. So is Dolphin.\n",
    "- Objects have attributes (ends without parentheses). These typically summon information about the object.\n",
    "    - car.num_tyres; scooter.num_tyres\n",
    "    - human.has_tail; dolphin.has_tail\n",
    "- Objects also have methods (end with parentheses).These typically work on the data stored inside the object.\n",
    "    - car.add_sunroof(1); scooter.drop_spare_tyre(1)\n",
    "    - human.add_vaccine(5); dolphin.max_depth(50)\n",
    "\n",
    "> In Python, we will be creating Objects from Classes in a similar manner.\n",
    "We will then explore the methods and attributes of objects of every kind of class.\n",
    "\n",
    "---\n",
    "\n",
    "> ### PYTHON IS A DYNAMICALLY TYPED LANGUAGE.\n",
    "### YOU DO NOT MAKE TYPE DECLARATIONS.\n",
    "\n",
    "---\n",
    "\n"
   ]
  },
  {
   "cell_type": "markdown",
   "metadata": {},
   "source": [
    "# 1.1 Importing Modules"
   ]
  },
  {
   "cell_type": "markdown",
   "metadata": {},
   "source": [
    "\n",
    "\n",
    "There are 3 ways of doing this\n",
    "\n",
    "1. Import the entire module (**not** recommended)\n",
    "\n",
    "\n",
    "~~import pandas~~ <br>\n",
    "~~pandas.DataFrame~~\n",
    "\n",
    "Also avoid writing `from pandas import *`\n",
    "\n",
    "\n",
    "2. Provide an alias (recommended)\n",
    "\n",
    "```python\n",
    "import pandas as pd\n",
    "pd.DataFrame\n",
    "```\n",
    "\n",
    "3. Import whatever you need (recommended)\n",
    "\n",
    "\n",
    "```python\n",
    "from pandas import DataFrame\n",
    "DataFrame\n",
    "```\n",
    "\n",
    "---"
   ]
  },
  {
   "cell_type": "code",
   "execution_count": null,
   "metadata": {},
   "outputs": [],
   "source": [
    "import pandas as pd\n",
    "import numpy as np"
   ]
  },
  {
   "cell_type": "markdown",
   "metadata": {},
   "source": [
    "Note how we call the following objects from within a module. We specify first to what module the object belongs. Don't focus (yet) on what the object exactly is."
   ]
  },
  {
   "cell_type": "code",
   "execution_count": null,
   "metadata": {},
   "outputs": [],
   "source": [
    "arr=np.array([1,2,3]) \n",
    "#Array is another type of ordered set, specific to numpy. More on this later\n",
    "print(arr)"
   ]
  },
  {
   "cell_type": "code",
   "execution_count": null,
   "metadata": {},
   "outputs": [],
   "source": [
    "s = pd.Series(np.random.randn(3), index=arr) \n",
    "#Series is another type of ordered set, specific to pandas. More on this later\n",
    "print(s)"
   ]
  },
  {
   "cell_type": "code",
   "execution_count": null,
   "metadata": {},
   "outputs": [],
   "source": []
  }
 ],
 "metadata": {
  "kernelspec": {
   "display_name": "Python 3 (ipykernel)",
   "language": "python",
   "name": "python3"
  },
  "language_info": {
   "codemirror_mode": {
    "name": "ipython",
    "version": 3
   },
   "file_extension": ".py",
   "mimetype": "text/x-python",
   "name": "python",
   "nbconvert_exporter": "python",
   "pygments_lexer": "ipython3",
   "version": "3.9.6"
  },
  "toc": {
   "base_numbering": 1,
   "nav_menu": {},
   "number_sections": true,
   "sideBar": true,
   "skip_h1_title": false,
   "title_cell": "Table of Contents",
   "title_sidebar": "Contents",
   "toc_cell": false,
   "toc_position": {},
   "toc_section_display": true,
   "toc_window_display": true
  }
 },
 "nbformat": 4,
 "nbformat_minor": 4
}
