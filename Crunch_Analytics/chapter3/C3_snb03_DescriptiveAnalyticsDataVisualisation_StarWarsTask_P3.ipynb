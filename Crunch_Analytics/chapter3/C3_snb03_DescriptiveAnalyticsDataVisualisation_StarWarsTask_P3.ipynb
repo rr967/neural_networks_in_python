{
 "cells": [
  {
   "cell_type": "code",
   "execution_count": 3,
   "metadata": {},
   "outputs": [],
   "source": [
    "# to make the .py script runnable\n",
    "#!/usr/bin/env python"
   ]
  },
  {
   "cell_type": "code",
   "execution_count": 4,
   "metadata": {},
   "outputs": [],
   "source": [
    "from sklearn import datasets\n",
    "import pandas as pd\n",
    "import numpy as np\n",
    "import matplotlib.pyplot as plt\n",
    "import seaborn as sns\n",
    "\n",
    "%matplotlib inline\n",
    "plt.style.use('ggplot')"
   ]
  },
  {
   "cell_type": "code",
   "execution_count": 5,
   "metadata": {},
   "outputs": [
    {
     "name": "stdout",
     "output_type": "stream",
     "text": [
      "/Users/AVNH/0 - Crunch Analytics/Notebooks\n"
     ]
    }
   ],
   "source": [
    "import os\n",
    "cdir = os.getcwd()\n",
    "print(cdir)"
   ]
  },
  {
   "cell_type": "markdown",
   "metadata": {},
   "source": [
    "# 3.3 Star Wars"
   ]
  },
  {
   "cell_type": "markdown",
   "metadata": {},
   "source": [
    "## 3.3.1 Data description"
   ]
  },
  {
   "cell_type": "markdown",
   "metadata": {},
   "source": [
    "You are given ('StarWars.csv') the results of a survey performed at a local movie theater in Ghent. During 3 evenings, 500 couples were asked 9 questions. These couples were heterosexual, with both partners above 18 years. The nine questions were:\n",
    "- How many (out of eight) Star Wars movies have you seen?\n",
    "- What is your age?\n",
    "- How many months have you been together?\n",
    "- How much money do you spend, on average, on a monthly basis at a movie theater? This includes both tickets and food/drinks\n",
    "- Are you a student?\n",
    "- On a scale of 1 (certainly not) to 5 (certainly yes) do you consider yourself a fan of the Star Wars franchise?\n",
    "- Order the following five drinks, with the first drink being the drink that you are most likelt to buy at the movie theater.\n",
    "    - Cola\n",
    "    - Beer\n",
    "    - Fanta\n",
    "    - Red Bull\n",
    "    - Ice Tea\n",
    "- When visiting the movie theater, do you mostly buy drinks (1), food (2) or nothing (3)?\n",
    "- Do you plan on seeing the new Star Wars movie (The Last Jedi) in the movie theater?"
   ]
  },
  {
   "cell_type": "markdown",
   "metadata": {},
   "source": [
    "## 3.3.2 Tasks"
   ]
  },
  {
   "cell_type": "markdown",
   "metadata": {},
   "source": [
    "1. Take a look at the data, understand what you are seeing. Understand what scale each variable is. Transform the data if you want. Use the markdown functionality of Jupyter to structure this toy model research.\n",
    "2. Summarize each relevant variable in a sensible way:\n",
    "    - Statistically\n",
    "    - Visually\n",
    "3. Detect if there is funky stuff in the data (missing data/insensible data...). Copy the dataset and deal in the copy with this funky stuff.\n",
    "4. Summarize the relevant relationships between variables in a sensible way:\n",
    "    - Statistically\n",
    "    - Visually\n",
    "    - Pay special attention to the following relationships:\n",
    "        - months together and age \n",
    "        - sex and money spend \n",
    "        - number of movies seen and fan-ness\n",
    "        - number of movies seen and plans of seeing the new movie \n",
    "        - favourite drinks and shopping habits \n",
    "        - student and age\n",
    "        - student & favourite drinks\n",
    "5. Thinks again about the funky stuff. Would you handle it differently now?\n",
    "6. Summarize some relevant three way relationships, e.g., is the link between money spend and being student different for each sex?\n",
    "7. Formulate a reply to the following research questions:\n",
    "    - Do likeminded people, concerning movies, become couples?\n",
    "    - Do couples become likeminded, concerning movies?\n",
    "    - Which drinks would you advertise during a screening of The Last Jedi?\n",
    "    - Do men like Star Wars better than women?\n",
    "    - Are Star Wars fans typically movie fanatics?\n",
    "    - Are movie fanatics typically Star Wars fans?\n",
    "    - How would you characterize people that spend a lot at the movie theater?\n",
    "8. What follow-up survey/experiment/data collection would you advise?"
   ]
  },
  {
   "cell_type": "markdown",
   "metadata": {},
   "source": [
    "## 3.3.3 Solutions"
   ]
  },
  {
   "cell_type": "markdown",
   "metadata": {},
   "source": [
    "### 3.3.3.1 Look at the data"
   ]
  },
  {
   "cell_type": "markdown",
   "metadata": {},
   "source": [
    "Take a look at the data, understand what you are seeing. Understand what scale each variable is. Transform the data if you want. Use the markdown functionality of Jupyter to structure this toy model research"
   ]
  },
  {
   "cell_type": "code",
   "execution_count": 7,
   "metadata": {},
   "outputs": [],
   "source": [
    "sw_df = pd.read_csv('data/StarWars.csv', index_col=0)"
   ]
  },
  {
   "cell_type": "code",
   "execution_count": null,
   "metadata": {},
   "outputs": [],
   "source": [
    "sw_df.sample(3)"
   ]
  },
  {
   "cell_type": "code",
   "execution_count": null,
   "metadata": {},
   "outputs": [],
   "source": [
    "sw_df.info()"
   ]
  },
  {
   "cell_type": "code",
   "execution_count": null,
   "metadata": {},
   "outputs": [],
   "source": [
    "sw_df.columns"
   ]
  },
  {
   "cell_type": "code",
   "execution_count": null,
   "metadata": {},
   "outputs": [],
   "source": [
    "sw_df.dtypes"
   ]
  },
  {
   "cell_type": "code",
   "execution_count": null,
   "metadata": {},
   "outputs": [],
   "source": [
    "sw_df.index"
   ]
  },
  {
   "cell_type": "code",
   "execution_count": null,
   "metadata": {},
   "outputs": [],
   "source": [
    "sw_df.describe()"
   ]
  },
  {
   "cell_type": "code",
   "execution_count": null,
   "metadata": {},
   "outputs": [],
   "source": [
    "sw_df.corr()"
   ]
  },
  {
   "cell_type": "markdown",
   "metadata": {},
   "source": [
    "### 3.3.3.2 Summarize"
   ]
  },
  {
   "cell_type": "markdown",
   "metadata": {},
   "source": [
    "Summarize each relevant variable in a sensible way\n",
    "\n",
    "With .describe, we got most of the statistics that we want. It only takes into account the (presumed) numerical data. Consider the scales of the variables. Student, shop_hab and see_new_movie are, however, not numerical in nature. Nevertheless, the output can be informative. Student and see_new_movies are binary questions. Because of the coding (0=no and 1=yes), the mean is also the proportion of 'yes'. Shop_hab is not binary, so the mean is meaningless. The quartiles do say something, but we will need calculate some more statistics. Sex and fav_drinks are not considered numerical by Python. We will add some more summary for Sex. fav_drinks is more tricky. We will give each of the drinks a score per subject (5 for the favourite drink - 1 for the least favourite), summing these will give a (not the) global scale of which drinks people like. For interpretation, keep in mind that of all people like the same drink, the total score would be 5000. \n",
    "\n",
    "You will see that these exploratory steps have an overlap with sanity checks. We will already start flagging when we note something weird in the data. "
   ]
  },
  {
   "cell_type": "code",
   "execution_count": null,
   "metadata": {},
   "outputs": [],
   "source": [
    "sw_df.describe()"
   ]
  },
  {
   "cell_type": "code",
   "execution_count": null,
   "metadata": {},
   "outputs": [],
   "source": [
    "sw_df['sex'].unique()"
   ]
  },
  {
   "cell_type": "code",
   "execution_count": null,
   "metadata": {},
   "outputs": [],
   "source": [
    "sw_df['movies'].value_counts()"
   ]
  },
  {
   "cell_type": "code",
   "execution_count": null,
   "metadata": {},
   "outputs": [],
   "source": [
    "sw_df.groupby(['movies']).count()"
   ]
  },
  {
   "cell_type": "code",
   "execution_count": null,
   "metadata": {},
   "outputs": [],
   "source": [
    "sns.distplot(sw_df.movies,hist=True, kde=False)\n",
    "plt.show()"
   ]
  },
  {
   "cell_type": "code",
   "execution_count": null,
   "metadata": {},
   "outputs": [],
   "source": [
    "sns.boxplot(y=sw_df.movies)\n",
    "plt.show()"
   ]
  },
  {
   "cell_type": "code",
   "execution_count": null,
   "metadata": {},
   "outputs": [],
   "source": [
    "sns.distplot(sw_df.age,hist=True, kde=False)\n",
    "plt.show()"
   ]
  },
  {
   "cell_type": "code",
   "execution_count": null,
   "metadata": {},
   "outputs": [],
   "source": [
    "sns.boxplot(y=sw_df.age)\n",
    "plt.show()"
   ]
  },
  {
   "cell_type": "code",
   "execution_count": null,
   "metadata": {},
   "outputs": [],
   "source": [
    "sw_df['sex'].value_counts() #something funky!"
   ]
  },
  {
   "cell_type": "code",
   "execution_count": null,
   "metadata": {},
   "outputs": [],
   "source": [
    "sw_df[sw_df['sex'].isnull()]"
   ]
  },
  {
   "cell_type": "code",
   "execution_count": null,
   "metadata": {},
   "outputs": [],
   "source": [
    "sns.countplot(x='sex',data=sw_df)\n",
    "plt.show()"
   ]
  },
  {
   "cell_type": "code",
   "execution_count": null,
   "metadata": {},
   "outputs": [],
   "source": [
    "sw_df['couplenumber'].value_counts().unique()"
   ]
  },
  {
   "cell_type": "code",
   "execution_count": null,
   "metadata": {},
   "outputs": [],
   "source": [
    "len(sw_df['couplenumber'].unique())"
   ]
  },
  {
   "cell_type": "code",
   "execution_count": null,
   "metadata": {},
   "outputs": [],
   "source": [
    "sns.distplot(sw_df.couplenumber, kde=False) #something funky!\n",
    "plt.show() "
   ]
  },
  {
   "cell_type": "code",
   "execution_count": null,
   "metadata": {},
   "outputs": [],
   "source": [
    "sw_df.couplenumber.value_counts() #look at the highest and the lowest"
   ]
  },
  {
   "cell_type": "code",
   "execution_count": null,
   "metadata": {},
   "outputs": [],
   "source": [
    "#sns.distplot(sw_df.months_together,hist=True, kde=False) \n",
    "#plt.show()\n",
    "# Delete the first '#'s to see that something funky is going on"
   ]
  },
  {
   "cell_type": "code",
   "execution_count": null,
   "metadata": {},
   "outputs": [],
   "source": [
    "sw_df.months_together.value_counts() #look at the highest and the lowest"
   ]
  },
  {
   "cell_type": "code",
   "execution_count": null,
   "metadata": {},
   "outputs": [],
   "source": [
    "sw_df.months_together.unique() #look at the highest and the lowest"
   ]
  },
  {
   "cell_type": "code",
   "execution_count": null,
   "metadata": {},
   "outputs": [],
   "source": [
    "sns.distplot(sw_df[sw_df.months_together.notnull()].months_together,kde=False)\n",
    "plt.show()"
   ]
  },
  {
   "cell_type": "code",
   "execution_count": null,
   "metadata": {},
   "outputs": [],
   "source": [
    "sns.boxplot(y=sw_df.months_together)\n",
    "plt.show()"
   ]
  },
  {
   "cell_type": "code",
   "execution_count": null,
   "metadata": {},
   "outputs": [],
   "source": [
    "sns.distplot(sw_df.money_spend,hist=True, kde=False) #something funky\n",
    "plt.show()"
   ]
  },
  {
   "cell_type": "code",
   "execution_count": null,
   "metadata": {},
   "outputs": [],
   "source": [
    "sns.boxplot(y=sw_df.money_spend)\n",
    "plt.show()"
   ]
  },
  {
   "cell_type": "code",
   "execution_count": null,
   "metadata": {},
   "outputs": [],
   "source": [
    "sns.countplot(x='student',data=sw_df) #something funky!\n",
    "plt.show()"
   ]
  },
  {
   "cell_type": "code",
   "execution_count": null,
   "metadata": {},
   "outputs": [],
   "source": [
    "sw_df.student.value_counts() #something funky!"
   ]
  },
  {
   "cell_type": "code",
   "execution_count": null,
   "metadata": {},
   "outputs": [],
   "source": [
    "#sns.distplot(sw_df.fan,hist=True, kde=False)\n",
    "#plt.show()\n",
    "# Delete the first '#'s to see that something funky is going on"
   ]
  },
  {
   "cell_type": "code",
   "execution_count": null,
   "metadata": {},
   "outputs": [],
   "source": [
    "sns.distplot(sw_df[sw_df.fan.notnull()].fan,kde=False) #meh?\n",
    "plt.show()"
   ]
  },
  {
   "cell_type": "code",
   "execution_count": null,
   "metadata": {},
   "outputs": [],
   "source": [
    "sns.boxplot(y=sw_df.fan) #meh? Think about coarsness\n",
    "plt.show()"
   ]
  },
  {
   "cell_type": "code",
   "execution_count": null,
   "metadata": {},
   "outputs": [],
   "source": [
    "sns.countplot(sw_df[sw_df.fan.notnull()].fan)\n",
    "plt.show()"
   ]
  },
  {
   "cell_type": "code",
   "execution_count": null,
   "metadata": {},
   "outputs": [],
   "source": [
    "sw_df.fan.value_counts()"
   ]
  },
  {
   "cell_type": "code",
   "execution_count": null,
   "metadata": {},
   "outputs": [],
   "source": [
    "shop_map = {}\n",
    "shop_map[1] = 'drinks'\n",
    "shop_map[2] = 'food'\n",
    "shop_map[3] = 'nothing'"
   ]
  },
  {
   "cell_type": "code",
   "execution_count": null,
   "metadata": {},
   "outputs": [],
   "source": [
    "shop_map"
   ]
  },
  {
   "cell_type": "code",
   "execution_count": null,
   "metadata": {},
   "outputs": [],
   "source": [
    "sw_df['shop_hab'].value_counts()"
   ]
  },
  {
   "cell_type": "code",
   "execution_count": null,
   "metadata": {},
   "outputs": [],
   "source": [
    "sw_df['shop_hab_descr'] = sw_df['shop_hab'].map(shop_map)"
   ]
  },
  {
   "cell_type": "code",
   "execution_count": null,
   "metadata": {},
   "outputs": [],
   "source": [
    "sw_df['shop_hab_descr'].value_counts()"
   ]
  },
  {
   "cell_type": "code",
   "execution_count": null,
   "metadata": {},
   "outputs": [],
   "source": [
    "sns.countplot(sw_df[sw_df.shop_hab.notnull()].shop_hab)\n",
    "plt.show()"
   ]
  },
  {
   "cell_type": "code",
   "execution_count": null,
   "metadata": {},
   "outputs": [],
   "source": [
    "sns.countplot(x='see_new_movie',data=sw_df)\n",
    "plt.show()"
   ]
  },
  {
   "cell_type": "code",
   "execution_count": null,
   "metadata": {},
   "outputs": [],
   "source": [
    "sw_df.see_new_movie.value_counts()"
   ]
  },
  {
   "cell_type": "code",
   "execution_count": null,
   "metadata": {},
   "outputs": [],
   "source": [
    "sw_df['fav_drinks'].unique()"
   ]
  },
  {
   "cell_type": "code",
   "execution_count": null,
   "metadata": {},
   "outputs": [],
   "source": [
    "def drink_rank(lst):\n",
    "    lst = lst.split(', ')\n",
    "    s = {}\n",
    "    for i in range(len(lst)):\n",
    "        s[lst[i]] = abs(i - 5)\n",
    "    return s"
   ]
  },
  {
   "cell_type": "code",
   "execution_count": null,
   "metadata": {},
   "outputs": [],
   "source": [
    "rank_series = sw_df['fav_drinks'].apply(lambda x: drink_rank(x))"
   ]
  },
  {
   "cell_type": "code",
   "execution_count": null,
   "metadata": {},
   "outputs": [],
   "source": [
    "rank_series"
   ]
  },
  {
   "cell_type": "code",
   "execution_count": null,
   "metadata": {},
   "outputs": [],
   "source": [
    "for d in ['ice tea', 'beer', 'red bull', 'fanta', 'cola']:\n",
    "    sw_df[d + '_rank'] = rank_series.apply(lambda x: x[d])"
   ]
  },
  {
   "cell_type": "code",
   "execution_count": null,
   "metadata": {},
   "outputs": [],
   "source": [
    "sw_df.sample(3)"
   ]
  },
  {
   "cell_type": "code",
   "execution_count": null,
   "metadata": {},
   "outputs": [],
   "source": [
    "# Next also determine the single favourite drink\n",
    "sw_df['single_fav_drink'] = sw_df['fav_drinks'].apply(lambda x: x.split(', ')[0])"
   ]
  },
  {
   "cell_type": "code",
   "execution_count": null,
   "metadata": {},
   "outputs": [],
   "source": [
    "sw_df['single_fav_drink'].value_counts()"
   ]
  },
  {
   "cell_type": "code",
   "execution_count": null,
   "metadata": {},
   "outputs": [],
   "source": [
    "sw_df[['ice tea_rank', 'beer_rank', 'red bull_rank', 'fanta_rank', 'cola_rank']].sum()"
   ]
  },
  {
   "cell_type": "markdown",
   "metadata": {},
   "source": [
    "Some more looking around"
   ]
  },
  {
   "cell_type": "code",
   "execution_count": null,
   "metadata": {},
   "outputs": [],
   "source": [
    "# Count Plot (a.k.a. Bar Plot)\n",
    "sns.countplot(x='movies', hue='sex', data=sw_df)\n",
    "plt.xlabel(\"Number of movies seen\")\n",
    "plt.ylabel(\"# Observations\")\n",
    "plt.show()"
   ]
  },
  {
   "cell_type": "code",
   "execution_count": null,
   "metadata": {},
   "outputs": [],
   "source": [
    "sns.violinplot(x='sex', y='age', data=sw_df)\n",
    "plt.show()"
   ]
  },
  {
   "cell_type": "code",
   "execution_count": 12,
   "metadata": {},
   "outputs": [
    {
     "data": {
      "text/html": [
       "<div>\n",
       "<style scoped>\n",
       "    .dataframe tbody tr th:only-of-type {\n",
       "        vertical-align: middle;\n",
       "    }\n",
       "\n",
       "    .dataframe tbody tr th {\n",
       "        vertical-align: top;\n",
       "    }\n",
       "\n",
       "    .dataframe thead th {\n",
       "        text-align: right;\n",
       "    }\n",
       "</style>\n",
       "<table border=\"1\" class=\"dataframe\">\n",
       "  <thead>\n",
       "    <tr style=\"text-align: right;\">\n",
       "      <th></th>\n",
       "      <th>movies</th>\n",
       "      <th>age</th>\n",
       "      <th>couplenumber</th>\n",
       "      <th>months_together</th>\n",
       "      <th>money_spend</th>\n",
       "      <th>student</th>\n",
       "      <th>fan</th>\n",
       "      <th>shop_hab</th>\n",
       "      <th>see_new_movie</th>\n",
       "    </tr>\n",
       "  </thead>\n",
       "  <tbody>\n",
       "    <tr>\n",
       "      <th>movies</th>\n",
       "      <td>1.000000</td>\n",
       "      <td>0.023139</td>\n",
       "      <td>0.059772</td>\n",
       "      <td>-0.004031</td>\n",
       "      <td>0.083558</td>\n",
       "      <td>-0.004172</td>\n",
       "      <td>0.901231</td>\n",
       "      <td>0.048423</td>\n",
       "      <td>0.745144</td>\n",
       "    </tr>\n",
       "    <tr>\n",
       "      <th>age</th>\n",
       "      <td>0.023139</td>\n",
       "      <td>1.000000</td>\n",
       "      <td>-0.044886</td>\n",
       "      <td>0.636261</td>\n",
       "      <td>0.095629</td>\n",
       "      <td>-0.616505</td>\n",
       "      <td>0.044324</td>\n",
       "      <td>0.081993</td>\n",
       "      <td>0.000962</td>\n",
       "    </tr>\n",
       "    <tr>\n",
       "      <th>couplenumber</th>\n",
       "      <td>0.059772</td>\n",
       "      <td>-0.044886</td>\n",
       "      <td>1.000000</td>\n",
       "      <td>-0.071050</td>\n",
       "      <td>-0.025224</td>\n",
       "      <td>0.010874</td>\n",
       "      <td>0.043112</td>\n",
       "      <td>0.000608</td>\n",
       "      <td>0.095018</td>\n",
       "    </tr>\n",
       "    <tr>\n",
       "      <th>months_together</th>\n",
       "      <td>-0.004031</td>\n",
       "      <td>0.636261</td>\n",
       "      <td>-0.071050</td>\n",
       "      <td>1.000000</td>\n",
       "      <td>0.012397</td>\n",
       "      <td>-0.364731</td>\n",
       "      <td>0.041268</td>\n",
       "      <td>0.047368</td>\n",
       "      <td>0.000838</td>\n",
       "    </tr>\n",
       "    <tr>\n",
       "      <th>money_spend</th>\n",
       "      <td>0.083558</td>\n",
       "      <td>0.095629</td>\n",
       "      <td>-0.025224</td>\n",
       "      <td>0.012397</td>\n",
       "      <td>1.000000</td>\n",
       "      <td>-0.069416</td>\n",
       "      <td>0.072657</td>\n",
       "      <td>0.086196</td>\n",
       "      <td>0.054170</td>\n",
       "    </tr>\n",
       "    <tr>\n",
       "      <th>student</th>\n",
       "      <td>-0.004172</td>\n",
       "      <td>-0.616505</td>\n",
       "      <td>0.010874</td>\n",
       "      <td>-0.364731</td>\n",
       "      <td>-0.069416</td>\n",
       "      <td>1.000000</td>\n",
       "      <td>-0.023648</td>\n",
       "      <td>-0.045163</td>\n",
       "      <td>0.011100</td>\n",
       "    </tr>\n",
       "    <tr>\n",
       "      <th>fan</th>\n",
       "      <td>0.901231</td>\n",
       "      <td>0.044324</td>\n",
       "      <td>0.043112</td>\n",
       "      <td>0.041268</td>\n",
       "      <td>0.072657</td>\n",
       "      <td>-0.023648</td>\n",
       "      <td>1.000000</td>\n",
       "      <td>0.064442</td>\n",
       "      <td>0.675728</td>\n",
       "    </tr>\n",
       "    <tr>\n",
       "      <th>shop_hab</th>\n",
       "      <td>0.048423</td>\n",
       "      <td>0.081993</td>\n",
       "      <td>0.000608</td>\n",
       "      <td>0.047368</td>\n",
       "      <td>0.086196</td>\n",
       "      <td>-0.045163</td>\n",
       "      <td>0.064442</td>\n",
       "      <td>1.000000</td>\n",
       "      <td>0.030451</td>\n",
       "    </tr>\n",
       "    <tr>\n",
       "      <th>see_new_movie</th>\n",
       "      <td>0.745144</td>\n",
       "      <td>0.000962</td>\n",
       "      <td>0.095018</td>\n",
       "      <td>0.000838</td>\n",
       "      <td>0.054170</td>\n",
       "      <td>0.011100</td>\n",
       "      <td>0.675728</td>\n",
       "      <td>0.030451</td>\n",
       "      <td>1.000000</td>\n",
       "    </tr>\n",
       "  </tbody>\n",
       "</table>\n",
       "</div>"
      ],
      "text/plain": [
       "                   movies       age  couplenumber  months_together  \\\n",
       "movies           1.000000  0.023139      0.059772        -0.004031   \n",
       "age              0.023139  1.000000     -0.044886         0.636261   \n",
       "couplenumber     0.059772 -0.044886      1.000000        -0.071050   \n",
       "months_together -0.004031  0.636261     -0.071050         1.000000   \n",
       "money_spend      0.083558  0.095629     -0.025224         0.012397   \n",
       "student         -0.004172 -0.616505      0.010874        -0.364731   \n",
       "fan              0.901231  0.044324      0.043112         0.041268   \n",
       "shop_hab         0.048423  0.081993      0.000608         0.047368   \n",
       "see_new_movie    0.745144  0.000962      0.095018         0.000838   \n",
       "\n",
       "                 money_spend   student       fan  shop_hab  see_new_movie  \n",
       "movies              0.083558 -0.004172  0.901231  0.048423       0.745144  \n",
       "age                 0.095629 -0.616505  0.044324  0.081993       0.000962  \n",
       "couplenumber       -0.025224  0.010874  0.043112  0.000608       0.095018  \n",
       "months_together     0.012397 -0.364731  0.041268  0.047368       0.000838  \n",
       "money_spend         1.000000 -0.069416  0.072657  0.086196       0.054170  \n",
       "student            -0.069416  1.000000 -0.023648 -0.045163       0.011100  \n",
       "fan                 0.072657 -0.023648  1.000000  0.064442       0.675728  \n",
       "shop_hab            0.086196 -0.045163  0.064442  1.000000       0.030451  \n",
       "see_new_movie       0.054170  0.011100  0.675728  0.030451       1.000000  "
      ]
     },
     "execution_count": 12,
     "metadata": {},
     "output_type": "execute_result"
    }
   ],
   "source": [
    "# Calculate correlations\n",
    "corr = sw_df.corr()\n",
    "corr"
   ]
  },
  {
   "cell_type": "code",
   "execution_count": 8,
   "metadata": {},
   "outputs": [
    {
     "data": {
      "image/png": "[encoded data removed]",
      "text/plain": [
       "<Figure size 432x288 with 2 Axes>"
      ]
     },
     "metadata": {
      "needs_background": "light"
     },
     "output_type": "display_data"
    }
   ],
   "source": [
    "# Calculate correlations\n",
    "corr = sw_df.corr()\n",
    "# Heatmap\n",
    "sns.heatmap(corr)\n",
    "# View the plot\n",
    "plt.show()"
   ]
  },
  {
   "cell_type": "markdown",
   "metadata": {},
   "source": [
    "### 3.3.3.3 Sanity checks"
   ]
  },
  {
   "cell_type": "markdown",
   "metadata": {},
   "source": [
    "#### Look for missing data"
   ]
  },
  {
   "cell_type": "code",
   "execution_count": null,
   "metadata": {},
   "outputs": [],
   "source": [
    "# Look for misssing values\n",
    "for c in sw_df.columns:\n",
    "    nb_missing = sum(sw_df[c].isnull())\n",
    "    if nb_missing > 0:\n",
    "        print(str(nb_missing) + \" missing values in: \" + str(c))"
   ]
  },
  {
   "cell_type": "code",
   "execution_count": null,
   "metadata": {},
   "outputs": [],
   "source": [
    "# Impute the misssing values\n",
    "sw_df[sw_df['sex'].isnull() == True]['couplenumber']"
   ]
  },
  {
   "cell_type": "code",
   "execution_count": null,
   "metadata": {},
   "outputs": [],
   "source": [
    "sw_df[sw_df['couplenumber'] == 166]"
   ]
  },
  {
   "cell_type": "code",
   "execution_count": null,
   "metadata": {},
   "outputs": [],
   "source": [
    "# ==> missing person is female! (assuming heterosexual)\n",
    "# This is not a good structural solution of course, but quick and dirty\n",
    "sw_df['sex'] = sw_df['sex'].fillna('female')\n",
    "print(sum(sw_df['sex'].isnull()))"
   ]
  },
  {
   "cell_type": "markdown",
   "metadata": {},
   "source": [
    "#### Missing values in months together"
   ]
  },
  {
   "cell_type": "code",
   "execution_count": null,
   "metadata": {},
   "outputs": [],
   "source": [
    "sw_df.sample(3)"
   ]
  },
  {
   "cell_type": "code",
   "execution_count": null,
   "metadata": {},
   "outputs": [],
   "source": [
    "sw_male_df = sw_df.query('sex == \"male\"')\n",
    "sw_female_df = sw_df.query('sex == \"female\"')"
   ]
  },
  {
   "cell_type": "code",
   "execution_count": null,
   "metadata": {},
   "outputs": [],
   "source": [
    "sw_male_df[sw_male_df['months_together'].isnull()]"
   ]
  },
  {
   "cell_type": "code",
   "execution_count": null,
   "metadata": {},
   "outputs": [],
   "source": [
    "sw_df.groupby(['sex']).count()"
   ]
  },
  {
   "cell_type": "code",
   "execution_count": null,
   "metadata": {},
   "outputs": [],
   "source": [
    "sw_df.groupby(['couplenumber']).count().head(5)"
   ]
  },
  {
   "cell_type": "code",
   "execution_count": null,
   "metadata": {},
   "outputs": [],
   "source": [
    "sw_df.groupby(['couplenumber']).max()['months_together'].head(5)"
   ]
  },
  {
   "cell_type": "code",
   "execution_count": null,
   "metadata": {},
   "outputs": [],
   "source": [
    "# Find the months together for each couple\n",
    "grouped_by_couple = sw_df.groupby(\"couplenumber\")\n"
   ]
  },
  {
   "cell_type": "code",
   "execution_count": null,
   "metadata": {},
   "outputs": [],
   "source": [
    "couple_months_together = grouped_by_couple.aggregate(np.max)['months_together']\n",
    "print(couple_months_together.head(5))"
   ]
  },
  {
   "cell_type": "code",
   "execution_count": null,
   "metadata": {},
   "outputs": [],
   "source": [
    "couple_months_together.isnull().value_counts()"
   ]
  },
  {
   "cell_type": "code",
   "execution_count": null,
   "metadata": {},
   "outputs": [],
   "source": [
    "sw_df[sw_df['months_together'].isnull()]"
   ]
  },
  {
   "cell_type": "code",
   "execution_count": null,
   "metadata": {},
   "outputs": [],
   "source": [
    "# Fill out the missing values in months together\n",
    "sw_df['months_together'] = sw_df['couplenumber'].apply(lambda x: couple_months_together[x])"
   ]
  },
  {
   "cell_type": "code",
   "execution_count": null,
   "metadata": {},
   "outputs": [],
   "source": [
    "# Also calculate the years together\n",
    "sw_df['years_together'] = sw_df['months_together'].apply(lambda x: int(round(x / 12.0)))"
   ]
  },
  {
   "cell_type": "code",
   "execution_count": null,
   "metadata": {},
   "outputs": [],
   "source": [
    "sw_df[sw_df['months_together'].isnull()]"
   ]
  },
  {
   "cell_type": "code",
   "execution_count": null,
   "metadata": {},
   "outputs": [],
   "source": [
    "sw_df.loc[sw_df['couplenumber']==65]"
   ]
  },
  {
   "cell_type": "markdown",
   "metadata": {},
   "source": [
    "#### Missing values in the fan score"
   ]
  },
  {
   "cell_type": "markdown",
   "metadata": {},
   "source": [
    "I am going to use the number of movies seen as the explanatory variable to impute the missing values (as evidenced by the correlation matrix above this is a reasonable assumption)"
   ]
  },
  {
   "cell_type": "code",
   "execution_count": null,
   "metadata": {},
   "outputs": [],
   "source": [
    "from sklearn.linear_model import LinearRegression"
   ]
  },
  {
   "cell_type": "code",
   "execution_count": null,
   "metadata": {},
   "outputs": [],
   "source": [
    "myLR = LinearRegression()"
   ]
  },
  {
   "cell_type": "code",
   "execution_count": null,
   "metadata": {},
   "outputs": [],
   "source": [
    "# Create my X and Y variables\n",
    "myX = sw_df.dropna()['movies'].values\n",
    "myY = sw_df.dropna()['fan'].values"
   ]
  },
  {
   "cell_type": "code",
   "execution_count": null,
   "metadata": {},
   "outputs": [],
   "source": [
    "print(len(myX))\n",
    "print(len(myY))"
   ]
  },
  {
   "cell_type": "code",
   "execution_count": null,
   "metadata": {},
   "outputs": [],
   "source": [
    "print(type(myX))\n",
    "print(type(myY))"
   ]
  },
  {
   "cell_type": "code",
   "execution_count": null,
   "metadata": {},
   "outputs": [],
   "source": [
    "print(myX)\n",
    "print(myY)"
   ]
  },
  {
   "cell_type": "code",
   "execution_count": null,
   "metadata": {},
   "outputs": [],
   "source": [
    "print(myX.reshape(-1, 1))\n"
   ]
  },
  {
   "cell_type": "code",
   "execution_count": null,
   "metadata": {
    "scrolled": true
   },
   "outputs": [],
   "source": [
    "# Fit the regression model\n",
    "myLR.fit(myX.reshape(-1, 1), myY)"
   ]
  },
  {
   "cell_type": "code",
   "execution_count": null,
   "metadata": {},
   "outputs": [],
   "source": [
    "myLR.coef_"
   ]
  },
  {
   "cell_type": "code",
   "execution_count": null,
   "metadata": {},
   "outputs": [],
   "source": [
    "myLR.intercept_"
   ]
  },
  {
   "cell_type": "code",
   "execution_count": null,
   "metadata": {},
   "outputs": [],
   "source": [
    "sw_df.movies.max()"
   ]
  },
  {
   "cell_type": "code",
   "execution_count": null,
   "metadata": {},
   "outputs": [],
   "source": [
    "#x_test = np.array([[1]])\n",
    "x_test = np.array([1]).reshape(-1, 1)"
   ]
  },
  {
   "cell_type": "code",
   "execution_count": null,
   "metadata": {},
   "outputs": [],
   "source": [
    "myLR.predict(x_test)"
   ]
  },
  {
   "cell_type": "code",
   "execution_count": null,
   "metadata": {},
   "outputs": [],
   "source": [
    "x = list(range(0, 10000))\n",
    "y = []\n",
    "for i in x:\n",
    "    # I'm going to round the results\n",
    "    y.append(myLR.predict(np.array(i).reshape(-1, 1)).round())"
   ]
  },
  {
   "cell_type": "code",
   "execution_count": null,
   "metadata": {},
   "outputs": [],
   "source": [
    "# Quick check to see if we are not exceeding the scale\n",
    "plt.plot(x, y, color='blue', linewidth=3)\n",
    "plt.xlabel(\"Number of movies seen\")\n",
    "plt.ylabel(\"Predicted fan score\")\n",
    "plt.show()"
   ]
  },
  {
   "cell_type": "code",
   "execution_count": null,
   "metadata": {},
   "outputs": [],
   "source": [
    "# Create predictions for each of the observations\n",
    "missing_fan_proxy = sw_df['movies'].apply(lambda x: myLR.predict(np.array(x).reshape(-1, 1)).round()[0])"
   ]
  },
  {
   "cell_type": "code",
   "execution_count": null,
   "metadata": {},
   "outputs": [],
   "source": [
    "missing_fan_proxy.value_counts()"
   ]
  },
  {
   "cell_type": "code",
   "execution_count": null,
   "metadata": {},
   "outputs": [],
   "source": [
    "# Replace the missing values\n",
    "sw_df['fan'] = sw_df['fan'].fillna(value=missing_fan_proxy)"
   ]
  },
  {
   "cell_type": "code",
   "execution_count": null,
   "metadata": {},
   "outputs": [],
   "source": [
    "sw_df[sw_df['fan'].isnull()]"
   ]
  },
  {
   "cell_type": "markdown",
   "metadata": {
    "collapsed": true
   },
   "source": [
    "#### Wrong couplenumber"
   ]
  },
  {
   "cell_type": "markdown",
   "metadata": {},
   "source": [
    "There are three people with couplenumber 450 and one with couplenumber 45. Which of the three '450' belongs with the one '45' can be seen by comparing the months_together"
   ]
  },
  {
   "cell_type": "code",
   "execution_count": null,
   "metadata": {},
   "outputs": [],
   "source": [
    "sw_df.loc[sw_df.couplenumber==450]"
   ]
  },
  {
   "cell_type": "code",
   "execution_count": null,
   "metadata": {},
   "outputs": [],
   "source": [
    "sw_df.loc[sw_df.couplenumber==45]"
   ]
  },
  {
   "cell_type": "code",
   "execution_count": null,
   "metadata": {},
   "outputs": [],
   "source": [
    "sw_df['couplenumber'].value_counts()[sw_df['couplenumber'].value_counts() != 2]"
   ]
  },
  {
   "cell_type": "code",
   "execution_count": null,
   "metadata": {},
   "outputs": [],
   "source": [
    "# Get a list with the two couple numbers \n",
    "couplenrs = sw_df['couplenumber'].value_counts()[sw_df['couplenumber'].value_counts() != 2].index\n",
    "couplenrs"
   ]
  },
  {
   "cell_type": "code",
   "execution_count": null,
   "metadata": {},
   "outputs": [],
   "source": [
    "# Create a map based on the months together\n",
    "error_filter = sw_df['couplenumber'].apply(lambda x: True if x in couplenrs else False)\n",
    "#print(error_filter)\n",
    "sw_df.loc[error_filter]"
   ]
  },
  {
   "cell_type": "code",
   "execution_count": null,
   "metadata": {},
   "outputs": [],
   "source": [
    "newMap = {}\n",
    "cnt = 0\n",
    "for mt in sw_df.loc[error_filter]['months_together'].value_counts().index:\n",
    "    subset = sw_df.loc[error_filter].query('months_together == ' + str(mt))\n",
    "    for i in subset.index.values:\n",
    "        newMap[i] = couplenrs[cnt]\n",
    "    cnt += 1"
   ]
  },
  {
   "cell_type": "code",
   "execution_count": null,
   "metadata": {},
   "outputs": [],
   "source": [
    "newMap"
   ]
  },
  {
   "cell_type": "code",
   "execution_count": null,
   "metadata": {},
   "outputs": [],
   "source": [
    "for i in newMap.keys():\n",
    "    sw_df.loc[i, 'couplenumber'] = newMap[i]"
   ]
  },
  {
   "cell_type": "code",
   "execution_count": null,
   "metadata": {},
   "outputs": [],
   "source": [
    "# It works\n",
    "sw_df.loc[newMap.keys()]"
   ]
  },
  {
   "cell_type": "markdown",
   "metadata": {},
   "source": [
    "#### Wrong student"
   ]
  },
  {
   "cell_type": "markdown",
   "metadata": {},
   "source": [
    "Based on age, we will assume that this person is not a student"
   ]
  },
  {
   "cell_type": "code",
   "execution_count": null,
   "metadata": {},
   "outputs": [],
   "source": [
    "sw_df.loc[sw_df.student==2]"
   ]
  },
  {
   "cell_type": "code",
   "execution_count": null,
   "metadata": {},
   "outputs": [],
   "source": [
    "sw_df.loc[sw_df.student==2,'student']=0"
   ]
  },
  {
   "cell_type": "code",
   "execution_count": null,
   "metadata": {},
   "outputs": [],
   "source": [
    "sw_df.loc[sw_df.student==2]"
   ]
  },
  {
   "cell_type": "markdown",
   "metadata": {},
   "source": [
    "#### Wrong months_together"
   ]
  },
  {
   "cell_type": "markdown",
   "metadata": {
    "collapsed": true
   },
   "source": [
    "One couple is too young to be together for over 20 years. We assume that 'age' is wrong. The reason for this is that this couple has the same 'months together', which indicates a correct observation. This is, however, conjecture. Another option is just to drop these observations. "
   ]
  },
  {
   "cell_type": "code",
   "execution_count": null,
   "metadata": {},
   "outputs": [],
   "source": [
    "sw_df.loc[sw_df.months_together/12>sw_df.age-10]"
   ]
  },
  {
   "cell_type": "code",
   "execution_count": null,
   "metadata": {},
   "outputs": [],
   "source": [
    "myY = sw_df['age'].values\n",
    "myX = sw_df['months_together'].values"
   ]
  },
  {
   "cell_type": "code",
   "execution_count": null,
   "metadata": {},
   "outputs": [],
   "source": [
    "myLR = LinearRegression()"
   ]
  },
  {
   "cell_type": "code",
   "execution_count": null,
   "metadata": {},
   "outputs": [],
   "source": [
    "myLR.fit(myX.reshape(-1, 1), myY)"
   ]
  },
  {
   "cell_type": "code",
   "execution_count": null,
   "metadata": {},
   "outputs": [],
   "source": [
    "myLR.predict(np.array(262).reshape(-1, 1)).round()"
   ]
  },
  {
   "cell_type": "code",
   "execution_count": null,
   "metadata": {},
   "outputs": [],
   "source": [
    "sw_df.loc[sw_df.months_together/12>sw_df.age-10,'age']=myLR.predict(np.array(262).reshape(-1, 1)).round()#round(myLR.predict(262),1)"
   ]
  },
  {
   "cell_type": "code",
   "execution_count": null,
   "metadata": {},
   "outputs": [],
   "source": [
    "sw_df.loc[sw_df.months_together/12>sw_df.age-10]"
   ]
  },
  {
   "cell_type": "code",
   "execution_count": null,
   "metadata": {},
   "outputs": [],
   "source": [
    "sw_df.loc[sw_df[\"couplenumber\"]==80]"
   ]
  },
  {
   "cell_type": "markdown",
   "metadata": {},
   "source": [
    "### 3.3.3.4 Analyse some of the statistical relations"
   ]
  },
  {
   "cell_type": "markdown",
   "metadata": {},
   "source": [
    "* months together and age\n",
    "* sex and money spend\n",
    "* number of movies seen and fan-ness\n",
    "* number of movies seen and plans of seeing the new movie\n",
    "* favourite drinks and shopping habits\n",
    "* student and age\n",
    "* student & favourite drinks"
   ]
  },
  {
   "cell_type": "markdown",
   "metadata": {},
   "source": [
    "#### Correlations"
   ]
  },
  {
   "cell_type": "markdown",
   "metadata": {},
   "source": [
    "Think about which correlations make sense and which don't."
   ]
  },
  {
   "cell_type": "code",
   "execution_count": null,
   "metadata": {},
   "outputs": [],
   "source": [
    "sw_df.sample(3)"
   ]
  },
  {
   "cell_type": "code",
   "execution_count": null,
   "metadata": {},
   "outputs": [],
   "source": [
    "sw_df.corr()"
   ]
  },
  {
   "cell_type": "markdown",
   "metadata": {},
   "source": [
    "#### Relationship between number of months together and age"
   ]
  },
  {
   "cell_type": "code",
   "execution_count": null,
   "metadata": {},
   "outputs": [],
   "source": [
    "sns.lmplot(x='age', y='months_together', data=sw_df, fit_reg=True)\n",
    "plt.show()"
   ]
  },
  {
   "cell_type": "markdown",
   "metadata": {},
   "source": [
    "#### Sex versus money spend"
   ]
  },
  {
   "cell_type": "code",
   "execution_count": null,
   "metadata": {
    "scrolled": true
   },
   "outputs": [],
   "source": [
    "sns.boxplot(x='sex', y='money_spend', data=sw_df)\n",
    "plt.show()"
   ]
  },
  {
   "cell_type": "markdown",
   "metadata": {},
   "source": [
    "#### Fan score and number of movies seen"
   ]
  },
  {
   "cell_type": "markdown",
   "metadata": {},
   "source": [
    "Note that causality is a tricky one --> does one become a fan by seeing more movies? Or vice versa?\n",
    "\n",
    "For now I've made the plots assuming that the number of movies seen is the dependent variable but you could of course argue the inverse relationship. (But since there are less categories for 'fan' this makes prettier plots)\n",
    "\n",
    "We are once again confronted with a coarsness dilemma. 'fan' and 'movies' have few outcomes for a scatterplot, but a lot for boxplots and heatmaps."
   ]
  },
  {
   "cell_type": "code",
   "execution_count": null,
   "metadata": {},
   "outputs": [],
   "source": [
    "sns.lmplot(x='fan', y='movies', data=sw_df, fit_reg=True)\n",
    "plt.show()"
   ]
  },
  {
   "cell_type": "code",
   "execution_count": null,
   "metadata": {},
   "outputs": [],
   "source": [
    "sns.boxplot(x='fan', y='movies', data=sw_df)\n",
    "plt.show()"
   ]
  },
  {
   "cell_type": "code",
   "execution_count": 9,
   "metadata": {},
   "outputs": [
    {
     "data": {
      "text/html": [
       "<div>\n",
       "<style scoped>\n",
       "    .dataframe tbody tr th:only-of-type {\n",
       "        vertical-align: middle;\n",
       "    }\n",
       "\n",
       "    .dataframe tbody tr th {\n",
       "        vertical-align: top;\n",
       "    }\n",
       "\n",
       "    .dataframe thead th {\n",
       "        text-align: right;\n",
       "    }\n",
       "</style>\n",
       "<table border=\"1\" class=\"dataframe\">\n",
       "  <thead>\n",
       "    <tr style=\"text-align: right;\">\n",
       "      <th>movies</th>\n",
       "      <th>0</th>\n",
       "      <th>1</th>\n",
       "      <th>2</th>\n",
       "      <th>3</th>\n",
       "      <th>4</th>\n",
       "      <th>5</th>\n",
       "      <th>6</th>\n",
       "      <th>7</th>\n",
       "      <th>8</th>\n",
       "    </tr>\n",
       "    <tr>\n",
       "      <th>fan</th>\n",
       "      <th></th>\n",
       "      <th></th>\n",
       "      <th></th>\n",
       "      <th></th>\n",
       "      <th></th>\n",
       "      <th></th>\n",
       "      <th></th>\n",
       "      <th></th>\n",
       "      <th></th>\n",
       "    </tr>\n",
       "  </thead>\n",
       "  <tbody>\n",
       "    <tr>\n",
       "      <th>1.0</th>\n",
       "      <td>308</td>\n",
       "      <td>74</td>\n",
       "      <td>27</td>\n",
       "      <td>40</td>\n",
       "      <td>0</td>\n",
       "      <td>0</td>\n",
       "      <td>0</td>\n",
       "      <td>0</td>\n",
       "      <td>0</td>\n",
       "    </tr>\n",
       "    <tr>\n",
       "      <th>2.0</th>\n",
       "      <td>0</td>\n",
       "      <td>80</td>\n",
       "      <td>31</td>\n",
       "      <td>59</td>\n",
       "      <td>6</td>\n",
       "      <td>3</td>\n",
       "      <td>0</td>\n",
       "      <td>0</td>\n",
       "      <td>0</td>\n",
       "    </tr>\n",
       "    <tr>\n",
       "      <th>3.0</th>\n",
       "      <td>0</td>\n",
       "      <td>18</td>\n",
       "      <td>3</td>\n",
       "      <td>34</td>\n",
       "      <td>9</td>\n",
       "      <td>10</td>\n",
       "      <td>6</td>\n",
       "      <td>22</td>\n",
       "      <td>0</td>\n",
       "    </tr>\n",
       "    <tr>\n",
       "      <th>4.0</th>\n",
       "      <td>0</td>\n",
       "      <td>0</td>\n",
       "      <td>0</td>\n",
       "      <td>15</td>\n",
       "      <td>17</td>\n",
       "      <td>11</td>\n",
       "      <td>7</td>\n",
       "      <td>53</td>\n",
       "      <td>17</td>\n",
       "    </tr>\n",
       "    <tr>\n",
       "      <th>5.0</th>\n",
       "      <td>0</td>\n",
       "      <td>0</td>\n",
       "      <td>0</td>\n",
       "      <td>0</td>\n",
       "      <td>4</td>\n",
       "      <td>3</td>\n",
       "      <td>11</td>\n",
       "      <td>49</td>\n",
       "      <td>72</td>\n",
       "    </tr>\n",
       "  </tbody>\n",
       "</table>\n",
       "</div>"
      ],
      "text/plain": [
       "movies    0   1   2   3   4   5   6   7   8\n",
       "fan                                        \n",
       "1.0     308  74  27  40   0   0   0   0   0\n",
       "2.0       0  80  31  59   6   3   0   0   0\n",
       "3.0       0  18   3  34   9  10   6  22   0\n",
       "4.0       0   0   0  15  17  11   7  53  17\n",
       "5.0       0   0   0   0   4   3  11  49  72"
      ]
     },
     "execution_count": 9,
     "metadata": {},
     "output_type": "execute_result"
    }
   ],
   "source": [
    "pd.crosstab(sw_df.fan,sw_df.movies)"
   ]
  },
  {
   "cell_type": "code",
   "execution_count": 10,
   "metadata": {},
   "outputs": [
    {
     "data": {
      "image/png": "[encoded data removed]",
      "text/plain": [
       "<Figure size 432x288 with 2 Axes>"
      ]
     },
     "metadata": {
      "needs_background": "light"
     },
     "output_type": "display_data"
    }
   ],
   "source": [
    "sns.heatmap(pd.crosstab(sw_df.fan,sw_df.movies))\n",
    "plt.show()"
   ]
  },
  {
   "cell_type": "code",
   "execution_count": null,
   "metadata": {},
   "outputs": [],
   "source": [
    "sns.violinplot(x='fan',\n",
    "               y='movies', \n",
    "               data=sw_df, \n",
    "               inner=None) # Remove the bars inside the violins)\n",
    "\n",
    "sns.swarmplot(x='fan', \n",
    "              y='movies', \n",
    "              data=sw_df, \n",
    "              color='k', # Make points black\n",
    "              alpha=0.7) # and slightly transparent"
   ]
  },
  {
   "cell_type": "code",
   "execution_count": null,
   "metadata": {
    "scrolled": true
   },
   "outputs": [],
   "source": [
    "plt.show()"
   ]
  },
  {
   "cell_type": "markdown",
   "metadata": {},
   "source": [
    "#### Number of movies seen and seeing the new movie"
   ]
  },
  {
   "cell_type": "code",
   "execution_count": null,
   "metadata": {},
   "outputs": [],
   "source": [
    "sw_df.columns"
   ]
  },
  {
   "cell_type": "code",
   "execution_count": null,
   "metadata": {},
   "outputs": [],
   "source": [
    "sns.catplot(\"movies\", \"see_new_movie\", data=sw_df, kind='bar')\n",
    "plt.xlabel('Number of movies seen')\n",
    "plt.ylabel('Fraction planning to see new movie')\n",
    "plt.show()"
   ]
  },
  {
   "cell_type": "code",
   "execution_count": null,
   "metadata": {},
   "outputs": [],
   "source": [
    "# Check that there is really nobody who is planning to see the new movie\n",
    "# in the category 0 movies seen\n",
    "sw_df[sw_df['movies'] == 0]['see_new_movie'].value_counts()"
   ]
  },
  {
   "cell_type": "markdown",
   "metadata": {},
   "source": [
    "#### Favourite drinks and shopping habits"
   ]
  },
  {
   "cell_type": "markdown",
   "metadata": {},
   "source": [
    "First, look at the favourite drinks"
   ]
  },
  {
   "cell_type": "code",
   "execution_count": null,
   "metadata": {},
   "outputs": [],
   "source": [
    "sns.countplot(x=\"shop_hab_descr\", hue=\"single_fav_drink\", data=sw_df)\n",
    "plt.xlabel(\"Favourite drink\")\n",
    "plt.ylabel(\"Number observations\")\n",
    "plt.show()"
   ]
  },
  {
   "cell_type": "markdown",
   "metadata": {},
   "source": [
    "We scale the total ranks bij maximum score attainable in that shop_hab category. (getting 5 on all observations)"
   ]
  },
  {
   "cell_type": "code",
   "execution_count": null,
   "metadata": {},
   "outputs": [],
   "source": [
    "sw_df[['ice tea_rank', 'beer_rank', 'red bull_rank', 'fanta_rank', 'cola_rank']].loc[sw_df.shop_hab_descr =='nothing'].sum()/len(sw_df.loc[sw_df.shop_hab_descr =='nothing'])*5"
   ]
  },
  {
   "cell_type": "code",
   "execution_count": null,
   "metadata": {},
   "outputs": [],
   "source": [
    "sw_df[['ice tea_rank', 'beer_rank', 'red bull_rank', 'fanta_rank', 'cola_rank']].loc[sw_df.shop_hab_descr =='drinks'].sum()/len(sw_df.loc[sw_df.shop_hab_descr =='drinks'])*5"
   ]
  },
  {
   "cell_type": "code",
   "execution_count": null,
   "metadata": {},
   "outputs": [],
   "source": [
    "sw_df[['ice tea_rank', 'beer_rank', 'red bull_rank', 'fanta_rank', 'cola_rank']].loc[sw_df.shop_hab_descr =='food'].sum()/len(sw_df.loc[sw_df.shop_hab_descr =='food'])*5"
   ]
  },
  {
   "cell_type": "markdown",
   "metadata": {},
   "source": [
    "Put them together"
   ]
  },
  {
   "cell_type": "code",
   "execution_count": null,
   "metadata": {},
   "outputs": [],
   "source": [
    "habit_drink = pd.DataFrame(\n",
    "    {'Nothing': sw_df[['ice tea_rank', 'beer_rank', 'red bull_rank', 'fanta_rank', 'cola_rank']].loc[sw_df.shop_hab_descr =='nothing'].sum()/len(sw_df.loc[sw_df.shop_hab_descr =='nothing'])*5,\n",
    "     'Drinks': sw_df[['ice tea_rank', 'beer_rank', 'red bull_rank', 'fanta_rank', 'cola_rank']].loc[sw_df.shop_hab_descr =='drinks'].sum()/len(sw_df.loc[sw_df.shop_hab_descr =='drinks'])*5,\n",
    "     'Food' : sw_df[['ice tea_rank', 'beer_rank', 'red bull_rank', 'fanta_rank', 'cola_rank']].loc[sw_df.shop_hab_descr =='food'].sum()/len(sw_df.loc[sw_df.shop_hab_descr =='food'])*5\n",
    "    })\n",
    "print(habit_drink)"
   ]
  },
  {
   "cell_type": "code",
   "execution_count": null,
   "metadata": {},
   "outputs": [],
   "source": [
    "habit_drink.plot(kind='bar')\n",
    "plt.show()"
   ]
  },
  {
   "cell_type": "markdown",
   "metadata": {},
   "source": [
    "#### Student and age"
   ]
  },
  {
   "cell_type": "code",
   "execution_count": null,
   "metadata": {},
   "outputs": [],
   "source": [
    "sns.boxplot(x='student', y='age', data=sw_df)\n",
    "plt.xlabel('Is a student (1) or not (0)')\n",
    "plt.show()"
   ]
  },
  {
   "cell_type": "markdown",
   "metadata": {},
   "source": [
    "#### Student and favourite drinks"
   ]
  },
  {
   "cell_type": "markdown",
   "metadata": {},
   "source": [
    "First, we look at the favouriet drink"
   ]
  },
  {
   "cell_type": "code",
   "execution_count": null,
   "metadata": {
    "scrolled": true
   },
   "outputs": [],
   "source": [
    "sns.countplot(x=\"student\", hue=\"single_fav_drink\", data=sw_df)\n",
    "plt.xlabel(\"Student (1) or not (0)\")\n",
    "plt.ylabel(\"Number observations\")\n",
    "plt.show()"
   ]
  },
  {
   "cell_type": "markdown",
   "metadata": {},
   "source": [
    "Now we give each drink a score based upon its rank"
   ]
  },
  {
   "cell_type": "code",
   "execution_count": null,
   "metadata": {},
   "outputs": [],
   "source": [
    "student_drink = pd.DataFrame(\n",
    "    {'Student': sw_df[['ice tea_rank', 'beer_rank', 'red bull_rank', 'fanta_rank', 'cola_rank']].loc[sw_df.student ==1].sum()/len(sw_df.loc[sw_df.student ==1])*5,\n",
    "     'No Student': sw_df[['ice tea_rank', 'beer_rank', 'red bull_rank', 'fanta_rank', 'cola_rank']].loc[sw_df.student ==0].sum()/len(sw_df.loc[sw_df.student ==0])*5\n",
    "    })\n",
    "print(student_drink)"
   ]
  },
  {
   "cell_type": "code",
   "execution_count": null,
   "metadata": {},
   "outputs": [],
   "source": [
    "student_drink.plot(kind='bar')\n",
    "plt.show()"
   ]
  },
  {
   "cell_type": "markdown",
   "metadata": {},
   "source": [
    "### 3.3.3.5 What about the funky stuff?"
   ]
  },
  {
   "cell_type": "markdown",
   "metadata": {},
   "source": [
    "As you can see in the previous sections we use the relationship between the missing or funky data and other variables to predict and replace the problematic observations. "
   ]
  },
  {
   "cell_type": "markdown",
   "metadata": {},
   "source": [
    "### 3.3.3.6 is the link between money spend and being student different for each sex?"
   ]
  },
  {
   "cell_type": "code",
   "execution_count": null,
   "metadata": {},
   "outputs": [],
   "source": [
    "g = sns.catplot(\"sex\", \n",
    "                   \"money_spend\", \n",
    "                   \"student\", \n",
    "                   data=sw_df, \n",
    "                   kind=\"bar\", \n",
    "                   palette=\"muted\", \n",
    "                   legend=True)\n",
    "plt.show()"
   ]
  },
  {
   "cell_type": "code",
   "execution_count": null,
   "metadata": {},
   "outputs": [],
   "source": [
    "# Let's see if we can calculate the relative increase\n",
    "piv = sw_df.pivot_table(values='money_spend', columns='student', index='sex')"
   ]
  },
  {
   "cell_type": "code",
   "execution_count": null,
   "metadata": {},
   "outputs": [],
   "source": [
    "piv"
   ]
  },
  {
   "cell_type": "code",
   "execution_count": null,
   "metadata": {},
   "outputs": [],
   "source": [
    "# Percentage increase for male and female\n",
    "(piv.iloc[:, 1] / piv.iloc[:, 0] - 1) * 100"
   ]
  },
  {
   "cell_type": "markdown",
   "metadata": {},
   "source": [
    "** The relative increase in spend after starting to work is larger for females **"
   ]
  },
  {
   "cell_type": "code",
   "execution_count": null,
   "metadata": {},
   "outputs": [],
   "source": [
    "piv.iloc[:, 1] - piv.iloc[:, 0]"
   ]
  },
  {
   "cell_type": "markdown",
   "metadata": {},
   "source": [
    "** As is the absolute increase **"
   ]
  },
  {
   "cell_type": "markdown",
   "metadata": {},
   "source": [
    "However, is this difference large enough to be considered significant? Or is this merely coincidential? More on this next class"
   ]
  },
  {
   "cell_type": "markdown",
   "metadata": {},
   "source": [
    "### 3.3.3.7 Investigate relationships"
   ]
  },
  {
   "cell_type": "markdown",
   "metadata": {},
   "source": [
    "####  Do likeminded people, concerning movies, become couples? & Do couples become likeminded, concerning movies?"
   ]
  },
  {
   "cell_type": "code",
   "execution_count": null,
   "metadata": {},
   "outputs": [],
   "source": [
    "# Create a new split with the data without errors (missings)\n",
    "sw_male_df = sw_df.query('sex == \"male\"')\n",
    "sw_female_df = sw_df.query('sex == \"female\"')\n",
    "# Create a joined table for the couples\n",
    "couples_df = pd.merge(sw_female_df, sw_male_df, on='couplenumber', suffixes=['_f', '_m'])"
   ]
  },
  {
   "cell_type": "code",
   "execution_count": null,
   "metadata": {},
   "outputs": [],
   "source": [
    "couples_df.columns"
   ]
  },
  {
   "cell_type": "code",
   "execution_count": null,
   "metadata": {},
   "outputs": [],
   "source": [
    "couples_df.sample(3)"
   ]
  },
  {
   "cell_type": "code",
   "execution_count": null,
   "metadata": {},
   "outputs": [],
   "source": [
    "# Calculate some couple-specific metrics\n",
    "couples_df['abs_diff_movies'] = abs(couples_df['movies_f'] - couples_df['movies_m'])\n",
    "couples_df['abs_diff_fan'] = abs(couples_df['fan_f'] - couples_df['fan_m'])\n",
    "couples_df['diff_movies'] = couples_df['movies_f'] - couples_df['movies_m']\n",
    "couples_df['diff_fan'] = couples_df['fan_f'] - couples_df['fan_m']"
   ]
  },
  {
   "cell_type": "code",
   "execution_count": null,
   "metadata": {},
   "outputs": [],
   "source": [
    "# Let's see if couples that have been together for longer are more similar\n",
    "sns.lmplot(x='years_together_f', y='abs_diff_movies', data=couples_df)\n",
    "plt.show()"
   ]
  },
  {
   "cell_type": "markdown",
   "metadata": {},
   "source": [
    "Don't really like this plot, let's see if we can find something better for this..."
   ]
  },
  {
   "cell_type": "code",
   "execution_count": null,
   "metadata": {},
   "outputs": [],
   "source": [
    "sns.catplot(x=\"years_together_f\", y=\"abs_diff_movies\", data=couples_df)\n",
    "plt.show()"
   ]
  },
  {
   "cell_type": "code",
   "execution_count": null,
   "metadata": {},
   "outputs": [],
   "source": [
    "sns.swarmplot(x=\"years_together_f\", y=\"abs_diff_movies\", data=couples_df)\n",
    "plt.show()"
   ]
  },
  {
   "cell_type": "code",
   "execution_count": null,
   "metadata": {},
   "outputs": [],
   "source": [
    "def cat_age(years):\n",
    "    if years < 10:\n",
    "        cat = 1\n",
    "    if 10 <= years < 20:\n",
    "        cat = 2\n",
    "    if years >= 20:\n",
    "        cat = 3\n",
    "    return cat"
   ]
  },
  {
   "cell_type": "code",
   "execution_count": null,
   "metadata": {},
   "outputs": [],
   "source": [
    "couples_df['Age_cat']=couples_df['years_together_m'].apply(lambda x: cat_age(x))"
   ]
  },
  {
   "cell_type": "code",
   "execution_count": null,
   "metadata": {},
   "outputs": [],
   "source": [
    "couples_df.sample(3)"
   ]
  },
  {
   "cell_type": "code",
   "execution_count": null,
   "metadata": {},
   "outputs": [],
   "source": [
    "couples_df.loc[couples_df.Age_cat==1].abs_diff_movies.mean()"
   ]
  },
  {
   "cell_type": "code",
   "execution_count": null,
   "metadata": {},
   "outputs": [],
   "source": [
    "couples_df.loc[couples_df.Age_cat==2].abs_diff_movies.mean()"
   ]
  },
  {
   "cell_type": "code",
   "execution_count": null,
   "metadata": {},
   "outputs": [],
   "source": [
    "couples_df.loc[couples_df.Age_cat==3].abs_diff_movies.mean()"
   ]
  },
  {
   "cell_type": "code",
   "execution_count": null,
   "metadata": {},
   "outputs": [],
   "source": [
    "sns.boxplot(x='Age_cat', y='abs_diff_movies', data=couples_df)\n",
    "plt.show()"
   ]
  },
  {
   "cell_type": "markdown",
   "metadata": {},
   "source": [
    "It doesn't seem that the within-couple difference is smaller for older people. As such, it seems that like-minded people are attracted, not vice versa."
   ]
  },
  {
   "cell_type": "markdown",
   "metadata": {},
   "source": [
    "#### Which drinks would you advertise during a screening of The Last Jedi?"
   ]
  },
  {
   "cell_type": "code",
   "execution_count": null,
   "metadata": {},
   "outputs": [],
   "source": [
    "sns.barplot(x='single_fav_drink', y='see_new_movie', data=sw_df)\n",
    "plt.show()"
   ]
  },
  {
   "cell_type": "code",
   "execution_count": null,
   "metadata": {},
   "outputs": [],
   "source": [
    "sns.countplot(x='single_fav_drink', hue='see_new_movie', data=sw_df)\n",
    "plt.show()"
   ]
  },
  {
   "cell_type": "code",
   "execution_count": null,
   "metadata": {},
   "outputs": [],
   "source": [
    "piv = sw_df.pivot_table(values=\"see_new_movie\", \n",
    "                        columns='single_fav_drink')"
   ]
  },
  {
   "cell_type": "code",
   "execution_count": null,
   "metadata": {},
   "outputs": [],
   "source": [
    "piv"
   ]
  },
  {
   "cell_type": "code",
   "execution_count": null,
   "metadata": {},
   "outputs": [],
   "source": [
    "piv.plot(kind='bar')\n",
    "plt.show()"
   ]
  },
  {
   "cell_type": "markdown",
   "metadata": {},
   "source": [
    "Dual conclusions: \n",
    "\n",
    "If you want to advertise to the largest amount of people that will like a specific drink your best bet would be to advertise cola or beer.\n",
    "\n",
    "However if you assume that this is a cross-section of the overall population you could argue that a relatively large fraction of beer drinkers (38%) intends to go see this movie, hence it might be a good advertising target from the perspective of a beer company. (Versus only 32% for cola).\n",
    "\n",
    "Note that another interesting analysis could use the average scores rather than only using the most desired drink. \n",
    "\n",
    "Another possibility is to focus the analysis on the people who indicate they buy drinks (not 'food' or 'nothing')"
   ]
  },
  {
   "cell_type": "markdown",
   "metadata": {
    "collapsed": true
   },
   "source": [
    "####  Do men like Star Wars better than women?"
   ]
  },
  {
   "cell_type": "code",
   "execution_count": null,
   "metadata": {},
   "outputs": [],
   "source": [
    "sw_df.loc[sw_df.sex == \"male\"].movies.mean()-sw_df.loc[sw_df.sex == \"female\"].movies.mean()"
   ]
  },
  {
   "cell_type": "code",
   "execution_count": null,
   "metadata": {},
   "outputs": [],
   "source": [
    "sw_df.loc[sw_df.sex == \"male\"].fan.mean()-sw_df.loc[sw_df.sex == \"female\"].fan.mean()"
   ]
  },
  {
   "cell_type": "code",
   "execution_count": null,
   "metadata": {},
   "outputs": [],
   "source": [
    "sns.boxplot(x='sex', y='movies', data=sw_df)\n",
    "plt.show()"
   ]
  },
  {
   "cell_type": "code",
   "execution_count": null,
   "metadata": {},
   "outputs": [],
   "source": [
    "sns.boxplot(x='sex', y='fan', data=sw_df)\n",
    "plt.show()"
   ]
  },
  {
   "cell_type": "markdown",
   "metadata": {},
   "source": [
    "On average, men seem to watch more movies than women, but do not identify more as a fan than women."
   ]
  },
  {
   "cell_type": "markdown",
   "metadata": {},
   "source": [
    "####  Are Star Wars fans typically movie fanatics? & Are movie fanatics typically Star Wars fans?"
   ]
  },
  {
   "cell_type": "code",
   "execution_count": null,
   "metadata": {},
   "outputs": [],
   "source": [
    "sns.lmplot(x='money_spend', y='movies', data=sw_df)\n",
    "plt.show()"
   ]
  },
  {
   "cell_type": "code",
   "execution_count": null,
   "metadata": {},
   "outputs": [],
   "source": [
    "sw_df['money_spend'].corr(sw_df['movies'])"
   ]
  },
  {
   "cell_type": "markdown",
   "metadata": {},
   "source": [
    "There doesn't seem to be a (linear) link between being a Star Wars fan and being a movie fanatic. This also holds for the inverse relationship (correlations are symmetric)"
   ]
  },
  {
   "cell_type": "markdown",
   "metadata": {},
   "source": [
    "#### How would you characterize people that spend a lot at the movie theater?"
   ]
  },
  {
   "cell_type": "markdown",
   "metadata": {},
   "source": [
    "First we need to decide who is considered to be spending a lot. We will take the upper quartile. "
   ]
  },
  {
   "cell_type": "code",
   "execution_count": null,
   "metadata": {},
   "outputs": [],
   "source": [
    "sw_df.quantile(0.75)['money_spend']"
   ]
  },
  {
   "cell_type": "code",
   "execution_count": null,
   "metadata": {},
   "outputs": [],
   "source": [
    "sw_df.loc[sw_df.money_spend>sw_df.quantile(0.75)['money_spend']].describe()"
   ]
  },
  {
   "cell_type": "code",
   "execution_count": null,
   "metadata": {},
   "outputs": [],
   "source": [
    "sw_df.loc[sw_df.money_spend>sw_df.quantile(0.75)['money_spend']].describe()-sw_df.describe()"
   ]
  },
  {
   "cell_type": "code",
   "execution_count": null,
   "metadata": {},
   "outputs": [],
   "source": [
    "sw_df[['ice tea_rank', 'beer_rank', 'red bull_rank', 'fanta_rank', 'cola_rank']].loc[sw_df.money_spend>sw_df.quantile(0.75)['money_spend']].sum()"
   ]
  },
  {
   "cell_type": "markdown",
   "metadata": {},
   "source": [
    "Watch out for weird conclusions. E.g., big spenders seem to be older (makes sense), but they also seem to be longer in a relationship. This is probably due to being older, not for spending a lot of money. Other collumns are completely meaningless, e.g., couplenumber or shop hab. "
   ]
  }
 ],
 "metadata": {
  "kernelspec": {
   "display_name": "Python 3",
   "language": "python",
   "name": "python3"
  },
  "language_info": {
   "codemirror_mode": {
    "name": "ipython",
    "version": 3
   },
   "file_extension": ".py",
   "mimetype": "text/x-python",
   "name": "python",
   "nbconvert_exporter": "python",
   "pygments_lexer": "ipython3",
   "version": "3.6.7"
  },
  "toc": {
   "base_numbering": 1,
   "nav_menu": {},
   "number_sections": true,
   "sideBar": true,
   "skip_h1_title": false,
   "title_cell": "Table of Contents",
   "title_sidebar": "Contents",
   "toc_cell": false,
   "toc_position": {},
   "toc_section_display": true,
   "toc_window_display": false
  }
 },
 "nbformat": 4,
 "nbformat_minor": 2
}
