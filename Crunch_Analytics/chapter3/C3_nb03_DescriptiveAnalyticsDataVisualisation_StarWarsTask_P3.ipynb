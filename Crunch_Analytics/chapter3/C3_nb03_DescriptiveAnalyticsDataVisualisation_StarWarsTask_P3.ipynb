{
 "cells": [
  {
   "cell_type": "code",
   "execution_count": null,
   "metadata": {},
   "outputs": [],
   "source": [
    "# to make the .py script runnable\n",
    "#!/usr/bin/env python"
   ]
  },
  {
   "cell_type": "code",
   "execution_count": null,
   "metadata": {},
   "outputs": [],
   "source": [
    "from sklearn impoart datasets\n",
    "import pandas as pd\n",
    "import numpy as np\n",
    "import matplotlib.pyplot as plt\n",
    "import seaborn as sns\n",
    "\n",
    "%matplotlib inline\n",
    "plt.style.use('ggplot')"
   ]
  },
  {
   "cell_type": "code",
   "execution_count": null,
   "metadata": {},
   "outputs": [],
   "source": [
    "import os\n",
    "cdir = os.getcwd()\n",
    "print(cdir)"
   ]
  },
  {
   "cell_type": "markdown",
   "metadata": {},
   "source": [
    "# 3.3 Star Wars (done)"
   ]
  },
  {
   "cell_type": "markdown",
   "metadata": {},
   "source": [
    "## 3.3.1 Data description"
   ]
  },
  {
   "cell_type": "markdown",
   "metadata": {},
   "source": [
    "You are given ('StarWars.csv') the results of a survey performed at a local movie theater in Ghent. During 3 evenings, 500 couples were asked 9 questions. These couples were heterosexual, with both partners above 18 years. The nine questions were:\n",
    "- How many (out of eight) Star Wars movies have you seen?\n",
    "- What is your age?\n",
    "- How many months have you been together?\n",
    "- How much money do you spend, on average, on a monthly basis at a movie theater? This includes both tickets and food/drinks\n",
    "- Are you a student?\n",
    "- On a scale of 1 (certainly not) to 5 (certainly yes) do you consider yourself a fan of the Star Wars franchise?\n",
    "- Order the following five drinks, with the first drink being the drink that you are most likelt to buy at the movie theater.\n",
    "    - Cola\n",
    "    - Beer\n",
    "    - Fanta\n",
    "    - Red Bull\n",
    "    - Ice Tea\n",
    "- When visiting the movie theater, do you mostly buy drinks (1), food (2) or nothing (3)?\n",
    "- Do you plan on seeing the new Star Wars movie (The Last Jedi) in the movie theater?"
   ]
  },
  {
   "cell_type": "markdown",
   "metadata": {},
   "source": [
    "## 3.3.2 Tasks"
   ]
  },
  {
   "cell_type": "markdown",
   "metadata": {},
   "source": [
    "1. Take a look at the data, understand what you are seeing. Understand what scale each variable is. Transform the data if you want. Use the markdown functionality of Jupyter to structure this toy model research.\n",
    "2. Summarize each relevant variable in a sensible way:\n",
    "    - Statistically\n",
    "    - Visually\n",
    "3. Detect if there is funky stuff in the data (missing data/insensible data...). Copy the dataset and deal in the copy with this funky stuff.\n",
    "4. Summarize the relevant relationships between variables in a sensible way:\n",
    "    - Statistically\n",
    "    - Visually\n",
    "    - Pay special attention to the following relationships:\n",
    "        - months together and age \n",
    "        - sex and money spend \n",
    "        - number of movies seen and fan-ness\n",
    "        - number of movies seen and plans of seeing the new movie \n",
    "        - favourite drinks and shopping habits \n",
    "        - student and age\n",
    "        - student & favourite drinks\n",
    "5. Thinks again about the funky stuff. Would you handle it differently now?\n",
    "6. Summarize some relevant three way relationships, e.g., is the link between money spend and being student different for each sex?\n",
    "7. Formulate a reply to the following research questions:\n",
    "    - Do likeminded people, concerning movies, become couples?\n",
    "    - Do couples become likeminded, concerning movies?\n",
    "    - Which drinks would you advertise during a screening of The Last Jedi?\n",
    "    - Do men like Star Wars better than women?\n",
    "    - Are Star Wars fans typically movie fanatics?\n",
    "    - Are movie fanatics typically Star Wars fans?\n",
    "    - How would you characterize people that spend a lot at the movie theater?\n",
    "8. What follow-up survey/experiment/data collection would you advise?"
   ]
  }
 ],
 "metadata": {
  "kernelspec": {
   "display_name": "Python 3",
   "language": "python",
   "name": "python3"
  },
  "language_info": {
   "codemirror_mode": {
    "name": "ipython",
    "version": 3
   },
   "file_extension": ".py",
   "mimetype": "text/x-python",
   "name": "python",
   "nbconvert_exporter": "python",
   "pygments_lexer": "ipython3",
   "version": "3.6.7"
  },
  "toc": {
   "base_numbering": 1,
   "nav_menu": {},
   "number_sections": true,
   "sideBar": true,
   "skip_h1_title": false,
   "title_cell": "Table of Contents",
   "title_sidebar": "Contents",
   "toc_cell": false,
   "toc_position": {},
   "toc_section_display": true,
   "toc_window_display": false
  }
 },
 "nbformat": 4,
 "nbformat_minor": 2
}
