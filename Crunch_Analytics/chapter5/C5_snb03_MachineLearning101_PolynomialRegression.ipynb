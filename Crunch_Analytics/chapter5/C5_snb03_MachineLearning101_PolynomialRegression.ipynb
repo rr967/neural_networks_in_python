{
 "cells": [
  {
   "cell_type": "code",
   "execution_count": 1,
   "metadata": {},
   "outputs": [],
   "source": [
    "#Import libraries\n",
    "import numpy as np\n",
    "import pandas as pd\n",
    "%matplotlib inline\n",
    "import matplotlib.pyplot as plt\n",
    "import matplotlib.mlab as mlab\n",
    "import seaborn as sns\n",
    "from scipy import stats\n",
    "import math\n",
    "import os\n",
    "import random\n",
    "from sklearn.linear_model import LinearRegression\n",
    "from sklearn.model_selection import train_test_split\n",
    "from sklearn.metrics import mean_squared_error\n",
    "from sklearn.metrics import mean_absolute_error\n",
    "from sklearn.preprocessing import PolynomialFeatures"
   ]
  },
  {
   "cell_type": "markdown",
   "metadata": {},
   "source": [
    "# 5.3 Polynomial Regression - solution"
   ]
  },
  {
   "cell_type": "markdown",
   "metadata": {},
   "source": [
    "## 5.3.1 Create dataset"
   ]
  },
  {
   "cell_type": "markdown",
   "metadata": {},
   "source": [
    "We create adataset that has a sinoid form, i.e. something that would be hard to predict using a simple linear regression"
   ]
  },
  {
   "cell_type": "code",
   "execution_count": 2,
   "metadata": {},
   "outputs": [
    {
     "data": {
      "image/png": "[encoded data removed]",
      "text/plain": [
       "<Figure size 432x288 with 1 Axes>"
      ]
     },
     "metadata": {
      "needs_background": "light"
     },
     "output_type": "display_data"
    }
   ],
   "source": [
    "#this creates the toy data for the rest of the excercise\n",
    "x = np.linspace(0, 3, 100) \n",
    "rng = np.random.RandomState(42)\n",
    "y = np.sin(4 * x) + x + rng.uniform(size=len(x))\n",
    "\n",
    "plt.plot(x, y, 'o');"
   ]
  },
  {
   "cell_type": "markdown",
   "metadata": {},
   "source": [
    "Just for fun we are going to look what happens if we try to predict this dataset using a simple linear regression"
   ]
  },
  {
   "cell_type": "code",
   "execution_count": 3,
   "metadata": {},
   "outputs": [
    {
     "data": {
      "image/png": "[encoded data removed]",
      "text/plain": [
       "<Figure size 432x288 with 1 Axes>"
      ]
     },
     "metadata": {
      "needs_background": "light"
     },
     "output_type": "display_data"
    }
   ],
   "source": [
    "X = x[:, np.newaxis]\n",
    "X_train, X_test, y_train, y_test = train_test_split(X, y, test_size=0.25, random_state=42)\n",
    "\n",
    "regressor = LinearRegression()\n",
    "regressor.fit(X_train, y_train)\n",
    "\n",
    "min_pt = X.min() * regressor.coef_[0] + regressor.intercept_\n",
    "max_pt = X.max() * regressor.coef_[0] + regressor.intercept_\n",
    "\n",
    "plt.plot([X.min(), X.max()], [min_pt, max_pt])\n",
    "plt.plot(X_train, y_train, 'o');"
   ]
  },
  {
   "cell_type": "markdown",
   "metadata": {},
   "source": [
    "As you can see, fitting a straight line through the data is not the best model we can have. Our linear model has a **high bias**. This means that our model has a high bias towards the functional fit of the data, in this case a linear fit."
   ]
  },
  {
   "cell_type": "markdown",
   "metadata": {},
   "source": [
    "## 5.3.2 Do some polynomial feature extraction"
   ]
  },
  {
   "cell_type": "markdown",
   "metadata": {},
   "source": [
    "One of the easiest ways to make your machine learning technique more *intelligent* is to extract relevant features from the data. These features can be anything that you can find that will make it easier for the method to be able to fit the data. This means that as a machine learning engineer it is best to know and understand your data.\n",
    "\n",
    "As some of you might remember from math class is that you can create an approximation of any function (including a sine function) using a polynomial function with the [Taylor expansion](https://en.wikipedia.org/wiki/Taylor_series). So we will use that approach to learn a better fit.\n",
    "\n",
    "In this case we will create what we call features using a [polynomial expansion](http://scikit-learn.org/stable/modules/generated/sklearn.preprocessing.PolynomialFeatures.html). If you set the degree to 3 it will generate data of the 0d, 1st, 2nd and 3rd order (including cross products) as shown in the example below (change x and degree to see the different expansions of x to a certain degree)."
   ]
  },
  {
   "cell_type": "code",
   "execution_count": 4,
   "metadata": {},
   "outputs": [
    {
     "data": {
      "text/plain": [
       "array([[ 1.,  2.,  4.,  8., 16.]])"
      ]
     },
     "execution_count": 4,
     "metadata": {},
     "output_type": "execute_result"
    }
   ],
   "source": [
    "x = [[2]]\n",
    "pol_exp = PolynomialFeatures(degree=4)\n",
    "pol_exp.fit_transform(x)"
   ]
  },
  {
   "cell_type": "markdown",
   "metadata": {},
   "source": [
    "As you can see above this function transforms $x$ into \n",
    "\n",
    "[$x^0$, $x^1$, $x^2$, $x^3$, $x^4$] with $x^0=1$ and $x^1 = x$. \n",
    "\n",
    "If you have 2 inputs it will also take the cross products so that [$x_1$, $x_2$] is transformed into: \n",
    "\n",
    "[$1=x_1^0=x_2^2$, $x_1$, $x_2$, $x_1^2$, $x_1x_2$, $x_2^2$, $x_1^3$, $x_1^2x_2$, $x_1x_2^2$, $x_2^3$] \n",
    "\n",
    "as shown below."
   ]
  },
  {
   "cell_type": "code",
   "execution_count": 5,
   "metadata": {},
   "outputs": [
    {
     "data": {
      "text/plain": [
       "array([[ 1.,  2.,  3.,  4.,  6.,  9.,  8., 12., 18., 27.]])"
      ]
     },
     "execution_count": 5,
     "metadata": {},
     "output_type": "execute_result"
    }
   ],
   "source": [
    "x = [[2, 3]]\n",
    "pol_exp = PolynomialFeatures(degree=3)\n",
    "pol_exp.fit_transform(x)"
   ]
  },
  {
   "cell_type": "markdown",
   "metadata": {},
   "source": [
    "In this example we only have 1 input so the number of features is always the `degree + 1`.\n",
    "\n",
    "Because of this polynomial features extraction finding of the coefficients of the polynomial becomes a linear problem, so similar to the previous exercise on multiple linear regression you can find the optimal weights as follows:\n",
    "\n",
    "$$y = c_0 + c_1 x + c_2 x^2 + c_3 x^3 + \\cdots + c_n x^n$$\n",
    "\n",
    "So for multiple values of $x$ and $y$ you can minimize the error of this equation using linear regression. How this is done in practice is shown below.\n",
    "\n",
    "Note that we do not actually use another type of model, we have just extended our features/independent variables/x's.\n",
    "\n",
    "\n",
    "When we have more than one predictor loaded in the polynomial transformer, we also get the crossproducts between these predictors. These are the interaction terms as discussed in notebook on advanced regression!"
   ]
  },
  {
   "cell_type": "markdown",
   "metadata": {},
   "source": [
    "## 5.3.3 Fit the polynomial model"
   ]
  },
  {
   "cell_type": "code",
   "execution_count": 6,
   "metadata": {},
   "outputs": [
    {
     "data": {
      "text/plain": [
       "array([[0.45454545],\n",
       "       [1.21212121],\n",
       "       [2.90909091],\n",
       "       [0.27272727],\n",
       "       [2.18181818],\n",
       "       [0.33333333],\n",
       "       [1.42424242],\n",
       "       [2.57575758],\n",
       "       [0.84848485],\n",
       "       [2.81818182],\n",
       "       [0.15151515],\n",
       "       [2.        ],\n",
       "       [1.96969697],\n",
       "       [1.06060606],\n",
       "       [0.48484848],\n",
       "       [1.48484848],\n",
       "       [1.03030303],\n",
       "       [0.21212121],\n",
       "       [2.87878788],\n",
       "       [0.81818182],\n",
       "       [0.57575758],\n",
       "       [2.45454545],\n",
       "       [0.75757576],\n",
       "       [1.87878788],\n",
       "       [0.39393939],\n",
       "       [0.72727273],\n",
       "       [0.09090909],\n",
       "       [0.51515152],\n",
       "       [1.15151515],\n",
       "       [0.24242424],\n",
       "       [2.36363636],\n",
       "       [0.18181818],\n",
       "       [1.93939394],\n",
       "       [1.09090909],\n",
       "       [2.6969697 ],\n",
       "       [1.6969697 ],\n",
       "       [3.        ],\n",
       "       [1.63636364],\n",
       "       [1.3030303 ],\n",
       "       [1.51515152],\n",
       "       [2.03030303],\n",
       "       [1.39393939],\n",
       "       [2.06060606],\n",
       "       [1.84848485],\n",
       "       [2.93939394],\n",
       "       [2.39393939],\n",
       "       [1.24242424],\n",
       "       [1.75757576],\n",
       "       [1.45454545],\n",
       "       [2.96969697],\n",
       "       [1.72727273],\n",
       "       [2.27272727],\n",
       "       [0.96969697],\n",
       "       [2.84848485],\n",
       "       [1.78787879],\n",
       "       [1.90909091],\n",
       "       [2.54545455],\n",
       "       [1.12121212],\n",
       "       [0.87878788],\n",
       "       [0.03030303],\n",
       "       [1.57575758],\n",
       "       [0.63636364],\n",
       "       [0.06060606],\n",
       "       [0.6969697 ],\n",
       "       [2.63636364],\n",
       "       [2.75757576],\n",
       "       [2.24242424],\n",
       "       [2.60606061],\n",
       "       [2.48484848],\n",
       "       [0.60606061],\n",
       "       [1.81818182],\n",
       "       [2.15151515],\n",
       "       [0.42424242],\n",
       "       [2.78787879],\n",
       "       [1.54545455]])"
      ]
     },
     "execution_count": 6,
     "metadata": {},
     "output_type": "execute_result"
    }
   ],
   "source": [
    "X_train"
   ]
  },
  {
   "cell_type": "code",
   "execution_count": 7,
   "metadata": {},
   "outputs": [
    {
     "name": "stdout",
     "output_type": "stream",
     "text": [
      "The R2 score of this model on the train set is: 0.8555374678146452\n"
     ]
    },
    {
     "data": {
      "image/png": "[encoded data removed]",
      "text/plain": [
       "<Figure size 432x288 with 1 Axes>"
      ]
     },
     "metadata": {
      "needs_background": "light"
     },
     "output_type": "display_data"
    }
   ],
   "source": [
    "pol_exp = PolynomialFeatures(degree=5)\n",
    "\n",
    "model = LinearRegression()\n",
    "model.fit(pol_exp.fit_transform(X_train), y_train)\n",
    "print('The R2 score of this model on the train set is:', model.score(pol_exp.fit_transform(X_train), y_train))\n",
    "\n",
    "plt.scatter(X_train, y_train)\n",
    "x = np.linspace(0, 3, 100).reshape(-1,1)\n",
    "plt.plot(x, model.predict(pol_exp.fit_transform(x))) #these are new x's? why?\n",
    "plt.show()\n"
   ]
  },
  {
   "cell_type": "code",
   "execution_count": 8,
   "metadata": {},
   "outputs": [
    {
     "name": "stdout",
     "output_type": "stream",
     "text": [
      "The R2 score of the model on the test set is: 0.846\n"
     ]
    }
   ],
   "source": [
    "test_score = model.score(pol_exp.fit_transform(X_test), y_test)\n",
    "print('The R2 score of the model on the test set is:', round(test_score, 3))"
   ]
  },
  {
   "cell_type": "markdown",
   "metadata": {},
   "source": [
    "## 5.3.4 Task 2: Exercise on Polynomial Regression"
   ]
  },
  {
   "cell_type": "markdown",
   "metadata": {},
   "source": [
    "In 'sprint.csv', you find the data mentioned in the slides. It contains two variables, age and time needed to sprint 100 meter. \n",
    "- Take a look at the data and make a scatter plot.\n",
    "- Make a training and test dataset\n",
    "- Perform a linear regression, modeling time using age. Calculate the MSE of both training and test set\n",
    "- Perform a polynomial regression of degree 2, modeling time using age. Calculate the MSE of both training and test set\n",
    "- Perform a polynomial regression of degree 5, modeling time using age. Calculate the MSE of both training and test set\n",
    "- Perform a polynomial regression of degree 25, modeling time using age. Calculate the MSE of both training and test set\n",
    "\n",
    "Which of the four is the best model?"
   ]
  },
  {
   "cell_type": "markdown",
   "metadata": {},
   "source": [
    "## 5.3.5 Solution"
   ]
  },
  {
   "cell_type": "code",
   "execution_count": 9,
   "metadata": {},
   "outputs": [],
   "source": [
    "sprint_df = pd.read_csv('data/sprint.csv', index_col=0)"
   ]
  },
  {
   "cell_type": "code",
   "execution_count": 10,
   "metadata": {},
   "outputs": [
    {
     "data": {
      "text/html": [
       "<div>\n",
       "<style scoped>\n",
       "    .dataframe tbody tr th:only-of-type {\n",
       "        vertical-align: middle;\n",
       "    }\n",
       "\n",
       "    .dataframe tbody tr th {\n",
       "        vertical-align: top;\n",
       "    }\n",
       "\n",
       "    .dataframe thead th {\n",
       "        text-align: right;\n",
       "    }\n",
       "</style>\n",
       "<table border=\"1\" class=\"dataframe\">\n",
       "  <thead>\n",
       "    <tr style=\"text-align: right;\">\n",
       "      <th></th>\n",
       "      <th>sprint</th>\n",
       "      <th>age</th>\n",
       "    </tr>\n",
       "  </thead>\n",
       "  <tbody>\n",
       "    <tr>\n",
       "      <th>46</th>\n",
       "      <td>11.876982</td>\n",
       "      <td>28.573282</td>\n",
       "    </tr>\n",
       "  </tbody>\n",
       "</table>\n",
       "</div>"
      ],
      "text/plain": [
       "       sprint        age\n",
       "46  11.876982  28.573282"
      ]
     },
     "execution_count": 10,
     "metadata": {},
     "output_type": "execute_result"
    }
   ],
   "source": [
    "sprint_df.sample()"
   ]
  },
  {
   "cell_type": "code",
   "execution_count": 11,
   "metadata": {},
   "outputs": [],
   "source": [
    "x = sprint_df.age.values"
   ]
  },
  {
   "cell_type": "code",
   "execution_count": 12,
   "metadata": {},
   "outputs": [
    {
     "data": {
      "text/plain": [
       "(250,)"
      ]
     },
     "execution_count": 12,
     "metadata": {},
     "output_type": "execute_result"
    }
   ],
   "source": [
    "x.shape"
   ]
  },
  {
   "cell_type": "code",
   "execution_count": 13,
   "metadata": {},
   "outputs": [
    {
     "data": {
      "text/plain": [
       "<seaborn.axisgrid.FacetGrid at 0x124e633c8>"
      ]
     },
     "execution_count": 13,
     "metadata": {},
     "output_type": "execute_result"
    },
    {
     "data": {
      "image/png": "[encoded data removed]",
      "text/plain": [
       "<Figure size 360x360 with 1 Axes>"
      ]
     },
     "metadata": {
      "needs_background": "light"
     },
     "output_type": "display_data"
    }
   ],
   "source": [
    "sns.lmplot('age', 'sprint', data=sprint_df)"
   ]
  },
  {
   "cell_type": "code",
   "execution_count": 14,
   "metadata": {},
   "outputs": [],
   "source": [
    "sprint_mx = sprint_df.values.transpose()"
   ]
  },
  {
   "cell_type": "code",
   "execution_count": 15,
   "metadata": {},
   "outputs": [
    {
     "data": {
      "text/plain": [
       "array([[10.68333547, 11.45407995, 11.32991238, 10.89694965, 10.9068807 ,\n",
       "        14.66079705, 10.85512926, 11.09937094, 10.97367792, 11.71202038,\n",
       "        11.43670755, 12.94642629, 10.91995798, 10.78487713, 12.4776814 ,\n",
       "        11.04680536, 12.13213175, 11.53019045, 10.89295206, 10.71650561,\n",
       "        10.83592979, 11.51515195, 11.95292153, 12.78313417, 13.85633591,\n",
       "        12.87347295, 11.51042583, 10.8930766 , 10.63254007, 11.37568535,\n",
       "        10.50320695, 13.3799048 , 12.60126069, 12.72454378, 11.24715597,\n",
       "        11.12870343, 11.37040549, 13.66525921, 12.72901853, 11.36888722,\n",
       "        11.20190904, 16.09567501, 12.37314033, 11.35633724, 10.74490779,\n",
       "        11.8769823 , 12.39821526, 10.75259518, 10.69995437, 13.18174395,\n",
       "        11.78768847, 12.72081135, 10.87688625, 11.45754669, 11.71442593,\n",
       "        10.99994571, 11.52327221, 11.25371907, 13.05120987, 16.91959142,\n",
       "        10.64785729, 13.04728853, 11.5263136 , 12.70544165, 12.50606651,\n",
       "        14.32289443, 10.92942235, 11.45663556, 11.89737701, 12.6611459 ,\n",
       "        11.20474797, 12.18212477, 12.8349541 , 13.86092472, 10.84268454,\n",
       "        11.57399421, 11.30786027, 12.14112581, 10.69264797, 11.66234693,\n",
       "        11.59629464, 11.48181991, 11.44971289, 14.43535544, 11.38592762,\n",
       "        12.68932898, 10.42951806, 11.93343067, 11.19424876, 11.30116034,\n",
       "        13.08969469, 11.9368983 , 12.96555012, 11.61350679, 12.25288575,\n",
       "        10.98684683, 11.06029334, 13.43272488, 10.62612636, 12.10851276,\n",
       "        11.11179496, 12.61717157, 10.39181771, 12.60593564, 11.44101693,\n",
       "        11.42899511, 11.45732325, 11.96722584, 11.65342738, 10.61201793,\n",
       "        12.66653185, 12.31239008, 11.64180061, 11.52525473, 11.135373  ,\n",
       "        11.79373385, 11.23419273, 11.68804443, 13.54011543, 11.0096382 ,\n",
       "        11.87886836, 12.28463301, 11.16813654, 12.14714923, 11.69964035,\n",
       "        12.34595886, 14.95539481, 10.61852771, 15.73046788, 13.64362659,\n",
       "        11.91366053, 11.11521869, 11.13930236, 12.50021457, 14.84747865,\n",
       "        12.36394534, 12.71230744, 11.93273133, 10.54402186, 11.26734483,\n",
       "        12.93656159, 13.16410947, 11.69962265, 13.33997742, 11.17654854,\n",
       "        11.1001914 , 13.8686604 , 11.25567713, 11.15191371, 10.46883959,\n",
       "        14.06412475, 10.99787238, 11.11532699, 11.57579593, 10.90013102,\n",
       "        11.59142184, 12.17513878, 11.17604979, 10.5647243 , 11.32300494,\n",
       "        11.12336772, 10.91706759, 11.73403911, 11.53131226, 11.95976866,\n",
       "        11.27940658, 11.15338112, 12.46670518, 11.88090435, 11.52767672,\n",
       "        11.20606724, 11.75611374, 10.83638068, 11.19948653, 14.54540484,\n",
       "        10.81222501, 14.64323121, 10.67213131, 11.48954785, 14.64072318,\n",
       "        11.832485  , 11.0891296 , 11.48365571, 10.88517983, 11.26588871,\n",
       "        11.23914049, 12.6884859 , 11.33406086, 11.51256253, 12.30413133,\n",
       "        11.15357431, 11.78669118, 11.13491671, 11.38576359, 12.07505213,\n",
       "        11.30101966, 10.7698573 , 10.58009166, 11.63814848, 10.66117481,\n",
       "        13.60255707, 12.11174974, 10.76227605, 11.1287735 , 11.52304471,\n",
       "        11.51244907, 14.76903699, 10.96401084, 10.65983448, 11.26662482,\n",
       "        10.72725718, 11.95826481, 11.35101371, 12.63742283, 11.62654988,\n",
       "        10.63806842, 10.63015611, 13.74654747, 14.63091496, 10.98987957,\n",
       "        11.66500128, 16.02177563, 10.28244138, 11.49435688, 12.71930447,\n",
       "        10.83825914, 10.98365984, 10.86864751, 11.91765738, 11.00363734,\n",
       "        11.03239012, 11.88023173, 10.95696576, 11.1681156 , 10.59883031,\n",
       "        11.57219125, 11.37903696, 11.77377081, 11.08415682, 11.08098295,\n",
       "        11.34029019, 11.95643847, 11.17274098, 11.65029941, 11.05438188,\n",
       "        11.17469536, 14.65147745, 10.79163365, 10.9513013 , 10.95053379],\n",
       "       [24.63487968, 25.19259708, 21.50813508, 19.95926272, 24.72649355,\n",
       "        13.81919815, 24.83544348, 20.75717153, 20.72128115, 17.86305099,\n",
       "        21.47688487, 30.1779042 , 23.66782539, 24.34097406, 18.62260602,\n",
       "        25.67604928, 18.01139115, 20.50790085, 27.04320693, 23.34425665,\n",
       "        25.50829866, 28.55103287, 19.10052207, 15.01088168, 14.81030717,\n",
       "        30.12293883, 19.83258686, 24.79170911, 24.75455572, 21.2696006 ,\n",
       "        25.6534293 , 31.88575096, 31.22135652, 29.34600538, 23.14422037,\n",
       "        24.21034726, 20.5416104 , 14.5207739 , 29.95480233, 22.11610472,\n",
       "        27.07829875, 11.28838872, 17.22880502, 26.21713243, 25.84503274,\n",
       "        28.57328231, 15.6410555 , 24.55331464, 24.62434444, 16.11940525,\n",
       "        19.56826267, 30.76461699, 22.24115622, 23.58248278, 18.98060557,\n",
       "        23.25079163, 25.11027073, 25.70707898, 31.65279259, 11.4387521 ,\n",
       "        22.67316391, 15.95860833, 24.48986384, 29.15483279, 19.35904183,\n",
       "        13.75430212, 25.99662745, 29.17069813, 24.32584602, 16.16947744,\n",
       "        22.24577009, 18.46907782, 17.27791231, 32.48730383, 28.31217422,\n",
       "        26.24170383, 25.71816229, 18.34806779, 24.14311726, 26.59566283,\n",
       "        24.90422383, 26.69414598, 20.63033899, 33.14699913, 26.37049303,\n",
       "        30.40194633, 25.02419111, 20.61420979, 24.41435673, 25.71191529,\n",
       "        17.66244334, 18.1521287 , 30.49126124, 20.23681283, 17.58715173,\n",
       "        25.09299445, 19.72730417, 31.70973917, 19.30091096, 18.87453988,\n",
       "        23.00766433, 16.79699501, 23.90088338, 16.03860135, 22.63487941,\n",
       "        19.58778401, 20.59777262, 29.00249339, 19.98385019, 23.44505592,\n",
       "        16.46422489, 16.04173589, 27.67559023, 27.93654274, 21.63660807,\n",
       "        19.72709587, 21.76530883, 24.82987281, 31.81001079, 21.68942212,\n",
       "        28.95188621, 27.94653408, 23.44968209, 28.88929804, 20.10442138,\n",
       "        16.7853054 , 13.6958427 , 27.20796379, 12.44402554, 16.61785817,\n",
       "        29.38986396, 25.97644675, 24.36194151, 16.6690342 , 33.95104722,\n",
       "        17.2843883 , 17.44994864, 25.01014744, 22.58129782, 20.0984041 ,\n",
       "        16.86881135, 16.17828119, 19.32385554, 15.24633664, 22.07135062,\n",
       "        24.43076305, 15.03718615, 25.82343818, 26.03205933, 22.62410949,\n",
       "        14.71302255, 24.46779065, 22.87876969, 18.37075902, 21.51119094,\n",
       "        20.87074019, 29.64706001, 20.45065542, 22.30497428, 19.07243623,\n",
       "        19.80562668, 23.36418057, 20.91111691, 19.83219895, 17.53688711,\n",
       "        20.73707888, 24.84857805, 16.42081746, 29.93941331, 21.8934405 ,\n",
       "        22.89964218, 28.0623675 , 22.1623307 , 25.71061509, 14.33797667,\n",
       "        24.1642757 , 33.1759754 , 23.80614244, 22.96829727, 13.82929441,\n",
       "        17.89717259, 21.77929889, 20.17575635, 27.08671809, 25.66959131,\n",
       "        22.34387884, 28.54186308, 23.68354488, 21.23093175, 19.74004235,\n",
       "        24.44584949, 19.72666299, 25.54058105, 23.35427231, 27.89600758,\n",
       "        25.59295197, 25.82887197, 20.00394414, 19.98951346, 22.05987269,\n",
       "        15.53734432, 19.16833159, 23.09584795, 26.76263005, 25.74106968,\n",
       "        22.47345317, 14.16229107, 24.90361147, 22.43696901, 21.65469837,\n",
       "        26.46377805, 18.13337157, 20.7328914 , 31.29811272, 19.2480116 ,\n",
       "        23.42025771, 24.9713202 , 14.25008917, 12.39418278, 22.31025519,\n",
       "        25.90519784, 11.69480119, 21.3241437 , 20.79048193, 30.06099419,\n",
       "        25.02520619, 21.05814489, 22.05482128, 28.90352589, 22.34781317,\n",
       "        22.3529689 , 18.49332518, 22.74951851, 23.19396056, 26.00851319,\n",
       "        19.89450234, 25.41268551, 19.11218639, 24.8245232 , 23.11748557,\n",
       "        18.84965882, 19.44669287, 20.82372733, 17.21251734, 21.52134106,\n",
       "        25.46996683, 34.36331594, 21.62229359, 24.44605435, 25.38787545]])"
      ]
     },
     "execution_count": 15,
     "metadata": {},
     "output_type": "execute_result"
    }
   ],
   "source": [
    "sprint_mx"
   ]
  },
  {
   "cell_type": "code",
   "execution_count": 16,
   "metadata": {},
   "outputs": [],
   "source": [
    "Y = sprint_mx[0].reshape(-1,1)\n",
    "X = sprint_mx[1].reshape(-1,1)"
   ]
  },
  {
   "cell_type": "code",
   "execution_count": 17,
   "metadata": {},
   "outputs": [
    {
     "name": "stdout",
     "output_type": "stream",
     "text": [
      "(250, 1)\n",
      "(250, 1)\n"
     ]
    }
   ],
   "source": [
    "print(Y.shape)\n",
    "print(X.shape)"
   ]
  },
  {
   "cell_type": "code",
   "execution_count": 18,
   "metadata": {},
   "outputs": [],
   "source": [
    "X_train, X_test, Y_train, Y_test = train_test_split(X, Y, test_size=0.25, random_state=123)"
   ]
  },
  {
   "cell_type": "code",
   "execution_count": 19,
   "metadata": {},
   "outputs": [],
   "source": [
    "# Create polynomial expanders\n",
    "pol_exp_2 = PolynomialFeatures(degree=2)\n",
    "pol_exp_5 = PolynomialFeatures(degree=5)\n",
    "pol_exp_25 = PolynomialFeatures(degree=25)"
   ]
  },
  {
   "cell_type": "code",
   "execution_count": 20,
   "metadata": {},
   "outputs": [],
   "source": [
    "# Create regression 'estimator' objects\n",
    "lr_1 = LinearRegression()\n",
    "lr_2 = LinearRegression()\n",
    "lr_5 = LinearRegression()\n",
    "lr_25 = LinearRegression()"
   ]
  },
  {
   "cell_type": "code",
   "execution_count": 21,
   "metadata": {},
   "outputs": [
    {
     "data": {
      "text/plain": [
       "(187, 1)"
      ]
     },
     "execution_count": 21,
     "metadata": {},
     "output_type": "execute_result"
    }
   ],
   "source": [
    "X_train.shape"
   ]
  },
  {
   "cell_type": "code",
   "execution_count": 22,
   "metadata": {},
   "outputs": [
    {
     "data": {
      "text/plain": [
       "(63, 1)"
      ]
     },
     "execution_count": 22,
     "metadata": {},
     "output_type": "execute_result"
    }
   ],
   "source": [
    "Y_test.shape"
   ]
  },
  {
   "cell_type": "code",
   "execution_count": 23,
   "metadata": {},
   "outputs": [
    {
     "data": {
      "text/plain": [
       "LinearRegression(copy_X=True, fit_intercept=True, n_jobs=None,\n",
       "         normalize=False)"
      ]
     },
     "execution_count": 23,
     "metadata": {},
     "output_type": "execute_result"
    }
   ],
   "source": [
    "# Fit the models\n",
    "lr_1.fit(X_train, Y_train)\n",
    "lr_2.fit(pol_exp_2.fit_transform(X_train), Y_train)\n",
    "lr_5.fit(pol_exp_5.fit_transform(X_train), Y_train)\n",
    "lr_25.fit(pol_exp_25.fit_transform(X_train), Y_train)"
   ]
  },
  {
   "cell_type": "code",
   "execution_count": 24,
   "metadata": {},
   "outputs": [],
   "source": [
    "# make predictions\n",
    "y_pred_1 = lr_1.predict(X_test)\n",
    "y_pred_2 = lr_2.predict(pol_exp_2.fit_transform(X_test))\n",
    "y_pred_5 = lr_5.predict(pol_exp_5.fit_transform(X_test))\n",
    "y_pred_25 = lr_25.predict(pol_exp_25.fit_transform(X_test))"
   ]
  },
  {
   "cell_type": "code",
   "execution_count": 25,
   "metadata": {},
   "outputs": [],
   "source": [
    "# Calculate performance metrics\n",
    "mse_1 = mean_squared_error(Y_test, y_pred_1)\n",
    "mse_2 = mean_squared_error(Y_test, y_pred_2)\n",
    "mse_5 = mean_squared_error(Y_test, y_pred_5)\n",
    "mse_25 = mean_squared_error(Y_test, y_pred_25)\n",
    "mae_1 = mean_absolute_error(Y_test, y_pred_1)\n",
    "mae_2 = mean_absolute_error(Y_test, y_pred_2)\n",
    "mae_5 = mean_absolute_error(Y_test, y_pred_5)\n",
    "mae_25 = mean_absolute_error(Y_test, y_pred_25)"
   ]
  },
  {
   "cell_type": "code",
   "execution_count": 26,
   "metadata": {},
   "outputs": [
    {
     "name": "stdout",
     "output_type": "stream",
     "text": [
      "Regression 1 | MSE:\t0.921\t| MAE:\t0.772\n",
      "Regression 2 | MSE:\t0.147\t| MAE:\t0.288\n",
      "Regression 5 | MSE:\t0.15\t| MAE:\t0.29\n",
      "Regression 20 | MSE:\t0.518\t| MAE:\t0.54\n"
     ]
    }
   ],
   "source": [
    "print(\"Regression 1 | MSE:\\t\" + str(round(mse_1, 3)) + \"\\t| MAE:\\t\" + str(round(mae_1, 3)))\n",
    "print(\"Regression 2 | MSE:\\t\" + str(round(mse_2, 3)) + \"\\t| MAE:\\t\" + str(round(mae_2, 3)))\n",
    "print(\"Regression 5 | MSE:\\t\" + str(round(mse_5, 3)) + \"\\t| MAE:\\t\" + str(round(mae_5, 3)))\n",
    "print(\"Regression 20 | MSE:\\t\" + str(round(mse_25, 3)) + \"\\t| MAE:\\t\" + str(round(mae_25, 3)))"
   ]
  },
  {
   "cell_type": "markdown",
   "metadata": {},
   "source": [
    "** Lets look at the plots as well **"
   ]
  },
  {
   "cell_type": "code",
   "execution_count": 27,
   "metadata": {},
   "outputs": [
    {
     "data": {
      "image/png": "[encoded data removed]",
      "text/plain": [
       "<Figure size 432x288 with 1 Axes>"
      ]
     },
     "metadata": {
      "needs_background": "light"
     },
     "output_type": "display_data"
    }
   ],
   "source": [
    "plt.scatter(X_test, Y_test)\n",
    "x = np.linspace(X_test.min(), X_test.max(), 100).reshape(-1,1)\n",
    "plt.plot(x, lr_1.predict(x)) # this creates the line representing the model\n",
    "plt.title(\"Linear Regression\")\n",
    "plt.show()"
   ]
  },
  {
   "cell_type": "code",
   "execution_count": 28,
   "metadata": {},
   "outputs": [
    {
     "data": {
      "image/png": "[encoded data removed]",
      "text/plain": [
       "<Figure size 432x288 with 1 Axes>"
      ]
     },
     "metadata": {
      "needs_background": "light"
     },
     "output_type": "display_data"
    }
   ],
   "source": [
    "plt.scatter(X_test, Y_test)\n",
    "x = np.linspace(X_test.min(), X_test.max(), 100).reshape(-1,1)\n",
    "plt.plot(x, lr_2.predict(pol_exp_2.fit_transform(x))) # this creates the line representing the model\n",
    "plt.title(\"Polynomial Regression (2nd degree)\")\n",
    "plt.show()"
   ]
  },
  {
   "cell_type": "code",
   "execution_count": 29,
   "metadata": {},
   "outputs": [
    {
     "data": {
      "image/png": "[encoded data removed]",
      "text/plain": [
       "<Figure size 432x288 with 1 Axes>"
      ]
     },
     "metadata": {
      "needs_background": "light"
     },
     "output_type": "display_data"
    }
   ],
   "source": [
    "plt.scatter(X_test, Y_test)\n",
    "x = np.linspace(X_test.min(), X_test.max(), 100).reshape(-1,1)\n",
    "plt.plot(x, lr_5.predict(pol_exp_5.fit_transform(x))) # this creates the line representing the model\n",
    "plt.title(\"Polynomial Regression (5th degree)\")\n",
    "plt.show()"
   ]
  },
  {
   "cell_type": "code",
   "execution_count": 30,
   "metadata": {
    "scrolled": true
   },
   "outputs": [
    {
     "data": {
      "image/png": "[encoded data removed]",
      "text/plain": [
       "<Figure size 432x288 with 1 Axes>"
      ]
     },
     "metadata": {
      "needs_background": "light"
     },
     "output_type": "display_data"
    }
   ],
   "source": [
    "plt.scatter(X_test, Y_test)\n",
    "x = np.linspace(X_test.min(), X_test.max(), 100).reshape(-1,1)\n",
    "plt.plot(x, lr_25.predict(pol_exp_25.fit_transform(x))) # this creates the line representing the model\n",
    "plt.title(\"Polynomial Regression (25th degree)\")\n",
    "plt.show()"
   ]
  },
  {
   "cell_type": "markdown",
   "metadata": {
    "collapsed": true
   },
   "source": [
    "### A more full-on look at the performance of this model"
   ]
  },
  {
   "cell_type": "code",
   "execution_count": 31,
   "metadata": {},
   "outputs": [],
   "source": [
    "def test_poly_range(degree_min = 2, degree_max = 10):\n",
    "    train_results = [] \n",
    "    test_results = []\n",
    "    for d in range(degree_min, degree_max):\n",
    "        pe = PolynomialFeatures(degree=d)\n",
    "        lr = LinearRegression()\n",
    "        lr.fit(pe.fit_transform(X_train), Y_train)\n",
    "        train_results.append(mean_squared_error(Y_train, lr.predict(pe.fit_transform(X_train))))\n",
    "        test_results.append(mean_squared_error(Y_test, lr.predict(pe.fit_transform(X_test))))\n",
    "        \n",
    "    result_dct = {}\n",
    "    result_dct['degree'] = range(degree_min, degree_max)\n",
    "    result_dct['training_MSE'] = train_results\n",
    "    result_dct['testing_MSE'] = test_results\n",
    "    results_df = pd.DataFrame(result_dct)\n",
    "    \n",
    "    return results_df"
   ]
  },
  {
   "cell_type": "code",
   "execution_count": 32,
   "metadata": {},
   "outputs": [
    {
     "data": {
      "text/plain": [
       "<matplotlib.axes._subplots.AxesSubplot at 0x1250f6ba8>"
      ]
     },
     "execution_count": 32,
     "metadata": {},
     "output_type": "execute_result"
    },
    {
     "data": {
      "image/png": "[encoded data removed]",
      "text/plain": [
       "<Figure size 432x288 with 1 Axes>"
      ]
     },
     "metadata": {
      "needs_background": "light"
     },
     "output_type": "display_data"
    }
   ],
   "source": [
    "df = test_poly_range()\n",
    "df.plot(x='degree',y=['training_MSE', 'testing_MSE'])"
   ]
  },
  {
   "cell_type": "markdown",
   "metadata": {},
   "source": [
    "The plot above shows the analysis for various degrees of the polynomial regression. This plot leads us to believe that a third or seventh order polynomial regression performs best, and that adding orders beyond that point no longer leads to a noticible improvement of the algorithm. "
   ]
  },
  {
   "cell_type": "code",
   "execution_count": null,
   "metadata": {},
   "outputs": [],
   "source": [
    "df = test_poly_range(degree_min = 1, degree_max = 51)\n",
    "df.plot(x='degree',y=['training_MSE', 'testing_MSE'])\n"
   ]
  },
  {
   "cell_type": "markdown",
   "metadata": {},
   "source": [
    "This extreme example illustrates the unpredictable behavior that can occur when tuning parameters outside of their relevant range / using models that are overly complex for the data that they intend to predict. "
   ]
  }
 ],
 "metadata": {
  "kernelspec": {
   "display_name": "Python 3",
   "language": "python",
   "name": "python3"
  },
  "language_info": {
   "codemirror_mode": {
    "name": "ipython",
    "version": 3
   },
   "file_extension": ".py",
   "mimetype": "text/x-python",
   "name": "python",
   "nbconvert_exporter": "python",
   "pygments_lexer": "ipython3",
   "version": "3.6.7"
  },
  "toc": {
   "base_numbering": 1,
   "nav_menu": {},
   "number_sections": true,
   "sideBar": true,
   "skip_h1_title": false,
   "title_cell": "Table of Contents",
   "title_sidebar": "Contents",
   "toc_cell": false,
   "toc_position": {},
   "toc_section_display": true,
   "toc_window_display": false
  }
 },
 "nbformat": 4,
 "nbformat_minor": 2
}
