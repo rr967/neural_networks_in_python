{
 "cells": [
  {
   "cell_type": "code",
   "execution_count": 1,
   "metadata": {},
   "outputs": [],
   "source": [
    "#Import libraries\n",
    "import numpy as np\n",
    "import pandas as pd\n",
    "%matplotlib inline\n",
    "import matplotlib.pyplot as plt\n",
    "import matplotlib.mlab as mlab\n",
    "import seaborn as sns\n",
    "from scipy import stats\n",
    "import math\n",
    "import os\n",
    "import random\n",
    "from sklearn.linear_model import LinearRegression\n",
    "from sklearn.model_selection import train_test_split\n",
    "from sklearn.metrics import mean_squared_error\n",
    "from sklearn.metrics import mean_absolute_error\n",
    "from sklearn.preprocessing import PolynomialFeatures"
   ]
  },
  {
   "cell_type": "markdown",
   "metadata": {},
   "source": [
    "# 5.3 Polynomial Regression"
   ]
  },
  {
   "cell_type": "markdown",
   "metadata": {},
   "source": [
    "## 5.3.1 Create dataset"
   ]
  },
  {
   "cell_type": "markdown",
   "metadata": {},
   "source": [
    "We create adataset that has a sinoid form, i.e. something that would be hard to predict using a simple linear regression"
   ]
  },
  {
   "cell_type": "code",
   "execution_count": 2,
   "metadata": {},
   "outputs": [
    {
     "data": {
      "image/png": "[encoded data removed]",
      "text/plain": [
       "<Figure size 432x288 with 1 Axes>"
      ]
     },
     "metadata": {
      "needs_background": "light"
     },
     "output_type": "display_data"
    }
   ],
   "source": [
    "#this creates the toy data for the rest of the excercise\n",
    "x = np.linspace(0, 3, 100) \n",
    "rng = np.random.RandomState(42)\n",
    "y = np.sin(4 * x) + x + rng.uniform(size=len(x))\n",
    "\n",
    "plt.plot(x, y, 'o');"
   ]
  },
  {
   "cell_type": "markdown",
   "metadata": {},
   "source": [
    "Just for fun we are going to look what happens if we try to predict this dataset using a simple linear regression"
   ]
  },
  {
   "cell_type": "code",
   "execution_count": 3,
   "metadata": {},
   "outputs": [
    {
     "data": {
      "image/png": "[encoded data removed]",
      "text/plain": [
       "<Figure size 432x288 with 1 Axes>"
      ]
     },
     "metadata": {
      "needs_background": "light"
     },
     "output_type": "display_data"
    }
   ],
   "source": [
    "X = x[:, np.newaxis]\n",
    "X_train, X_test, y_train, y_test = train_test_split(X, y, test_size=0.25, random_state=42)\n",
    "\n",
    "regressor = LinearRegression()\n",
    "regressor.fit(X_train, y_train)\n",
    "\n",
    "min_pt = X.min() * regressor.coef_[0] + regressor.intercept_\n",
    "max_pt = X.max() * regressor.coef_[0] + regressor.intercept_\n",
    "\n",
    "plt.plot([X.min(), X.max()], [min_pt, max_pt])\n",
    "plt.plot(X_train, y_train, 'o');"
   ]
  },
  {
   "cell_type": "markdown",
   "metadata": {},
   "source": [
    "As you can see, fitting a straight line through the data is not the best model we can have. Our linear model has a **high bias**. This means that our model has a high bias towards the functional fit of the data, in this case a linear fit."
   ]
  },
  {
   "cell_type": "markdown",
   "metadata": {},
   "source": [
    "## 5.3.2 Do some polynomial feature extraction"
   ]
  },
  {
   "cell_type": "markdown",
   "metadata": {},
   "source": [
    "One of the easiest ways to make your machine learning technique more *intelligent* is to extract relevant features from the data. These features can be anything that you can find that will make it easier for the method to be able to fit the data. This means that as a machine learning engineer it is best to know and understand your data.\n",
    "\n",
    "As some of you might remember from math class is that you can create an approximation of any function (including a sine function) using a polynomial function with the [Taylor expansion](https://en.wikipedia.org/wiki/Taylor_series). So we will use that approach to learn a better fit.\n",
    "\n",
    "In this case we will create what we call features using a [polynomial expansion](http://scikit-learn.org/stable/modules/generated/sklearn.preprocessing.PolynomialFeatures.html). If you set the degree to 3 it will generate data of the 0d, 1st, 2nd and 3rd order (including cross products) as shown in the example below (change x and degree to see the different expansions of x to a certain degree)."
   ]
  },
  {
   "cell_type": "code",
   "execution_count": 4,
   "metadata": {},
   "outputs": [
    {
     "data": {
      "text/plain": [
       "array([[ 1.,  2.,  4.,  8., 16.]])"
      ]
     },
     "execution_count": 4,
     "metadata": {},
     "output_type": "execute_result"
    }
   ],
   "source": [
    "x = [[2]]\n",
    "pol_exp = PolynomialFeatures(degree=4)\n",
    "pol_exp.fit_transform(x)"
   ]
  },
  {
   "cell_type": "markdown",
   "metadata": {},
   "source": [
    "As you can see above this function transforms $x$ into \n",
    "\n",
    "[$x^0$, $x^1$, $x^2$, $x^3$, $x^4$] with $x^0=1$ and $x^1 = x$. \n",
    "\n",
    "If you have 2 inputs it will also take the cross products so that [$x_1$, $x_2$] is transformed into: \n",
    "\n",
    "[$1=x_1^0=x_2^2$, $x_1$, $x_2$, $x_1^2$, $x_1x_2$, $x_2^2$, $x_1^3$, $x_1^2x_2$, $x_1x_2^2$, $x_2^3$] \n",
    "\n",
    "as shown below."
   ]
  },
  {
   "cell_type": "code",
   "execution_count": 5,
   "metadata": {},
   "outputs": [
    {
     "data": {
      "text/plain": [
       "array([[ 1.,  2.,  3.,  4.,  6.,  9.,  8., 12., 18., 27.]])"
      ]
     },
     "execution_count": 5,
     "metadata": {},
     "output_type": "execute_result"
    }
   ],
   "source": [
    "x = [[2, 3]]\n",
    "pol_exp = PolynomialFeatures(degree=3)\n",
    "pol_exp.fit_transform(x)"
   ]
  },
  {
   "cell_type": "markdown",
   "metadata": {},
   "source": [
    "In this example we only have 1 input so the number of features is always the `degree + 1`.\n",
    "\n",
    "Because of this polynomial features extraction finding of the coefficients of the polynomial becomes a linear problem, so similar to the previous exercise on multiple linear regression you can find the optimal weights as follows:\n",
    "\n",
    "$$y = c_0 + c_1 x + c_2 x^2 + c_3 x^3 + \\cdots + c_n x^n$$\n",
    "\n",
    "So for multiple values of $x$ and $y$ you can minimize the error of this equation using linear regression. How this is done in practice is shown below.\n",
    "\n",
    "Note that we do not actually use another type of model, we have just extended our features/independent variables/x's.\n",
    "\n",
    "When we have more than one predictor loaded in the polynomial transformer, we also get the crossproducts between these predictors. These are the interaction terms as discussed in notebook on advanced regression!"
   ]
  },
  {
   "cell_type": "markdown",
   "metadata": {},
   "source": [
    "## 5.3.3 Fit the polynomial model"
   ]
  },
  {
   "cell_type": "code",
   "execution_count": 6,
   "metadata": {},
   "outputs": [
    {
     "data": {
      "text/plain": [
       "array([[0.45454545],\n",
       "       [1.21212121],\n",
       "       [2.90909091],\n",
       "       [0.27272727],\n",
       "       [2.18181818],\n",
       "       [0.33333333],\n",
       "       [1.42424242],\n",
       "       [2.57575758],\n",
       "       [0.84848485],\n",
       "       [2.81818182],\n",
       "       [0.15151515],\n",
       "       [2.        ],\n",
       "       [1.96969697],\n",
       "       [1.06060606],\n",
       "       [0.48484848],\n",
       "       [1.48484848],\n",
       "       [1.03030303],\n",
       "       [0.21212121],\n",
       "       [2.87878788],\n",
       "       [0.81818182],\n",
       "       [0.57575758],\n",
       "       [2.45454545],\n",
       "       [0.75757576],\n",
       "       [1.87878788],\n",
       "       [0.39393939],\n",
       "       [0.72727273],\n",
       "       [0.09090909],\n",
       "       [0.51515152],\n",
       "       [1.15151515],\n",
       "       [0.24242424],\n",
       "       [2.36363636],\n",
       "       [0.18181818],\n",
       "       [1.93939394],\n",
       "       [1.09090909],\n",
       "       [2.6969697 ],\n",
       "       [1.6969697 ],\n",
       "       [3.        ],\n",
       "       [1.63636364],\n",
       "       [1.3030303 ],\n",
       "       [1.51515152],\n",
       "       [2.03030303],\n",
       "       [1.39393939],\n",
       "       [2.06060606],\n",
       "       [1.84848485],\n",
       "       [2.93939394],\n",
       "       [2.39393939],\n",
       "       [1.24242424],\n",
       "       [1.75757576],\n",
       "       [1.45454545],\n",
       "       [2.96969697],\n",
       "       [1.72727273],\n",
       "       [2.27272727],\n",
       "       [0.96969697],\n",
       "       [2.84848485],\n",
       "       [1.78787879],\n",
       "       [1.90909091],\n",
       "       [2.54545455],\n",
       "       [1.12121212],\n",
       "       [0.87878788],\n",
       "       [0.03030303],\n",
       "       [1.57575758],\n",
       "       [0.63636364],\n",
       "       [0.06060606],\n",
       "       [0.6969697 ],\n",
       "       [2.63636364],\n",
       "       [2.75757576],\n",
       "       [2.24242424],\n",
       "       [2.60606061],\n",
       "       [2.48484848],\n",
       "       [0.60606061],\n",
       "       [1.81818182],\n",
       "       [2.15151515],\n",
       "       [0.42424242],\n",
       "       [2.78787879],\n",
       "       [1.54545455]])"
      ]
     },
     "execution_count": 6,
     "metadata": {},
     "output_type": "execute_result"
    }
   ],
   "source": [
    "X_train"
   ]
  },
  {
   "cell_type": "code",
   "execution_count": 7,
   "metadata": {},
   "outputs": [
    {
     "name": "stdout",
     "output_type": "stream",
     "text": [
      "The R2 score of this model on the train set is: 0.8555374678146452\n"
     ]
    },
    {
     "data": {
      "image/png": "[encoded data removed]",
      "text/plain": [
       "<Figure size 432x288 with 1 Axes>"
      ]
     },
     "metadata": {
      "needs_background": "light"
     },
     "output_type": "display_data"
    }
   ],
   "source": [
    "pol_exp = PolynomialFeatures(degree=5)\n",
    "\n",
    "model = LinearRegression()\n",
    "model.fit(pol_exp.fit_transform(X_train), y_train)\n",
    "print('The R2 score of this model on the train set is:', model.score(pol_exp.fit_transform(X_train), y_train))\n",
    "\n",
    "plt.scatter(X_train, y_train)\n",
    "x = np.linspace(0, 3, 100).reshape(-1,1)\n",
    "plt.plot(x, model.predict(pol_exp.fit_transform(x))) #these are new x's? why?\n",
    "plt.show()\n"
   ]
  },
  {
   "cell_type": "code",
   "execution_count": 8,
   "metadata": {},
   "outputs": [
    {
     "name": "stdout",
     "output_type": "stream",
     "text": [
      "The R2 score of the model on the test set is: 0.846\n"
     ]
    }
   ],
   "source": [
    "test_score = model.score(pol_exp.fit_transform(X_test), y_test)\n",
    "print('The R2 score of the model on the test set is:', round(test_score, 3))"
   ]
  },
  {
   "cell_type": "markdown",
   "metadata": {},
   "source": [
    "## 5.3.4 Task 2: Exercise on Polynomial Regression"
   ]
  },
  {
   "cell_type": "markdown",
   "metadata": {},
   "source": [
    "In 'sprint.csv', you find the data mentioned in the slides. It contains two variables, age and time needed to sprint 100 meter. \n",
    "- Take a look at the data and make a scatter plot.\n",
    "- Make a training and test dataset\n",
    "- Perform a linear regression, modeling time using age. Calculate the MSE of both training and test set\n",
    "- Perform a polynomial regression of degree 5, modeling time using age. Calculate the MSE of both training and test set\n",
    "- Perform a polynomial regression of degree 2, modeling time using age. Calculate the MSE of both training and test set\n",
    "\n",
    "Which of the three is the best model?"
   ]
  }
 ],
 "metadata": {
  "kernelspec": {
   "display_name": "Python 3",
   "language": "python",
   "name": "python3"
  },
  "language_info": {
   "codemirror_mode": {
    "name": "ipython",
    "version": 3
   },
   "file_extension": ".py",
   "mimetype": "text/x-python",
   "name": "python",
   "nbconvert_exporter": "python",
   "pygments_lexer": "ipython3",
   "version": "3.6.7"
  },
  "toc": {
   "base_numbering": 1,
   "nav_menu": {},
   "number_sections": true,
   "sideBar": true,
   "skip_h1_title": false,
   "title_cell": "Table of Contents",
   "title_sidebar": "Contents",
   "toc_cell": false,
   "toc_position": {},
   "toc_section_display": true,
   "toc_window_display": false
  }
 },
 "nbformat": 4,
 "nbformat_minor": 2
}
