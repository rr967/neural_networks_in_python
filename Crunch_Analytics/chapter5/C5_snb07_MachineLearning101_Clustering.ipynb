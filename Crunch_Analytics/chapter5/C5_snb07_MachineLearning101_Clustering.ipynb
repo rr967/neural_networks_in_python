{
 "cells": [
  {
   "cell_type": "code",
   "execution_count": 1,
   "metadata": {
    "scrolled": false
   },
   "outputs": [],
   "source": [
    "#Import libraries\n",
    "import numpy as np\n",
    "import pandas as pd\n",
    "%matplotlib inline\n",
    "import matplotlib.pyplot as plt\n",
    "import matplotlib.mlab as mlab\n",
    "import seaborn as sns\n",
    "from scipy import stats\n",
    "import math\n",
    "import os\n",
    "import random\n",
    "from sklearn.linear_model import LinearRegression\n",
    "from sklearn.model_selection import train_test_split\n",
    "from sklearn.metrics import mean_squared_error\n",
    "from sklearn.metrics import mean_absolute_error\n",
    "from sklearn.preprocessing import PolynomialFeatures\n",
    "from sklearn.linear_model import Ridge, Lasso\n",
    "from sklearn.datasets import make_regression\n",
    "from sklearn.model_selection import learning_curve\n",
    "from sklearn.metrics import r2_score\n",
    "from sklearn.linear_model import LogisticRegression\n",
    "from sklearn.preprocessing import LabelEncoder\n",
    "from sklearn.metrics import confusion_matrix\n",
    "from sklearn.metrics import classification_report\n",
    "from sklearn.metrics import roc_curve, auc\n",
    "from sklearn.ensemble import RandomForestClassifier\n",
    "from sklearn.cluster import KMeans\n",
    "from sklearn.metrics import confusion_matrix, accuracy_score"
   ]
  },
  {
   "cell_type": "markdown",
   "metadata": {},
   "source": [
    "# 5.7 Clustering - solution"
   ]
  },
  {
   "cell_type": "markdown",
   "metadata": {},
   "source": [
    "Clustering is the task of gathering samples into groups of similar\n",
    "samples according to some predefined similarity or distance (dissimilarity)\n",
    "measure, such as the Euclidean distance.\n",
    "In this section we will explore a basic clustering task on some synthetic and real-world datasets.\n",
    "\n",
    "Here are some common applications of clustering algorithms:\n",
    "\n",
    "- Compression for data reduction\n",
    "- Summarizing data as a reprocessing step for recommender systems\n",
    "- Similarly:\n",
    "   - grouping related web news (e.g. Google News) and web search results\n",
    "   - grouping related stock quotes for investment portfolio management\n",
    "   - building customer profiles for market analysis\n",
    "- Building a code book of prototype samples for unsupervised feature extraction"
   ]
  },
  {
   "cell_type": "markdown",
   "metadata": {},
   "source": [
    "## 5.7.1 Generate a dataset"
   ]
  },
  {
   "cell_type": "code",
   "execution_count": null,
   "metadata": {},
   "outputs": [],
   "source": [
    "#this creates the toy data for the rest of the excercise\n",
    "from sklearn.datasets import make_blobs\n",
    "X, y = make_blobs(random_state=42)\n",
    "X.shape"
   ]
  },
  {
   "cell_type": "code",
   "execution_count": null,
   "metadata": {},
   "outputs": [],
   "source": [
    "plt.scatter(X[:, 0], X[:, 1]);"
   ]
  },
  {
   "cell_type": "markdown",
   "metadata": {},
   "source": [
    "In the scatter plot above, we can see three separate groups of data points and we would like to recover them using clustering -- think of \"discovering\" the class labels that we already take for granted in a classification task.\n",
    "\n",
    "Even if the groups are obvious in the data, it is hard to find them when the data lives in a high-dimensional space, which we can't visualize in a single histogram or scatterplot."
   ]
  },
  {
   "cell_type": "markdown",
   "metadata": {
    "heading_collapsed": true
   },
   "source": [
    "## 5.7.2 Use KMeans clustering"
   ]
  },
  {
   "cell_type": "markdown",
   "metadata": {
    "hidden": true
   },
   "source": [
    "Now we will use one of the simplest clustering algorithms, K-means.\n",
    "This is an iterative algorithm which searches for three cluster\n",
    "centers such that the distance from each point to its cluster is\n",
    "minimized. The standard implementation of K-means uses the Euclidean distance, which is why we want to make sure that all our variables are measured on the same scale if we are working with real-world datastets. In the previous notebook, we talked about one technique to achieve this, namely, standardization.\n",
    "\n",
    "**Question:** what would you expect the output to look like?"
   ]
  },
  {
   "cell_type": "code",
   "execution_count": null,
   "metadata": {
    "hidden": true
   },
   "outputs": [],
   "source": [
    "kmeans = KMeans(n_clusters=3, random_state=42)"
   ]
  },
  {
   "cell_type": "markdown",
   "metadata": {
    "hidden": true
   },
   "source": [
    "We can get the cluster labels either by calling fit and then accessing the \n",
    "``labels_`` attribute of the K means estimator, or by calling ``fit_predict``.\n",
    "Either way, the result contains the ID of the cluster that each point is assigned to."
   ]
  },
  {
   "cell_type": "code",
   "execution_count": null,
   "metadata": {
    "hidden": true
   },
   "outputs": [],
   "source": [
    "labels = kmeans.fit_predict(X)"
   ]
  },
  {
   "cell_type": "code",
   "execution_count": null,
   "metadata": {
    "hidden": true
   },
   "outputs": [],
   "source": [
    "labels"
   ]
  },
  {
   "cell_type": "code",
   "execution_count": null,
   "metadata": {
    "hidden": true
   },
   "outputs": [],
   "source": [
    "y"
   ]
  },
  {
   "cell_type": "code",
   "execution_count": null,
   "metadata": {
    "hidden": true
   },
   "outputs": [],
   "source": [
    "# Labels have shifted, create a map for the predicted labels\n",
    "label_map = {}\n",
    "label_map[0] = 1\n",
    "label_map[1] = 2\n",
    "label_map[2] = 0"
   ]
  },
  {
   "cell_type": "code",
   "execution_count": null,
   "metadata": {
    "hidden": true
   },
   "outputs": [],
   "source": [
    "labels= np.array(list(map(lambda x: label_map.get(x), labels)))\n",
    "labels"
   ]
  },
  {
   "cell_type": "markdown",
   "metadata": {
    "hidden": true
   },
   "source": [
    "Let's visualize the assignments that have been found"
   ]
  },
  {
   "cell_type": "code",
   "execution_count": null,
   "metadata": {
    "hidden": true
   },
   "outputs": [],
   "source": [
    "plt.scatter(X[:, 0], X[:, 1], c=labels);"
   ]
  },
  {
   "cell_type": "markdown",
   "metadata": {
    "hidden": true
   },
   "source": [
    "Compared to the true labels:"
   ]
  },
  {
   "cell_type": "code",
   "execution_count": null,
   "metadata": {
    "hidden": true
   },
   "outputs": [],
   "source": [
    "plt.scatter(X[:, 0], X[:, 1], c=y);"
   ]
  },
  {
   "cell_type": "markdown",
   "metadata": {
    "hidden": true
   },
   "source": [
    "Here, we are probably satisfied with the clustering results. But in general we might want to have a more quantitative evaluation. How about comparing our cluster labels with the ground truth we got when generating the blobs?"
   ]
  },
  {
   "cell_type": "code",
   "execution_count": null,
   "metadata": {
    "hidden": true
   },
   "outputs": [],
   "source": [
    "print('Accuracy score:', accuracy_score(y, labels))\n",
    "print(confusion_matrix(y, labels))"
   ]
  },
  {
   "cell_type": "code",
   "execution_count": null,
   "metadata": {
    "hidden": true
   },
   "outputs": [],
   "source": [
    "np.mean(y == labels)"
   ]
  },
  {
   "cell_type": "markdown",
   "metadata": {
    "hidden": true
   },
   "source": [
    "Even though we recovered the partitioning of the data into clusters perfectly, the cluster IDs we assigned were arbitrary,\n",
    "and we can not hope to recover them. Therefore, we must use a different scoring metric, such as ``adjusted_rand_score``, which is invariant to permutations of the labels:"
   ]
  },
  {
   "cell_type": "code",
   "execution_count": null,
   "metadata": {
    "hidden": true
   },
   "outputs": [],
   "source": [
    "from sklearn.metrics import adjusted_rand_score\n",
    "\n",
    "adjusted_rand_score(y, labels)"
   ]
  },
  {
   "cell_type": "markdown",
   "metadata": {
    "hidden": true
   },
   "source": [
    "One of the \"short-comings\" of K-means is that we have to specify the number of clusters, which we often don't know *apriori*. For example, let's have a look what happens if we set the number of clusters to 2 in our synthetic 3-blob dataset:"
   ]
  },
  {
   "cell_type": "code",
   "execution_count": null,
   "metadata": {
    "hidden": true
   },
   "outputs": [],
   "source": [
    "kmeans = KMeans(n_clusters=2, random_state=42)\n",
    "labels = kmeans.fit_predict(X)\n",
    "plt.scatter(X[:, 0], X[:, 1], c=labels);"
   ]
  },
  {
   "cell_type": "markdown",
   "metadata": {
    "heading_collapsed": true
   },
   "source": [
    "## 5.7.3 The Elbow Method"
   ]
  },
  {
   "cell_type": "markdown",
   "metadata": {
    "hidden": true
   },
   "source": [
    "The Elbow method is a \"rule-of-thumb\" approach to finding the optimal number of clusters. This is done by gradually increasing the number of means (i.e. 'k') and measuring the 'inertia' = the within cluster sum of squares. As soon as this function bottoms out it is reasonably sure that the optimal number for 'k' has been reached. \n",
    "\n",
    "\n",
    "Here, we look at the cluster dispersion for different values of k:"
   ]
  },
  {
   "cell_type": "code",
   "execution_count": null,
   "metadata": {
    "hidden": true
   },
   "outputs": [],
   "source": [
    "distortions = []\n",
    "for i in range(1, 11):\n",
    "    km = KMeans(n_clusters=i, \n",
    "                random_state=0)\n",
    "    km.fit(X)\n",
    "    distortions.append(km.inertia_)\n",
    "    \n",
    "plt.plot(range(1, 11), distortions, marker='o')\n",
    "plt.xlabel('Number of clusters')\n",
    "plt.ylabel('Distortion')\n",
    "\n",
    "plt.show()"
   ]
  },
  {
   "cell_type": "markdown",
   "metadata": {
    "hidden": true
   },
   "source": [
    "Then, we pick the value that resembles the \"pit of an elbow.\" As we can see, this would be k=3 in this case, which makes sense given our visual expection of the dataset previously."
   ]
  },
  {
   "cell_type": "markdown",
   "metadata": {
    "heading_collapsed": true
   },
   "source": [
    "## 5.7.4 Pitfalls"
   ]
  },
  {
   "cell_type": "markdown",
   "metadata": {
    "hidden": true
   },
   "source": [
    "**Clustering comes with assumptions**: A clustering algorithm finds clusters by making assumptions with samples should be grouped together. Each algorithm makes different assumptions and the quality and interpretability of your results will depend on whether the assumptions are satisfied for your goal. For K-means clustering, the model is that all clusters have equal, spherical variance.\n",
    "\n",
    "**In general, there is no guarantee that structure found by a clustering algorithm has anything to do with what you were interested in**.\n"
   ]
  },
  {
   "cell_type": "markdown",
   "metadata": {
    "hidden": true
   },
   "source": [
    "We can easily create a dataset that has non-isotropic clusters (i.e. the clusters are not directly related to the independent variables you have at hand to describe the data), on which kmeans will fail:"
   ]
  },
  {
   "cell_type": "code",
   "execution_count": null,
   "metadata": {
    "hidden": true
   },
   "outputs": [],
   "source": [
    "from sklearn.datasets import make_blobs\n",
    "\n",
    "X, y = make_blobs(random_state=170, n_samples=600)\n",
    "rng = np.random.RandomState(74)\n",
    "\n",
    "transformation = rng.normal(size=(2, 2))\n",
    "X = np.dot(X, transformation)\n",
    "\n",
    "y_pred = KMeans(n_clusters=3).fit_predict(X)\n",
    "\n",
    "plt.scatter(X[:, 0], X[:, 1], c=y_pred)"
   ]
  },
  {
   "cell_type": "markdown",
   "metadata": {},
   "source": [
    "## 5.7.5 Task 5: Salary"
   ]
  },
  {
   "cell_type": "markdown",
   "metadata": {},
   "source": [
    "Load the datafile 'salary_hours.csv'. It contains data of daily average working hours and their salary. \n",
    "- Look at the data, make a scatter plot\n",
    "- Without any data manipulation, cluster the data. How many clusters will you make? Why?\n",
    "- Evaluate your model\n",
    "- Standardize your data, cluster the data again.\n",
    "- What changed? Why?\n",
    "- How do you interpret your result?"
   ]
  },
  {
   "cell_type": "markdown",
   "metadata": {},
   "source": [
    "## 5.7.6 Solution"
   ]
  },
  {
   "cell_type": "code",
   "execution_count": 2,
   "metadata": {},
   "outputs": [],
   "source": [
    "salary_df = pd.read_csv('data/salary_hours.csv', index_col=0)"
   ]
  },
  {
   "cell_type": "code",
   "execution_count": 3,
   "metadata": {},
   "outputs": [
    {
     "data": {
      "text/html": [
       "<div>\n",
       "<style scoped>\n",
       "    .dataframe tbody tr th:only-of-type {\n",
       "        vertical-align: middle;\n",
       "    }\n",
       "\n",
       "    .dataframe tbody tr th {\n",
       "        vertical-align: top;\n",
       "    }\n",
       "\n",
       "    .dataframe thead th {\n",
       "        text-align: right;\n",
       "    }\n",
       "</style>\n",
       "<table border=\"1\" class=\"dataframe\">\n",
       "  <thead>\n",
       "    <tr style=\"text-align: right;\">\n",
       "      <th></th>\n",
       "      <th>salarys</th>\n",
       "      <th>hours</th>\n",
       "    </tr>\n",
       "  </thead>\n",
       "  <tbody>\n",
       "    <tr>\n",
       "      <th>8</th>\n",
       "      <td>1740.898609</td>\n",
       "      <td>10.354322</td>\n",
       "    </tr>\n",
       "    <tr>\n",
       "      <th>96</th>\n",
       "      <td>1729.828777</td>\n",
       "      <td>6.881655</td>\n",
       "    </tr>\n",
       "  </tbody>\n",
       "</table>\n",
       "</div>"
      ],
      "text/plain": [
       "        salarys      hours\n",
       "8   1740.898609  10.354322\n",
       "96  1729.828777   6.881655"
      ]
     },
     "execution_count": 3,
     "metadata": {},
     "output_type": "execute_result"
    }
   ],
   "source": [
    "salary_df.sample(2)"
   ]
  },
  {
   "cell_type": "code",
   "execution_count": 4,
   "metadata": {},
   "outputs": [
    {
     "data": {
      "text/plain": [
       "<seaborn.axisgrid.FacetGrid at 0x117c3ac88>"
      ]
     },
     "execution_count": 4,
     "metadata": {},
     "output_type": "execute_result"
    },
    {
     "data": {
      "image/png": "[encoded data removed]",
      "text/plain": [
       "<Figure size 360x360 with 1 Axes>"
      ]
     },
     "metadata": {
      "needs_background": "light"
     },
     "output_type": "display_data"
    }
   ],
   "source": [
    "sns.lmplot('hours', 'salarys', data=salary_df)"
   ]
  },
  {
   "cell_type": "code",
   "execution_count": 5,
   "metadata": {},
   "outputs": [],
   "source": [
    "# Going to make 4 clusters\n",
    "myKmeans = KMeans(n_clusters=4, random_state=42)"
   ]
  },
  {
   "cell_type": "code",
   "execution_count": 6,
   "metadata": {},
   "outputs": [
    {
     "data": {
      "text/plain": [
       "KMeans(algorithm='auto', copy_x=True, init='k-means++', max_iter=300,\n",
       "    n_clusters=4, n_init=10, n_jobs=None, precompute_distances='auto',\n",
       "    random_state=42, tol=0.0001, verbose=0)"
      ]
     },
     "execution_count": 6,
     "metadata": {},
     "output_type": "execute_result"
    }
   ],
   "source": [
    "myKmeans.fit(np.array(salary_df))"
   ]
  },
  {
   "cell_type": "code",
   "execution_count": 7,
   "metadata": {},
   "outputs": [
    {
     "data": {
      "text/plain": [
       "array([1, 1, 1, 1, 1, 1, 1, 1, 1, 1, 1, 1, 1, 1, 1, 1, 1, 1, 1, 1, 1, 1,\n",
       "       1, 1, 1, 1, 1, 1, 1, 1, 1, 1, 1, 1, 1, 1, 1, 1, 1, 1, 3, 3, 3, 1,\n",
       "       3, 3, 3, 3, 3, 1, 3, 3, 3, 1, 3, 3, 3, 3, 3, 3, 3, 3, 3, 1, 3, 1,\n",
       "       3, 3, 3, 3, 3, 3, 3, 3, 3, 3, 1, 1, 3, 3, 3, 1, 1, 1, 1, 1, 1, 1,\n",
       "       3, 3, 3, 1, 3, 3, 1, 1, 3, 3, 3, 3, 0, 0, 0, 0, 0, 0, 0, 0, 0, 0,\n",
       "       0, 0, 0, 0, 0, 0, 0, 0, 0, 0, 0, 0, 0, 0, 0, 0, 0, 0, 0, 0, 0, 0,\n",
       "       0, 0, 0, 0, 0, 0, 0, 0, 0, 0, 0, 0, 0, 0, 0, 0, 0, 2, 2, 2, 2, 2,\n",
       "       2, 2, 2, 2, 2, 2, 2, 2, 2, 2, 2, 2, 2, 2, 2, 2, 2, 2, 2, 2, 2, 2,\n",
       "       2, 2, 2, 2, 2, 2, 2, 2, 2, 2, 2, 2, 2, 2, 2, 2, 2, 2, 2, 2, 2, 2,\n",
       "       2, 2], dtype=int32)"
      ]
     },
     "execution_count": 7,
     "metadata": {},
     "output_type": "execute_result"
    }
   ],
   "source": [
    "myKmeans.labels_"
   ]
  },
  {
   "cell_type": "code",
   "execution_count": 8,
   "metadata": {},
   "outputs": [
    {
     "data": {
      "image/png": "[encoded data removed]",
      "text/plain": [
       "<Figure size 432x288 with 1 Axes>"
      ]
     },
     "metadata": {
      "needs_background": "light"
     },
     "output_type": "display_data"
    }
   ],
   "source": [
    "plt.scatter(salary_df['hours'].values, salary_df['salarys'].values, c=myKmeans.labels_);"
   ]
  },
  {
   "cell_type": "code",
   "execution_count": 9,
   "metadata": {},
   "outputs": [],
   "source": [
    "from sklearn.preprocessing import StandardScaler\n",
    "salary_np = salary_df.values"
   ]
  },
  {
   "cell_type": "code",
   "execution_count": 10,
   "metadata": {},
   "outputs": [],
   "source": [
    "mySS = StandardScaler()"
   ]
  },
  {
   "cell_type": "code",
   "execution_count": 11,
   "metadata": {},
   "outputs": [],
   "source": [
    "salary_std_np = mySS.fit_transform(salary_np)"
   ]
  },
  {
   "cell_type": "code",
   "execution_count": 12,
   "metadata": {},
   "outputs": [
    {
     "data": {
      "text/plain": [
       "array([[-0.70172903,  0.46724735],\n",
       "       [-0.66131754,  0.86530512],\n",
       "       [-0.7747715 ,  0.6304226 ],\n",
       "       [-0.76893139,  1.30940197],\n",
       "       [-0.66294752,  1.00385976],\n",
       "       [-0.76203998,  0.59814315],\n",
       "       [-0.61870733,  0.65419492],\n",
       "       [-0.55919821,  1.17905949],\n",
       "       [-0.63099156,  0.49711031],\n",
       "       [-0.45887597,  0.46629773],\n",
       "       [-0.60196876,  0.43280329],\n",
       "       [-0.80164753, -0.11021465],\n",
       "       [-0.69052729,  0.63123502],\n",
       "       [-0.84821372,  0.17301325],\n",
       "       [-0.6110815 ,  0.49689157],\n",
       "       [-0.53839688,  0.02271078],\n",
       "       [-0.8200008 ,  0.67771612],\n",
       "       [-0.7344853 ,  0.58133421],\n",
       "       [-0.73436157,  0.98247161],\n",
       "       [-0.7257848 ,  1.4139371 ],\n",
       "       [-0.80856052,  0.93394319],\n",
       "       [-0.58150157,  0.60555775],\n",
       "       [-0.76751653,  0.33746703],\n",
       "       [-0.72005183,  0.81493422],\n",
       "       [-0.82290566,  0.35450557],\n",
       "       [-0.77989608,  0.87700241],\n",
       "       [-0.74758192,  0.92249212],\n",
       "       [-0.85509095,  0.93592725],\n",
       "       [-0.61744893,  1.34517154],\n",
       "       [-0.7886696 ,  0.66852668],\n",
       "       [-0.66226859,  0.55588308],\n",
       "       [-0.62735695,  0.45633073],\n",
       "       [-0.7421552 ,  0.22679927],\n",
       "       [-0.61733036,  0.41800085],\n",
       "       [-0.67589843,  0.75411763],\n",
       "       [-0.74621864,  0.37097897],\n",
       "       [-0.72519087,  0.30654783],\n",
       "       [-0.83226937,  0.83457559],\n",
       "       [-0.74254666,  0.92157528],\n",
       "       [-0.85635438,  0.57247768],\n",
       "       [-1.27481249, -0.82477235],\n",
       "       [-1.1306105 , -1.3100019 ],\n",
       "       [-1.20753809, -1.4236403 ],\n",
       "       [-0.76489025, -1.18806908],\n",
       "       [-1.1450335 , -1.05491145],\n",
       "       [-1.14895322, -0.79363854],\n",
       "       [-1.08893053, -0.38893857],\n",
       "       [-0.99466112, -1.88588608],\n",
       "       [-1.12328911, -1.19998069],\n",
       "       [-0.83279857, -1.63653864],\n",
       "       [-1.1959749 , -1.21832879],\n",
       "       [-1.02095012, -1.58223755],\n",
       "       [-1.04520571, -1.49310344],\n",
       "       [-0.90926475, -1.27724548],\n",
       "       [-1.00680991, -1.09123667],\n",
       "       [-0.96638773, -1.78366854],\n",
       "       [-1.009337  , -1.08588792],\n",
       "       [-1.03199587, -1.35519093],\n",
       "       [-0.97877778, -1.72417516],\n",
       "       [-1.27967158, -1.13678068],\n",
       "       [-1.00901418, -0.94159157],\n",
       "       [-1.0103784 , -1.20589115],\n",
       "       [-0.92323696, -1.98282513],\n",
       "       [-0.86094444, -1.20722358],\n",
       "       [-0.97167861, -1.86508621],\n",
       "       [-0.82799584, -2.01779352],\n",
       "       [-1.33862297, -1.63282126],\n",
       "       [-1.10094779, -2.20627721],\n",
       "       [-1.03598739, -1.29456306],\n",
       "       [-0.95193161, -2.00145488],\n",
       "       [-1.4540422 , -1.14692855],\n",
       "       [-1.0030501 , -1.23347729],\n",
       "       [-0.96598609, -1.92099474],\n",
       "       [-1.09737647, -1.23577055],\n",
       "       [-1.22096657, -1.2188491 ],\n",
       "       [-1.25759508, -0.81280557],\n",
       "       [-0.88217622, -1.55778668],\n",
       "       [-0.90906675, -1.11821119],\n",
       "       [-1.04287404, -1.24292396],\n",
       "       [-0.93267517, -1.20721358],\n",
       "       [-0.932499  , -1.92567347],\n",
       "       [-0.80692878, -0.72716259],\n",
       "       [-0.88507646, -1.31107761],\n",
       "       [-0.8757593 , -1.37864185],\n",
       "       [-0.88352181, -1.29240259],\n",
       "       [-0.90109311, -1.69419377],\n",
       "       [-0.87800979, -1.68037332],\n",
       "       [-0.84179309, -1.27784994],\n",
       "       [-1.04313227, -1.76774102],\n",
       "       [-1.01180743, -0.89071858],\n",
       "       [-1.06385549, -1.32023852],\n",
       "       [-0.85993133, -0.85334951],\n",
       "       [-0.98428363, -1.14636722],\n",
       "       [-1.28402356, -1.36864746],\n",
       "       [-0.90950384, -1.04134483],\n",
       "       [-0.59556287, -1.35102266],\n",
       "       [-1.02458883, -0.87876858],\n",
       "       [-1.13756181, -0.88095988],\n",
       "       [-1.22709338, -1.05973016],\n",
       "       [-0.97356622, -1.4401403 ],\n",
       "       [ 0.22454492, -0.14858119],\n",
       "       [ 0.24783784,  0.37841531],\n",
       "       [ 0.28838998,  0.19017833],\n",
       "       [ 0.39469585,  0.56358429],\n",
       "       [ 0.35412635,  0.32553861],\n",
       "       [ 0.36178285,  0.42589928],\n",
       "       [ 0.1100694 ,  0.284672  ],\n",
       "       [ 0.29913529,  0.11620526],\n",
       "       [ 0.3392028 ,  0.23994731],\n",
       "       [ 0.28876302,  0.10996318],\n",
       "       [ 0.51551851, -0.21199361],\n",
       "       [ 0.37077857,  0.23280129],\n",
       "       [ 0.15729512, -0.01063883],\n",
       "       [ 0.19977166, -0.2850139 ],\n",
       "       [ 0.39593098,  0.34272223],\n",
       "       [ 0.18149123, -0.02244208],\n",
       "       [ 0.25782354,  0.07033465],\n",
       "       [ 0.38421073,  0.14648412],\n",
       "       [ 0.27239042,  0.17929994],\n",
       "       [ 0.22737258,  0.28210318],\n",
       "       [ 0.39674525,  0.37959283],\n",
       "       [ 0.41483168,  0.07301241],\n",
       "       [ 0.29962606,  0.35043699],\n",
       "       [ 0.20848865,  0.87913507],\n",
       "       [ 0.34906303,  0.43779807],\n",
       "       [ 0.33421658,  0.12007397],\n",
       "       [ 0.18058121,  0.32324233],\n",
       "       [ 0.37330235,  0.42231719],\n",
       "       [ 0.33360719, -0.09041434],\n",
       "       [ 0.20232035,  0.43446623],\n",
       "       [ 0.31219082,  0.28626104],\n",
       "       [ 0.18619964,  0.12006146],\n",
       "       [ 0.20507334,  0.14466535],\n",
       "       [ 0.25267349, -0.21232881],\n",
       "       [ 0.12584282,  0.00595941],\n",
       "       [ 0.33576859,  0.01370685],\n",
       "       [ 0.36289462,  0.55467311],\n",
       "       [ 0.17688536,  0.20021911],\n",
       "       [ 0.26852638,  0.14445853],\n",
       "       [ 0.45308075,  0.06073356],\n",
       "       [ 0.21076439,  0.42548668],\n",
       "       [ 0.20632371,  0.07561546],\n",
       "       [ 0.22606591,  0.3936931 ],\n",
       "       [ 0.5077112 , -0.02471804],\n",
       "       [ 0.2068039 ,  0.38430854],\n",
       "       [ 0.2143943 ,  0.59312958],\n",
       "       [ 0.34279858,  0.15049684],\n",
       "       [ 0.71307879,  0.23016235],\n",
       "       [ 0.41603005,  0.08102331],\n",
       "       [ 1.50191659,  0.23746596],\n",
       "       [ 1.48970883,  0.9602031 ],\n",
       "       [ 1.41865532,  1.14886722],\n",
       "       [ 1.03847331,  1.48292838],\n",
       "       [ 1.64612038,  0.17689607],\n",
       "       [ 1.46496376, -0.15808242],\n",
       "       [ 1.46187592,  0.53265223],\n",
       "       [ 1.4811876 ,  0.31577929],\n",
       "       [ 1.38631421,  0.58238102],\n",
       "       [ 1.33402567,  1.87646624],\n",
       "       [ 1.56352946,  0.65047105],\n",
       "       [ 1.35947701,  0.89574405],\n",
       "       [ 1.44519251,  0.27104195],\n",
       "       [ 1.37470343, -0.08927964],\n",
       "       [ 1.84593872,  1.44578287],\n",
       "       [ 1.24469077,  1.00454071],\n",
       "       [ 1.65153896,  1.78525472],\n",
       "       [ 1.1819946 ,  1.77385268],\n",
       "       [ 1.36687073, -0.4834442 ],\n",
       "       [ 1.58095305,  1.83127467],\n",
       "       [ 1.36315574,  0.72228963],\n",
       "       [ 1.36272873, -0.42886256],\n",
       "       [ 1.52231942,  0.64882668],\n",
       "       [ 1.40210027, -0.56568285],\n",
       "       [ 1.41207958,  2.28494419],\n",
       "       [ 1.62073553,  1.05482788],\n",
       "       [ 1.72652486,  0.01152727],\n",
       "       [ 1.59598274,  1.39310882],\n",
       "       [ 1.31398506,  1.15357687],\n",
       "       [ 1.36343078,  0.18522145],\n",
       "       [ 1.53949613,  1.11074941],\n",
       "       [ 1.50507928,  0.14379022],\n",
       "       [ 1.4716605 ,  0.77736365],\n",
       "       [ 1.74783813,  1.0455606 ],\n",
       "       [ 1.52892825,  1.86299761],\n",
       "       [ 1.71154813,  0.48943643],\n",
       "       [ 1.47665576,  0.9824545 ],\n",
       "       [ 1.40660287,  1.50086017],\n",
       "       [ 1.385655  ,  1.67430368],\n",
       "       [ 1.40451792,  0.67827285],\n",
       "       [ 1.2734291 ,  1.6640099 ],\n",
       "       [ 1.43521924,  0.7597733 ],\n",
       "       [ 1.54039049,  0.4176304 ],\n",
       "       [ 1.37732643,  1.13683727],\n",
       "       [ 1.4473404 ,  0.40525353],\n",
       "       [ 1.43302504,  0.71423644],\n",
       "       [ 1.44585949,  1.43147303],\n",
       "       [ 1.35231935,  0.65719069],\n",
       "       [ 1.55669517,  1.63389088],\n",
       "       [ 1.4616426 ,  0.78126614],\n",
       "       [ 1.78539947,  0.87069845]])"
      ]
     },
     "execution_count": 12,
     "metadata": {},
     "output_type": "execute_result"
    }
   ],
   "source": [
    "salary_std_np"
   ]
  },
  {
   "cell_type": "code",
   "execution_count": 13,
   "metadata": {},
   "outputs": [
    {
     "data": {
      "image/png": "[encoded data removed]",
      "text/plain": [
       "<Figure size 432x288 with 1 Axes>"
      ]
     },
     "metadata": {
      "needs_background": "light"
     },
     "output_type": "display_data"
    }
   ],
   "source": [
    "plt.scatter(salary_std_np[:, 1], salary_std_np[:, 0]);"
   ]
  },
  {
   "cell_type": "code",
   "execution_count": 14,
   "metadata": {},
   "outputs": [
    {
     "data": {
      "text/plain": [
       "KMeans(algorithm='auto', copy_x=True, init='k-means++', max_iter=300,\n",
       "    n_clusters=4, n_init=10, n_jobs=None, precompute_distances='auto',\n",
       "    random_state=42, tol=0.0001, verbose=0)"
      ]
     },
     "execution_count": 14,
     "metadata": {},
     "output_type": "execute_result"
    }
   ],
   "source": [
    "# Going to fit this to the standardized data\n",
    "myKmeans.fit(salary_std_np)"
   ]
  },
  {
   "cell_type": "code",
   "execution_count": 15,
   "metadata": {},
   "outputs": [
    {
     "data": {
      "image/png": "[encoded data removed]",
      "text/plain": [
       "<Figure size 432x288 with 1 Axes>"
      ]
     },
     "metadata": {
      "needs_background": "light"
     },
     "output_type": "display_data"
    }
   ],
   "source": [
    "plt.scatter(salary_std_np[:, 1], salary_std_np[:, 0], c=myKmeans.labels_);"
   ]
  },
  {
   "cell_type": "code",
   "execution_count": 16,
   "metadata": {},
   "outputs": [
    {
     "data": {
      "image/png": "[encoded data removed]",
      "text/plain": [
       "<Figure size 432x288 with 1 Axes>"
      ]
     },
     "metadata": {
      "needs_background": "light"
     },
     "output_type": "display_data"
    }
   ],
   "source": [
    "plt.scatter(salary_df['hours'].values, salary_df['salarys'].values, c=myKmeans.labels_);"
   ]
  },
  {
   "cell_type": "markdown",
   "metadata": {},
   "source": [
    "The result is a more **variable independent** clustering, in the first chart it was clear that the clustering algorithm judged the horizontal distance of points to be of less value than the vertical distance, hence the substantial number of points that were misclassified in the lower left kwadrant. "
   ]
  },
  {
   "cell_type": "code",
   "execution_count": null,
   "metadata": {},
   "outputs": [],
   "source": []
  }
 ],
 "metadata": {
  "kernelspec": {
   "display_name": "Python 3",
   "language": "python",
   "name": "python3"
  },
  "language_info": {
   "codemirror_mode": {
    "name": "ipython",
    "version": 3
   },
   "file_extension": ".py",
   "mimetype": "text/x-python",
   "name": "python",
   "nbconvert_exporter": "python",
   "pygments_lexer": "ipython3",
   "version": "3.6.7"
  },
  "toc": {
   "base_numbering": 1,
   "nav_menu": {},
   "number_sections": true,
   "sideBar": true,
   "skip_h1_title": false,
   "title_cell": "Table of Contents",
   "title_sidebar": "Contents",
   "toc_cell": false,
   "toc_position": {},
   "toc_section_display": true,
   "toc_window_display": false
  }
 },
 "nbformat": 4,
 "nbformat_minor": 2
}
