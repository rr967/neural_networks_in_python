{
 "cells": [
  {
   "cell_type": "code",
   "execution_count": 2,
   "metadata": {},
   "outputs": [],
   "source": [
    "import numpy as np\n",
    "import pandas as pd\n",
    "import matplotlib.pyplot as plt\n",
    "import matplotlib.mlab as mlab\n",
    "import seaborn as sns\n",
    "from scipy import stats\n",
    "import math\n",
    "import os\n",
    "from sklearn.linear_model import LinearRegression\n",
    "folder = os.getcwd() + '/'"
   ]
  },
  {
   "cell_type": "markdown",
   "metadata": {},
   "source": [
    "# 4.3 ANOVA - solution"
   ]
  },
  {
   "cell_type": "markdown",
   "metadata": {},
   "source": [
    "## 4.3.1 Task 3"
   ]
  },
  {
   "cell_type": "markdown",
   "metadata": {},
   "source": [
    "Open the data file traffic_duration.csv. It contains data concerning how people travel to their work, what browser they use and how long they commute. \n",
    "- Does the way people commute explain the time they commute. Construct this model and comment.\n",
    "- Does the browser people use explain the time they commute. Construct this model and comment.\n",
    "- Which of the two models is the best?"
   ]
  },
  {
   "cell_type": "markdown",
   "metadata": {},
   "source": [
    "## 4.3.2 Solution"
   ]
  },
  {
   "cell_type": "markdown",
   "metadata": {},
   "source": [
    "### 4.3.2.1 Import data and take a first look"
   ]
  },
  {
   "cell_type": "code",
   "execution_count": 3,
   "metadata": {},
   "outputs": [],
   "source": [
    "traffic = pd.read_csv(folder + 'data/traffic_duration.csv', index_col = 0)"
   ]
  },
  {
   "cell_type": "code",
   "execution_count": 6,
   "metadata": {},
   "outputs": [
    {
     "data": {
      "text/html": [
       "<div>\n",
       "<style scoped>\n",
       "    .dataframe tbody tr th:only-of-type {\n",
       "        vertical-align: middle;\n",
       "    }\n",
       "\n",
       "    .dataframe tbody tr th {\n",
       "        vertical-align: top;\n",
       "    }\n",
       "\n",
       "    .dataframe thead th {\n",
       "        text-align: right;\n",
       "    }\n",
       "</style>\n",
       "<table border=\"1\" class=\"dataframe\">\n",
       "  <thead>\n",
       "    <tr style=\"text-align: right;\">\n",
       "      <th></th>\n",
       "      <th>minutes</th>\n",
       "      <th>trans</th>\n",
       "      <th>browser</th>\n",
       "    </tr>\n",
       "  </thead>\n",
       "  <tbody>\n",
       "    <tr>\n",
       "      <th>370</th>\n",
       "      <td>82.246642</td>\n",
       "      <td>bike/foot</td>\n",
       "      <td>edge</td>\n",
       "    </tr>\n",
       "    <tr>\n",
       "      <th>175</th>\n",
       "      <td>68.752895</td>\n",
       "      <td>car</td>\n",
       "      <td>edge</td>\n",
       "    </tr>\n",
       "    <tr>\n",
       "      <th>253</th>\n",
       "      <td>65.193069</td>\n",
       "      <td>car</td>\n",
       "      <td>chrome</td>\n",
       "    </tr>\n",
       "    <tr>\n",
       "      <th>70</th>\n",
       "      <td>62.334344</td>\n",
       "      <td>public transport</td>\n",
       "      <td>safari</td>\n",
       "    </tr>\n",
       "    <tr>\n",
       "      <th>107</th>\n",
       "      <td>64.443533</td>\n",
       "      <td>public transport</td>\n",
       "      <td>safari</td>\n",
       "    </tr>\n",
       "    <tr>\n",
       "      <th>247</th>\n",
       "      <td>68.472645</td>\n",
       "      <td>public transport</td>\n",
       "      <td>edge</td>\n",
       "    </tr>\n",
       "    <tr>\n",
       "      <th>494</th>\n",
       "      <td>50.358795</td>\n",
       "      <td>bike/foot</td>\n",
       "      <td>safari</td>\n",
       "    </tr>\n",
       "    <tr>\n",
       "      <th>7</th>\n",
       "      <td>80.496645</td>\n",
       "      <td>car</td>\n",
       "      <td>safari</td>\n",
       "    </tr>\n",
       "    <tr>\n",
       "      <th>208</th>\n",
       "      <td>67.298564</td>\n",
       "      <td>public transport</td>\n",
       "      <td>edge</td>\n",
       "    </tr>\n",
       "    <tr>\n",
       "      <th>431</th>\n",
       "      <td>54.398089</td>\n",
       "      <td>car</td>\n",
       "      <td>chrome</td>\n",
       "    </tr>\n",
       "    <tr>\n",
       "      <th>467</th>\n",
       "      <td>38.513258</td>\n",
       "      <td>bike/foot</td>\n",
       "      <td>edge</td>\n",
       "    </tr>\n",
       "    <tr>\n",
       "      <th>508</th>\n",
       "      <td>78.520045</td>\n",
       "      <td>car</td>\n",
       "      <td>edge</td>\n",
       "    </tr>\n",
       "    <tr>\n",
       "      <th>84</th>\n",
       "      <td>72.939784</td>\n",
       "      <td>car</td>\n",
       "      <td>chrome</td>\n",
       "    </tr>\n",
       "    <tr>\n",
       "      <th>336</th>\n",
       "      <td>79.315934</td>\n",
       "      <td>car</td>\n",
       "      <td>chrome</td>\n",
       "    </tr>\n",
       "    <tr>\n",
       "      <th>351</th>\n",
       "      <td>65.439858</td>\n",
       "      <td>car</td>\n",
       "      <td>chrome</td>\n",
       "    </tr>\n",
       "    <tr>\n",
       "      <th>258</th>\n",
       "      <td>61.561614</td>\n",
       "      <td>public transport</td>\n",
       "      <td>edge</td>\n",
       "    </tr>\n",
       "    <tr>\n",
       "      <th>485</th>\n",
       "      <td>68.333376</td>\n",
       "      <td>public transport</td>\n",
       "      <td>edge</td>\n",
       "    </tr>\n",
       "    <tr>\n",
       "      <th>262</th>\n",
       "      <td>89.784890</td>\n",
       "      <td>bike/foot</td>\n",
       "      <td>safari</td>\n",
       "    </tr>\n",
       "    <tr>\n",
       "      <th>484</th>\n",
       "      <td>71.991483</td>\n",
       "      <td>public transport</td>\n",
       "      <td>edge</td>\n",
       "    </tr>\n",
       "    <tr>\n",
       "      <th>276</th>\n",
       "      <td>49.169308</td>\n",
       "      <td>bike/foot</td>\n",
       "      <td>chrome</td>\n",
       "    </tr>\n",
       "    <tr>\n",
       "      <th>493</th>\n",
       "      <td>56.983677</td>\n",
       "      <td>bike/foot</td>\n",
       "      <td>safari</td>\n",
       "    </tr>\n",
       "    <tr>\n",
       "      <th>145</th>\n",
       "      <td>60.778240</td>\n",
       "      <td>public transport</td>\n",
       "      <td>chrome</td>\n",
       "    </tr>\n",
       "    <tr>\n",
       "      <th>388</th>\n",
       "      <td>49.376398</td>\n",
       "      <td>public transport</td>\n",
       "      <td>chrome</td>\n",
       "    </tr>\n",
       "    <tr>\n",
       "      <th>439</th>\n",
       "      <td>56.726844</td>\n",
       "      <td>bike/foot</td>\n",
       "      <td>chrome</td>\n",
       "    </tr>\n",
       "    <tr>\n",
       "      <th>242</th>\n",
       "      <td>50.816533</td>\n",
       "      <td>bike/foot</td>\n",
       "      <td>safari</td>\n",
       "    </tr>\n",
       "    <tr>\n",
       "      <th>473</th>\n",
       "      <td>66.874536</td>\n",
       "      <td>public transport</td>\n",
       "      <td>chrome</td>\n",
       "    </tr>\n",
       "    <tr>\n",
       "      <th>271</th>\n",
       "      <td>60.686910</td>\n",
       "      <td>public transport</td>\n",
       "      <td>edge</td>\n",
       "    </tr>\n",
       "    <tr>\n",
       "      <th>198</th>\n",
       "      <td>71.138749</td>\n",
       "      <td>car</td>\n",
       "      <td>edge</td>\n",
       "    </tr>\n",
       "    <tr>\n",
       "      <th>20</th>\n",
       "      <td>51.370951</td>\n",
       "      <td>bike/foot</td>\n",
       "      <td>edge</td>\n",
       "    </tr>\n",
       "    <tr>\n",
       "      <th>377</th>\n",
       "      <td>73.466453</td>\n",
       "      <td>car</td>\n",
       "      <td>edge</td>\n",
       "    </tr>\n",
       "  </tbody>\n",
       "</table>\n",
       "</div>"
      ],
      "text/plain": [
       "       minutes             trans browser\n",
       "370  82.246642         bike/foot    edge\n",
       "175  68.752895               car    edge\n",
       "253  65.193069               car  chrome\n",
       "70   62.334344  public transport  safari\n",
       "107  64.443533  public transport  safari\n",
       "247  68.472645  public transport    edge\n",
       "494  50.358795         bike/foot  safari\n",
       "7    80.496645               car  safari\n",
       "208  67.298564  public transport    edge\n",
       "431  54.398089               car  chrome\n",
       "467  38.513258         bike/foot    edge\n",
       "508  78.520045               car    edge\n",
       "84   72.939784               car  chrome\n",
       "336  79.315934               car  chrome\n",
       "351  65.439858               car  chrome\n",
       "258  61.561614  public transport    edge\n",
       "485  68.333376  public transport    edge\n",
       "262  89.784890         bike/foot  safari\n",
       "484  71.991483  public transport    edge\n",
       "276  49.169308         bike/foot  chrome\n",
       "493  56.983677         bike/foot  safari\n",
       "145  60.778240  public transport  chrome\n",
       "388  49.376398  public transport  chrome\n",
       "439  56.726844         bike/foot  chrome\n",
       "242  50.816533         bike/foot  safari\n",
       "473  66.874536  public transport  chrome\n",
       "271  60.686910  public transport    edge\n",
       "198  71.138749               car    edge\n",
       "20   51.370951         bike/foot    edge\n",
       "377  73.466453               car    edge"
      ]
     },
     "execution_count": 6,
     "metadata": {},
     "output_type": "execute_result"
    }
   ],
   "source": [
    "traffic.sample(30)"
   ]
  },
  {
   "cell_type": "code",
   "execution_count": 7,
   "metadata": {},
   "outputs": [
    {
     "name": "stdout",
     "output_type": "stream",
     "text": [
      "<class 'pandas.core.frame.DataFrame'>\n",
      "Int64Index: 521 entries, 1 to 521\n",
      "Data columns (total 3 columns):\n",
      "minutes    521 non-null float64\n",
      "trans      521 non-null object\n",
      "browser    521 non-null object\n",
      "dtypes: float64(1), object(2)\n",
      "memory usage: 16.3+ KB\n"
     ]
    }
   ],
   "source": [
    "traffic.info()"
   ]
  },
  {
   "cell_type": "code",
   "execution_count": 8,
   "metadata": {},
   "outputs": [
    {
     "data": {
      "text/html": [
       "<div>\n",
       "<style scoped>\n",
       "    .dataframe tbody tr th:only-of-type {\n",
       "        vertical-align: middle;\n",
       "    }\n",
       "\n",
       "    .dataframe tbody tr th {\n",
       "        vertical-align: top;\n",
       "    }\n",
       "\n",
       "    .dataframe thead th {\n",
       "        text-align: right;\n",
       "    }\n",
       "</style>\n",
       "<table border=\"1\" class=\"dataframe\">\n",
       "  <thead>\n",
       "    <tr style=\"text-align: right;\">\n",
       "      <th></th>\n",
       "      <th>minutes</th>\n",
       "    </tr>\n",
       "  </thead>\n",
       "  <tbody>\n",
       "    <tr>\n",
       "      <th>count</th>\n",
       "      <td>521.000000</td>\n",
       "    </tr>\n",
       "    <tr>\n",
       "      <th>mean</th>\n",
       "      <td>64.268464</td>\n",
       "    </tr>\n",
       "    <tr>\n",
       "      <th>std</th>\n",
       "      <td>12.795750</td>\n",
       "    </tr>\n",
       "    <tr>\n",
       "      <th>min</th>\n",
       "      <td>29.442305</td>\n",
       "    </tr>\n",
       "    <tr>\n",
       "      <th>25%</th>\n",
       "      <td>54.398089</td>\n",
       "    </tr>\n",
       "    <tr>\n",
       "      <th>50%</th>\n",
       "      <td>64.873609</td>\n",
       "    </tr>\n",
       "    <tr>\n",
       "      <th>75%</th>\n",
       "      <td>73.338577</td>\n",
       "    </tr>\n",
       "    <tr>\n",
       "      <th>max</th>\n",
       "      <td>96.241976</td>\n",
       "    </tr>\n",
       "  </tbody>\n",
       "</table>\n",
       "</div>"
      ],
      "text/plain": [
       "          minutes\n",
       "count  521.000000\n",
       "mean    64.268464\n",
       "std     12.795750\n",
       "min     29.442305\n",
       "25%     54.398089\n",
       "50%     64.873609\n",
       "75%     73.338577\n",
       "max     96.241976"
      ]
     },
     "execution_count": 8,
     "metadata": {},
     "output_type": "execute_result"
    }
   ],
   "source": [
    "traffic.describe()"
   ]
  },
  {
   "cell_type": "code",
   "execution_count": 9,
   "metadata": {},
   "outputs": [
    {
     "data": {
      "text/plain": [
       "array(['bike/foot', 'car', 'public transport'], dtype=object)"
      ]
     },
     "execution_count": 9,
     "metadata": {},
     "output_type": "execute_result"
    }
   ],
   "source": [
    "traffic.trans.unique()"
   ]
  },
  {
   "cell_type": "code",
   "execution_count": 11,
   "metadata": {},
   "outputs": [
    {
     "data": {
      "text/plain": [
       "array(['safari', 'edge', 'chrome'], dtype=object)"
      ]
     },
     "execution_count": 11,
     "metadata": {},
     "output_type": "execute_result"
    }
   ],
   "source": [
    "traffic[\"browser\"].unique()"
   ]
  },
  {
   "cell_type": "code",
   "execution_count": 12,
   "metadata": {},
   "outputs": [
    {
     "data": {
      "text/plain": [
       "public transport    181\n",
       "bike/foot           174\n",
       "car                 166\n",
       "Name: trans, dtype: int64"
      ]
     },
     "execution_count": 12,
     "metadata": {},
     "output_type": "execute_result"
    }
   ],
   "source": [
    "traffic.trans.value_counts()"
   ]
  },
  {
   "cell_type": "code",
   "execution_count": 4,
   "metadata": {},
   "outputs": [
    {
     "data": {
      "text/plain": [
       "public transport    181\n",
       "bike/foot           174\n",
       "car                 166\n",
       "Name: trans, dtype: int64"
      ]
     },
     "execution_count": 4,
     "metadata": {},
     "output_type": "execute_result"
    }
   ],
   "source": [
    "traffic[\"trans\"].value_counts()"
   ]
  },
  {
   "cell_type": "code",
   "execution_count": 13,
   "metadata": {},
   "outputs": [
    {
     "data": {
      "text/plain": [
       "edge      200\n",
       "chrome    165\n",
       "safari    156\n",
       "Name: browser, dtype: int64"
      ]
     },
     "execution_count": 13,
     "metadata": {},
     "output_type": "execute_result"
    }
   ],
   "source": [
    "traffic[\"browser\"].value_counts()"
   ]
  },
  {
   "cell_type": "markdown",
   "metadata": {},
   "source": [
    "### 4.3.2.2 ANOVA"
   ]
  },
  {
   "cell_type": "markdown",
   "metadata": {},
   "source": [
    "#### Transport method"
   ]
  },
  {
   "cell_type": "code",
   "execution_count": 14,
   "metadata": {},
   "outputs": [],
   "source": [
    "#Does the way people commute explain the time they commute. Construct this model and comment.\n",
    "t_car = traffic.loc[traffic['trans'] == 'car'].minutes\n",
    "t_bikefoot = traffic.loc[traffic['trans'] == 'bike/foot'].minutes\n",
    "t_publictransport = traffic.loc[traffic['trans'] == 'public transport'].minutes"
   ]
  },
  {
   "cell_type": "code",
   "execution_count": 15,
   "metadata": {},
   "outputs": [
    {
     "name": "stdout",
     "output_type": "stream",
     "text": [
      "count    166.000000\n",
      "mean      71.112749\n",
      "std       11.467023\n",
      "min       43.385634\n",
      "25%       64.444283\n",
      "50%       71.886048\n",
      "75%       79.550364\n",
      "max       96.241976\n",
      "Name: minutes, dtype: float64\n",
      "count    174.000000\n",
      "mean      59.275814\n",
      "std       12.318387\n",
      "min       29.442305\n",
      "25%       50.431506\n",
      "50%       59.288879\n",
      "75%       67.972062\n",
      "max       89.784890\n",
      "Name: minutes, dtype: float64\n",
      "count    181.000000\n",
      "mean      62.790948\n",
      "std       11.710389\n",
      "min       32.183227\n",
      "25%       54.614259\n",
      "50%       62.813974\n",
      "75%       71.753704\n",
      "max       92.672345\n",
      "Name: minutes, dtype: float64\n"
     ]
    }
   ],
   "source": [
    "print(t_car.describe())\n",
    "print(t_bikefoot.describe())\n",
    "print(t_publictransport.describe())"
   ]
  },
  {
   "cell_type": "code",
   "execution_count": 16,
   "metadata": {},
   "outputs": [
    {
     "data": {
      "text/plain": [
       "<matplotlib.axes._subplots.AxesSubplot at 0x12547a7b8>"
      ]
     },
     "execution_count": 16,
     "metadata": {},
     "output_type": "execute_result"
    },
    {
     "data": {
      "image/png": "[encoded data removed]",
      "text/plain": [
       "<Figure size 432x288 with 1 Axes>"
      ]
     },
     "metadata": {
      "needs_background": "light"
     },
     "output_type": "display_data"
    }
   ],
   "source": [
    "sns.boxplot(y='minutes', x='trans', data=traffic)"
   ]
  },
  {
   "cell_type": "code",
   "execution_count": 17,
   "metadata": {},
   "outputs": [
    {
     "data": {
      "text/plain": [
       "F_onewayResult(statistic=44.60447405972009, pvalue=1.3391325972543461e-18)"
      ]
     },
     "execution_count": 17,
     "metadata": {},
     "output_type": "execute_result"
    }
   ],
   "source": [
    "stats.f_oneway(t_car, t_bikefoot, t_publictransport)"
   ]
  },
  {
   "cell_type": "markdown",
   "metadata": {},
   "source": [
    "#### Browser"
   ]
  },
  {
   "cell_type": "code",
   "execution_count": 18,
   "metadata": {},
   "outputs": [
    {
     "data": {
      "text/plain": [
       "array(['safari', 'edge', 'chrome'], dtype=object)"
      ]
     },
     "execution_count": 18,
     "metadata": {},
     "output_type": "execute_result"
    }
   ],
   "source": [
    "traffic.browser.unique()"
   ]
  },
  {
   "cell_type": "code",
   "execution_count": 19,
   "metadata": {},
   "outputs": [],
   "source": [
    "#Does the browser people use explain the time they commute. Construct this model and comment.\n",
    "b_chrome = traffic.loc[traffic['browser'] == 'chrome'].minutes\n",
    "b_edge = traffic.loc[traffic['browser'] == 'edge'].minutes\n",
    "b_safari = traffic.loc[traffic['browser'] == 'safari'].minutes"
   ]
  },
  {
   "cell_type": "code",
   "execution_count": 20,
   "metadata": {},
   "outputs": [
    {
     "name": "stdout",
     "output_type": "stream",
     "text": [
      "count    165.000000\n",
      "mean      64.694826\n",
      "std       12.051714\n",
      "min       34.667482\n",
      "25%       57.018309\n",
      "50%       65.193069\n",
      "75%       72.181517\n",
      "max       96.241976\n",
      "Name: minutes, dtype: float64\n",
      "count    200.000000\n",
      "mean      63.332624\n",
      "std       13.082036\n",
      "min       29.442305\n",
      "25%       54.100754\n",
      "50%       64.283533\n",
      "75%       72.191300\n",
      "max       94.251616\n",
      "Name: minutes, dtype: float64\n",
      "count    156.000000\n",
      "mean      65.017300\n",
      "std       13.191108\n",
      "min       35.601804\n",
      "25%       52.858739\n",
      "50%       66.631119\n",
      "75%       74.791556\n",
      "max       92.786531\n",
      "Name: minutes, dtype: float64\n"
     ]
    }
   ],
   "source": [
    "print(b_chrome.describe())\n",
    "print(b_edge.describe())\n",
    "print(b_safari.describe())"
   ]
  },
  {
   "cell_type": "code",
   "execution_count": 21,
   "metadata": {},
   "outputs": [
    {
     "data": {
      "text/plain": [
       "<matplotlib.axes._subplots.AxesSubplot at 0x11235a748>"
      ]
     },
     "execution_count": 21,
     "metadata": {},
     "output_type": "execute_result"
    },
    {
     "data": {
      "image/png": "[encoded data removed]",
      "text/plain": [
       "<Figure size 432x288 with 1 Axes>"
      ]
     },
     "metadata": {
      "needs_background": "light"
     },
     "output_type": "display_data"
    }
   ],
   "source": [
    "sns.boxplot(y='minutes', x='browser', data=traffic)"
   ]
  },
  {
   "cell_type": "code",
   "execution_count": 22,
   "metadata": {},
   "outputs": [
    {
     "data": {
      "text/plain": [
       "F_onewayResult(statistic=0.8932673499181751, pvalue=0.4099457341328686)"
      ]
     },
     "execution_count": 22,
     "metadata": {},
     "output_type": "execute_result"
    }
   ],
   "source": [
    "stats.f_oneway(b_chrome, b_edge, b_safari)"
   ]
  },
  {
   "cell_type": "markdown",
   "metadata": {},
   "source": [
    "Transport method has a low p-value, so explains the data. brower type does not."
   ]
  }
 ],
 "metadata": {
  "kernelspec": {
   "display_name": "Python 3",
   "language": "python",
   "name": "python3"
  },
  "language_info": {
   "codemirror_mode": {
    "name": "ipython",
    "version": 3
   },
   "file_extension": ".py",
   "mimetype": "text/x-python",
   "name": "python",
   "nbconvert_exporter": "python",
   "pygments_lexer": "ipython3",
   "version": "3.6.7"
  },
  "toc": {
   "base_numbering": 1,
   "nav_menu": {},
   "number_sections": true,
   "sideBar": true,
   "skip_h1_title": false,
   "title_cell": "Table of Contents",
   "title_sidebar": "Contents",
   "toc_cell": false,
   "toc_position": {},
   "toc_section_display": true,
   "toc_window_display": false
  }
 },
 "nbformat": 4,
 "nbformat_minor": 2
}
