{
 "cells": [
  {
   "cell_type": "code",
   "execution_count": 1,
   "metadata": {},
   "outputs": [],
   "source": [
    "import numpy as np\n",
    "import pandas as pd\n",
    "import matplotlib.pyplot as plt\n",
    "import matplotlib.mlab as mlab\n",
    "import seaborn as sns\n",
    "from scipy import stats\n",
    "import math\n",
    "import os\n",
    "from sklearn.linear_model import LinearRegression\n",
    "folder = os.getcwd() + '/'"
   ]
  },
  {
   "cell_type": "markdown",
   "metadata": {},
   "source": [
    "# 4.5 Dummy coding and interaction - solution"
   ]
  },
  {
   "cell_type": "markdown",
   "metadata": {},
   "source": [
    "## 4.5.1 Task 5"
   ]
  },
  {
   "cell_type": "markdown",
   "metadata": {},
   "source": [
    "Open the data file loudness.csv. It contains 300 data points, taken at a local touristic cafe. Of each respondent, the nationality is recorded, as well as his decibels produced and drinkunits that were consumed. \n",
    "- Model the decibels with nationality, units drunk and age as predictors\n",
    "- What are you conclusions?\n",
    "- Add the interaction between units drunk and age to the model\n",
    "- What are your conclusions?\n",
    "- Add the interaction between units drunk and nationality to the model. (How many terms is this?)\n",
    "- What are your conclusions?"
   ]
  },
  {
   "cell_type": "markdown",
   "metadata": {},
   "source": [
    "## 4.5.2 Solution"
   ]
  },
  {
   "cell_type": "markdown",
   "metadata": {},
   "source": [
    "### 4.5.2.1 Import data and take a first look"
   ]
  },
  {
   "cell_type": "code",
   "execution_count": 2,
   "metadata": {},
   "outputs": [],
   "source": [
    "loudness = pd.read_csv(folder + 'data/loudness.csv', index_col = 0)"
   ]
  },
  {
   "cell_type": "code",
   "execution_count": 3,
   "metadata": {},
   "outputs": [
    {
     "data": {
      "text/html": [
       "<div>\n",
       "<style scoped>\n",
       "    .dataframe tbody tr th:only-of-type {\n",
       "        vertical-align: middle;\n",
       "    }\n",
       "\n",
       "    .dataframe tbody tr th {\n",
       "        vertical-align: top;\n",
       "    }\n",
       "\n",
       "    .dataframe thead th {\n",
       "        text-align: right;\n",
       "    }\n",
       "</style>\n",
       "<table border=\"1\" class=\"dataframe\">\n",
       "  <thead>\n",
       "    <tr style=\"text-align: right;\">\n",
       "      <th></th>\n",
       "      <th>decibels</th>\n",
       "      <th>age_drink</th>\n",
       "      <th>drinkunit</th>\n",
       "    </tr>\n",
       "  </thead>\n",
       "  <tbody>\n",
       "    <tr>\n",
       "      <th>count</th>\n",
       "      <td>300.000000</td>\n",
       "      <td>300.000000</td>\n",
       "      <td>300.000000</td>\n",
       "    </tr>\n",
       "    <tr>\n",
       "      <th>mean</th>\n",
       "      <td>64.635790</td>\n",
       "      <td>26.974855</td>\n",
       "      <td>15.123333</td>\n",
       "    </tr>\n",
       "    <tr>\n",
       "      <th>std</th>\n",
       "      <td>6.641115</td>\n",
       "      <td>2.874025</td>\n",
       "      <td>3.948005</td>\n",
       "    </tr>\n",
       "    <tr>\n",
       "      <th>min</th>\n",
       "      <td>47.487140</td>\n",
       "      <td>19.992365</td>\n",
       "      <td>3.000000</td>\n",
       "    </tr>\n",
       "    <tr>\n",
       "      <th>25%</th>\n",
       "      <td>58.811017</td>\n",
       "      <td>24.890654</td>\n",
       "      <td>13.000000</td>\n",
       "    </tr>\n",
       "    <tr>\n",
       "      <th>50%</th>\n",
       "      <td>65.625285</td>\n",
       "      <td>26.919561</td>\n",
       "      <td>15.000000</td>\n",
       "    </tr>\n",
       "    <tr>\n",
       "      <th>75%</th>\n",
       "      <td>70.272250</td>\n",
       "      <td>28.812274</td>\n",
       "      <td>18.000000</td>\n",
       "    </tr>\n",
       "    <tr>\n",
       "      <th>max</th>\n",
       "      <td>78.507010</td>\n",
       "      <td>35.106378</td>\n",
       "      <td>25.000000</td>\n",
       "    </tr>\n",
       "  </tbody>\n",
       "</table>\n",
       "</div>"
      ],
      "text/plain": [
       "         decibels   age_drink   drinkunit\n",
       "count  300.000000  300.000000  300.000000\n",
       "mean    64.635790   26.974855   15.123333\n",
       "std      6.641115    2.874025    3.948005\n",
       "min     47.487140   19.992365    3.000000\n",
       "25%     58.811017   24.890654   13.000000\n",
       "50%     65.625285   26.919561   15.000000\n",
       "75%     70.272250   28.812274   18.000000\n",
       "max     78.507010   35.106378   25.000000"
      ]
     },
     "execution_count": 3,
     "metadata": {},
     "output_type": "execute_result"
    }
   ],
   "source": [
    "loudness.describe()"
   ]
  },
  {
   "cell_type": "code",
   "execution_count": 4,
   "metadata": {},
   "outputs": [
    {
     "data": {
      "text/html": [
       "<div>\n",
       "<style scoped>\n",
       "    .dataframe tbody tr th:only-of-type {\n",
       "        vertical-align: middle;\n",
       "    }\n",
       "\n",
       "    .dataframe tbody tr th {\n",
       "        vertical-align: top;\n",
       "    }\n",
       "\n",
       "    .dataframe thead th {\n",
       "        text-align: right;\n",
       "    }\n",
       "</style>\n",
       "<table border=\"1\" class=\"dataframe\">\n",
       "  <thead>\n",
       "    <tr style=\"text-align: right;\">\n",
       "      <th></th>\n",
       "      <th>decibels</th>\n",
       "      <th>age_drink</th>\n",
       "      <th>drinkunit</th>\n",
       "      <th>nat</th>\n",
       "    </tr>\n",
       "  </thead>\n",
       "  <tbody>\n",
       "    <tr>\n",
       "      <th>188</th>\n",
       "      <td>69.911433</td>\n",
       "      <td>29.239617</td>\n",
       "      <td>17</td>\n",
       "      <td>dutch</td>\n",
       "    </tr>\n",
       "    <tr>\n",
       "      <th>33</th>\n",
       "      <td>74.231998</td>\n",
       "      <td>25.486183</td>\n",
       "      <td>19</td>\n",
       "      <td>dutch</td>\n",
       "    </tr>\n",
       "    <tr>\n",
       "      <th>227</th>\n",
       "      <td>71.736051</td>\n",
       "      <td>27.426394</td>\n",
       "      <td>11</td>\n",
       "      <td>dutch</td>\n",
       "    </tr>\n",
       "  </tbody>\n",
       "</table>\n",
       "</div>"
      ],
      "text/plain": [
       "      decibels  age_drink  drinkunit    nat\n",
       "188  69.911433  29.239617         17  dutch\n",
       "33   74.231998  25.486183         19  dutch\n",
       "227  71.736051  27.426394         11  dutch"
      ]
     },
     "execution_count": 4,
     "metadata": {},
     "output_type": "execute_result"
    }
   ],
   "source": [
    "loudness.sample(3)"
   ]
  },
  {
   "cell_type": "markdown",
   "metadata": {},
   "source": [
    "### 4.5.2.2 Construct dummy variables and add to a model"
   ]
  },
  {
   "cell_type": "code",
   "execution_count": 5,
   "metadata": {},
   "outputs": [],
   "source": [
    "dummy_cols = pd.get_dummies(loudness['nat'])\n",
    "loudness = pd.concat([loudness, dummy_cols],axis = 1).copy()"
   ]
  },
  {
   "cell_type": "code",
   "execution_count": 6,
   "metadata": {},
   "outputs": [
    {
     "name": "stdout",
     "output_type": "stream",
     "text": [
      "<class 'pandas.core.frame.DataFrame'>\n"
     ]
    }
   ],
   "source": [
    "print(type(dummy_cols))"
   ]
  },
  {
   "cell_type": "code",
   "execution_count": 7,
   "metadata": {},
   "outputs": [
    {
     "data": {
      "text/plain": [
       "Index(['decibels', 'age_drink', 'drinkunit', 'nat', 'belgian', 'dutch',\n",
       "       'german'],\n",
       "      dtype='object')"
      ]
     },
     "execution_count": 7,
     "metadata": {},
     "output_type": "execute_result"
    }
   ],
   "source": [
    "loudness.columns"
   ]
  },
  {
   "cell_type": "code",
   "execution_count": 8,
   "metadata": {},
   "outputs": [
    {
     "data": {
      "text/html": [
       "<div>\n",
       "<style scoped>\n",
       "    .dataframe tbody tr th:only-of-type {\n",
       "        vertical-align: middle;\n",
       "    }\n",
       "\n",
       "    .dataframe tbody tr th {\n",
       "        vertical-align: top;\n",
       "    }\n",
       "\n",
       "    .dataframe thead th {\n",
       "        text-align: right;\n",
       "    }\n",
       "</style>\n",
       "<table border=\"1\" class=\"dataframe\">\n",
       "  <thead>\n",
       "    <tr style=\"text-align: right;\">\n",
       "      <th></th>\n",
       "      <th>decibels</th>\n",
       "      <th>age_drink</th>\n",
       "      <th>drinkunit</th>\n",
       "      <th>belgian</th>\n",
       "      <th>dutch</th>\n",
       "      <th>german</th>\n",
       "    </tr>\n",
       "  </thead>\n",
       "  <tbody>\n",
       "    <tr>\n",
       "      <th>count</th>\n",
       "      <td>300.000000</td>\n",
       "      <td>300.000000</td>\n",
       "      <td>300.000000</td>\n",
       "      <td>300.000000</td>\n",
       "      <td>300.000000</td>\n",
       "      <td>300.000000</td>\n",
       "    </tr>\n",
       "    <tr>\n",
       "      <th>mean</th>\n",
       "      <td>64.635790</td>\n",
       "      <td>26.974855</td>\n",
       "      <td>15.123333</td>\n",
       "      <td>0.316667</td>\n",
       "      <td>0.353333</td>\n",
       "      <td>0.330000</td>\n",
       "    </tr>\n",
       "    <tr>\n",
       "      <th>std</th>\n",
       "      <td>6.641115</td>\n",
       "      <td>2.874025</td>\n",
       "      <td>3.948005</td>\n",
       "      <td>0.465953</td>\n",
       "      <td>0.478804</td>\n",
       "      <td>0.470998</td>\n",
       "    </tr>\n",
       "    <tr>\n",
       "      <th>min</th>\n",
       "      <td>47.487140</td>\n",
       "      <td>19.992365</td>\n",
       "      <td>3.000000</td>\n",
       "      <td>0.000000</td>\n",
       "      <td>0.000000</td>\n",
       "      <td>0.000000</td>\n",
       "    </tr>\n",
       "    <tr>\n",
       "      <th>25%</th>\n",
       "      <td>58.811017</td>\n",
       "      <td>24.890654</td>\n",
       "      <td>13.000000</td>\n",
       "      <td>0.000000</td>\n",
       "      <td>0.000000</td>\n",
       "      <td>0.000000</td>\n",
       "    </tr>\n",
       "    <tr>\n",
       "      <th>50%</th>\n",
       "      <td>65.625285</td>\n",
       "      <td>26.919561</td>\n",
       "      <td>15.000000</td>\n",
       "      <td>0.000000</td>\n",
       "      <td>0.000000</td>\n",
       "      <td>0.000000</td>\n",
       "    </tr>\n",
       "    <tr>\n",
       "      <th>75%</th>\n",
       "      <td>70.272250</td>\n",
       "      <td>28.812274</td>\n",
       "      <td>18.000000</td>\n",
       "      <td>1.000000</td>\n",
       "      <td>1.000000</td>\n",
       "      <td>1.000000</td>\n",
       "    </tr>\n",
       "    <tr>\n",
       "      <th>max</th>\n",
       "      <td>78.507010</td>\n",
       "      <td>35.106378</td>\n",
       "      <td>25.000000</td>\n",
       "      <td>1.000000</td>\n",
       "      <td>1.000000</td>\n",
       "      <td>1.000000</td>\n",
       "    </tr>\n",
       "  </tbody>\n",
       "</table>\n",
       "</div>"
      ],
      "text/plain": [
       "         decibels   age_drink   drinkunit     belgian       dutch      german\n",
       "count  300.000000  300.000000  300.000000  300.000000  300.000000  300.000000\n",
       "mean    64.635790   26.974855   15.123333    0.316667    0.353333    0.330000\n",
       "std      6.641115    2.874025    3.948005    0.465953    0.478804    0.470998\n",
       "min     47.487140   19.992365    3.000000    0.000000    0.000000    0.000000\n",
       "25%     58.811017   24.890654   13.000000    0.000000    0.000000    0.000000\n",
       "50%     65.625285   26.919561   15.000000    0.000000    0.000000    0.000000\n",
       "75%     70.272250   28.812274   18.000000    1.000000    1.000000    1.000000\n",
       "max     78.507010   35.106378   25.000000    1.000000    1.000000    1.000000"
      ]
     },
     "execution_count": 8,
     "metadata": {},
     "output_type": "execute_result"
    }
   ],
   "source": [
    "loudness.describe()"
   ]
  },
  {
   "cell_type": "code",
   "execution_count": 9,
   "metadata": {},
   "outputs": [
    {
     "data": {
      "text/html": [
       "<div>\n",
       "<style scoped>\n",
       "    .dataframe tbody tr th:only-of-type {\n",
       "        vertical-align: middle;\n",
       "    }\n",
       "\n",
       "    .dataframe tbody tr th {\n",
       "        vertical-align: top;\n",
       "    }\n",
       "\n",
       "    .dataframe thead th {\n",
       "        text-align: right;\n",
       "    }\n",
       "</style>\n",
       "<table border=\"1\" class=\"dataframe\">\n",
       "  <thead>\n",
       "    <tr style=\"text-align: right;\">\n",
       "      <th></th>\n",
       "      <th>decibels</th>\n",
       "      <th>age_drink</th>\n",
       "      <th>drinkunit</th>\n",
       "      <th>nat</th>\n",
       "      <th>belgian</th>\n",
       "      <th>dutch</th>\n",
       "      <th>german</th>\n",
       "    </tr>\n",
       "  </thead>\n",
       "  <tbody>\n",
       "    <tr>\n",
       "      <th>201</th>\n",
       "      <td>65.812435</td>\n",
       "      <td>27.424576</td>\n",
       "      <td>7</td>\n",
       "      <td>german</td>\n",
       "      <td>0</td>\n",
       "      <td>0</td>\n",
       "      <td>1</td>\n",
       "    </tr>\n",
       "    <tr>\n",
       "      <th>154</th>\n",
       "      <td>69.560624</td>\n",
       "      <td>27.979608</td>\n",
       "      <td>13</td>\n",
       "      <td>dutch</td>\n",
       "      <td>0</td>\n",
       "      <td>1</td>\n",
       "      <td>0</td>\n",
       "    </tr>\n",
       "    <tr>\n",
       "      <th>177</th>\n",
       "      <td>71.490921</td>\n",
       "      <td>27.764564</td>\n",
       "      <td>18</td>\n",
       "      <td>dutch</td>\n",
       "      <td>0</td>\n",
       "      <td>1</td>\n",
       "      <td>0</td>\n",
       "    </tr>\n",
       "    <tr>\n",
       "      <th>227</th>\n",
       "      <td>71.736051</td>\n",
       "      <td>27.426394</td>\n",
       "      <td>11</td>\n",
       "      <td>dutch</td>\n",
       "      <td>0</td>\n",
       "      <td>1</td>\n",
       "      <td>0</td>\n",
       "    </tr>\n",
       "    <tr>\n",
       "      <th>106</th>\n",
       "      <td>61.342707</td>\n",
       "      <td>21.828151</td>\n",
       "      <td>14</td>\n",
       "      <td>belgian</td>\n",
       "      <td>1</td>\n",
       "      <td>0</td>\n",
       "      <td>0</td>\n",
       "    </tr>\n",
       "    <tr>\n",
       "      <th>63</th>\n",
       "      <td>55.494231</td>\n",
       "      <td>29.933600</td>\n",
       "      <td>15</td>\n",
       "      <td>belgian</td>\n",
       "      <td>1</td>\n",
       "      <td>0</td>\n",
       "      <td>0</td>\n",
       "    </tr>\n",
       "    <tr>\n",
       "      <th>258</th>\n",
       "      <td>65.857496</td>\n",
       "      <td>25.874799</td>\n",
       "      <td>16</td>\n",
       "      <td>german</td>\n",
       "      <td>0</td>\n",
       "      <td>0</td>\n",
       "      <td>1</td>\n",
       "    </tr>\n",
       "    <tr>\n",
       "      <th>50</th>\n",
       "      <td>63.004656</td>\n",
       "      <td>23.482016</td>\n",
       "      <td>5</td>\n",
       "      <td>german</td>\n",
       "      <td>0</td>\n",
       "      <td>0</td>\n",
       "      <td>1</td>\n",
       "    </tr>\n",
       "    <tr>\n",
       "      <th>110</th>\n",
       "      <td>52.064836</td>\n",
       "      <td>29.185005</td>\n",
       "      <td>23</td>\n",
       "      <td>belgian</td>\n",
       "      <td>1</td>\n",
       "      <td>0</td>\n",
       "      <td>0</td>\n",
       "    </tr>\n",
       "    <tr>\n",
       "      <th>267</th>\n",
       "      <td>67.833920</td>\n",
       "      <td>32.353885</td>\n",
       "      <td>19</td>\n",
       "      <td>dutch</td>\n",
       "      <td>0</td>\n",
       "      <td>1</td>\n",
       "      <td>0</td>\n",
       "    </tr>\n",
       "  </tbody>\n",
       "</table>\n",
       "</div>"
      ],
      "text/plain": [
       "      decibels  age_drink  drinkunit      nat  belgian  dutch  german\n",
       "201  65.812435  27.424576          7   german        0      0       1\n",
       "154  69.560624  27.979608         13    dutch        0      1       0\n",
       "177  71.490921  27.764564         18    dutch        0      1       0\n",
       "227  71.736051  27.426394         11    dutch        0      1       0\n",
       "106  61.342707  21.828151         14  belgian        1      0       0\n",
       "63   55.494231  29.933600         15  belgian        1      0       0\n",
       "258  65.857496  25.874799         16   german        0      0       1\n",
       "50   63.004656  23.482016          5   german        0      0       1\n",
       "110  52.064836  29.185005         23  belgian        1      0       0\n",
       "267  67.833920  32.353885         19    dutch        0      1       0"
      ]
     },
     "execution_count": 9,
     "metadata": {},
     "output_type": "execute_result"
    }
   ],
   "source": [
    "loudness.sample(10)"
   ]
  },
  {
   "cell_type": "code",
   "execution_count": 10,
   "metadata": {},
   "outputs": [
    {
     "data": {
      "text/plain": [
       "LinearRegression(copy_X=True, fit_intercept=True, n_jobs=None,\n",
       "         normalize=False)"
      ]
     },
     "execution_count": 10,
     "metadata": {},
     "output_type": "execute_result"
    }
   ],
   "source": [
    "y = loudness.decibels.values\n",
    "x = loudness[['belgian', 'dutch', 'drinkunit', 'age_drink']].values\n",
    "myLR = LinearRegression()\n",
    "myLR.fit(X = x, y = y)"
   ]
  },
  {
   "cell_type": "code",
   "execution_count": 11,
   "metadata": {},
   "outputs": [
    {
     "name": "stdout",
     "output_type": "stream",
     "text": [
      "83.01383138961117\n",
      "[-7.83850689  6.82768151 -0.1862759  -0.57428234]\n"
     ]
    }
   ],
   "source": [
    "print(myLR.intercept_)\n",
    "print(myLR.coef_)"
   ]
  },
  {
   "cell_type": "code",
   "execution_count": 12,
   "metadata": {},
   "outputs": [
    {
     "name": "stdout",
     "output_type": "stream",
     "text": [
      "90.63\n"
     ]
    }
   ],
   "source": [
    "print(round(myLR.score(x, y)*100,2))"
   ]
  },
  {
   "cell_type": "markdown",
   "metadata": {},
   "source": [
    "### 4.5.2.3 Construct interaction and add to model"
   ]
  },
  {
   "cell_type": "code",
   "execution_count": 13,
   "metadata": {},
   "outputs": [],
   "source": [
    "loudness['int_age_drinkunit'] = loudness['drinkunit'] * loudness['age_drink']"
   ]
  },
  {
   "cell_type": "code",
   "execution_count": 14,
   "metadata": {},
   "outputs": [
    {
     "data": {
      "text/html": [
       "<div>\n",
       "<style scoped>\n",
       "    .dataframe tbody tr th:only-of-type {\n",
       "        vertical-align: middle;\n",
       "    }\n",
       "\n",
       "    .dataframe tbody tr th {\n",
       "        vertical-align: top;\n",
       "    }\n",
       "\n",
       "    .dataframe thead th {\n",
       "        text-align: right;\n",
       "    }\n",
       "</style>\n",
       "<table border=\"1\" class=\"dataframe\">\n",
       "  <thead>\n",
       "    <tr style=\"text-align: right;\">\n",
       "      <th></th>\n",
       "      <th>decibels</th>\n",
       "      <th>age_drink</th>\n",
       "      <th>drinkunit</th>\n",
       "      <th>nat</th>\n",
       "      <th>belgian</th>\n",
       "      <th>dutch</th>\n",
       "      <th>german</th>\n",
       "      <th>int_age_drinkunit</th>\n",
       "    </tr>\n",
       "  </thead>\n",
       "  <tbody>\n",
       "    <tr>\n",
       "      <th>45</th>\n",
       "      <td>59.968957</td>\n",
       "      <td>21.988120</td>\n",
       "      <td>15</td>\n",
       "      <td>belgian</td>\n",
       "      <td>1</td>\n",
       "      <td>0</td>\n",
       "      <td>0</td>\n",
       "      <td>329.821806</td>\n",
       "    </tr>\n",
       "    <tr>\n",
       "      <th>65</th>\n",
       "      <td>58.240798</td>\n",
       "      <td>33.597388</td>\n",
       "      <td>19</td>\n",
       "      <td>german</td>\n",
       "      <td>0</td>\n",
       "      <td>0</td>\n",
       "      <td>1</td>\n",
       "      <td>638.350372</td>\n",
       "    </tr>\n",
       "    <tr>\n",
       "      <th>271</th>\n",
       "      <td>47.487140</td>\n",
       "      <td>30.281456</td>\n",
       "      <td>24</td>\n",
       "      <td>belgian</td>\n",
       "      <td>1</td>\n",
       "      <td>0</td>\n",
       "      <td>0</td>\n",
       "      <td>726.754943</td>\n",
       "    </tr>\n",
       "    <tr>\n",
       "      <th>39</th>\n",
       "      <td>53.561276</td>\n",
       "      <td>25.220260</td>\n",
       "      <td>21</td>\n",
       "      <td>belgian</td>\n",
       "      <td>1</td>\n",
       "      <td>0</td>\n",
       "      <td>0</td>\n",
       "      <td>529.625466</td>\n",
       "    </tr>\n",
       "    <tr>\n",
       "      <th>230</th>\n",
       "      <td>63.229900</td>\n",
       "      <td>28.574096</td>\n",
       "      <td>7</td>\n",
       "      <td>german</td>\n",
       "      <td>0</td>\n",
       "      <td>0</td>\n",
       "      <td>1</td>\n",
       "      <td>200.018671</td>\n",
       "    </tr>\n",
       "    <tr>\n",
       "      <th>109</th>\n",
       "      <td>65.547387</td>\n",
       "      <td>27.651296</td>\n",
       "      <td>16</td>\n",
       "      <td>german</td>\n",
       "      <td>0</td>\n",
       "      <td>0</td>\n",
       "      <td>1</td>\n",
       "      <td>442.420738</td>\n",
       "    </tr>\n",
       "    <tr>\n",
       "      <th>129</th>\n",
       "      <td>73.399292</td>\n",
       "      <td>22.091488</td>\n",
       "      <td>12</td>\n",
       "      <td>dutch</td>\n",
       "      <td>0</td>\n",
       "      <td>1</td>\n",
       "      <td>0</td>\n",
       "      <td>265.097860</td>\n",
       "    </tr>\n",
       "    <tr>\n",
       "      <th>186</th>\n",
       "      <td>65.333221</td>\n",
       "      <td>25.601292</td>\n",
       "      <td>18</td>\n",
       "      <td>german</td>\n",
       "      <td>0</td>\n",
       "      <td>0</td>\n",
       "      <td>1</td>\n",
       "      <td>460.823262</td>\n",
       "    </tr>\n",
       "    <tr>\n",
       "      <th>145</th>\n",
       "      <td>66.876670</td>\n",
       "      <td>24.895682</td>\n",
       "      <td>18</td>\n",
       "      <td>german</td>\n",
       "      <td>0</td>\n",
       "      <td>0</td>\n",
       "      <td>1</td>\n",
       "      <td>448.122283</td>\n",
       "    </tr>\n",
       "    <tr>\n",
       "      <th>49</th>\n",
       "      <td>70.263343</td>\n",
       "      <td>25.150937</td>\n",
       "      <td>23</td>\n",
       "      <td>dutch</td>\n",
       "      <td>0</td>\n",
       "      <td>1</td>\n",
       "      <td>0</td>\n",
       "      <td>578.471545</td>\n",
       "    </tr>\n",
       "  </tbody>\n",
       "</table>\n",
       "</div>"
      ],
      "text/plain": [
       "      decibels  age_drink  drinkunit      nat  belgian  dutch  german  \\\n",
       "45   59.968957  21.988120         15  belgian        1      0       0   \n",
       "65   58.240798  33.597388         19   german        0      0       1   \n",
       "271  47.487140  30.281456         24  belgian        1      0       0   \n",
       "39   53.561276  25.220260         21  belgian        1      0       0   \n",
       "230  63.229900  28.574096          7   german        0      0       1   \n",
       "109  65.547387  27.651296         16   german        0      0       1   \n",
       "129  73.399292  22.091488         12    dutch        0      1       0   \n",
       "186  65.333221  25.601292         18   german        0      0       1   \n",
       "145  66.876670  24.895682         18   german        0      0       1   \n",
       "49   70.263343  25.150937         23    dutch        0      1       0   \n",
       "\n",
       "     int_age_drinkunit  \n",
       "45          329.821806  \n",
       "65          638.350372  \n",
       "271         726.754943  \n",
       "39          529.625466  \n",
       "230         200.018671  \n",
       "109         442.420738  \n",
       "129         265.097860  \n",
       "186         460.823262  \n",
       "145         448.122283  \n",
       "49          578.471545  "
      ]
     },
     "execution_count": 14,
     "metadata": {},
     "output_type": "execute_result"
    }
   ],
   "source": [
    "loudness.sample(10)"
   ]
  },
  {
   "cell_type": "code",
   "execution_count": 15,
   "metadata": {},
   "outputs": [
    {
     "data": {
      "text/plain": [
       "LinearRegression(copy_X=True, fit_intercept=True, n_jobs=None,\n",
       "         normalize=False)"
      ]
     },
     "execution_count": 15,
     "metadata": {},
     "output_type": "execute_result"
    }
   ],
   "source": [
    "y = loudness.decibels.values\n",
    "x = loudness[['belgian', 'dutch', 'drinkunit', 'age_drink', 'int_age_drinkunit']].values\n",
    "myLR = LinearRegression()\n",
    "myLR.fit(X = x, y = y)"
   ]
  },
  {
   "cell_type": "code",
   "execution_count": 16,
   "metadata": {},
   "outputs": [
    {
     "name": "stdout",
     "output_type": "stream",
     "text": [
      "55.75989042111867\n",
      "[-7.93497385  6.83305117  1.59432521  0.4331458  -0.0657795 ]\n"
     ]
    }
   ],
   "source": [
    "print(myLR.intercept_)\n",
    "print(myLR.coef_)"
   ]
  },
  {
   "cell_type": "code",
   "execution_count": 17,
   "metadata": {},
   "outputs": [
    {
     "name": "stdout",
     "output_type": "stream",
     "text": [
      "91.92\n"
     ]
    }
   ],
   "source": [
    "print(round(myLR.score(x, y)*100,2))"
   ]
  },
  {
   "cell_type": "code",
   "execution_count": 18,
   "metadata": {},
   "outputs": [
    {
     "data": {
      "text/plain": [
       "LinearRegression(copy_X=True, fit_intercept=True, n_jobs=None,\n",
       "         normalize=False)"
      ]
     },
     "execution_count": 18,
     "metadata": {},
     "output_type": "execute_result"
    }
   ],
   "source": [
    "#Add the interaction between units drunk and nationality to the model\n",
    "#Note that we pick the 'german' level as reference level. \n",
    "#Picking another level as reference level will not change the quality of the model or the predictions.\n",
    "\n",
    "loudness['i_bel'] = loudness['belgian'] * loudness['drinkunit']\n",
    "loudness['i_dutch'] = loudness['dutch'] * loudness['drinkunit']\n",
    "loudness['i_german'] = loudness['german'] * loudness['drinkunit']\n",
    "\n",
    "y = loudness.decibels.values\n",
    "x = loudness[['belgian', 'dutch', 'drinkunit', 'age_drink', 'int_age_drinkunit', 'i_bel', 'i_dutch']].values\n",
    "myLR = LinearRegression()\n",
    "myLR.fit(X = x, y = y)"
   ]
  },
  {
   "cell_type": "code",
   "execution_count": 19,
   "metadata": {},
   "outputs": [
    {
     "name": "stdout",
     "output_type": "stream",
     "text": [
      "58.9493200854738\n",
      "[-1.25370552  7.40531946  1.41777978  0.24587344 -0.05462948 -0.4344111\n",
      " -0.03819861]\n"
     ]
    }
   ],
   "source": [
    "print(myLR.intercept_)\n",
    "print(myLR.coef_)"
   ]
  },
  {
   "cell_type": "code",
   "execution_count": 20,
   "metadata": {},
   "outputs": [
    {
     "name": "stdout",
     "output_type": "stream",
     "text": [
      "93.05\n"
     ]
    }
   ],
   "source": [
    "print(round(myLR.score(x, y)*100,2))"
   ]
  }
 ],
 "metadata": {
  "kernelspec": {
   "display_name": "Python 3",
   "language": "python",
   "name": "python3"
  },
  "language_info": {
   "codemirror_mode": {
    "name": "ipython",
    "version": 3
   },
   "file_extension": ".py",
   "mimetype": "text/x-python",
   "name": "python",
   "nbconvert_exporter": "python",
   "pygments_lexer": "ipython3",
   "version": "3.6.7"
  },
  "toc": {
   "base_numbering": 1,
   "nav_menu": {},
   "number_sections": true,
   "sideBar": true,
   "skip_h1_title": false,
   "title_cell": "Table of Contents",
   "title_sidebar": "Contents",
   "toc_cell": false,
   "toc_position": {},
   "toc_section_display": true,
   "toc_window_display": false
  }
 },
 "nbformat": 4,
 "nbformat_minor": 2
}
