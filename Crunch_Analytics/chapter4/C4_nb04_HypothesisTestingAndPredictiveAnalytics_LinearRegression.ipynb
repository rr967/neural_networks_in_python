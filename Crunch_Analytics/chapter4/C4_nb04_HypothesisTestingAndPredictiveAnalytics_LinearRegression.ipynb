{
 "cells": [
  {
   "cell_type": "code",
   "execution_count": null,
   "metadata": {},
   "outputs": [],
   "source": [
    "import numpy as np\n",
    "import pandas as pd\n",
    "import matplotlib.pyplot as plt\n",
    "import matplotlib.mlab as mlab\n",
    "import seaborn as sns\n",
    "from scipy import stats\n",
    "import math\n",
    "import os\n",
    "from sklearn.linear_model import LinearRegression\n",
    "folder = os.getcwd() + '/'"
   ]
  },
  {
   "cell_type": "markdown",
   "metadata": {},
   "source": [
    "# 4.4 Linear Regression - solution (done)"
   ]
  },
  {
   "cell_type": "markdown",
   "metadata": {},
   "source": [
    "## 4.4.1 Task 4"
   ]
  },
  {
   "cell_type": "markdown",
   "metadata": {},
   "source": [
    "Open projects.csv as a dataframe. It contains information of workers at a company. The variables are how much projects somebody has succesfully finished, how long he has been at the company and how much holidays he has taken.\n",
    "- Model the number of succesfull projects, using the number of holidays as predictor.\n",
    "- Predict the number of succesfull project for somebody who has been on 40 holidays\n",
    "- Predict the number of succesfull project for somebody who has been on 41 holidays\n",
    "- What is the B1 parameter? Interpret it mathematically. (use the previous two questions)\n",
    "- What is the intercept parameter? Interpret it mathematically.\n",
    "- Add the number of years at the company to the model.\n",
    "- Is this a better model? What happened to the parameters? Why?"
   ]
  }
 ],
 "metadata": {
  "kernelspec": {
   "display_name": "Python 3",
   "language": "python",
   "name": "python3"
  },
  "language_info": {
   "codemirror_mode": {
    "name": "ipython",
    "version": 3
   },
   "file_extension": ".py",
   "mimetype": "text/x-python",
   "name": "python",
   "nbconvert_exporter": "python",
   "pygments_lexer": "ipython3",
   "version": "3.6.7"
  },
  "toc": {
   "base_numbering": 1,
   "nav_menu": {},
   "number_sections": true,
   "sideBar": true,
   "skip_h1_title": false,
   "title_cell": "Table of Contents",
   "title_sidebar": "Contents",
   "toc_cell": false,
   "toc_position": {},
   "toc_section_display": true,
   "toc_window_display": false
  }
 },
 "nbformat": 4,
 "nbformat_minor": 2
}
