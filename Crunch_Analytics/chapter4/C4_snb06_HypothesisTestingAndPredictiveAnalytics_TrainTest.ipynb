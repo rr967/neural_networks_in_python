{
 "cells": [
  {
   "cell_type": "code",
   "execution_count": 1,
   "metadata": {},
   "outputs": [],
   "source": [
    "import numpy as np\n",
    "import pandas as pd\n",
    "import matplotlib.pyplot as plt\n",
    "import matplotlib.mlab as mlab\n",
    "import seaborn as sns\n",
    "from scipy import stats\n",
    "import math\n",
    "import os\n",
    "from sklearn.linear_model import LinearRegression\n",
    "folder = os.getcwd() + '/'"
   ]
  },
  {
   "cell_type": "markdown",
   "metadata": {},
   "source": [
    "# 4.6 Training, test and MSE's - solution"
   ]
  },
  {
   "cell_type": "markdown",
   "metadata": {},
   "source": [
    "## 4.6.1 Task 6"
   ]
  },
  {
   "cell_type": "markdown",
   "metadata": {},
   "source": [
    "Open the data file units_sold.csv. You will find 100 recordings of how much units a certain shops sells and how much hours of training the staff received.\n",
    "- Use the the first 80 data points as a training set. Test the result, with the last 20 data points as a test set. Report the MSE of both the training and test set.\n",
    "- Repeat the previous question, but use 80 random datapoints as the training set and the other 20 data points (watch out for overlap!) data points as test set. What happened?"
   ]
  },
  {
   "cell_type": "markdown",
   "metadata": {},
   "source": [
    "## 4.6.2 Solution"
   ]
  },
  {
   "cell_type": "markdown",
   "metadata": {},
   "source": [
    "### 4.5.2.1 Import data and take a first look"
   ]
  },
  {
   "cell_type": "code",
   "execution_count": 2,
   "metadata": {},
   "outputs": [],
   "source": [
    "sold = pd.read_csv(folder + 'data/units_sold.csv', index_col = 0)"
   ]
  },
  {
   "cell_type": "code",
   "execution_count": 3,
   "metadata": {},
   "outputs": [
    {
     "data": {
      "text/html": [
       "<div>\n",
       "<style scoped>\n",
       "    .dataframe tbody tr th:only-of-type {\n",
       "        vertical-align: middle;\n",
       "    }\n",
       "\n",
       "    .dataframe tbody tr th {\n",
       "        vertical-align: top;\n",
       "    }\n",
       "\n",
       "    .dataframe thead th {\n",
       "        text-align: right;\n",
       "    }\n",
       "</style>\n",
       "<table border=\"1\" class=\"dataframe\">\n",
       "  <thead>\n",
       "    <tr style=\"text-align: right;\">\n",
       "      <th></th>\n",
       "      <th>sold</th>\n",
       "      <th>training</th>\n",
       "    </tr>\n",
       "  </thead>\n",
       "  <tbody>\n",
       "    <tr>\n",
       "      <th>count</th>\n",
       "      <td>100.000000</td>\n",
       "      <td>100.000000</td>\n",
       "    </tr>\n",
       "    <tr>\n",
       "      <th>mean</th>\n",
       "      <td>51.138838</td>\n",
       "      <td>20.285715</td>\n",
       "    </tr>\n",
       "    <tr>\n",
       "      <th>std</th>\n",
       "      <td>17.827764</td>\n",
       "      <td>3.049421</td>\n",
       "    </tr>\n",
       "    <tr>\n",
       "      <th>min</th>\n",
       "      <td>11.653791</td>\n",
       "      <td>12.999469</td>\n",
       "    </tr>\n",
       "    <tr>\n",
       "      <th>25%</th>\n",
       "      <td>47.869730</td>\n",
       "      <td>18.155431</td>\n",
       "    </tr>\n",
       "    <tr>\n",
       "      <th>50%</th>\n",
       "      <td>56.408301</td>\n",
       "      <td>20.080521</td>\n",
       "    </tr>\n",
       "    <tr>\n",
       "      <th>75%</th>\n",
       "      <td>63.012890</td>\n",
       "      <td>22.112849</td>\n",
       "    </tr>\n",
       "    <tr>\n",
       "      <th>max</th>\n",
       "      <td>79.401775</td>\n",
       "      <td>27.776011</td>\n",
       "    </tr>\n",
       "  </tbody>\n",
       "</table>\n",
       "</div>"
      ],
      "text/plain": [
       "             sold    training\n",
       "count  100.000000  100.000000\n",
       "mean    51.138838   20.285715\n",
       "std     17.827764    3.049421\n",
       "min     11.653791   12.999469\n",
       "25%     47.869730   18.155431\n",
       "50%     56.408301   20.080521\n",
       "75%     63.012890   22.112849\n",
       "max     79.401775   27.776011"
      ]
     },
     "execution_count": 3,
     "metadata": {},
     "output_type": "execute_result"
    }
   ],
   "source": [
    "sold.describe()"
   ]
  },
  {
   "cell_type": "code",
   "execution_count": 4,
   "metadata": {},
   "outputs": [
    {
     "data": {
      "text/html": [
       "<div>\n",
       "<style scoped>\n",
       "    .dataframe tbody tr th:only-of-type {\n",
       "        vertical-align: middle;\n",
       "    }\n",
       "\n",
       "    .dataframe tbody tr th {\n",
       "        vertical-align: top;\n",
       "    }\n",
       "\n",
       "    .dataframe thead th {\n",
       "        text-align: right;\n",
       "    }\n",
       "</style>\n",
       "<table border=\"1\" class=\"dataframe\">\n",
       "  <thead>\n",
       "    <tr style=\"text-align: right;\">\n",
       "      <th></th>\n",
       "      <th>sold</th>\n",
       "      <th>training</th>\n",
       "    </tr>\n",
       "  </thead>\n",
       "  <tbody>\n",
       "    <tr>\n",
       "      <th>52</th>\n",
       "      <td>49.271492</td>\n",
       "      <td>16.229027</td>\n",
       "    </tr>\n",
       "    <tr>\n",
       "      <th>27</th>\n",
       "      <td>70.366400</td>\n",
       "      <td>24.280990</td>\n",
       "    </tr>\n",
       "    <tr>\n",
       "      <th>14</th>\n",
       "      <td>54.091706</td>\n",
       "      <td>17.442298</td>\n",
       "    </tr>\n",
       "  </tbody>\n",
       "</table>\n",
       "</div>"
      ],
      "text/plain": [
       "         sold   training\n",
       "52  49.271492  16.229027\n",
       "27  70.366400  24.280990\n",
       "14  54.091706  17.442298"
      ]
     },
     "execution_count": 4,
     "metadata": {},
     "output_type": "execute_result"
    }
   ],
   "source": [
    "sold.sample(3)"
   ]
  },
  {
   "cell_type": "code",
   "execution_count": 5,
   "metadata": {},
   "outputs": [
    {
     "data": {
      "text/plain": [
       "sold        float64\n",
       "training    float64\n",
       "dtype: object"
      ]
     },
     "execution_count": 5,
     "metadata": {},
     "output_type": "execute_result"
    }
   ],
   "source": [
    "sold.dtypes"
   ]
  },
  {
   "cell_type": "code",
   "execution_count": 6,
   "metadata": {},
   "outputs": [
    {
     "data": {
      "text/plain": [
       "Int64Index([  1,   2,   3,   4,   5,   6,   7,   8,   9,  10,  11,  12,  13,\n",
       "             14,  15,  16,  17,  18,  19,  20,  21,  22,  23,  24,  25,  26,\n",
       "             27,  28,  29,  30,  31,  32,  33,  34,  35,  36,  37,  38,  39,\n",
       "             40,  41,  42,  43,  44,  45,  46,  47,  48,  49,  50,  51,  52,\n",
       "             53,  54,  55,  56,  57,  58,  59,  60,  61,  62,  63,  64,  65,\n",
       "             66,  67,  68,  69,  70,  71,  72,  73,  74,  75,  76,  77,  78,\n",
       "             79,  80,  81,  82,  83,  84,  85,  86,  87,  88,  89,  90,  91,\n",
       "             92,  93,  94,  95,  96,  97,  98,  99, 100],\n",
       "           dtype='int64')"
      ]
     },
     "execution_count": 6,
     "metadata": {},
     "output_type": "execute_result"
    }
   ],
   "source": [
    "sold.index"
   ]
  },
  {
   "cell_type": "code",
   "execution_count": 7,
   "metadata": {},
   "outputs": [
    {
     "data": {
      "text/plain": [
       "Index(['sold', 'training'], dtype='object')"
      ]
     },
     "execution_count": 7,
     "metadata": {},
     "output_type": "execute_result"
    }
   ],
   "source": [
    "sold.columns"
   ]
  },
  {
   "cell_type": "markdown",
   "metadata": {},
   "source": [
    "### 4.5.2.2 First 80 points as training set"
   ]
  },
  {
   "cell_type": "code",
   "execution_count": 8,
   "metadata": {},
   "outputs": [],
   "source": [
    "#Use the the first 80 data points as a training set. \n",
    "#Test the result, with the last 20 data points as a test set. \n",
    "#Report the MSE of both the training and test set.\n",
    "train = sold[:80]\n",
    "test = sold[80:]"
   ]
  },
  {
   "cell_type": "code",
   "execution_count": 9,
   "metadata": {},
   "outputs": [
    {
     "name": "stdout",
     "output_type": "stream",
     "text": [
      "         sold   training\n",
      "1   54.090016  17.973110\n",
      "2   58.508668  20.894466\n",
      "3   78.289739  27.066276\n",
      "4   54.429637  18.342155\n",
      "5   58.200500  18.331571\n",
      "6   55.610002  19.083920\n",
      "7   59.593814  21.036453\n",
      "8   61.224353  20.832367\n",
      "9   48.129578  16.383628\n",
      "10  79.401775  27.776011\n"
     ]
    }
   ],
   "source": [
    "print(train.head(10))"
   ]
  },
  {
   "cell_type": "code",
   "execution_count": 10,
   "metadata": {},
   "outputs": [
    {
     "name": "stdout",
     "output_type": "stream",
     "text": [
      "         sold   training\n",
      "81  15.547442  17.361591\n",
      "82  19.410383  20.032963\n",
      "83  20.483922  21.481617\n",
      "84  19.766275  20.522596\n",
      "85  19.425578  21.709637\n",
      "86  18.965035  17.605356\n",
      "87  22.185855  24.648201\n",
      "88  11.653791  14.502476\n",
      "89  13.111241  16.775681\n",
      "90  22.051706  22.154210\n"
     ]
    }
   ],
   "source": [
    "print(test.head(10))"
   ]
  },
  {
   "cell_type": "code",
   "execution_count": 11,
   "metadata": {},
   "outputs": [
    {
     "data": {
      "text/plain": [
       "LinearRegression(copy_X=True, fit_intercept=True, n_jobs=None,\n",
       "         normalize=False)"
      ]
     },
     "execution_count": 11,
     "metadata": {},
     "output_type": "execute_result"
    }
   ],
   "source": [
    "y_train = train.sold.values\n",
    "x_train = train.training.values.reshape(-1,1)\n",
    "myLR = LinearRegression()\n",
    "myLR.fit(X = x_train, y = y_train)"
   ]
  },
  {
   "cell_type": "code",
   "execution_count": 12,
   "metadata": {},
   "outputs": [
    {
     "data": {
      "text/plain": [
       "array([51.61899285, 58.77922993, 62.66214244, 60.09162114, 63.27331688,\n",
       "       52.27236885, 71.14972444, 43.9555371 , 50.04854151, 64.46493415,\n",
       "       58.15901756, 74.53970188, 74.81202871, 77.97274638, 60.26069884,\n",
       "       51.20338283, 72.6785648 , 63.55057937, 58.8694286 , 55.53272186])"
      ]
     },
     "execution_count": 12,
     "metadata": {},
     "output_type": "execute_result"
    }
   ],
   "source": [
    "x_test = test.training.values\n",
    "myLR.predict(x_test.reshape(-1,1))"
   ]
  },
  {
   "cell_type": "code",
   "execution_count": 13,
   "metadata": {},
   "outputs": [
    {
     "data": {
      "text/plain": [
       "array([15.54744202, 19.41038258, 20.48392198, 19.76627534, 19.42557793,\n",
       "       18.96503492, 22.18585475, 11.65379143, 13.11124062, 22.05170646,\n",
       "       18.70632951, 22.62040632, 24.8780784 , 27.1681929 , 20.52261969,\n",
       "       16.60623558, 22.33791489, 19.19975666, 19.4524492 , 20.01618987])"
      ]
     },
     "execution_count": 13,
     "metadata": {},
     "output_type": "execute_result"
    }
   ],
   "source": [
    "y_test = test.sold.values\n",
    "y_test"
   ]
  },
  {
   "cell_type": "code",
   "execution_count": 14,
   "metadata": {},
   "outputs": [
    {
     "name": "stdout",
     "output_type": "stream",
     "text": [
      "20.397447495809867\n",
      "1765.5658526197572\n"
     ]
    }
   ],
   "source": [
    "#Report the MSE of both the training and test set.\n",
    "from sklearn.metrics import mean_squared_error\n",
    "#train\n",
    "#y_true = y_train\n",
    "y_true = train.sold.values\n",
    "y_pred = myLR.predict(x_train.reshape(-1,1))\n",
    "print(mean_squared_error(y_true, y_pred))\n",
    "\n",
    "#test\n",
    "y_true = test.sold.values\n",
    "y_pred = myLR.predict(x_test.reshape(-1,1))\n",
    "print(mean_squared_error(y_true, y_pred))"
   ]
  },
  {
   "cell_type": "markdown",
   "metadata": {},
   "source": [
    "**Conclusion: train and test set MUST be randomly mixed, values differ too much from both sets!**"
   ]
  },
  {
   "cell_type": "markdown",
   "metadata": {},
   "source": [
    "### 4.5.2.3 Random 80 points as training set"
   ]
  },
  {
   "cell_type": "code",
   "execution_count": 15,
   "metadata": {},
   "outputs": [],
   "source": [
    "#making the test set larger (from 20% to 40%)\n",
    "test = sold[60:]\n",
    "x_test = test.training.values"
   ]
  },
  {
   "cell_type": "code",
   "execution_count": 16,
   "metadata": {},
   "outputs": [],
   "source": [
    "#Repeat the previous question, but use 80 random datapoints as the training set a\n",
    "#and the other 20 data points (watch out for overlap!) data points as test set. \n",
    "#What happened?\n",
    "from sklearn.model_selection import train_test_split\n",
    "train, test = train_test_split(sold, test_size=0.4)"
   ]
  },
  {
   "cell_type": "code",
   "execution_count": 17,
   "metadata": {},
   "outputs": [
    {
     "data": {
      "text/plain": [
       "LinearRegression(copy_X=True, fit_intercept=True, n_jobs=None,\n",
       "         normalize=False)"
      ]
     },
     "execution_count": 17,
     "metadata": {},
     "output_type": "execute_result"
    }
   ],
   "source": [
    "y_train = train.sold.values\n",
    "x_train = train.training.values.reshape(-1,1)\n",
    "myLR = LinearRegression()\n",
    "myLR.fit(X = x_train, y = y_train)"
   ]
  },
  {
   "cell_type": "code",
   "execution_count": 18,
   "metadata": {},
   "outputs": [
    {
     "name": "stdout",
     "output_type": "stream",
     "text": [
      "254.1563264178825\n",
      "399.4675968011073\n"
     ]
    }
   ],
   "source": [
    "#Report the MSE of both the training and test set.\n",
    "from sklearn.metrics import mean_squared_error\n",
    "#train\n",
    "y_true = y_train\n",
    "y_pred = myLR.predict(x_train.reshape(-1,1))\n",
    "print(mean_squared_error(y_true, y_pred))\n",
    "\n",
    "#test\n",
    "y_true = test.sold.values\n",
    "y_pred = myLR.predict(x_test.reshape(-1,1))\n",
    "print(mean_squared_error(y_true, y_pred))"
   ]
  },
  {
   "cell_type": "code",
   "execution_count": 19,
   "metadata": {},
   "outputs": [
    {
     "data": {
      "text/plain": [
       "<seaborn.axisgrid.FacetGrid at 0x12410b518>"
      ]
     },
     "execution_count": 19,
     "metadata": {},
     "output_type": "execute_result"
    },
    {
     "data": {
      "image/png": "[encoded data removed]",
      "text/plain": [
       "<Figure size 360x360 with 1 Axes>"
      ]
     },
     "metadata": {
      "needs_background": "light"
     },
     "output_type": "display_data"
    }
   ],
   "source": [
    "sns.lmplot('training', 'sold', data=sold)"
   ]
  },
  {
   "cell_type": "code",
   "execution_count": 20,
   "metadata": {},
   "outputs": [
    {
     "data": {
      "text/plain": [
       "<seaborn.axisgrid.FacetGrid at 0x12620ec18>"
      ]
     },
     "execution_count": 20,
     "metadata": {},
     "output_type": "execute_result"
    },
    {
     "data": {
      "image/png": "[encoded data removed]",
      "text/plain": [
       "<Figure size 360x360 with 1 Axes>"
      ]
     },
     "metadata": {
      "needs_background": "light"
     },
     "output_type": "display_data"
    }
   ],
   "source": [
    "sns.lmplot('training', 'sold', data=train)"
   ]
  },
  {
   "cell_type": "code",
   "execution_count": 21,
   "metadata": {},
   "outputs": [
    {
     "data": {
      "text/plain": [
       "<seaborn.axisgrid.FacetGrid at 0x12637a710>"
      ]
     },
     "execution_count": 21,
     "metadata": {},
     "output_type": "execute_result"
    },
    {
     "data": {
      "image/png": "[encoded data removed]",
      "text/plain": [
       "<Figure size 360x360 with 1 Axes>"
      ]
     },
     "metadata": {
      "needs_background": "light"
     },
     "output_type": "display_data"
    }
   ],
   "source": [
    "sns.lmplot('training', 'sold', data=test)"
   ]
  },
  {
   "cell_type": "markdown",
   "metadata": {
    "collapsed": true
   },
   "source": [
    "The first 80 data points are the upper points, with clear trend. The last 20 data points are the lower points, with a clear trend. With the first 80 as training set, we get a nice training fit (line through the upper points) and bad test set fit (this line doesn't go through the lower points). With 80 random as training set, we get both a bad training fit and test fit, as there is no clear linear trend in this data."
   ]
  }
 ],
 "metadata": {
  "kernelspec": {
   "display_name": "Python 3",
   "language": "python",
   "name": "python3"
  },
  "language_info": {
   "codemirror_mode": {
    "name": "ipython",
    "version": 3
   },
   "file_extension": ".py",
   "mimetype": "text/x-python",
   "name": "python",
   "nbconvert_exporter": "python",
   "pygments_lexer": "ipython3",
   "version": "3.6.7"
  },
  "toc": {
   "base_numbering": 1,
   "nav_menu": {},
   "number_sections": true,
   "sideBar": true,
   "skip_h1_title": false,
   "title_cell": "Table of Contents",
   "title_sidebar": "Contents",
   "toc_cell": false,
   "toc_position": {},
   "toc_section_display": true,
   "toc_window_display": false
  }
 },
 "nbformat": 4,
 "nbformat_minor": 2
}
