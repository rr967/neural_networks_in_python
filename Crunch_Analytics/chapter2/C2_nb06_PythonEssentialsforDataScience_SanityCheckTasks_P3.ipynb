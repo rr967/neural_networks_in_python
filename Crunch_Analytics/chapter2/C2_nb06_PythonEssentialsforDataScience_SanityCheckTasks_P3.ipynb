{
 "cells": [
  {
   "cell_type": "code",
   "execution_count": 1,
   "metadata": {},
   "outputs": [],
   "source": [
    "# to make the .py script runnable\n",
    "#!/usr/bin/env python"
   ]
  },
  {
   "cell_type": "code",
   "execution_count": 2,
   "metadata": {},
   "outputs": [],
   "source": [
    "from sklearn import datasets\n",
    "import pandas as pd\n",
    "import numpy as np\n",
    "import matplotlib.pyplot as plt\n",
    "\n",
    "%matplotlib inline\n",
    "plt.style.use('ggplot')"
   ]
  },
  {
   "cell_type": "code",
   "execution_count": 3,
   "metadata": {},
   "outputs": [],
   "source": [
    "import os"
   ]
  },
  {
   "cell_type": "markdown",
   "metadata": {},
   "source": [
    "# 2.6 Basic Exploration and Sanity checks - Tasks (done)"
   ]
  },
  {
   "cell_type": "markdown",
   "metadata": {},
   "source": [
    "What follows are a number of tasks in which you will receive or create a dataset to play around with. The main points the allow you to get 'a feel' for the dataset, with functions you create yourself. This is an important and often overlooked part of data science. It allows for sanity checks, which should be done and redone throughout any data science project. A lot of mistakes can be avoided this way, by simple checking of every outcome 'makes sense' (e.g. realising a maximum age in a dataset is 684 years or predicting that a probability is negative). Not all  commands needed have been explained literally previously, so mess around with the build-in Pythin information.\n",
    "\n",
    "Solutions can be found at the bottom."
   ]
  },
  {
   "cell_type": "markdown",
   "metadata": {},
   "source": [
    "## 2.6.1 Tasks"
   ]
  },
  {
   "cell_type": "markdown",
   "metadata": {},
   "source": [
    "### Task 7"
   ]
  },
  {
   "cell_type": "markdown",
   "metadata": {},
   "source": [
    "Generate a Series of 150 ages from a normal distribution with a mean of 35 years, pick your own reasonable SD (sanity check!). Set every fifteenth value to missing. Find the new mean. Fill the missing data with (a) mean (b) median, and report the new means."
   ]
  },
  {
   "cell_type": "markdown",
   "metadata": {},
   "source": [
    "### Task 8"
   ]
  },
  {
   "cell_type": "markdown",
   "metadata": {},
   "source": [
    "- Define a function call 'Standardizing' which works on a series as:\n",
    "    - Find the mean and standard deviation of the series\n",
    "    - Subtract each value of the series with the mean\n",
    "    - Divide the result with the standard deviation\n",
    "    - Returns a series with the results\n",
    "- Test on a random Series\n",
    "    - ask the mean and standard deviation of the standardized series\n",
    "- Apply this function to each numerical column (int or float) of the Titanic Dataset\n",
    "    - Once by manually checking which columns are float or int\n",
    "    - Once by letting Python decide \n",
    "    - ask the mean and standard deviation of the standardized series\n",
    "    \n",
    "Standardizing is a very important technique in statistics, more on this later!"
   ]
  },
  {
   "cell_type": "markdown",
   "metadata": {},
   "source": [
    "### Task 9"
   ]
  },
  {
   "cell_type": "markdown",
   "metadata": {},
   "source": [
    "Create a function called DESCRIBE_X that takes as input a Series, \n",
    "and produces a series containing\n",
    "\n",
    "- `min, max, sum, mean, std, missings, nonmissings, skew, kurtosis`\n",
    "- `percentiles - as specified by the user`\n",
    "\n",
    "so, it looks like:\n",
    "\n",
    "`DESCRIBE_X(s_1, percentiles=[0.1, 0.3, 0.92, 0.99]`\n",
    "\n",
    "Then, apply this function to the 1)rows 2) columns of a random constructed 10 by 5 DataFrame.\n"
   ]
  },
  {
   "cell_type": "markdown",
   "metadata": {},
   "source": [
    "### Task 10"
   ]
  },
  {
   "cell_type": "markdown",
   "metadata": {},
   "source": [
    "- Report the shape of the Titanic DataFrame and the data type of each column.\n",
    "\n",
    "- Subset the data to retain only the passengers that survived. Name this object 'survivors'\n",
    "- Within the 'survivors' find the summary statistics of the 'Age' and 'Fare' variables.\n",
    "\n",
    "- Subset the survivors data to retain only Female passengers.\n",
    "- Find out how many females over the age of 30 survived.\n",
    "\n",
    "- Are there any missing values in the Age columnof the survivors dataframe? Did this impact the previous question?\n",
    "- Make a copy of the survivors dataframe with the missing Age values replaced with the mean.\n",
    "- Report the new summary statistics on Age. What happened? Why?\n",
    "- Find out how now many females over the age of 30 survived now. What changed? Does this make sense? What does this say about the previous result? What if the mean age was 31?\n",
    " "
   ]
  }
 ],
 "metadata": {
  "kernelspec": {
   "display_name": "Python 3",
   "language": "python",
   "name": "python3"
  },
  "language_info": {
   "codemirror_mode": {
    "name": "ipython",
    "version": 3
   },
   "file_extension": ".py",
   "mimetype": "text/x-python",
   "name": "python",
   "nbconvert_exporter": "python",
   "pygments_lexer": "ipython3",
   "version": "3.6.7"
  },
  "toc": {
   "base_numbering": 1,
   "nav_menu": {},
   "number_sections": true,
   "sideBar": true,
   "skip_h1_title": false,
   "title_cell": "Table of Contents",
   "title_sidebar": "Contents",
   "toc_cell": false,
   "toc_position": {},
   "toc_section_display": true,
   "toc_window_display": false
  }
 },
 "nbformat": 4,
 "nbformat_minor": 2
}
