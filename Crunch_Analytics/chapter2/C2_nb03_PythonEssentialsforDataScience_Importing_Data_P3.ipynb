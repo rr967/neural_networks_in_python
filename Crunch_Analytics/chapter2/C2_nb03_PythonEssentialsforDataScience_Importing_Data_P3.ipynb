{
 "cells": [
  {
   "cell_type": "code",
   "execution_count": 1,
   "metadata": {},
   "outputs": [],
   "source": [
    "# to make the .py script runnable\n",
    "#!/usr/bin/env python"
   ]
  },
  {
   "cell_type": "code",
   "execution_count": 2,
   "metadata": {},
   "outputs": [],
   "source": [
    "from sklearn import datasets\n",
    "import pandas as pd\n",
    "import numpy as np\n",
    "import matplotlib.pyplot as plt\n",
    "\n",
    "%matplotlib inline\n",
    "plt.style.use('ggplot')"
   ]
  },
  {
   "cell_type": "code",
   "execution_count": 1,
   "metadata": {},
   "outputs": [],
   "source": [
    "import os"
   ]
  },
  {
   "cell_type": "markdown",
   "metadata": {},
   "source": [
    "# 2.3 Importing data and import/read from and export/ dump to SQL (done)"
   ]
  },
  {
   "cell_type": "markdown",
   "metadata": {},
   "source": [
    "## 2.3.1 CSV Files"
   ]
  },
  {
   "cell_type": "markdown",
   "metadata": {},
   "source": [
    "Reading a CSV is as simple as calling the read_csv function. By default, the `read_csv` function expects the column separator to be a comma, but you can change that using the sep parameter.\n",
    "\n",
    "Syntax: `pd.read_csv(filepath, sep=, header=, names=, skiprows=, na_values= ... )`\n",
    "\n",
    "The example used in this section is a dataframe, an object inherent to pandas. We will take an in depth look at dataframes in the next section."
   ]
  },
  {
   "cell_type": "markdown",
   "metadata": {},
   "source": [
    "### 2.3.1.1 Inspect file without importing it"
   ]
  },
  {
   "cell_type": "code",
   "execution_count": 4,
   "metadata": {},
   "outputs": [
    {
     "name": "stdout",
     "output_type": "stream",
     "text": [
      "     892 data/titanic.csv\r\n"
     ]
    }
   ],
   "source": [
    "!wc -l data/titanic.csv"
   ]
  },
  {
   "cell_type": "code",
   "execution_count": 5,
   "metadata": {},
   "outputs": [
    {
     "name": "stdout",
     "output_type": "stream",
     "text": [
      "PassengerId,Survived,Pclass,Name,Sex,Age,SibSp,Parch,Ticket,Fare,Cabin,Embarked\r",
      "\r\n",
      "1,0,3,\"Braund, Mr. Owen Harris\",male,22,1,0,A/5 21171,7.25,,S\r",
      "\r\n",
      "2,1,1,\"Cumings, Mrs. John Bradley (Florence Briggs Thayer)\",female,38,1,0,PC 17599,71.2833,C85,C\r",
      "\r\n",
      "3,1,3,\"Heikkinen, Miss. Laina\",female,26,0,0,STON/O2. 3101282,7.925,,S\r",
      "\r\n",
      "4,1,1,\"Futrelle, Mrs. Jacques Heath (Lily May Peel)\",female,35,1,0,113803,53.1,C123,S\r",
      "\r\n"
     ]
    }
   ],
   "source": [
    "!head -5 data/titanic.csv #note the difference between the first line and the other lines"
   ]
  },
  {
   "cell_type": "code",
   "execution_count": 6,
   "metadata": {},
   "outputs": [
    {
     "name": "stdout",
     "output_type": "stream",
     "text": [
      "887,0,2,\"Montvila, Rev. Juozas\",male,27,0,0,211536,13,,S\r",
      "\r\n",
      "888,1,1,\"Graham, Miss. Margaret Edith\",female,19,0,0,112053,30,B42,S\r",
      "\r\n",
      "889,0,3,\"Johnston, Miss. Catherine Helen \"\"Carrie\"\"\",female,,1,2,W./C. 6607,23.45,,S\r",
      "\r\n",
      "890,1,1,\"Behr, Mr. Karl Howell\",male,26,0,0,111369,30,C148,C\r",
      "\r\n",
      "891,0,3,\"Dooley, Mr. Patrick\",male,32,0,0,370376,7.75,,Q\r",
      "\r\n"
     ]
    }
   ],
   "source": [
    "!tail -5 data/titanic.csv"
   ]
  },
  {
   "cell_type": "code",
   "execution_count": 7,
   "metadata": {},
   "outputs": [],
   "source": [
    "lines = !head -5 data/titanic.csv #note the difference between the first line and the other lines"
   ]
  },
  {
   "cell_type": "code",
   "execution_count": 8,
   "metadata": {},
   "outputs": [
    {
     "name": "stdout",
     "output_type": "stream",
     "text": [
      "['PassengerId,Survived,Pclass,Name,Sex,Age,SibSp,Parch,Ticket,Fare,Cabin,Embarked', '1,0,3,\"Braund, Mr. Owen Harris\",male,22,1,0,A/5 21171,7.25,,S', '2,1,1,\"Cumings, Mrs. John Bradley (Florence Briggs Thayer)\",female,38,1,0,PC 17599,71.2833,C85,C', '3,1,3,\"Heikkinen, Miss. Laina\",female,26,0,0,STON/O2. 3101282,7.925,,S', '4,1,1,\"Futrelle, Mrs. Jacques Heath (Lily May Peel)\",female,35,1,0,113803,53.1,C123,S']\n"
     ]
    }
   ],
   "source": [
    "print(lines)"
   ]
  },
  {
   "cell_type": "markdown",
   "metadata": {},
   "source": [
    "### 2.3.1.2 Importing a CSV file"
   ]
  },
  {
   "cell_type": "code",
   "execution_count": 9,
   "metadata": {},
   "outputs": [],
   "source": [
    "df_titanic = pd.read_csv('data/titanic.csv')"
   ]
  },
  {
   "cell_type": "code",
   "execution_count": 10,
   "metadata": {},
   "outputs": [
    {
     "data": {
      "text/plain": [
       "pandas.core.frame.DataFrame"
      ]
     },
     "execution_count": 10,
     "metadata": {},
     "output_type": "execute_result"
    }
   ],
   "source": [
    "type(df_titanic)"
   ]
  },
  {
   "cell_type": "code",
   "execution_count": 11,
   "metadata": {},
   "outputs": [
    {
     "data": {
      "text/html": [
       "<div>\n",
       "<style scoped>\n",
       "    .dataframe tbody tr th:only-of-type {\n",
       "        vertical-align: middle;\n",
       "    }\n",
       "\n",
       "    .dataframe tbody tr th {\n",
       "        vertical-align: top;\n",
       "    }\n",
       "\n",
       "    .dataframe thead th {\n",
       "        text-align: right;\n",
       "    }\n",
       "</style>\n",
       "<table border=\"1\" class=\"dataframe\">\n",
       "  <thead>\n",
       "    <tr style=\"text-align: right;\">\n",
       "      <th></th>\n",
       "      <th>PassengerId</th>\n",
       "      <th>Survived</th>\n",
       "      <th>Pclass</th>\n",
       "      <th>Name</th>\n",
       "      <th>Sex</th>\n",
       "      <th>Age</th>\n",
       "      <th>SibSp</th>\n",
       "      <th>Parch</th>\n",
       "      <th>Ticket</th>\n",
       "      <th>Fare</th>\n",
       "      <th>Cabin</th>\n",
       "      <th>Embarked</th>\n",
       "    </tr>\n",
       "  </thead>\n",
       "  <tbody>\n",
       "    <tr>\n",
       "      <th>0</th>\n",
       "      <td>1</td>\n",
       "      <td>0</td>\n",
       "      <td>3</td>\n",
       "      <td>Braund, Mr. Owen Harris</td>\n",
       "      <td>male</td>\n",
       "      <td>22.0</td>\n",
       "      <td>1</td>\n",
       "      <td>0</td>\n",
       "      <td>A/5 21171</td>\n",
       "      <td>7.2500</td>\n",
       "      <td>NaN</td>\n",
       "      <td>S</td>\n",
       "    </tr>\n",
       "    <tr>\n",
       "      <th>1</th>\n",
       "      <td>2</td>\n",
       "      <td>1</td>\n",
       "      <td>1</td>\n",
       "      <td>Cumings, Mrs. John Bradley (Florence Briggs Th...</td>\n",
       "      <td>female</td>\n",
       "      <td>38.0</td>\n",
       "      <td>1</td>\n",
       "      <td>0</td>\n",
       "      <td>PC 17599</td>\n",
       "      <td>71.2833</td>\n",
       "      <td>C85</td>\n",
       "      <td>C</td>\n",
       "    </tr>\n",
       "  </tbody>\n",
       "</table>\n",
       "</div>"
      ],
      "text/plain": [
       "   PassengerId  Survived  Pclass  \\\n",
       "0            1         0       3   \n",
       "1            2         1       1   \n",
       "\n",
       "                                                Name     Sex   Age  SibSp  \\\n",
       "0                            Braund, Mr. Owen Harris    male  22.0      1   \n",
       "1  Cumings, Mrs. John Bradley (Florence Briggs Th...  female  38.0      1   \n",
       "\n",
       "   Parch     Ticket     Fare Cabin Embarked  \n",
       "0      0  A/5 21171   7.2500   NaN        S  \n",
       "1      0   PC 17599  71.2833   C85        C  "
      ]
     },
     "execution_count": 11,
     "metadata": {},
     "output_type": "execute_result"
    }
   ],
   "source": [
    "df_titanic.head(2)"
   ]
  },
  {
   "cell_type": "code",
   "execution_count": 12,
   "metadata": {},
   "outputs": [
    {
     "data": {
      "text/html": [
       "<div>\n",
       "<style scoped>\n",
       "    .dataframe tbody tr th:only-of-type {\n",
       "        vertical-align: middle;\n",
       "    }\n",
       "\n",
       "    .dataframe tbody tr th {\n",
       "        vertical-align: top;\n",
       "    }\n",
       "\n",
       "    .dataframe thead th {\n",
       "        text-align: right;\n",
       "    }\n",
       "</style>\n",
       "<table border=\"1\" class=\"dataframe\">\n",
       "  <thead>\n",
       "    <tr style=\"text-align: right;\">\n",
       "      <th></th>\n",
       "      <th>PassengerId</th>\n",
       "      <th>Survived</th>\n",
       "      <th>Pclass</th>\n",
       "      <th>Name</th>\n",
       "      <th>Sex</th>\n",
       "      <th>Age</th>\n",
       "      <th>SibSp</th>\n",
       "      <th>Parch</th>\n",
       "      <th>Ticket</th>\n",
       "      <th>Fare</th>\n",
       "      <th>Cabin</th>\n",
       "      <th>Embarked</th>\n",
       "    </tr>\n",
       "  </thead>\n",
       "  <tbody>\n",
       "    <tr>\n",
       "      <th>889</th>\n",
       "      <td>890</td>\n",
       "      <td>1</td>\n",
       "      <td>1</td>\n",
       "      <td>Behr, Mr. Karl Howell</td>\n",
       "      <td>male</td>\n",
       "      <td>26.0</td>\n",
       "      <td>0</td>\n",
       "      <td>0</td>\n",
       "      <td>111369</td>\n",
       "      <td>30.00</td>\n",
       "      <td>C148</td>\n",
       "      <td>C</td>\n",
       "    </tr>\n",
       "    <tr>\n",
       "      <th>890</th>\n",
       "      <td>891</td>\n",
       "      <td>0</td>\n",
       "      <td>3</td>\n",
       "      <td>Dooley, Mr. Patrick</td>\n",
       "      <td>male</td>\n",
       "      <td>32.0</td>\n",
       "      <td>0</td>\n",
       "      <td>0</td>\n",
       "      <td>370376</td>\n",
       "      <td>7.75</td>\n",
       "      <td>NaN</td>\n",
       "      <td>Q</td>\n",
       "    </tr>\n",
       "  </tbody>\n",
       "</table>\n",
       "</div>"
      ],
      "text/plain": [
       "     PassengerId  Survived  Pclass                   Name   Sex   Age  SibSp  \\\n",
       "889          890         1       1  Behr, Mr. Karl Howell  male  26.0      0   \n",
       "890          891         0       3    Dooley, Mr. Patrick  male  32.0      0   \n",
       "\n",
       "     Parch  Ticket   Fare Cabin Embarked  \n",
       "889      0  111369  30.00  C148        C  \n",
       "890      0  370376   7.75   NaN        Q  "
      ]
     },
     "execution_count": 12,
     "metadata": {},
     "output_type": "execute_result"
    }
   ],
   "source": [
    "df_titanic.tail(2)"
   ]
  },
  {
   "cell_type": "markdown",
   "metadata": {},
   "source": [
    "## 2.3.2 Support for SQL Databases"
   ]
  },
  {
   "cell_type": "markdown",
   "metadata": {},
   "source": [
    "Pandas also has some support for reading/writing DataFrames directly from/to a database. \n",
    "\n",
    "You'll typically just need to pass a connection object to the `read_frame` or `write_frame` functions within the pandas.io module.\n",
    "\n",
    "***Note*** `write_frame` executes as a series of `INSERT INTO` statements and thus trades speed for simplicity. If you're writing a large DataFrame to a database, it might be quicker to write the DataFrame to CSV and load that directly using the database's file import arguments."
   ]
  },
  {
   "cell_type": "code",
   "execution_count": 13,
   "metadata": {},
   "outputs": [
    {
     "data": {
      "text/plain": [
       "'/Users/AVNH/0 - Crunch Analytics/Notebooks/data'"
      ]
     },
     "execution_count": 13,
     "metadata": {},
     "output_type": "execute_result"
    }
   ],
   "source": [
    "os.getcwd() + '/data'"
   ]
  },
  {
   "cell_type": "code",
   "execution_count": 14,
   "metadata": {},
   "outputs": [
    {
     "data": {
      "text/plain": [
       "['store_info.csv',\n",
       " 'towed.db',\n",
       " 'all_the_misses.csv',\n",
       " 'titanic.csv',\n",
       " 'features.csv',\n",
       " 'historic_sales.csv']"
      ]
     },
     "execution_count": 14,
     "metadata": {},
     "output_type": "execute_result"
    }
   ],
   "source": [
    "os.listdir(os.getcwd() + '/data')"
   ]
  },
  {
   "cell_type": "code",
   "execution_count": 15,
   "metadata": {},
   "outputs": [
    {
     "name": "stdout",
     "output_type": "stream",
     "text": [
      "towed.db\n"
     ]
    }
   ],
   "source": [
    "dblist = [x for x in os.listdir(os.getcwd() + '/data') if '.db' in x]\n",
    "\n",
    "for db in dblist:\n",
    "    print(db)"
   ]
  },
  {
   "cell_type": "code",
   "execution_count": null,
   "metadata": {},
   "outputs": [],
   "source": [
    "help(pd.read_sql) #Delete the '#' to see some extra info"
   ]
  },
  {
   "cell_type": "code",
   "execution_count": 16,
   "metadata": {},
   "outputs": [
    {
     "name": "stdout",
     "output_type": "stream",
     "text": [
      "         date  make style model color    plate state             towed_to  \\\n",
      "0  11/18/2014  FORD    LL         BLK  S105053    IL        10300 S. Doty   \n",
      "1  11/18/2014  FORD    LL         WHI  N104269    IL  400 E. Lower Wacker   \n",
      "2  11/18/2014  FORD    2D         WHI  V519776    IL    701 N. Sacramento   \n",
      "3  11/18/2014  FORD    PK    TK   RED             IL    701 N. Sacramento   \n",
      "4  11/18/2014  FORD    4D         GRY             IL    701 N. Sacramento   \n",
      "\n",
      "    facility_phone  inventory_num  \n",
      "0  (773) 568-8495         2750424  \n",
      "1   (312) 744-7550         917123  \n",
      "2   (773) 265-1846        1532925  \n",
      "3   (773) 265-7605        6798362  \n",
      "4   (773) 265-7605        6798317  \n"
     ]
    }
   ],
   "source": [
    "from pandas.io import sql\n",
    "import sqlite3 \n",
    "\n",
    "conn = sqlite3.connect('data/towed.db')\n",
    "query = \"SELECT * FROM towed WHERE make = 'FORD';\"\n",
    "\n",
    "results = pd.read_sql(query, con=conn)\n",
    "print(results.head())"
   ]
  },
  {
   "cell_type": "code",
   "execution_count": 17,
   "metadata": {},
   "outputs": [
    {
     "data": {
      "text/html": [
       "<div>\n",
       "<style scoped>\n",
       "    .dataframe tbody tr th:only-of-type {\n",
       "        vertical-align: middle;\n",
       "    }\n",
       "\n",
       "    .dataframe tbody tr th {\n",
       "        vertical-align: top;\n",
       "    }\n",
       "\n",
       "    .dataframe thead th {\n",
       "        text-align: right;\n",
       "    }\n",
       "</style>\n",
       "<table border=\"1\" class=\"dataframe\">\n",
       "  <thead>\n",
       "    <tr style=\"text-align: right;\">\n",
       "      <th></th>\n",
       "      <th>make</th>\n",
       "      <th>count(*)</th>\n",
       "    </tr>\n",
       "  </thead>\n",
       "  <tbody>\n",
       "    <tr>\n",
       "      <th>0</th>\n",
       "      <td>CHEV</td>\n",
       "      <td>870</td>\n",
       "    </tr>\n",
       "    <tr>\n",
       "      <th>1</th>\n",
       "      <td>FORD</td>\n",
       "      <td>605</td>\n",
       "    </tr>\n",
       "    <tr>\n",
       "      <th>2</th>\n",
       "      <td>DODG</td>\n",
       "      <td>386</td>\n",
       "    </tr>\n",
       "    <tr>\n",
       "      <th>3</th>\n",
       "      <td>PONT</td>\n",
       "      <td>368</td>\n",
       "    </tr>\n",
       "    <tr>\n",
       "      <th>4</th>\n",
       "      <td>TOYT</td>\n",
       "      <td>292</td>\n",
       "    </tr>\n",
       "    <tr>\n",
       "      <th>5</th>\n",
       "      <td>BUIC</td>\n",
       "      <td>283</td>\n",
       "    </tr>\n",
       "    <tr>\n",
       "      <th>6</th>\n",
       "      <td>NISS</td>\n",
       "      <td>273</td>\n",
       "    </tr>\n",
       "    <tr>\n",
       "      <th>7</th>\n",
       "      <td>HOND</td>\n",
       "      <td>251</td>\n",
       "    </tr>\n",
       "    <tr>\n",
       "      <th>8</th>\n",
       "      <td>CHRY</td>\n",
       "      <td>195</td>\n",
       "    </tr>\n",
       "    <tr>\n",
       "      <th>9</th>\n",
       "      <td>OLDS</td>\n",
       "      <td>144</td>\n",
       "    </tr>\n",
       "  </tbody>\n",
       "</table>\n",
       "</div>"
      ],
      "text/plain": [
       "   make  count(*)\n",
       "0  CHEV       870\n",
       "1  FORD       605\n",
       "2  DODG       386\n",
       "3  PONT       368\n",
       "4  TOYT       292\n",
       "5  BUIC       283\n",
       "6  NISS       273\n",
       "7  HOND       251\n",
       "8  CHRY       195\n",
       "9  OLDS       144"
      ]
     },
     "execution_count": 17,
     "metadata": {},
     "output_type": "execute_result"
    }
   ],
   "source": [
    "pd.read_sql(\"SELECT distinct make, count(*) from towed group by 1 order by 2 desc limit 10\", conn)"
   ]
  },
  {
   "cell_type": "code",
   "execution_count": 19,
   "metadata": {},
   "outputs": [],
   "source": [
    "from pandas.io import sql\n",
    "import sqlite3 \n",
    "\n",
    "conn = sqlite3.connect('data/towed.db')\n",
    "\n",
    "#use to_sql instead of write_frame\n",
    "df_titanic.to_sql(\"tbTitanic\", con=conn)"
   ]
  },
  {
   "cell_type": "code",
   "execution_count": 20,
   "metadata": {},
   "outputs": [
    {
     "name": "stdout",
     "output_type": "stream",
     "text": [
      "   index  PassengerId  Survived  Pclass  \\\n",
      "0      0            1         0       3   \n",
      "1      1            2         1       1   \n",
      "2      2            3         1       3   \n",
      "3      3            4         1       1   \n",
      "4      4            5         0       3   \n",
      "\n",
      "                                                Name     Sex   Age  SibSp  \\\n",
      "0                            Braund, Mr. Owen Harris    male  22.0      1   \n",
      "1  Cumings, Mrs. John Bradley (Florence Briggs Th...  female  38.0      1   \n",
      "2                             Heikkinen, Miss. Laina  female  26.0      0   \n",
      "3       Futrelle, Mrs. Jacques Heath (Lily May Peel)  female  35.0      1   \n",
      "4                           Allen, Mr. William Henry    male  35.0      0   \n",
      "\n",
      "   Parch            Ticket     Fare Cabin Embarked  \n",
      "0      0         A/5 21171   7.2500  None        S  \n",
      "1      0          PC 17599  71.2833   C85        C  \n",
      "2      0  STON/O2. 3101282   7.9250  None        S  \n",
      "3      0            113803  53.1000  C123        S  \n",
      "4      0            373450   8.0500  None        S  \n"
     ]
    }
   ],
   "source": [
    "from pandas.io import sql\n",
    "import sqlite3 \n",
    "\n",
    "conn = sqlite3.connect('data/towed.db')\n",
    "#query = \"select * from sqlite_master where type = 'table';\"\n",
    "query = \"SELECT * FROM tbTitanic;\"\n",
    "\n",
    "df_titanic2 = pd.read_sql(query, con=conn)\n",
    "print(df_titanic2.head())"
   ]
  },
  {
   "cell_type": "code",
   "execution_count": 21,
   "metadata": {},
   "outputs": [
    {
     "name": "stdout",
     "output_type": "stream",
     "text": [
      "            date  make style model color     plate state             towed_to  \\\n",
      "0     11/18/2014  FORD    LL         BLK   S105053    IL        10300 S. Doty   \n",
      "1     11/18/2014  HOND    4D   ACC   BLK   S415270    IL  400 E. Lower Wacker   \n",
      "2     11/18/2014  CHRY    VN         SIL   V847641    IL    701 N. Sacramento   \n",
      "3     11/18/2014  HYUN    4D         SIL   N756530    IL  400 E. Lower Wacker   \n",
      "4     11/18/2014  TOYT    4D         WHI   K702211    IL  400 E. Lower Wacker   \n",
      "5     11/18/2014  PONT    VN    TK   TAN   V415912    IL    701 N. Sacramento   \n",
      "6     11/18/2014  JEEP    LL    TK   RED   717R342    IL    701 N. Sacramento   \n",
      "7     11/18/2014  CHEV    4D         BLK   E255028    IL  400 E. Lower Wacker   \n",
      "8     11/18/2014  SUBA    4D         SIL   FOA2720    OH  400 E. Lower Wacker   \n",
      "9     11/18/2014  VOLK    2D         BLK   R775959    IL  400 E. Lower Wacker   \n",
      "10    11/18/2014  MERZ    4D         BLK   S796032    IL        10300 S. Doty   \n",
      "11    11/18/2014  BUIC    4D         SIL   V523607    IL        10300 S. Doty   \n",
      "12    11/18/2014  CHEV    2D         RED   787R772    IL        10300 S. Doty   \n",
      "13    11/18/2014  FORD    LL         WHI   N104269    IL  400 E. Lower Wacker   \n",
      "14    11/18/2014  HOND    4D         BLU   V332105    IL    701 N. Sacramento   \n",
      "15    11/18/2014  FORD    2D         WHI   V519776    IL    701 N. Sacramento   \n",
      "16    11/18/2014  PONT    4D         TAN   V415926    IL    701 N. Sacramento   \n",
      "17    11/18/2014  FORD    PK    TK   RED              IL    701 N. Sacramento   \n",
      "18    11/18/2014  TOYT    VN   SNA   BLU   30021TX    IL    701 N. Sacramento   \n",
      "19    11/18/2014  NISS    VN    TK   SIL              IL    701 N. Sacramento   \n",
      "20    11/18/2014   GMC    LL         BLK   R417487    IL    701 N. Sacramento   \n",
      "21    11/18/2014  TOYT    4D         BLK   R599363    IL    701 N. Sacramento   \n",
      "22    11/18/2014  LEXS    4D         BLK   3110153    IL  400 E. Lower Wacker   \n",
      "23    11/18/2014  NISS    4D         GRY   K605011    IL  400 E. Lower Wacker   \n",
      "24    11/18/2014  TOYT    4D         WHI   K638224    IL  400 E. Lower Wacker   \n",
      "25    11/18/2014  CHEV    4D         BLK   V929955    IL  400 E. Lower Wacker   \n",
      "26    11/18/2014  DODG    VN   CVN   DBL   N339079    IL    701 N. Sacramento   \n",
      "27    11/18/2014  JEEP    LL         GRY   R421374    IL    701 N. Sacramento   \n",
      "28    11/18/2014  HYUN    4D         GLD   V391056    IL    701 N. Sacramento   \n",
      "29    11/18/2014  BUIC    4D         WHI   S218814    IL    701 N. Sacramento   \n",
      "...          ...   ...   ...   ...   ...       ...   ...                  ...   \n",
      "5035  08/21/2014  HOND    4D   ACC   GRY   7385169    IL    701 N. Sacramento   \n",
      "5036  08/21/2014   ROV    LL         GRN   L629391    IL    701 N. Sacramento   \n",
      "5037  08/21/2014  FORD    LL    TK   SIL   L301550    IL    701 N. Sacramento   \n",
      "5038  08/21/2014  DODG    4D         RED   N312009    IL    701 N. Sacramento   \n",
      "5039  08/21/2014  TOYT    4D         WHI   S118519    IL    701 N. Sacramento   \n",
      "5040  08/21/2014  LINC    4D   CON   SIL   K386385    IL    701 N. Sacramento   \n",
      "5041  08/21/2014  DODG    VN    TK   TAN   X303991    IL        10300 S. Doty   \n",
      "5042  08/21/2014  DODG    2D         WHI  1354595B    IL        10300 S. Doty   \n",
      "5043  08/21/2014  DODG    LL    TK   WHI   N139158    IL        10300 S. Doty   \n",
      "5044  08/21/2014   KIA    4D         BLK    IBJ943    IN        10300 S. Doty   \n",
      "5045  08/21/2014   GMC    LL    TK   WHI   AD67298    AZ        10300 S. Doty   \n",
      "5046  08/21/2014  CADI    4D   ELD   BLK   321R401    IL        10300 S. Doty   \n",
      "5047  08/21/2014  CHEV    4D   IMP   SIL   379R975    IL    701 N. Sacramento   \n",
      "5048  08/21/2014   GMC    4D   JMY   GRY   V159841    IL        10300 S. Doty   \n",
      "5049  08/21/2014  DODG    4D   CHA   SIL   R841318    IL        10300 S. Doty   \n",
      "5050  08/21/2014   KIA    LL         GRN   P234420    IL        10300 S. Doty   \n",
      "5051  08/21/2014  FORD    VN    TK   WHI   1449768    IL    701 N. Sacramento   \n",
      "5052  08/21/2014  DODG    VN         GRY   600R519    IL    701 N. Sacramento   \n",
      "5053  08/21/2014  CADI    4D         WHI   R956127    IL    701 N. Sacramento   \n",
      "5054  08/21/2014  BUIC    4D         GRY   E987287    IL    701 N. Sacramento   \n",
      "5055  08/21/2014  CHEV    VN    TK   WHI   263R725    IL    701 N. Sacramento   \n",
      "5056  08/21/2014  CHEV    4D         SIL   V589509    IL    701 N. Sacramento   \n",
      "5057  08/21/2014  ACUR    4D         GRY   8797203    IL        10300 S. Doty   \n",
      "5058  08/21/2014  NISS    4D         GRY   R600128    IL        10300 S. Doty   \n",
      "5059  08/21/2014  FORD    LL    TK   BLK   N762179    IL        10300 S. Doty   \n",
      "5060  08/21/2014  HOND    4D         GRY   S189762    IL    701 N. Sacramento   \n",
      "5061  08/20/2014  NISS    2D         GRY   V795149    IL    701 N. Sacramento   \n",
      "5062  08/20/2014  FORD    VN    TK   MAR   V468364    IL    701 N. Sacramento   \n",
      "5063  08/20/2014  LEXS    4D         BLK   P743610    IL        10300 S. Doty   \n",
      "5064  08/20/2014  BUIC    4D         GRY              IL    701 N. Sacramento   \n",
      "\n",
      "       facility_phone  inventory_num  \n",
      "0     (773) 568-8495         2750424  \n",
      "1      (312) 744-7550         917129  \n",
      "2      (773) 265-7605        6798366  \n",
      "3      (312) 744-7550         917127  \n",
      "4      (312) 744-7550         917128  \n",
      "5      (773) 265-7605        6798365  \n",
      "6      (773) 265-7605        6798364  \n",
      "7      (312) 744-7550         917126  \n",
      "8      (312) 744-7550         917125  \n",
      "9      (312) 744-7550         917124  \n",
      "10    (773) 568-8495         2750423  \n",
      "11    (773) 568-8495         2750422  \n",
      "12    (773) 568-8495         2750421  \n",
      "13     (312) 744-7550         917123  \n",
      "14     (773) 265-1846        1532926  \n",
      "15     (773) 265-1846        1532925  \n",
      "16     (773) 265-7605        6798363  \n",
      "17     (773) 265-7605        6798362  \n",
      "18     (773) 265-7605        6798361  \n",
      "19     (773) 265-7605        6798360  \n",
      "20     (773) 265-7605        6798359  \n",
      "21     (773) 265-7605        6798358  \n",
      "22     (312) 744-7550         917121  \n",
      "23     (312) 744-7550         917118  \n",
      "24     (312) 744-7550         917115  \n",
      "25     (312) 744-7550         917112  \n",
      "26     (773) 265-7605        6798357  \n",
      "27     (773) 265-7605        6798356  \n",
      "28     (773) 265-7605        6798355  \n",
      "29     (773) 265-7605        6798354  \n",
      "...               ...            ...  \n",
      "5035   (773) 265-7605        6791179  \n",
      "5036   (773) 265-7605        6791177  \n",
      "5037   (773) 265-7605        6791176  \n",
      "5038   (773) 265-7605        6791205  \n",
      "5039   (773) 265-7605        6791204  \n",
      "5040   (773) 265-7605        6791194  \n",
      "5041  (773) 568-8495         2744163  \n",
      "5042  (773) 568-8495         2744156  \n",
      "5043  (773) 568-8495         2744164  \n",
      "5044  (773) 568-8495         2744179  \n",
      "5045  (773) 568-8495         2744149  \n",
      "5046  (773) 568-8495         2744160  \n",
      "5047   (773) 265-7605        6791175  \n",
      "5048  (773) 568-8495         2744148  \n",
      "5049  (773) 568-8495         2744153  \n",
      "5050  (773) 568-8495         2744151  \n",
      "5051   (773) 265-7605        6791193  \n",
      "5052   (773) 265-7605        6791174  \n",
      "5053   (773) 265-7605        6791170  \n",
      "5054   (773) 265-7605        6791171  \n",
      "5055   (773) 265-7605        6791168  \n",
      "5056   (773) 265-7605        6791167  \n",
      "5057  (773) 568-8495         2744128  \n",
      "5058  (773) 568-8495         2744217  \n",
      "5059  (773) 568-8495         2744213  \n",
      "5060   (773) 265-7605        6791155  \n",
      "5061   (773) 265-7605        6791150  \n",
      "5062   (773) 265-7605        6791149  \n",
      "5063  (773) 568-8495         2744115  \n",
      "5064   (773) 265-7605        6791143  \n",
      "\n",
      "[5065 rows x 10 columns]\n"
     ]
    }
   ],
   "source": [
    "#dump one table\n",
    "\n",
    "import sqlite3\n",
    "import pandas as pd\n",
    "\n",
    "db = sqlite3.connect('data/towed.db')\n",
    "table = pd.read_sql_query(\"SELECT * from towed\", db)\n",
    "#table.to_csv(table_name + '.csv', index_label='index')\n",
    "print(table)"
   ]
  },
  {
   "cell_type": "code",
   "execution_count": 24,
   "metadata": {},
   "outputs": [
    {
     "name": "stdout",
     "output_type": "stream",
     "text": [
      "[('towed',), ('dbTitanic',), ('tbTitanic',)]\n",
      "('towed',)\n",
      "SELECT * from towed LIMIT 3;\n",
      "         date  make style model color    plate state             towed_to  \\\n",
      "0  11/18/2014  FORD    LL         BLK  S105053    IL        10300 S. Doty   \n",
      "1  11/18/2014  HOND    4D   ACC   BLK  S415270    IL  400 E. Lower Wacker   \n",
      "2  11/18/2014  CHRY    VN         SIL  V847641    IL    701 N. Sacramento   \n",
      "\n",
      "    facility_phone  inventory_num  \n",
      "0  (773) 568-8495         2750424  \n",
      "1   (312) 744-7550         917129  \n",
      "2   (773) 265-7605        6798366  \n",
      "('dbTitanic',)\n",
      "SELECT * from dbTitanic LIMIT 3;\n",
      "   index  PassengerId  Survived  Pclass  \\\n",
      "0      0            1         0       3   \n",
      "1      1            2         1       1   \n",
      "2      2            3         1       3   \n",
      "\n",
      "                                                Name     Sex   Age  SibSp  \\\n",
      "0                            Braund, Mr. Owen Harris    male  22.0      1   \n",
      "1  Cumings, Mrs. John Bradley (Florence Briggs Th...  female  38.0      1   \n",
      "2                             Heikkinen, Miss. Laina  female  26.0      0   \n",
      "\n",
      "   Parch            Ticket     Fare Cabin Embarked  \n",
      "0      0         A/5 21171   7.2500  None        S  \n",
      "1      0          PC 17599  71.2833   C85        C  \n",
      "2      0  STON/O2. 3101282   7.9250  None        S  \n",
      "('tbTitanic',)\n",
      "SELECT * from tbTitanic LIMIT 3;\n",
      "   index  PassengerId  Survived  Pclass  \\\n",
      "0      0            1         0       3   \n",
      "1      1            2         1       1   \n",
      "2      2            3         1       3   \n",
      "\n",
      "                                                Name     Sex   Age  SibSp  \\\n",
      "0                            Braund, Mr. Owen Harris    male  22.0      1   \n",
      "1  Cumings, Mrs. John Bradley (Florence Briggs Th...  female  38.0      1   \n",
      "2                             Heikkinen, Miss. Laina  female  26.0      0   \n",
      "\n",
      "   Parch            Ticket     Fare Cabin Embarked  \n",
      "0      0         A/5 21171   7.2500  None        S  \n",
      "1      0          PC 17599  71.2833   C85        C  \n",
      "2      0  STON/O2. 3101282   7.9250  None        S  \n"
     ]
    }
   ],
   "source": [
    "#dump all tables\n",
    "\n",
    "import sqlite3\n",
    "import pandas as pd\n",
    "\n",
    "def to_csv():\n",
    "    db = sqlite3.connect('data/towed.db')\n",
    "    cursor = db.cursor()\n",
    "    query = \"SELECT name FROM sqlite_master WHERE type='table';\"\n",
    "    cursor.execute(query)\n",
    "    tables = cursor.fetchall()\n",
    "    print(tables)\n",
    "    for table_name in tables:\n",
    "        print(table_name)\n",
    "        #table_name = table_name[0]\n",
    "        sql = \"SELECT * from %s LIMIT 3;\" % table_name\n",
    "        print(sql)\n",
    "        table = pd.read_sql_query(sql, db)\n",
    "        #table.to_csv(table_name + '.csv', index_label='index')\n",
    "        print (table.head())\n",
    "        \n",
    "to_csv()"
   ]
  },
  {
   "cell_type": "markdown",
   "metadata": {},
   "source": [
    "---\n",
    "\n",
    "Read: \n",
    "\n",
    "1. Homepage http://www.sqlalchemy.org/\n",
    "2. Engines http://docs.sqlalchemy.org/en/latest/core/engines.html\n",
    "\n",
    "---"
   ]
  },
  {
   "cell_type": "markdown",
   "metadata": {},
   "source": [
    "## 2.3.3 Reading from the Clipboard!"
   ]
  },
  {
   "cell_type": "markdown",
   "metadata": {},
   "source": [
    "This is as straight forward as it ought to be.\n",
    "\n",
    "Example: `df_2 = pd.read_clipboard(); df_2.head()`\n",
    "\n",
    "---"
   ]
  }
 ],
 "metadata": {
  "kernelspec": {
   "display_name": "Python 3 (ipykernel)",
   "language": "python",
   "name": "python3"
  },
  "language_info": {
   "codemirror_mode": {
    "name": "ipython",
    "version": 3
   },
   "file_extension": ".py",
   "mimetype": "text/x-python",
   "name": "python",
   "nbconvert_exporter": "python",
   "pygments_lexer": "ipython3",
   "version": "3.9.6"
  },
  "toc": {
   "base_numbering": 1,
   "nav_menu": {},
   "number_sections": true,
   "sideBar": true,
   "skip_h1_title": false,
   "title_cell": "Table of Contents",
   "title_sidebar": "Contents",
   "toc_cell": false,
   "toc_position": {},
   "toc_section_display": true,
   "toc_window_display": false
  }
 },
 "nbformat": 4,
 "nbformat_minor": 4
}
