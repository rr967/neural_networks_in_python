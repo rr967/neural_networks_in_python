{
 "cells": [
  {
   "cell_type": "markdown",
   "metadata": {},
   "source": [
    "# Stress test 7"
   ]
  },
  {
   "cell_type": "code",
   "execution_count": null,
   "metadata": {},
   "outputs": [],
   "source": [
    "#load the 3 functions we defined from the model building notebook and new one to split data\n",
    "from model_functions_3 import load_and_preprocess_data, make_churn_model, test_model, import_data_and_split_datasets\n",
    "\n",
    "#train model on june data\n",
    "rf, acc, conf_matrix = make_churn_model('data_jun')"
   ]
  },
  {
   "cell_type": "code",
   "execution_count": null,
   "metadata": {},
   "outputs": [],
   "source": [
    "#test the model on new data from july\n",
    "acc, conf_matrix = test_model('data_jul_broken7', rf)"
   ]
  },
  {
   "cell_type": "code",
   "execution_count": null,
   "metadata": {},
   "outputs": [],
   "source": [
    "acc"
   ]
  },
  {
   "cell_type": "code",
   "execution_count": null,
   "metadata": {},
   "outputs": [],
   "source": [
    "conf_matrix"
   ]
  },
  {
   "cell_type": "markdown",
   "metadata": {},
   "source": [
    "Very bad predictions, what happened?"
   ]
  },
  {
   "cell_type": "code",
   "execution_count": null,
   "metadata": {
    "collapsed": true
   },
   "outputs": [],
   "source": [
    "import pandas as pd\n",
    "def load_and_preprocess_data_with_userid_and_month(csv_name):\n",
    "    \n",
    "    #import data \n",
    "    path = str('data/' + csv_name + '.csv')\n",
    "    app_df = pd.read_csv(path, index_col = 0)\n",
    "    \n",
    "    \n",
    "    #put sub_amount on same scale\n",
    "    def sub_amount_transformer(x):\n",
    "        if x['payment_freq'] == 'Quarterly':\n",
    "            return x['sub_amount'] * 4\n",
    "        elif x['payment_freq'] == 'Monthly':\n",
    "            return x['sub_amount'] * 12\n",
    "        else:\n",
    "            return x['sub_amount']\n",
    "\n",
    "    app_df['sub_amount'] = app_df.apply(lambda x: sub_amount_transformer(x), axis = 1)\n",
    "    \n",
    "    #add dummy variables for categorical variables\n",
    "    app_df = pd.get_dummies(data = app_df, columns = ['payment_method', 'payment_freq', 'platform'])\n",
    "\n",
    "    #dummies for location\n",
    "    app_df['location_be'] = [1 if x == 0 else 0 for x in app_df['location']]\n",
    "    app_df.rename(columns={'location': 'location_nl'}, inplace=True)\n",
    "    \n",
    "    return app_df"
   ]
  },
  {
   "cell_type": "code",
   "execution_count": null,
   "metadata": {},
   "outputs": [],
   "source": [
    "df = load_and_preprocess_data_with_userid_and_month('data_jul_broken7')\n",
    "print(len(df.loc[df['month'] == 'jun']))\n",
    "print(len(df.loc[df['month'] == 'jul']))"
   ]
  },
  {
   "cell_type": "markdown",
   "metadata": {},
   "source": [
    "The amount of data is not the same in different months, we will need to make an automatic test that checks if the lengths differ significantly."
   ]
  },
  {
   "cell_type": "markdown",
   "metadata": {},
   "source": [
    "# Add a check to see if size of data is similar across datasets"
   ]
  },
  {
   "cell_type": "code",
   "execution_count": null,
   "metadata": {
    "collapsed": true
   },
   "outputs": [],
   "source": [
    "import pandas as pd\n",
    "def load_and_preprocess_data_with_userid(csv_name):\n",
    "    \n",
    "    #import data \n",
    "    path = str('../data/' + csv_name + '.csv')\n",
    "    app_df = pd.read_csv(path, index_col = 0)\n",
    "    \n",
    "    #only keep new data from current month\n",
    "    app_df = app_df.loc[app_df['month'] == csv_name.split('_')[1]]\n",
    "    \n",
    "    print('training on month: ' + app_df.month.unique())\n",
    "    print('number of rows: ' + str(len(app_df)))\n",
    "    #print 'value counts ' + str(app_df.churn.value_counts())\n",
    "    \n",
    "    app_df = app_df.drop(['month'], axis = 1) \n",
    "    \n",
    "    #put sub_amount on same scale\n",
    "    def sub_amount_transformer(x):\n",
    "        if x['payment_freq'] == 'Quarterly':\n",
    "            return x['sub_amount'] * 4\n",
    "        elif x['payment_freq'] == 'Monthly':\n",
    "            return x['sub_amount'] * 12\n",
    "        else:\n",
    "            return x['sub_amount']\n",
    "\n",
    "    app_df['sub_amount'] = app_df.apply(lambda x: sub_amount_transformer(x), axis = 1)\n",
    "    \n",
    "    #add dummy variables for categorical variables\n",
    "    app_df = pd.get_dummies(data = app_df, columns = ['payment_method', 'payment_freq', 'platform'])\n",
    "\n",
    "    #dummies for location\n",
    "    app_df['location_be'] = [1 if x == 0 else 0 for x in app_df['location']]\n",
    "    app_df.rename(columns={'location': 'location_nl'}, inplace=True)\n",
    "    \n",
    "    return app_df"
   ]
  },
  {
   "cell_type": "code",
   "execution_count": null,
   "metadata": {
    "collapsed": true
   },
   "outputs": [],
   "source": [
    "'''\n",
    "Check 7:\n",
    "Check if length of dataset are the same, put a threshold\n",
    "If not: return False\n",
    "'''\n",
    "\n",
    "def check_sizes(csv_name, threshold = 1.5):\n",
    "    \n",
    "    df = load_and_preprocess_data_with_userid_and_month(csv_name)\n",
    "    old_df = df.loc[df['month'] == 'jun']\n",
    "    new_df = df.loc[df['month'] == 'jul']\n",
    "    \n",
    "    len_diff = len(new_df) / float(len(old_df))\n",
    "\n",
    "    \n",
    "    if len_diff < threshold:\n",
    "        answer = True\n",
    "        \n",
    "    else: \n",
    "        answer = False\n",
    "\n",
    "    return answer"
   ]
  },
  {
   "cell_type": "code",
   "execution_count": null,
   "metadata": {},
   "outputs": [],
   "source": [
    "check_sizes('data_jul_broken7')"
   ]
  },
  {
   "cell_type": "code",
   "execution_count": null,
   "metadata": {
    "collapsed": true
   },
   "outputs": [],
   "source": []
  }
 ],
 "metadata": {
  "kernelspec": {
   "display_name": "Python 3",
   "language": "python",
   "name": "python3"
  },
  "language_info": {
   "codemirror_mode": {
    "name": "ipython",
    "version": 3
   },
   "file_extension": ".py",
   "mimetype": "text/x-python",
   "name": "python",
   "nbconvert_exporter": "python",
<<<<<<< Updated upstream
   "pygments_lexer": "ipython3",
   "version": "3.7.1"
=======
   "pygments_lexer": "ipython2",
   "version": "2.7.15"
>>>>>>> Stashed changes
  }
 },
 "nbformat": 4,
 "nbformat_minor": 2
}
