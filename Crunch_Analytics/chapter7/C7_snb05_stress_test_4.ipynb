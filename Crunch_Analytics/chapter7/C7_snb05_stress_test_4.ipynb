{
 "cells": [
  {
   "cell_type": "markdown",
   "metadata": {},
   "source": [
    "# Stress test 4"
   ]
  },
  {
   "cell_type": "code",
   "execution_count": null,
   "metadata": {},
   "outputs": [],
   "source": [
    "#load the 3 functions we defined from the model building notebook and new one to split data\n",
    "from model_functions_3 import load_and_preprocess_data, make_churn_model, test_model, import_data_and_split_datasets\n",
    "\n",
    "#train model on june data\n",
    "rf, acc, conf_matrix = make_churn_model('data_jun')"
   ]
  },
  {
   "cell_type": "code",
   "execution_count": null,
   "metadata": {},
   "outputs": [],
   "source": [
    "#test the model on new data from july\n",
    "rf, acc, conf_matrix = test_model('data_jul_broken4', rf)"
   ]
  },
  {
   "cell_type": "markdown",
   "metadata": {},
   "source": [
    "We get an error - ValueError: could not convert string to float: Bel. Let's find out whats going wrong."
   ]
  },
  {
   "cell_type": "code",
   "execution_count": null,
   "metadata": {},
   "outputs": [],
   "source": [
    "X, y = load_and_preprocess_data('data_jul_broken4')"
   ]
  },
  {
   "cell_type": "code",
   "execution_count": null,
   "metadata": {},
   "outputs": [],
   "source": [
    "X.sample(5)"
   ]
  },
  {
   "cell_type": "code",
   "execution_count": null,
   "metadata": {},
   "outputs": [],
   "source": [
    "#import data and subset new data\n",
    "import pandas as pd\n",
    "app_df = pd.read_csv('data/data_jul_broken4.csv', index_col = 0)\n",
    "app_df = app_df.loc[app_df['month'] == 'jul']\n",
    "app_df.location.unique()"
   ]
  },
  {
   "cell_type": "markdown",
   "metadata": {},
   "source": [
    "Look's like our location variable transformed into strings instead of integers."
   ]
  },
  {
   "cell_type": "markdown",
   "metadata": {},
   "source": [
    "# Add a check for the same categorical values "
   ]
  },
  {
   "cell_type": "code",
   "execution_count": null,
   "metadata": {
    "collapsed": true
   },
   "outputs": [],
   "source": [
    "'''\n",
    "Check 4:\n",
    "Check if categorical variables their unique values are the same across datasets.\n",
    "Output columns that are not.\n",
    "'''\n",
    "from itertools import compress\n",
    "def check_new_values_categories(csv_name):\n",
    "    \n",
    "    past_df, new_df = import_data_and_split_datasets(csv_name)\n",
    "    \n",
    "    #which cols contain categorical variables\n",
    "    cols = ['payment_freq', 'payment_method', 'location', 'platform']\n",
    "    bool_list = []\n",
    "    \n",
    "    #check if unique values for a column are the same\n",
    "    for col in cols:\n",
    "        val = set(past_df[col].unique()) != set(new_df[col].unique())\n",
    "        bool_list.append(val)\n",
    "        \n",
    "    #make a list with all the columns \n",
    "    result = list(compress(cols, bool_list))\n",
    "        \n",
    "    return result"
   ]
  },
  {
   "cell_type": "code",
   "execution_count": null,
   "metadata": {},
   "outputs": [],
   "source": [
    "check_new_values_categories('data_jul_broken4')"
   ]
  },
  {
   "cell_type": "code",
   "execution_count": null,
   "metadata": {
    "collapsed": true
   },
   "outputs": [],
   "source": []
  }
 ],
 "metadata": {
  "kernelspec": {
   "display_name": "Python 3",
   "language": "python",
   "name": "python3"
  },
  "language_info": {
   "codemirror_mode": {
    "name": "ipython",
    "version": 3
   },
   "file_extension": ".py",
   "mimetype": "text/x-python",
   "name": "python",
   "nbconvert_exporter": "python",
<<<<<<< Updated upstream
   "pygments_lexer": "ipython3",
   "version": "3.7.1"
=======
   "pygments_lexer": "ipython2",
   "version": "2.7.15"
>>>>>>> Stashed changes
  }
 },
 "nbformat": 4,
 "nbformat_minor": 2
}
