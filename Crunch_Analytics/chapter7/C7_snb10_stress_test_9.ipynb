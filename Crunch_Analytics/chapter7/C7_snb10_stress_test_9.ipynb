{
 "cells": [
  {
   "cell_type": "markdown",
   "metadata": {},
   "source": [
    "# Stress test 9"
   ]
  },
  {
   "cell_type": "code",
   "execution_count": null,
   "metadata": {},
   "outputs": [],
   "source": [
    "#load the 3 functions we defined from the model building notebook and new one to split data\n",
    "from model_functions_3 import load_and_preprocess_data, make_churn_model, test_model, import_data_and_split_datasets\n",
    "\n",
    "#train model on june data\n",
    "rf, acc, conf_matrix = make_churn_model('data_jun')"
   ]
  },
  {
   "cell_type": "code",
   "execution_count": null,
   "metadata": {},
   "outputs": [],
   "source": [
    "#test the model on new data from july\n",
    "acc, conf_matrix = test_model('data_jul_broken9', rf)"
   ]
  },
  {
   "cell_type": "markdown",
   "metadata": {},
   "source": [
    "Looks like an extra feature is added, let's take a look."
   ]
  },
  {
   "cell_type": "code",
   "execution_count": null,
   "metadata": {},
   "outputs": [],
   "source": [
    "import pandas as pd\n",
    "pd.read_csv('data/data_jan.csv').columns"
   ]
  },
  {
   "cell_type": "code",
   "execution_count": null,
   "metadata": {},
   "outputs": [],
   "source": [
    "past_df, new_df = import_data_and_split_datasets('data_jul_broken9')\n",
    "new_df.columns"
   ]
  },
  {
   "cell_type": "markdown",
   "metadata": {},
   "source": [
    "Looks like an extra column 'age' was added. We need to add a check that can see if new columns are added to the dataset."
   ]
  },
  {
   "cell_type": "markdown",
   "metadata": {},
   "source": [
    "# Add a check to see if new columns have been added"
   ]
  },
  {
   "cell_type": "code",
   "execution_count": null,
   "metadata": {
    "collapsed": true
   },
   "outputs": [],
   "source": [
    "'''\n",
    "Check 9:\n",
    "Check if columns match across datasets.\n",
    "Output columns that are not both present.\n",
    "'''\n",
    "import pandas as pd\n",
    "from itertools import compress\n",
    "def check_dtypes(csv_name_old, csv_name):\n",
    "    \n",
    "    #import data\n",
    "    past_df = pd.read_csv('data/'+csv_name_old+'.csv', index_col = 0)\n",
    "    new_df = pd.read_csv('data/'+csv_name+'.csv', index_col = 0)\n",
    "    \n",
    "    diff = set(past_df.columns.tolist()).symmetric_difference(set(new_df.columns.tolist()))\n",
    "        \n",
    "    return diff"
   ]
  },
  {
   "cell_type": "code",
   "execution_count": null,
   "metadata": {},
   "outputs": [],
   "source": [
    "check_dtypes('data_jan','data_jul_broken9')"
   ]
  },
  {
   "cell_type": "code",
   "execution_count": null,
   "metadata": {
    "collapsed": true
   },
   "outputs": [],
   "source": []
  }
 ],
 "metadata": {
  "kernelspec": {
   "display_name": "Python 3",
   "language": "python",
   "name": "python3"
  },
  "language_info": {
   "codemirror_mode": {
    "name": "ipython",
    "version": 3
   },
   "file_extension": ".py",
   "mimetype": "text/x-python",
   "name": "python",
   "nbconvert_exporter": "python",
<<<<<<< Updated upstream
   "pygments_lexer": "ipython3",
   "version": "3.7.1"
=======
   "pygments_lexer": "ipython2",
   "version": "2.7.15"
>>>>>>> Stashed changes
  }
 },
 "nbformat": 4,
 "nbformat_minor": 2
}
