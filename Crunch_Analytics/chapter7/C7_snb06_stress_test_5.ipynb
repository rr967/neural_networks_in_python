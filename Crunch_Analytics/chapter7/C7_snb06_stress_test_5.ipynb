{
 "cells": [
  {
   "cell_type": "markdown",
   "metadata": {},
   "source": [
    "# Stress test 5"
   ]
  },
  {
   "cell_type": "code",
   "execution_count": null,
   "metadata": {},
   "outputs": [],
   "source": [
    "#load the 3 functions we defined from the model building notebook and new one to split data\n",
    "from model_functions_3 import load_and_preprocess_data, make_churn_model, test_model, import_data_and_split_datasets\n",
    "\n",
    "#train model on june data\n",
    "rf, acc, conf_matrix = make_churn_model('data_jun')"
   ]
  },
  {
   "cell_type": "code",
   "execution_count": null,
   "metadata": {},
   "outputs": [],
   "source": [
    "#test the model on new data from july\n",
    "rf, acc, conf_matrix = test_model('data_jul_broken5', rf)"
   ]
  },
  {
   "cell_type": "markdown",
   "metadata": {},
   "source": [
    "We get some weird values for some numerics. Let's investigate"
   ]
  },
  {
   "cell_type": "code",
   "execution_count": null,
   "metadata": {},
   "outputs": [],
   "source": [
    "X, y = load_and_preprocess_data('data_jul_broken5')"
   ]
  },
  {
   "cell_type": "code",
   "execution_count": null,
   "metadata": {},
   "outputs": [],
   "source": [
    "X.sample(10)"
   ]
  },
  {
   "cell_type": "code",
   "execution_count": null,
   "metadata": {},
   "outputs": [],
   "source": [
    "X.sub_amount.sample(10)"
   ]
  },
  {
   "cell_type": "markdown",
   "metadata": {},
   "source": [
    "Looks like suddenly we have dollar signs slipping into our subscriber amount. This leads to pandas reading it in as strings instead of integers"
   ]
  },
  {
   "cell_type": "markdown",
   "metadata": {},
   "source": [
    "# Add a check to see if column types stay the same across datasets"
   ]
  },
  {
   "cell_type": "code",
   "execution_count": null,
   "metadata": {
    "collapsed": true
   },
   "outputs": [],
   "source": [
    "'''\n",
    "Check 5:\n",
    "Check if column types stay the same across datasets\n",
    "Output columns that are not.\n",
    "'''\n",
    "import pandas as pd\n",
    "from itertools import compress\n",
    "def check_dtypes(csv_name):\n",
    "    \n",
    "    #import data \n",
    "    current_month = csv_name.split('_')[1]\n",
    "    path = 'data/' + csv_name + '.csv'\n",
    "    app_df = pd.read_csv(path, index_col = 0)\n",
    "    new_df = app_df.loc[app_df['month'] == current_month]\n",
    "    past_df = app_df.loc[app_df['month'] != current_month]\n",
    "    \n",
    "    #write temporary csv's to load back in.\n",
    "    past_df.to_csv('data/past_df.csv')\n",
    "    new_df.to_csv('data/new_df.csv')\n",
    "    \n",
    "    #read past and new back in\n",
    "    past_df = pd.read_csv('data/past_df.csv')\n",
    "    new_df = pd.read_csv('data/new_df.csv')\n",
    "    \n",
    "    old = past_df.dtypes\n",
    "    new = new_df.dtypes\n",
    "    \n",
    "    lst = []\n",
    "    for i in range(len(old)):\n",
    "        if old[i] != new[i]:\n",
    "            lst.append(old.index[i])\n",
    "        \n",
    "    return lst"
   ]
  },
  {
   "cell_type": "code",
   "execution_count": null,
   "metadata": {},
   "outputs": [],
   "source": [
    "check_dtypes('data_jul_broken5')"
   ]
  },
  {
   "cell_type": "code",
   "execution_count": null,
   "metadata": {
    "collapsed": true
   },
   "outputs": [],
   "source": []
  },
  {
   "cell_type": "code",
   "execution_count": null,
   "metadata": {
    "collapsed": true
   },
   "outputs": [],
   "source": []
  }
 ],
 "metadata": {
  "kernelspec": {
   "display_name": "Python 3",
   "language": "python",
   "name": "python3"
  },
  "language_info": {
   "codemirror_mode": {
    "name": "ipython",
    "version": 3
   },
   "file_extension": ".py",
   "mimetype": "text/x-python",
   "name": "python",
   "nbconvert_exporter": "python",
<<<<<<< Updated upstream
   "pygments_lexer": "ipython3",
   "version": "3.7.1"
=======
   "pygments_lexer": "ipython2",
   "version": "2.7.15"
>>>>>>> Stashed changes
  }
 },
 "nbformat": 4,
 "nbformat_minor": 2
}
