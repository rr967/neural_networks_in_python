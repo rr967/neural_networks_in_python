{
 "cells": [
  {
   "cell_type": "markdown",
   "metadata": {},
   "source": [
    "# Stress test 6"
   ]
  },
  {
   "cell_type": "code",
   "execution_count": null,
   "metadata": {},
   "outputs": [],
   "source": [
    "#load the 3 functions we defined from the model building notebook and new one to split data\n",
    "from model_functions_3 import load_and_preprocess_data, make_churn_model, test_model, import_data_and_split_datasets\n",
    "\n",
    "#train model on june data\n",
    "rf, acc, conf_matrix = make_churn_model('data_jun')"
   ]
  },
  {
   "cell_type": "code",
   "execution_count": null,
   "metadata": {},
   "outputs": [],
   "source": [
    "#test the model on new data from july\n",
    "rf, acc, conf_matrix = test_model('data_jul_broken6', rf)"
   ]
  },
  {
   "cell_type": "markdown",
   "metadata": {},
   "source": [
    "We suddenly are missing 1 feature. What is going wrong?"
   ]
  },
  {
   "cell_type": "code",
   "execution_count": null,
   "metadata": {},
   "outputs": [],
   "source": [
    "X, y = load_and_preprocess_data('data_jul_broken6')"
   ]
  },
  {
   "cell_type": "code",
   "execution_count": null,
   "metadata": {},
   "outputs": [],
   "source": [
    "X.sample(10)"
   ]
  },
  {
   "cell_type": "markdown",
   "metadata": {},
   "source": [
    "Something wrong with the payment_method"
   ]
  },
  {
   "cell_type": "code",
   "execution_count": null,
   "metadata": {},
   "outputs": [],
   "source": [
    "import pandas as pd\n",
    "app_df = pd.read_csv('data/data_jul_broken6.csv')\n",
    "app_df.loc[app_df['month'] != 'jul'].payment_method.value_counts()"
   ]
  },
  {
   "cell_type": "code",
   "execution_count": null,
   "metadata": {},
   "outputs": [],
   "source": [
    "app_df.loc[app_df['month'] == 'jul'].payment_method.value_counts()"
   ]
  },
  {
   "cell_type": "markdown",
   "metadata": {},
   "source": [
    "Suddenly everybody uses credit card instead of a 33/67 distribution between credit card and paypal."
   ]
  },
  {
   "cell_type": "markdown",
   "metadata": {},
   "source": [
    "# Add a check to compare frequencies in categorical data"
   ]
  },
  {
   "cell_type": "code",
   "execution_count": null,
   "metadata": {
    "collapsed": true
   },
   "outputs": [],
   "source": [
    "'''\n",
    "Check 6: \n",
    "Compare categorical frequencies with chi-square test.\n",
    "'''\n",
    "from scipy.stats import chi2_contingency\n",
    "from itertools import compress\n",
    "import pandas as pd\n",
    "import numpy as np\n",
    "def check_missing_data(csv_name, significance = 0.05):\n",
    "    past_df, new_df = import_data_and_split_datasets(csv_name)\n",
    "    \n",
    "    #which cols contain categorical variables\n",
    "    cols = ['payment_freq', 'payment_method', 'location', 'platform']\n",
    "    \n",
    "    lst = []\n",
    "    for col in cols:\n",
    "        old = past_df[col].value_counts()\n",
    "        new = new_df[col].value_counts()\n",
    "        df = pd.DataFrame(dict(old = old, new = new)).reset_index().fillna(0)\n",
    "        obs = np.array([df.new.values,df.old.values])\n",
    "        g, p, dof, expctd = chi2_contingency(obs)\n",
    "        lst.append(p)\n",
    "        \n",
    "    ser = pd.Series(lst)\n",
    "    ser = ser < significance\n",
    "    result = list(compress(cols, ser))\n",
    "    \n",
    "    return result"
   ]
  },
  {
   "cell_type": "code",
   "execution_count": null,
   "metadata": {},
   "outputs": [],
   "source": [
    "check_missing_data('data_jul_broken6', significance= 0.000000001) "
   ]
  },
  {
   "cell_type": "code",
   "execution_count": null,
   "metadata": {
    "collapsed": true
   },
   "outputs": [],
   "source": []
  },
  {
   "cell_type": "code",
   "execution_count": null,
   "metadata": {
    "collapsed": true
   },
   "outputs": [],
   "source": []
  }
 ],
 "metadata": {
  "kernelspec": {
   "display_name": "Python 3",
   "language": "python",
   "name": "python3"
  },
  "language_info": {
   "codemirror_mode": {
    "name": "ipython",
    "version": 3
   },
   "file_extension": ".py",
   "mimetype": "text/x-python",
   "name": "python",
   "nbconvert_exporter": "python",
<<<<<<< Updated upstream
   "pygments_lexer": "ipython3",
   "version": "3.7.1"
=======
   "pygments_lexer": "ipython2",
   "version": "2.7.15"
>>>>>>> Stashed changes
  }
 },
 "nbformat": 4,
 "nbformat_minor": 2
}
