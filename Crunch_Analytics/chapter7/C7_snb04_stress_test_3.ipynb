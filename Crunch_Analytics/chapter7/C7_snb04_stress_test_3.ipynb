{
 "cells": [
  {
   "cell_type": "markdown",
   "metadata": {},
   "source": [
    "# Stress test 3"
   ]
  },
  {
   "cell_type": "code",
   "execution_count": null,
   "metadata": {
    "ExecuteTime": {
     "end_time": "2018-06-29T09:44:20.954596Z",
     "start_time": "2018-06-29T09:44:18.969411Z"
    }
   },
   "outputs": [],
   "source": [
    "#load the 3 functions we defined from the model building notebook and new one to split data\n",
    "from model_functions_3 import load_and_preprocess_data, make_churn_model, test_model, import_data_and_split_datasets\n",
    "\n",
    "#train model on june data\n",
    "rf, acc, conf_matrix = make_churn_model('data_jun')"
   ]
  },
  {
   "cell_type": "code",
   "execution_count": null,
   "metadata": {
    "ExecuteTime": {
     "end_time": "2018-06-29T09:44:21.825685Z",
     "start_time": "2018-06-29T09:44:20.955607Z"
    }
   },
   "outputs": [],
   "source": [
    "#test the model on new data from july\n",
    "acc, conf_matrix = test_model('data_jul_broken3', rf)"
   ]
  },
  {
   "cell_type": "code",
   "execution_count": null,
   "metadata": {
    "ExecuteTime": {
     "end_time": "2018-06-29T09:44:21.835527Z",
     "start_time": "2018-06-29T09:44:21.826971Z"
    }
   },
   "outputs": [],
   "source": [
    "acc"
   ]
  },
  {
   "cell_type": "code",
   "execution_count": null,
   "metadata": {
    "ExecuteTime": {
     "end_time": "2018-06-29T09:44:21.851828Z",
     "start_time": "2018-06-29T09:44:21.836551Z"
    }
   },
   "outputs": [],
   "source": [
    "conf_matrix"
   ]
  },
  {
   "cell_type": "markdown",
   "metadata": {},
   "source": [
    "Suddenly our model predicts a lot of True's while they are actually False. Why?"
   ]
  },
  {
   "cell_type": "code",
   "execution_count": null,
   "metadata": {
    "ExecuteTime": {
     "end_time": "2018-06-29T09:51:14.908836Z",
     "start_time": "2018-06-29T09:51:14.284115Z"
    }
   },
   "outputs": [],
   "source": [
    "X, y = load_and_preprocess_data('data_jul_broken3')"
   ]
  },
  {
   "cell_type": "code",
   "execution_count": null,
   "metadata": {
    "ExecuteTime": {
     "end_time": "2018-06-29T09:51:14.929547Z",
     "start_time": "2018-06-29T09:51:14.909898Z"
    }
   },
   "outputs": [],
   "source": [
    "X.sample(10)"
   ]
  },
  {
   "cell_type": "code",
   "execution_count": null,
   "metadata": {
    "ExecuteTime": {
     "end_time": "2018-06-29T09:55:53.447681Z",
     "start_time": "2018-06-29T09:55:53.320578Z"
    },
    "collapsed": true
   },
   "outputs": [],
   "source": [
    "import seaborn as sns\n",
    "import matplotlib.pyplot as plt\n",
    "%matplotlib inline"
   ]
  },
  {
   "cell_type": "code",
   "execution_count": null,
   "metadata": {
    "ExecuteTime": {
     "end_time": "2018-06-29T09:56:00.816355Z",
     "start_time": "2018-06-29T09:56:00.548644Z"
    }
   },
   "outputs": [],
   "source": [
    "sns.distplot(X['app_usage'])"
   ]
  },
  {
   "cell_type": "code",
   "execution_count": null,
   "metadata": {
    "ExecuteTime": {
     "end_time": "2018-06-29T09:56:28.567981Z",
     "start_time": "2018-06-29T09:56:27.953111Z"
    }
   },
   "outputs": [],
   "source": [
    "X_original, y_original = load_and_preprocess_data('data_jun')"
   ]
  },
  {
   "cell_type": "code",
   "execution_count": null,
   "metadata": {
    "ExecuteTime": {
     "end_time": "2018-06-29T09:56:35.700395Z",
     "start_time": "2018-06-29T09:56:35.483364Z"
    }
   },
   "outputs": [],
   "source": [
    "sns.distplot(X_original['app_usage'])"
   ]
  },
  {
   "cell_type": "code",
   "execution_count": null,
   "metadata": {
    "ExecuteTime": {
     "end_time": "2018-06-29T09:51:14.994879Z",
     "start_time": "2018-06-29T09:51:14.954976Z"
    }
   },
   "outputs": [],
   "source": [
    "X.app_usage[0:10] * 60"
   ]
  },
  {
   "cell_type": "markdown",
   "metadata": {},
   "source": [
    "Seems like app usage is suddenly encoded in minutes rather than seconds. We can test these changes by using a T-test."
   ]
  },
  {
   "cell_type": "markdown",
   "metadata": {},
   "source": [
    "# Add a check for significant mean changes in the distribution of continuous variables"
   ]
  },
  {
   "cell_type": "code",
   "execution_count": null,
   "metadata": {
    "ExecuteTime": {
     "end_time": "2018-06-29T09:51:40.300139Z",
     "start_time": "2018-06-29T09:51:40.290612Z"
    },
    "collapsed": true
   },
   "outputs": [],
   "source": [
    "'''\n",
    "Check 3: \n",
    "T-test for every continuous variable. If significant changes, output column.\n",
    "'''\n",
    "import pandas as pd\n",
    "from scipy.stats import ttest_ind\n",
    "from itertools import compress\n",
    "def check_ttest_continuous(csv_name, significance = 0.05):\n",
    "    past_df, new_df = import_data_and_split_datasets(csv_name)\n",
    "    \n",
    "    cols = ['app_usage', 'sub_amount']\n",
    "    lst = []\n",
    "    for col in cols:\n",
    "        stat, p = ttest_ind(past_df[col],new_df[col])\n",
    "        lst.append(p)\n",
    "        \n",
    "    ser = pd.Series(lst)\n",
    "    ser = ser < significance\n",
    "    result = list(compress(cols, ser))\n",
    "    \n",
    "    return result"
   ]
  },
  {
   "cell_type": "code",
   "execution_count": null,
   "metadata": {
    "ExecuteTime": {
     "end_time": "2018-06-29T09:51:40.705334Z",
     "start_time": "2018-06-29T09:51:40.504449Z"
    }
   },
   "outputs": [],
   "source": [
    "check_ttest_continuous('data_jul_broken3', significance=0.0000000005)"
   ]
  },
  {
   "cell_type": "code",
   "execution_count": null,
   "metadata": {
    "collapsed": true
   },
   "outputs": [],
   "source": []
  }
 ],
 "metadata": {
  "kernelspec": {
   "display_name": "Python 3",
   "language": "python",
   "name": "python3"
  },
  "language_info": {
   "codemirror_mode": {
    "name": "ipython",
    "version": 3
   },
   "file_extension": ".py",
   "mimetype": "text/x-python",
   "name": "python",
   "nbconvert_exporter": "python",
<<<<<<< Updated upstream
   "pygments_lexer": "ipython3",
   "version": "3.7.1"
=======
   "pygments_lexer": "ipython2",
   "version": "2.7.15"
>>>>>>> Stashed changes
  }
 },
 "nbformat": 4,
 "nbformat_minor": 2
}
