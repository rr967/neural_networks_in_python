{
 "cells": [
  {
   "cell_type": "code",
   "execution_count": 1,
   "id": "26b64cc9-f206-473d-a59a-c612d0f68732",
   "metadata": {},
   "outputs": [],
   "source": [
    "# URL: https://github.com/Sentdex/nnfs_book/blob/main/Chapter_4/Ch4_Final.py"
   ]
  },
  {
   "cell_type": "code",
   "execution_count": 2,
   "id": "58f51ee8-6537-4c24-89b5-a0b202253277",
   "metadata": {},
   "outputs": [],
   "source": [
    "import numpy as np\n",
    "import nnfs\n",
    "from nnfs.datasets import spiral_data\n",
    "\n",
    "nnfs.init()"
   ]
  },
  {
   "cell_type": "code",
   "execution_count": 3,
   "id": "477f0a50-ea3d-44e0-b08e-c3b45ccd11c2",
   "metadata": {},
   "outputs": [],
   "source": [
    "# Dense layer\n",
    "class Layer_Dense:\n",
    "\n",
    "    # Layer initialization\n",
    "    def __init__(self, n_inputs, n_neurons):\n",
    "        # Initialize weights and biases\n",
    "        self.weights = 0.01 * np.random.randn(n_inputs, n_neurons)\n",
    "        self.biases = np.zeros((1, n_neurons))\n",
    "\n",
    "    # Forward pass\n",
    "    def forward(self, inputs):\n",
    "        # Calculate output values from inputs, weights and biases\n",
    "        self.output = np.dot(inputs, self.weights) + self.biases\n"
   ]
  },
  {
   "cell_type": "code",
   "execution_count": 4,
   "id": "028a486c-7ff8-40fd-9d2c-a3c92284296f",
   "metadata": {},
   "outputs": [],
   "source": [
    "# ReLU activation\n",
    "class Activation_ReLU:\n",
    "\n",
    "    # Forward pass\n",
    "    def forward(self, inputs):\n",
    "        # Calculate output values from inputs\n",
    "        self.output = np.maximum(0, inputs)"
   ]
  },
  {
   "cell_type": "code",
   "execution_count": 5,
   "id": "28e0bf61-ba9e-4d3c-a06d-e33cdeacc13d",
   "metadata": {},
   "outputs": [],
   "source": [
    "# Softmax activation\n",
    "class Activation_Softmax:\n",
    "\n",
    "    # Forward pass\n",
    "    def forward(self, inputs):\n",
    "\n",
    "        # Get unnormalized probabilities\n",
    "        exp_values = np.exp(inputs - np.max(inputs, axis=1,\n",
    "                                            keepdims=True))\n",
    "        # Normalize them for each sample\n",
    "        probabilities = exp_values / np.sum(exp_values, axis=1,\n",
    "                                            keepdims=True)\n",
    "\n",
    "        self.output = probabilities"
   ]
  },
  {
   "cell_type": "code",
   "execution_count": 6,
   "id": "3067c32f-cc91-4e8a-9b80-2d811e6a1c53",
   "metadata": {},
   "outputs": [],
   "source": [
    "# Create dataset\n",
    "X, y = spiral_data(samples=100, classes=3)\n"
   ]
  },
  {
   "cell_type": "code",
   "execution_count": 7,
   "id": "3aaded5e-ec70-43ec-b3ab-48c258383c47",
   "metadata": {},
   "outputs": [],
   "source": [
    "# Create Dense layer with 2 input features and 3 output values\n",
    "dense1 = Layer_Dense(2, 3)\n",
    "\n",
    "# Create ReLU activation (to be used with Dense layer):\n",
    "activation1 = Activation_ReLU()"
   ]
  },
  {
   "cell_type": "code",
   "execution_count": 8,
   "id": "bfcffc0f-3e7a-4c3a-82ee-356087f239d0",
   "metadata": {},
   "outputs": [],
   "source": [
    "# Create second Dense layer with 3 input features (as we take output\n",
    "# of previous layer here) and 3 output values\n",
    "dense2 = Layer_Dense(3, 3)\n",
    "\n",
    "# Create Softmax activation (to be used with Dense layer):\n",
    "activation2 = Activation_Softmax()"
   ]
  },
  {
   "cell_type": "code",
   "execution_count": 9,
   "id": "7d10496a-74ee-464c-8052-44b0956bebe9",
   "metadata": {},
   "outputs": [],
   "source": [
    "# Make a forward pass of our training data through this layer\n",
    "dense1.forward(X)\n",
    "\n",
    "# Make a forward pass through activation function\n",
    "# it takes the output of first dense layer here\n",
    "activation1.forward(dense1.output)"
   ]
  },
  {
   "cell_type": "code",
   "execution_count": 10,
   "id": "37b0e1d8-4978-4b5b-872f-3c990f8df256",
   "metadata": {},
   "outputs": [],
   "source": [
    "# Make a forward pass through second Dense layer\n",
    "# it takes outputs of activation function of first layer as inputs\n",
    "dense2.forward(activation1.output)\n",
    "\n",
    "# Make a forward pass through activation function\n",
    "# it takes the output of second dense layer here\n",
    "activation2.forward(dense2.output)"
   ]
  },
  {
   "cell_type": "code",
   "execution_count": 11,
   "id": "6e5e232a-3681-4bf0-b4c4-9f93560d6ba5",
   "metadata": {},
   "outputs": [
    {
     "name": "stdout",
     "output_type": "stream",
     "text": [
      "[[0.33333334 0.33333334 0.33333334]\n",
      " [0.3333332  0.3333332  0.33333364]\n",
      " [0.3333329  0.33333293 0.3333342 ]\n",
      " [0.3333326  0.33333263 0.33333477]\n",
      " [0.33333233 0.3333324  0.33333528]]\n"
     ]
    }
   ],
   "source": [
    "# Let's see output of the first few samples:\n",
    "print(activation2.output[:5])"
   ]
  },
  {
   "cell_type": "code",
   "execution_count": null,
   "id": "3ffc5c2a-d659-4a5f-9304-3c9846eb6a2b",
   "metadata": {},
   "outputs": [],
   "source": [
    "'''\n",
    ">>>\n",
    "[[0.33333334 0.33333334 0.33333334]\n",
    " [0.33333316 0.3333332  0.33333364]\n",
    " [0.33333287 0.3333329  0.33333418]\n",
    " [0.3333326  0.33333263 0.33333477]\n",
    " [0.33333233 0.3333324  0.33333528]]\n",
    "'''"
   ]
  }
 ],
 "metadata": {
  "kernelspec": {
   "display_name": "Python 3 (ipykernel)",
   "language": "python",
   "name": "python3"
  },
  "language_info": {
   "codemirror_mode": {
    "name": "ipython",
    "version": 3
   },
   "file_extension": ".py",
   "mimetype": "text/x-python",
   "name": "python",
   "nbconvert_exporter": "python",
   "pygments_lexer": "ipython3",
   "version": "3.9.6"
  }
 },
 "nbformat": 4,
 "nbformat_minor": 5
}
