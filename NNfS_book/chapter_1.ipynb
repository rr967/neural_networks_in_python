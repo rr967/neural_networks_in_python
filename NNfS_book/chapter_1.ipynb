{
 "cells": [
  {
   "cell_type": "code",
   "execution_count": null,
   "id": "866ba65b-bd26-44d4-b278-5d6fc170acb7",
   "metadata": {},
   "outputs": [],
   "source": [
    "# URL: https://github.com/Sentdex/nnfs_book/blob/main/Chapter_2/Ch2_Final.py"
   ]
  },
  {
   "cell_type": "code",
   "execution_count": 11,
   "id": "5d7d8c11-6f9e-4aa1-97b8-3cfdc5055f88",
   "metadata": {},
   "outputs": [],
   "source": [
    "import numpy as np\n"
   ]
  },
  {
   "cell_type": "code",
   "execution_count": 12,
   "id": "2e9a3086-6617-4ba6-b879-8018be956ced",
   "metadata": {},
   "outputs": [],
   "source": [
    "inputs = [[1.0, 2.0, 3.0, 2.5],\n",
    "          [2.0, 5.0, -1.0, 2.0],\n",
    "          [-1.5, 2.7, 3.3, -0.8]]\n",
    "weights = [[0.2, 0.8, -0.5, 1.0],\n",
    "           [0.5, -0.91, 0.26, -0.5],\n",
    "           [-0.26, -0.27, 0.17, 0.87]]\n",
    "biases = [2.0, 3.0, 0.5]"
   ]
  },
  {
   "cell_type": "code",
   "execution_count": 13,
   "id": "b0e56713-6043-4367-adc7-318c0d861dc6",
   "metadata": {},
   "outputs": [
    {
     "name": "stdout",
     "output_type": "stream",
     "text": [
      "[[0.2, 0.8, -0.5, 1.0], [0.5, -0.91, 0.26, -0.5], [-0.26, -0.27, 0.17, 0.87]]\n"
     ]
    }
   ],
   "source": [
    "print(weights)"
   ]
  },
  {
   "cell_type": "code",
   "execution_count": 14,
   "id": "1e60ab35-f196-44e7-8657-d371e4c41b0c",
   "metadata": {},
   "outputs": [
    {
     "name": "stdout",
     "output_type": "stream",
     "text": [
      "[[ 0.2   0.5  -0.26]\n",
      " [ 0.8  -0.91 -0.27]\n",
      " [-0.5   0.26  0.17]\n",
      " [ 1.   -0.5   0.87]]\n"
     ]
    }
   ],
   "source": [
    "print(np.array(weights).T)"
   ]
  },
  {
   "cell_type": "code",
   "execution_count": 18,
   "id": "36c1ab90-1b8f-4c12-8186-0f2cd8c6e2b3",
   "metadata": {},
   "outputs": [
    {
     "name": "stdout",
     "output_type": "stream",
     "text": [
      "[1.0, 2.0, 3.0, 2.5]\n"
     ]
    }
   ],
   "source": [
    "print(inputs[0])"
   ]
  },
  {
   "cell_type": "code",
   "execution_count": 21,
   "id": "a0d51a64-2760-41e3-847b-8433997fc1cc",
   "metadata": {},
   "outputs": [
    {
     "name": "stdout",
     "output_type": "stream",
     "text": [
      "[0.2, 0.8, -0.5, 1.0]\n"
     ]
    }
   ],
   "source": [
    "print(weights[0])"
   ]
  },
  {
   "cell_type": "code",
   "execution_count": 15,
   "id": "a9636c24-5650-4031-a9a9-6eb9359a1d44",
   "metadata": {},
   "outputs": [
    {
     "name": "stdout",
     "output_type": "stream",
     "text": [
      "2.8\n"
     ]
    }
   ],
   "source": [
    "print(1.0*0.2 + 2.0*0.8 + 3.0*-0.5 + 2.5*1)"
   ]
  },
  {
   "cell_type": "code",
   "execution_count": 16,
   "id": "82fb0350-655e-4d49-8c19-dc054d6ddd45",
   "metadata": {},
   "outputs": [
    {
     "name": "stdout",
     "output_type": "stream",
     "text": [
      "-1.79\n"
     ]
    }
   ],
   "source": [
    "print(1.0*0.5 + 2.0*-0.91 + 3.0*0.26 + 2.5*-0.5)"
   ]
  },
  {
   "cell_type": "code",
   "execution_count": 17,
   "id": "4802ea3d-9183-4dce-a8e5-eadfd674adc4",
   "metadata": {},
   "outputs": [
    {
     "name": "stdout",
     "output_type": "stream",
     "text": [
      "1.8849999999999998\n"
     ]
    }
   ],
   "source": [
    "print(1.0*-0.26 + 2.0*-0.27 + 3.0*0.17 + 2.5*0.87)"
   ]
  },
  {
   "cell_type": "code",
   "execution_count": null,
   "id": "b29fb890-c660-4d25-a73e-7a63fcbc1442",
   "metadata": {},
   "outputs": [],
   "source": []
  }
 ],
 "metadata": {
  "kernelspec": {
   "display_name": "Python 3 (ipykernel)",
   "language": "python",
   "name": "python3"
  },
  "language_info": {
   "codemirror_mode": {
    "name": "ipython",
    "version": 3
   },
   "file_extension": ".py",
   "mimetype": "text/x-python",
   "name": "python",
   "nbconvert_exporter": "python",
   "pygments_lexer": "ipython3",
   "version": "3.9.6"
  }
 },
 "nbformat": 4,
 "nbformat_minor": 5
}
