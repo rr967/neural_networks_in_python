{
 "cells": [
  {
   "cell_type": "code",
   "execution_count": null,
   "id": "e4a87966-ef2f-4e00-94c4-e95b8419a97d",
   "metadata": {},
   "outputs": [],
   "source": [
    "# URL: https://github.com/Sentdex/nnfs_book/blob/main/Chapter_2/Ch2_Final.py"
   ]
  },
  {
   "cell_type": "code",
   "execution_count": 1,
   "id": "5d7d8c11-6f9e-4aa1-97b8-3cfdc5055f88",
   "metadata": {},
   "outputs": [],
   "source": [
    "import numpy as np\n"
   ]
  },
  {
   "cell_type": "code",
   "execution_count": 2,
   "id": "2e9a3086-6617-4ba6-b879-8018be956ced",
   "metadata": {},
   "outputs": [],
   "source": [
    "inputs = [[1.0, 2.0, 3.0, 2.5],\n",
    "          [2.0, 5.0, -1.0, 2.0],\n",
    "          [-1.5, 2.7, 3.3, -0.8]]\n",
    "weights = [[0.2, 0.8, -0.5, 1.0],\n",
    "           [0.5, -0.91, 0.26, -0.5],\n",
    "           [-0.26, -0.27, 0.17, 0.87]]\n",
    "biases = [2.0, 3.0, 0.5]"
   ]
  },
  {
   "cell_type": "code",
   "execution_count": 3,
   "id": "b0e56713-6043-4367-adc7-318c0d861dc6",
   "metadata": {},
   "outputs": [
    {
     "name": "stdout",
     "output_type": "stream",
     "text": [
      "[[0.2, 0.8, -0.5, 1.0], [0.5, -0.91, 0.26, -0.5], [-0.26, -0.27, 0.17, 0.87]]\n"
     ]
    }
   ],
   "source": [
    "print(weights)"
   ]
  },
  {
   "cell_type": "code",
   "execution_count": 4,
   "id": "1e60ab35-f196-44e7-8657-d371e4c41b0c",
   "metadata": {},
   "outputs": [
    {
     "name": "stdout",
     "output_type": "stream",
     "text": [
      "[[ 0.2   0.5  -0.26]\n",
      " [ 0.8  -0.91 -0.27]\n",
      " [-0.5   0.26  0.17]\n",
      " [ 1.   -0.5   0.87]]\n"
     ]
    }
   ],
   "source": [
    "print(np.array(weights).T)"
   ]
  },
  {
   "cell_type": "code",
   "execution_count": 11,
   "id": "2b3121d7-ca11-4d4d-89ca-d8960ca401f3",
   "metadata": {},
   "outputs": [
    {
     "name": "stdout",
     "output_type": "stream",
     "text": [
      "[1.0, 2.0, 3.0, 2.5]\n"
     ]
    }
   ],
   "source": [
    "print(inputs[0])"
   ]
  },
  {
   "cell_type": "code",
   "execution_count": 12,
   "id": "73e2853c-94e9-429f-b2a0-091dce2d7b32",
   "metadata": {},
   "outputs": [
    {
     "name": "stdout",
     "output_type": "stream",
     "text": [
      "[0.2, 0.8, -0.5, 1.0]\n"
     ]
    }
   ],
   "source": [
    "print(weights[0])"
   ]
  },
  {
   "cell_type": "code",
   "execution_count": 5,
   "id": "a9636c24-5650-4031-a9a9-6eb9359a1d44",
   "metadata": {},
   "outputs": [
    {
     "name": "stdout",
     "output_type": "stream",
     "text": [
      "2.8\n"
     ]
    }
   ],
   "source": [
    "print(1.0*0.2 + 2.0*0.8 + 3.0*-0.5 + 2.5*1)"
   ]
  },
  {
   "cell_type": "code",
   "execution_count": 6,
   "id": "82fb0350-655e-4d49-8c19-dc054d6ddd45",
   "metadata": {},
   "outputs": [
    {
     "name": "stdout",
     "output_type": "stream",
     "text": [
      "-1.79\n"
     ]
    }
   ],
   "source": [
    "print(1.0*0.5 + 2.0*-0.91 + 3.0*0.26 + 2.5*-0.5)"
   ]
  },
  {
   "cell_type": "code",
   "execution_count": 7,
   "id": "4802ea3d-9183-4dce-a8e5-eadfd674adc4",
   "metadata": {},
   "outputs": [
    {
     "name": "stdout",
     "output_type": "stream",
     "text": [
      "1.8849999999999998\n"
     ]
    }
   ],
   "source": [
    "print(1.0*-0.26 + 2.0*-0.27 + 3.0*0.17 + 2.5*0.87)"
   ]
  },
  {
   "cell_type": "code",
   "execution_count": 8,
   "id": "ddff136e-e8a2-4e9a-b52d-e8a894b437ce",
   "metadata": {},
   "outputs": [
    {
     "name": "stdout",
     "output_type": "stream",
     "text": [
      "[[ 2.8   -1.79   1.885]\n",
      " [ 6.9   -4.81  -0.3  ]\n",
      " [-0.59  -1.949 -0.474]]\n"
     ]
    }
   ],
   "source": [
    "layer_outputs = np.dot(inputs, np.array(weights).T)\n",
    "\n",
    "print(layer_outputs)"
   ]
  },
  {
   "cell_type": "code",
   "execution_count": 9,
   "id": "09a5cf3f-be34-4384-813e-249639794fff",
   "metadata": {},
   "outputs": [
    {
     "name": "stdout",
     "output_type": "stream",
     "text": [
      "[[ 4.8    1.21   2.385]\n",
      " [ 8.9   -1.81   0.2  ]\n",
      " [ 1.41   1.051  0.026]]\n"
     ]
    }
   ],
   "source": [
    "layer_outputs2 = layer_outputs + biases\n",
    "\n",
    "print(layer_outputs2)"
   ]
  },
  {
   "cell_type": "code",
   "execution_count": 10,
   "id": "7733c7e7-473d-490c-b6a5-8228d772bc60",
   "metadata": {},
   "outputs": [
    {
     "data": {
      "text/plain": [
       "'\\n\\narray([[ 4.8    1.21   2.385],\\n       [ 8.9   -1.81   0.2  ],\\n       [ 1.41   1.051  0.026]])\\n'"
      ]
     },
     "execution_count": 10,
     "metadata": {},
     "output_type": "execute_result"
    }
   ],
   "source": [
    "'''\n",
    ">>>\n",
    "array([[ 4.8    1.21   2.385],\n",
    "       [ 8.9   -1.81   0.2  ],\n",
    "       [ 1.41   1.051  0.026]])\n",
    "'''"
   ]
  },
  {
   "cell_type": "code",
   "execution_count": null,
   "id": "73cb90a3-1a29-4466-8578-480521aadb44",
   "metadata": {},
   "outputs": [],
   "source": []
  }
 ],
 "metadata": {
  "kernelspec": {
   "display_name": "Python 3 (ipykernel)",
   "language": "python",
   "name": "python3"
  },
  "language_info": {
   "codemirror_mode": {
    "name": "ipython",
    "version": 3
   },
   "file_extension": ".py",
   "mimetype": "text/x-python",
   "name": "python",
   "nbconvert_exporter": "python",
   "pygments_lexer": "ipython3",
   "version": "3.9.6"
  }
 },
 "nbformat": 4,
 "nbformat_minor": 5
}
