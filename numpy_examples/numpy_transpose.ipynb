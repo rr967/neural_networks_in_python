{
  "metadata": {
    "kernelspec": {
      "name": "python",
      "display_name": "Python (Pyodide)",
      "language": "python"
    },
    "language_info": {
      "codemirror_mode": {
        "name": "python",
        "version": 3
      },
      "file_extension": ".py",
      "mimetype": "text/x-python",
      "name": "python",
      "nbconvert_exporter": "python",
      "pygments_lexer": "ipython3",
      "version": "3.8"
    }
  },
  "nbformat_minor": 4,
  "nbformat": 4,
  "cells": [
    {
      "cell_type": "code",
      "source": "# URL: https://www.geeksforgeeks.org/python-numpy-numpy-transpose/",
      "metadata": {
        "trusted": true
      },
      "outputs": [],
      "execution_count": null
    },
    {
      "cell_type": "code",
      "source": "# importing python module named numpy\nimport numpy as np",
      "metadata": {
        "trusted": true
      },
      "outputs": [],
      "execution_count": null
    },
    {
      "cell_type": "code",
      "source": "# Example 1: In this example we can see that it’s really easy to transpose an array with just one line.",
      "metadata": {
        "trusted": true
      },
      "outputs": [],
      "execution_count": null
    },
    {
      "cell_type": "code",
      "source": "# making a 3x3 array\ngfg = np.array([\n    [1, 2, 3],\n\t[4, 5, 6],\n\t[7, 8, 9]\n])\n\n# before transpose\nprint(gfg, end ='\\n\\n')\n\n# after transpose\nprint(gfg.transpose())\n",
      "metadata": {
        "trusted": true
      },
      "outputs": [],
      "execution_count": null
    },
    {
      "cell_type": "code",
      "source": "# Example 2: In this example we demonstrate the use of tuples in numpy.transpose().",
      "metadata": {
        "trusted": true
      },
      "outputs": [],
      "execution_count": null
    },
    {
      "cell_type": "code",
      "source": "# making a 2x3 array\ngfg = np.array([[1, 2],\n\t\t\t\t[4, 5],\n\t\t\t\t[7, 8]])\n\n# before transpose\nprint(gfg, end ='\\n\\n')\n\n# after transpose\nprint(gfg.transpose(1, 0))\n",
      "metadata": {
        "trusted": true
      },
      "outputs": [],
      "execution_count": null
    },
    {
      "cell_type": "code",
      "source": "# Method 2: Using  Numpy ndarray.T object.",
      "metadata": {
        "trusted": true
      },
      "outputs": [],
      "execution_count": null
    },
    {
      "cell_type": "code",
      "source": "# making a 3x3 array\ngfg = np.array([[1, 2, 3],\n\t\t\t\t[4, 5, 6],\n\t\t\t\t[7, 8, 9]])\n\n# before transpose\nprint(gfg, end ='\\n\\n')\n\n# after transpose\nprint(gfg.T)\n",
      "metadata": {
        "trusted": true
      },
      "outputs": [],
      "execution_count": null
    },
    {
      "cell_type": "code",
      "source": "",
      "metadata": {
        "trusted": true
      },
      "outputs": [],
      "execution_count": null
    }
  ]
}