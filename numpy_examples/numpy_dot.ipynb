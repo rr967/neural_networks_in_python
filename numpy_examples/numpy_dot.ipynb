{
  "metadata": {
    "kernelspec": {
      "name": "python",
      "display_name": "Python (Pyodide)",
      "language": "python"
    },
    "language_info": {
      "codemirror_mode": {
        "name": "python",
        "version": 3
      },
      "file_extension": ".py",
      "mimetype": "text/x-python",
      "name": "python",
      "nbconvert_exporter": "python",
      "pygments_lexer": "ipython3",
      "version": "3.8"
    }
  },
  "nbformat_minor": 4,
  "nbformat": 4,
  "cells": [
    {
      "cell_type": "code",
      "source": "# URL: https://www.geeksforgeeks.org/numpy-dot-python/",
      "metadata": {
        "trusted": true
      },
      "outputs": [],
      "execution_count": null
    },
    {
      "cell_type": "code",
      "source": "\"\"\"\nnumpy.dot(vector_a, vector_b, out = None) returns the dot product of vectors a and b. \nIt can handle 2D arrays but considers them as matrix and will perform matrix multiplication. \nFor N dimensions it is a sum-product over the last axis of a and the second-to-last of b :\n\"\"\"",
      "metadata": {
        "trusted": true
      },
      "outputs": [],
      "execution_count": null
    },
    {
      "cell_type": "code",
      "source": "\"\"\"\nDot Product of vectors a and b. if vector_a and vector_b are 1D, then scalar is returned\n\ndot(a, b)[i,j,k,m] = sum(a[i,j,:] * b[k,:,m]) \n\nParameters\n\nvector_a : [array_like] if a is complex its complex conjugate is used for the calculation of the dot product. \nvector_b : [array_like] if b is complex its complex conjugate is used for the calculation of the dot product. \nout : [array, optional] output argument must be C-contiguous, and its dtype must be the dtype that would be returned for dot(a,b). \n\nDot Product of vectors a and b. if vector_a and vector_b are 1D, then scalar is returned\n\n\"\"\"",
      "metadata": {
        "trusted": true
      },
      "outputs": [],
      "execution_count": null
    },
    {
      "cell_type": "code",
      "source": "'''\nDoing dot product with a layer of neurons and multiple inputs\nAssociated YT NNFS tutorial: https://www.youtube.com/watch?v=tMrbN67U9d4\n'''",
      "metadata": {
        "trusted": true
      },
      "outputs": [],
      "execution_count": null
    },
    {
      "cell_type": "code",
      "source": "# importing python module named numpy\nimport sys\nimport os\nimport numpy as np\nimport inspect\nimport matplotlib as plt",
      "metadata": {
        "trusted": true
      },
      "outputs": [],
      "execution_count": null
    },
    {
      "cell_type": "code",
      "source": "inputs = [1.0, 2.0, 3.0, 2.5]",
      "metadata": {
        "trusted": true
      },
      "outputs": [],
      "execution_count": null
    },
    {
      "cell_type": "code",
      "source": "weights = [[0.2, 0.8, -0.5, 1.0],\n           [0.5, -0.91, 0.26, -0.5],\n           [-0.26, -0.27, 0.17, 0.87]]",
      "metadata": {
        "trusted": true
      },
      "outputs": [],
      "execution_count": null
    },
    {
      "cell_type": "code",
      "source": "biases = [2.0, 3.0, 0.5]",
      "metadata": {
        "trusted": true
      },
      "outputs": [],
      "execution_count": null
    },
    {
      "cell_type": "code",
      "source": "output = np.dot(weights, inputs) + biases",
      "metadata": {
        "trusted": true
      },
      "outputs": [],
      "execution_count": null
    },
    {
      "cell_type": "code",
      "source": "print(output)",
      "metadata": {
        "trusted": true
      },
      "outputs": [],
      "execution_count": null
    },
    {
      "cell_type": "code",
      "source": "# Example 1",
      "metadata": {
        "trusted": true
      },
      "outputs": [],
      "execution_count": null
    },
    {
      "cell_type": "code",
      "source": "# Python Program illustrating\n# numpy.dot() method\n\n# Scalars\nproduct = np.dot(5, 4)\nprint(\"Dot Product of scalar values : \", product)\n\n# 1D array\nvector_a = 2 + 3j\nprint(vector_a)\nvector_b = 4 + 5j\nprint(vector_b)\n\nproduct = np.dot(vector_a, vector_b)\nprint(\"Dot Product : \", product)\n",
      "metadata": {
        "trusted": true
      },
      "outputs": [],
      "execution_count": null
    },
    {
      "cell_type": "code",
      "source": "\"\"\"\nHow Code1 works ? \n\nvector_a = 2 + 3j \nvector_b = 4 + 5j\n\nnow dot product \n\n= 2(4 + 5j) + 3j(4 +5j) \n= 8 + 10j + 12j - 15 \n= -7 + 22j\n\"\"\"\"",
      "metadata": {
        "trusted": true
      },
      "outputs": [],
      "execution_count": null
    },
    {
      "cell_type": "code",
      "source": "# Example 2",
      "metadata": {
        "trusted": true
      },
      "outputs": [],
      "execution_count": null
    },
    {
      "cell_type": "code",
      "source": "# Python Program illustrating\n# numpy.dot() method\n\n# 1D array\nvector_a = np.array([[1, 4], [5, 6]])\nvector_b = np.array([[2, 4], [5, 2]])\n\nproduct = np.dot(vector_a, vector_b)\nprint(\"Dot Product : \\n\", product)\n\nproduct = np.dot(vector_b, vector_a)\nprint(\"\\nDot Product : \\n\", product)\n\n\"\"\" \nCode 2 : as normal matrix multiplication\n\"\"\"\n",
      "metadata": {
        "trusted": true
      },
      "outputs": [],
      "execution_count": null
    },
    {
      "cell_type": "code",
      "source": "",
      "metadata": {
        "trusted": true
      },
      "outputs": [],
      "execution_count": null
    }
  ]
}