{
  "metadata": {
    "kernelspec": {
      "name": "python",
      "display_name": "Python (Pyodide)",
      "language": "python"
    },
    "language_info": {
      "codemirror_mode": {
        "name": "python",
        "version": 3
      },
      "file_extension": ".py",
      "mimetype": "text/x-python",
      "name": "python",
      "nbconvert_exporter": "python",
      "pygments_lexer": "ipython3",
      "version": "3.8"
    }
  },
  "nbformat_minor": 4,
  "nbformat": 4,
  "cells": [
    {
      "cell_type": "code",
      "source": "# adding activation function",
      "metadata": {
        "trusted": true
      },
      "outputs": [],
      "execution_count": 1
    },
    {
      "cell_type": "code",
      "source": "# importing python module named numpy\nimport sys\nimport os\nimport numpy as np\nimport inspect\nimport matplotlib as plt",
      "metadata": {
        "trusted": true
      },
      "outputs": [],
      "execution_count": 2
    },
    {
      "cell_type": "code",
      "source": "import nnfs\nfrom nnfs.datasets import spiral_data  # See for code: https://gist.github.com/Sentdex/454cb20ec5acf0e76ee8ab8448e6266c\n\nnnfs.init()\n\n# create dataset\nX, y = spiral_data(100, 3)",
      "metadata": {
        "trusted": true
      },
      "outputs": [],
      "execution_count": null
    },
    {
      "cell_type": "code",
      "source": "# create objects\n\nclass Layer_Dense:\n    def __init__(self, n_inputs, n_neurons):\n        self.weights = 0.10 * np.random.randn(n_inputs, n_neurons)\n        self.biases = np.zeros((1, n_neurons))\n    def forward(self, inputs):\n        self.output = np.dot(inputs, self.weights) + self.biases\n\nclass Activation_ReLU:\n    def forward(self, inputs):\n        self.output = np.maximum(0, inputs)\n",
      "metadata": {
        "trusted": true
      },
      "outputs": [
        {
          "name": "stdout",
          "text": "[[0.00000000e+00 0.00000000e+00 0.00000000e+00 0.00000000e+00\n  0.00000000e+00]\n [0.00000000e+00 0.00000000e+00 0.00000000e+00 4.65504505e-04\n  4.56846210e-05]\n [0.00000000e+00 5.93469958e-05 0.00000000e+00 2.03573116e-04\n  6.10024377e-04]\n ...\n [1.13291524e-01 0.00000000e+00 0.00000000e+00 8.11079666e-02\n  0.00000000e+00]\n [1.34588361e-01 0.00000000e+00 3.09493970e-02 5.66337556e-02\n  0.00000000e+00]\n [1.07817926e-01 0.00000000e+00 0.00000000e+00 8.72561932e-02\n  0.00000000e+00]]\n",
          "output_type": "stream"
        }
      ],
      "execution_count": 3
    },
    {
      "cell_type": "code",
      "source": "# create layer1\n\nlayer1 = Layer_Dense(2,5)\nactivation1 = Activation_ReLU()\n\nlayer1.forward(X)",
      "metadata": {
        "trusted": true
      },
      "outputs": [],
      "execution_count": null
    },
    {
      "cell_type": "code",
      "source": "# create output layer\n\n#print(layer1.output)\nactivation1.forward(layer1.output)\nprint(activation1.output)",
      "metadata": {
        "trusted": true
      },
      "outputs": [],
      "execution_count": null
    }
  ]
}