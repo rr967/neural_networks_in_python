{
  "metadata": {
    "kernelspec": {
      "name": "python",
      "display_name": "Python (Pyodide)",
      "language": "python"
    },
    "language_info": {
      "codemirror_mode": {
        "name": "python",
        "version": 3
      },
      "file_extension": ".py",
      "mimetype": "text/x-python",
      "name": "python",
      "nbconvert_exporter": "python",
      "pygments_lexer": "ipython3",
      "version": "3.8"
    }
  },
  "nbformat_minor": 4,
  "nbformat": 4,
  "cells": [
    {
      "cell_type": "code",
      "source": "# using batches ( 2D array / matrix ) for inputs",
      "metadata": {
        "trusted": true
      },
      "outputs": [],
      "execution_count": 40
    },
    {
      "cell_type": "code",
      "source": "import sys",
      "metadata": {
        "trusted": true
      },
      "outputs": [],
      "execution_count": 41
    },
    {
      "cell_type": "code",
      "source": "print(\"Python:\",sys.version)",
      "metadata": {
        "trusted": true
      },
      "outputs": [
        {
          "name": "stdout",
          "text": "Python: 3.12.1 (main, Nov 15 2024, 14:17:00) [Clang 19.0.0git (https:/github.com/llvm/llvm-project 0a8cd1ed1f4f35905df318015b\n",
          "output_type": "stream"
        }
      ],
      "execution_count": 42
    },
    {
      "cell_type": "code",
      "source": "import numpy as np",
      "metadata": {
        "trusted": true
      },
      "outputs": [],
      "execution_count": 43
    },
    {
      "cell_type": "code",
      "source": "print(\"numpy:\",np.__version__)",
      "metadata": {
        "trusted": true
      },
      "outputs": [
        {
          "name": "stdout",
          "text": "numpy: 1.26.4\n",
          "output_type": "stream"
        }
      ],
      "execution_count": 44
    },
    {
      "cell_type": "code",
      "source": "import matplotlib as mp",
      "metadata": {
        "trusted": true
      },
      "outputs": [],
      "execution_count": 45
    },
    {
      "cell_type": "code",
      "source": "print(\"matplotlib:\",mp.__version__)",
      "metadata": {
        "trusted": true
      },
      "outputs": [
        {
          "name": "stdout",
          "text": "matplotlib: 3.5.2\n",
          "output_type": "stream"
        }
      ],
      "execution_count": 46
    },
    {
      "cell_type": "code",
      "source": "v_inputs = [\n    [1.0, 2.0, 3.0, 2.5],\n    [2.0, 5.0, -1.0, 2.0],\n    [-1.5, 2.7, 3.3, -0.8]\n]",
      "metadata": {
        "trusted": true
      },
      "outputs": [],
      "execution_count": 47
    },
    {
      "cell_type": "code",
      "source": "v_weights = [\n    [0.2, 0.8, -0.5, 1.0],\n    [0.5, -0.91, 0.26, -0.5],\n    [-0.26, -0.27, 0.17, 0.87]\n]",
      "metadata": {
        "trusted": true
      },
      "outputs": [],
      "execution_count": 48
    },
    {
      "cell_type": "code",
      "source": "v_biases = [2.0, 3.0, 0.5]",
      "metadata": {
        "trusted": true
      },
      "outputs": [],
      "execution_count": 49
    },
    {
      "cell_type": "code",
      "source": "# v1 batches (transposing inputs)",
      "metadata": {
        "trusted": true
      },
      "outputs": [],
      "execution_count": 50
    },
    {
      "cell_type": "code",
      "source": "print(np.shape(np.array(v_inputs)))",
      "metadata": {
        "trusted": true
      },
      "outputs": [
        {
          "name": "stdout",
          "text": "(3, 4)\n",
          "output_type": "stream"
        }
      ],
      "execution_count": 51
    },
    {
      "cell_type": "code",
      "source": "v_inputs_T = np.array(v_inputs).T",
      "metadata": {
        "trusted": true
      },
      "outputs": [],
      "execution_count": 52
    },
    {
      "cell_type": "code",
      "source": "print(np.array(v_inputs))",
      "metadata": {
        "trusted": true
      },
      "outputs": [
        {
          "name": "stdout",
          "text": "[[ 1.   2.   3.   2.5]\n [ 2.   5.  -1.   2. ]\n [-1.5  2.7  3.3 -0.8]]\n",
          "output_type": "stream"
        }
      ],
      "execution_count": 53
    },
    {
      "cell_type": "code",
      "source": "print(v_inputs_T)",
      "metadata": {
        "trusted": true
      },
      "outputs": [
        {
          "name": "stdout",
          "text": "[[ 1.   2.  -1.5]\n [ 2.   5.   2.7]\n [ 3.  -1.   3.3]\n [ 2.5  2.  -0.8]]\n",
          "output_type": "stream"
        }
      ],
      "execution_count": 54
    },
    {
      "cell_type": "code",
      "source": "print(np.shape(v_inputs_T))",
      "metadata": {
        "trusted": true
      },
      "outputs": [
        {
          "name": "stdout",
          "text": "(4, 3)\n",
          "output_type": "stream"
        }
      ],
      "execution_count": 55
    },
    {
      "cell_type": "code",
      "source": "output = np.dot(v_weights, v_inputs_T) + v_biases",
      "metadata": {
        "trusted": true
      },
      "outputs": [],
      "execution_count": 56
    },
    {
      "cell_type": "code",
      "source": "print(output)",
      "metadata": {
        "trusted": true
      },
      "outputs": [
        {
          "name": "stdout",
          "text": "[[ 4.8    9.9   -0.09 ]\n [ 0.21  -1.81  -1.449]\n [ 3.885  2.7    0.026]]\n",
          "output_type": "stream"
        }
      ],
      "execution_count": 57
    },
    {
      "cell_type": "code",
      "source": "# v2 batches (transposing weights)",
      "metadata": {
        "trusted": true
      },
      "outputs": [],
      "execution_count": 58
    },
    {
      "cell_type": "code",
      "source": "print(np.shape(np.array(v_weights)))",
      "metadata": {
        "trusted": true
      },
      "outputs": [
        {
          "name": "stdout",
          "text": "(3, 4)\n",
          "output_type": "stream"
        }
      ],
      "execution_count": 59
    },
    {
      "cell_type": "code",
      "source": "v_weights_T = np.array(v_weights).T",
      "metadata": {
        "trusted": true
      },
      "outputs": [],
      "execution_count": 60
    },
    {
      "cell_type": "code",
      "source": "print(np.array(v_weights))",
      "metadata": {
        "trusted": true
      },
      "outputs": [
        {
          "name": "stdout",
          "text": "[[ 0.2   0.8  -0.5   1.  ]\n [ 0.5  -0.91  0.26 -0.5 ]\n [-0.26 -0.27  0.17  0.87]]\n",
          "output_type": "stream"
        }
      ],
      "execution_count": 61
    },
    {
      "cell_type": "code",
      "source": "print(v_weights_T)",
      "metadata": {
        "trusted": true
      },
      "outputs": [
        {
          "name": "stdout",
          "text": "[[ 0.2   0.5  -0.26]\n [ 0.8  -0.91 -0.27]\n [-0.5   0.26  0.17]\n [ 1.   -0.5   0.87]]\n",
          "output_type": "stream"
        }
      ],
      "execution_count": 62
    },
    {
      "cell_type": "code",
      "source": "print(np.shape(v_weights_T))",
      "metadata": {
        "trusted": true
      },
      "outputs": [
        {
          "name": "stdout",
          "text": "(4, 3)\n",
          "output_type": "stream"
        }
      ],
      "execution_count": 63
    },
    {
      "cell_type": "code",
      "source": "output = np.dot(v_inputs, v_weights_T) + v_biases",
      "metadata": {
        "trusted": true
      },
      "outputs": [],
      "execution_count": 64
    },
    {
      "cell_type": "code",
      "source": "print(output)",
      "metadata": {
        "trusted": true
      },
      "outputs": [
        {
          "name": "stdout",
          "text": "[[ 4.8    1.21   2.385]\n [ 8.9   -1.81   0.2  ]\n [ 1.41   1.051  0.026]]\n",
          "output_type": "stream"
        }
      ],
      "execution_count": 65
    },
    {
      "cell_type": "code",
      "source": "",
      "metadata": {
        "trusted": true
      },
      "outputs": [],
      "execution_count": null
    }
  ]
}