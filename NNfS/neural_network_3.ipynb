{
  "metadata": {
    "kernelspec": {
      "name": "python",
      "display_name": "Python (Pyodide)",
      "language": "python"
    },
    "language_info": {
      "codemirror_mode": {
        "name": "python",
        "version": 3
      },
      "file_extension": ".py",
      "mimetype": "text/x-python",
      "name": "python",
      "nbconvert_exporter": "python",
      "pygments_lexer": "ipython3",
      "version": "3.8"
    }
  },
  "nbformat_minor": 4,
  "nbformat": 4,
  "cells": [
    {
      "cell_type": "code",
      "source": "# adding an extra layer",
      "metadata": {
        "trusted": true
      },
      "outputs": [],
      "execution_count": 97
    },
    {
      "cell_type": "code",
      "source": "# importing python module named numpy\nimport sys\nimport os\nimport numpy as np\nimport inspect\nimport matplotlib as plt",
      "metadata": {
        "trusted": true
      },
      "outputs": [],
      "execution_count": null
    },
    {
      "cell_type": "code",
      "source": "import nnfs\nfrom nnfs.datasets import spiral_data  # See for code: https://gist.github.com/Sentdex/454cb20ec5acf0e76ee8ab8448e6266c\n\nnnfs.init()",
      "metadata": {
        "trusted": true
      },
      "outputs": [],
      "execution_count": null
    },
    {
      "cell_type": "code",
      "source": "v_inputs = [\n    [1.0, 2.0, 3.0, 2.5],\n    [2.0, 5.0, -1.0, 2.0],\n    [-1.5, 2.7, 3.3, -0.8]\n]",
      "metadata": {
        "trusted": true
      },
      "outputs": [],
      "execution_count": 104
    },
    {
      "cell_type": "code",
      "source": "v_weights = [\n    [0.2, 0.8, -0.5, 1.0],\n    [0.5, -0.91, 0.26, -0.5],\n    [-0.26, -0.27, 0.17, 0.87]\n]",
      "metadata": {
        "trusted": true
      },
      "outputs": [],
      "execution_count": 105
    },
    {
      "cell_type": "code",
      "source": "v_biases = [2.0, 3.0, 0.5]",
      "metadata": {
        "trusted": true
      },
      "outputs": [],
      "execution_count": 106
    },
    {
      "cell_type": "code",
      "source": "v_weights2 = [\n    [0.1, -0.14, 0.5],\n    [-0.5, 0.12, -0.33],\n    [-0.44, 0.73, -0.13]\n]",
      "metadata": {
        "trusted": true
      },
      "outputs": [],
      "execution_count": 107
    },
    {
      "cell_type": "code",
      "source": "v_biases2 = [-1, 2, -0.5]",
      "metadata": {
        "trusted": true
      },
      "outputs": [],
      "execution_count": 120
    },
    {
      "cell_type": "code",
      "source": "# v2 batches (transposing weights) for layer1",
      "metadata": {
        "trusted": true
      },
      "outputs": [],
      "execution_count": 121
    },
    {
      "cell_type": "code",
      "source": "print(np.shape(np.array(v_weights)))",
      "metadata": {
        "trusted": true
      },
      "outputs": [
        {
          "name": "stdout",
          "text": "(3, 4)\n",
          "output_type": "stream"
        }
      ],
      "execution_count": 122
    },
    {
      "cell_type": "code",
      "source": "v_weights_T = np.array(v_weights).T",
      "metadata": {
        "trusted": true
      },
      "outputs": [],
      "execution_count": 123
    },
    {
      "cell_type": "code",
      "source": "print(np.array(v_weights))",
      "metadata": {
        "trusted": true
      },
      "outputs": [
        {
          "name": "stdout",
          "text": "[[ 0.2   0.8  -0.5   1.  ]\n [ 0.5  -0.91  0.26 -0.5 ]\n [-0.26 -0.27  0.17  0.87]]\n",
          "output_type": "stream"
        }
      ],
      "execution_count": 124
    },
    {
      "cell_type": "code",
      "source": "print(v_weights_T)",
      "metadata": {
        "trusted": true
      },
      "outputs": [
        {
          "name": "stdout",
          "text": "[[ 0.2   0.5  -0.26]\n [ 0.8  -0.91 -0.27]\n [-0.5   0.26  0.17]\n [ 1.   -0.5   0.87]]\n",
          "output_type": "stream"
        }
      ],
      "execution_count": 125
    },
    {
      "cell_type": "code",
      "source": "print(np.shape(v_weights_T))",
      "metadata": {
        "trusted": true
      },
      "outputs": [
        {
          "name": "stdout",
          "text": "(4, 3)\n",
          "output_type": "stream"
        }
      ],
      "execution_count": 126
    },
    {
      "cell_type": "code",
      "source": "layer1_output = np.dot(v_inputs, v_weights_T) + v_biases",
      "metadata": {
        "trusted": true
      },
      "outputs": [],
      "execution_count": 127
    },
    {
      "cell_type": "code",
      "source": "print(layer1_output)",
      "metadata": {
        "trusted": true
      },
      "outputs": [
        {
          "name": "stdout",
          "text": "[[ 4.8    1.21   2.385]\n [ 8.9   -1.81   0.2  ]\n [ 1.41   1.051  0.026]]\n",
          "output_type": "stream"
        }
      ],
      "execution_count": 128
    },
    {
      "cell_type": "code",
      "source": "# v2 batches layer1_output are input for layer2",
      "metadata": {
        "trusted": true
      },
      "outputs": [],
      "execution_count": 129
    },
    {
      "cell_type": "code",
      "source": "layer2_output = np.dot(layer1_output, v_weights2_T) + v_biases2",
      "metadata": {
        "trusted": true
      },
      "outputs": [],
      "execution_count": 130
    },
    {
      "cell_type": "code",
      "source": "print(layer2_output)",
      "metadata": {
        "trusted": true
      },
      "outputs": [
        {
          "name": "stdout",
          "text": "[[ 0.5031  -1.04185 -2.03875]\n [ 0.2434  -2.7332  -5.7633 ]\n [-0.99314  1.41254 -0.35655]]\n",
          "output_type": "stream"
        }
      ],
      "execution_count": 131
    },
    {
      "cell_type": "code",
      "source": "",
      "metadata": {
        "trusted": true
      },
      "outputs": [],
      "execution_count": null
    }
  ]
}