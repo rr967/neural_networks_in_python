{
  "metadata": {
    "kernelspec": {
      "name": "python",
      "display_name": "Python (Pyodide)",
      "language": "python"
    },
    "language_info": {
      "codemirror_mode": {
        "name": "python",
        "version": 3
      },
      "file_extension": ".py",
      "mimetype": "text/x-python",
      "name": "python",
      "nbconvert_exporter": "python",
      "pygments_lexer": "ipython3",
      "version": "3.8"
    }
  },
  "nbformat_minor": 4,
  "nbformat": 4,
  "cells": [
    {
      "cell_type": "code",
      "source": "# adding activation function ( using manual/raw input data )",
      "metadata": {
        "trusted": true
      },
      "outputs": [],
      "execution_count": 27
    },
    {
      "cell_type": "code",
      "source": "# importing python module named numpy\nimport sys\nimport os\nimport numpy as np\nimport inspect\nimport matplotlib as plt",
      "metadata": {
        "trusted": true
      },
      "outputs": [],
      "execution_count": 28
    },
    {
      "cell_type": "code",
      "source": "import nnfs\nfrom nnfs.datasets import spiral_data  # See for code: https://gist.github.com/Sentdex/454cb20ec5acf0e76ee8ab8448e6266c\n\nnnfs.init()",
      "metadata": {
        "trusted": true
      },
      "outputs": [],
      "execution_count": 29
    },
    {
      "cell_type": "code",
      "source": "# creating the dataset ( from manual/raw input 2D arrary )\n\nX = [\n    [1.0, 2.0, 3.0, 2.5],\n    [2.0, 5.0, -1.0, 2.0],\n    [-1.5, 2.7, 3.3, -0.8]\n]",
      "metadata": {
        "trusted": true
      },
      "outputs": [],
      "execution_count": 30
    },
    {
      "cell_type": "code",
      "source": "inputs = [ \n    0, 2, -1, 3.3, -2.7, 1.1, 2.2, -100\n]",
      "metadata": {
        "trusted": true
      },
      "outputs": [],
      "execution_count": 31
    },
    {
      "cell_type": "code",
      "source": "# calculating activation points",
      "metadata": {
        "trusted": true
      },
      "outputs": [],
      "execution_count": 32
    },
    {
      "cell_type": "code",
      "source": "#v1\n\noutput = []\nfor i in inputs:\n    if i > 0:\n        output.append(i)\n    elif i <= 0:\n        output.append(0)\n\nprint(output)",
      "metadata": {
        "trusted": true
      },
      "outputs": [
        {
          "name": "stdout",
          "text": "[0, 2, 0, 3.3, 0, 1.1, 2.2, 0]\n",
          "output_type": "stream"
        }
      ],
      "execution_count": 33
    },
    {
      "cell_type": "code",
      "source": "#v2\n\noutput = []\nfor i in inputs:\n    #output.append(np.maximum(0,i))\n    output.append(max(0,i))\n\nprint(output)",
      "metadata": {
        "trusted": true
      },
      "outputs": [
        {
          "name": "stdout",
          "text": "[0, 2, 0, 3.3, 0, 1.1, 2.2, 0]\n",
          "output_type": "stream"
        }
      ],
      "execution_count": 34
    },
    {
      "cell_type": "code",
      "source": "\"\"\"\nnp.random.randn = gaussian distribution around zero\n\"\"\"",
      "metadata": {
        "trusted": true
      },
      "outputs": [
        {
          "execution_count": 35,
          "output_type": "execute_result",
          "data": {
            "text/plain": "'\\nnp.random.randn = gaussian distribution around zero\\n'"
          },
          "metadata": {}
        }
      ],
      "execution_count": 35
    },
    {
      "cell_type": "code",
      "source": "# we use this function to reproduce every time the same result (done in nnfs.init)\n# np.random.seed(0)\n",
      "metadata": {
        "trusted": true
      },
      "outputs": [],
      "execution_count": 36
    },
    {
      "cell_type": "code",
      "source": "print(0.10 * np.random.randn(4,5))",
      "metadata": {
        "trusted": true
      },
      "outputs": [
        {
          "name": "stdout",
          "text": "[[ 0.17640524  0.04001572  0.0978738   0.22408931  0.1867558 ]\n [-0.09772779  0.09500884 -0.01513572 -0.01032189  0.04105985]\n [ 0.01440436  0.14542735  0.07610377  0.0121675   0.04438632]\n [ 0.03336744  0.14940791 -0.02051583  0.03130677 -0.08540957]]\n",
          "output_type": "stream"
        }
      ],
      "execution_count": 37
    },
    {
      "cell_type": "code",
      "source": "\"\"\"\nnp.zeros: needs a tuple as an input parameter (or a single integer value\n\"\"\"",
      "metadata": {
        "trusted": true
      },
      "outputs": [
        {
          "execution_count": 38,
          "output_type": "execute_result",
          "data": {
            "text/plain": "'\\nnp.zeros: needs a tuple as an input parameter (or a single integer value\\n'"
          },
          "metadata": {}
        }
      ],
      "execution_count": 38
    },
    {
      "cell_type": "code",
      "source": "print(np.zeros((1,5))) # can be used",
      "metadata": {
        "trusted": true
      },
      "outputs": [
        {
          "name": "stdout",
          "text": "[[0. 0. 0. 0. 0.]]\n",
          "output_type": "stream"
        }
      ],
      "execution_count": 39
    },
    {
      "cell_type": "code",
      "source": "print(np.zeros(5)) # cannot be used",
      "metadata": {
        "trusted": true
      },
      "outputs": [
        {
          "name": "stdout",
          "text": "[0. 0. 0. 0. 0.]\n",
          "output_type": "stream"
        }
      ],
      "execution_count": 40
    },
    {
      "cell_type": "code",
      "source": "# creating objects\n\nclass Layer_Dense:\n    def __init__(self,n_inputs,n_neurons):\n        # be aware of the order, 1st input and then neurons, then we don't need to transpose\n        self.weights = 0.10 * np.random.randn(n_inputs,n_neurons)\n        self.biases = np.zeros((1,n_neurons))\n        pass\n        \n    def forward(self,inputs):\n        self.output = np.dot(np.array(inputs),self.weights) + self.biases\n        pass\n\nclass Activation_ReLU:\n    def forward(self, inputs):\n        self.output = np.maximum(0, inputs)\n",
      "metadata": {
        "trusted": true
      },
      "outputs": [],
      "execution_count": 41
    },
    {
      "cell_type": "code",
      "source": "# create the neural network",
      "metadata": {
        "trusted": true
      },
      "outputs": [],
      "execution_count": 42
    },
    {
      "cell_type": "code",
      "source": "no_features_per_input_set = 4",
      "metadata": {
        "trusted": true
      },
      "outputs": [],
      "execution_count": 43
    },
    {
      "cell_type": "code",
      "source": "no_neurons_1nd_layer = 5",
      "metadata": {
        "trusted": true
      },
      "outputs": [],
      "execution_count": 44
    },
    {
      "cell_type": "code",
      "source": "no_neurons_2nd_layer = 2",
      "metadata": {
        "trusted": true
      },
      "outputs": [],
      "execution_count": 45
    },
    {
      "cell_type": "code",
      "source": "layer1 = Layer_Dense(no_features_per_input_set, no_neurons_1nd_layer)",
      "metadata": {
        "trusted": true
      },
      "outputs": [],
      "execution_count": 46
    },
    {
      "cell_type": "code",
      "source": "layer2 = Layer_Dense(no_neurons_1nd_layer, no_neurons_2nd_layer)",
      "metadata": {
        "trusted": true
      },
      "outputs": [],
      "execution_count": 47
    },
    {
      "cell_type": "code",
      "source": "layer1.forward(X)",
      "metadata": {
        "trusted": true
      },
      "outputs": [],
      "execution_count": 48
    },
    {
      "cell_type": "code",
      "source": "print(layer1.output)",
      "metadata": {
        "trusted": true
      },
      "outputs": [
        {
          "name": "stdout",
          "text": "[[-0.46060064  0.495535    0.08326608 -0.45873132  0.3408979 ]\n [-1.2220057   0.36184487  0.40854988  0.73857087  1.162961  ]\n [ 0.02889445 -0.05931761 -0.5693648  -0.09750155 -0.03436312]]\n",
          "output_type": "stream"
        }
      ],
      "execution_count": 49
    },
    {
      "cell_type": "code",
      "source": "layer2.forward(layer1.output)",
      "metadata": {
        "trusted": true
      },
      "outputs": [],
      "execution_count": 50
    },
    {
      "cell_type": "code",
      "source": "print(layer2.output)",
      "metadata": {
        "trusted": true
      },
      "outputs": [
        {
          "name": "stdout",
          "text": "[[-0.03804671  0.115508  ]\n [-0.23464641  0.2588996 ]\n [ 0.05387006  0.0024182 ]]\n",
          "output_type": "stream"
        }
      ],
      "execution_count": 51
    },
    {
      "cell_type": "code",
      "source": "",
      "metadata": {
        "trusted": true
      },
      "outputs": [],
      "execution_count": null
    }
  ]
}