{
  "metadata": {
    "kernelspec": {
      "name": "python",
      "display_name": "Python (Pyodide)",
      "language": "python"
    },
    "language_info": {
      "codemirror_mode": {
        "name": "python",
        "version": 3
      },
      "file_extension": ".py",
      "mimetype": "text/x-python",
      "name": "python",
      "nbconvert_exporter": "python",
      "pygments_lexer": "ipython3",
      "version": "3.8"
    }
  },
  "nbformat_minor": 4,
  "nbformat": 4,
  "cells": [
    {
      "cell_type": "code",
      "source": "# URL: https://www.geeksforgeeks.org/implementation-of-neural-network-from-scratch-using-numpy/",
      "metadata": {
        "trusted": true
      },
      "outputs": [],
      "execution_count": null
    },
    {
      "cell_type": "code",
      "source": "import numpy as np\nimport matplotlib.pyplot as plt",
      "metadata": {
        "trusted": true
      },
      "outputs": [],
      "execution_count": null
    },
    {
      "cell_type": "code",
      "source": "\"\"\"\nImplementation of neural network from scratch using NumPy\n\"\"\"",
      "metadata": {
        "trusted": true
      },
      "outputs": [],
      "execution_count": null
    },
    {
      "cell_type": "code",
      "source": "\"\"\"\nDNN(Deep neural network) is a machine learning algorithm that is inspired by the way the human brain works. \nDNN is mainly used as a classification algorithm. In this article, \nwe will look at the stepwise approach on how to implement the basic DNN algorithm in NumPy(Python library) from scratch. \n\nThe purpose of this article is to create a sense of understanding for the beginners, \non how neural network works and its implementation details. \n\nWe are going to build a three-letter(A, B, C) classifier, \nfor simplicity we are going to create the letters (A, B, C) as NumPy array of 0s and 1s, \nalso we are going to ignore the bias term related with each node. \n\"\"\"",
      "metadata": {
        "trusted": true
      },
      "outputs": [],
      "execution_count": null
    },
    {
      "cell_type": "code",
      "source": "\"\"\"\nStep 1 : Creating the data set using numpy array of 0s and 1s. \nAs the image is a collection of pixel values in matrix, we will create those matrix of pixel for A, B, C \n\"\"\"                                                                                          ",
      "metadata": {
        "trusted": true
      },
      "outputs": [],
      "execution_count": null
    },
    {
      "cell_type": "code",
      "source": "# Creating data set\n\n# A\na =[\n0, 0, 1, 1, 0, 0,\n0, 1, 0, 0, 1, 0,\n1, 1, 1, 1, 1, 1,\n1, 0, 0, 0, 0, 1,\n1, 0, 0, 0, 0, 1\n]\n# B\nb =[\n0, 1, 1, 1, 1, 0,\n0, 1, 0, 0, 1, 0,\n0, 1, 1, 1, 1, 0,\n0, 1, 0, 0, 1, 0,\n0, 1, 1, 1, 1, 0\n]\n# C\nc =[\n0, 1, 1, 1, 1, 0,\n0, 1, 0, 0, 0, 0,\n0, 1, 0, 0, 0, 0,\n0, 1, 0, 0, 0, 0,\n0, 1, 1, 1, 1, 0\n]\n\n# Creating labels\ny =[\n[1, 0, 0],\n[0, 1, 0],\n[0, 0, 1]\n]\n",
      "metadata": {
        "trusted": true
      },
      "outputs": [],
      "execution_count": null
    },
    {
      "cell_type": "code",
      "source": "\"\"\"\nStep 2 : Visualization of data set\n\"\"\"",
      "metadata": {
        "trusted": true
      },
      "outputs": [],
      "execution_count": null
    },
    {
      "cell_type": "code",
      "source": "# visualizing the data, plotting A.\nplt.imshow(np.array(a).reshape(5, 6))\nplt.show()",
      "metadata": {
        "trusted": true
      },
      "outputs": [],
      "execution_count": null
    },
    {
      "cell_type": "code",
      "source": "# visualizing the data, plotting A.\nplt.imshow(np.array(b).reshape(5, 6))\nplt.show()",
      "metadata": {
        "trusted": true
      },
      "outputs": [],
      "execution_count": null
    },
    {
      "cell_type": "code",
      "source": "# visualizing the data, plotting A.\nplt.imshow(np.array(c).reshape(5, 6))\nplt.show()",
      "metadata": {
        "trusted": true
      },
      "outputs": [],
      "execution_count": null
    },
    {
      "cell_type": "code",
      "source": "\"\"\"\nStep 3 :As the data set is in the form of list we will convert it into numpy array.\n\"\"\"",
      "metadata": {
        "trusted": true
      },
      "outputs": [],
      "execution_count": null
    },
    {
      "cell_type": "code",
      "source": "# converting data and labels into numpy array\n\n\"\"\"\nConvert the matrix of 0 and 1 into one hot vector \nso that we can directly feed it to the neural network,\nthese vectors are then stored in a list x.\n\"\"\"\n\nif True:\n    x =[np.array(a).reshape(1, 30), \n        np.array(b).reshape(1, 30), \n\t\tnp.array(c).reshape(1, 30)]\n# OPGELET! de nieuwe numpy array moet gereshaped worden, anders foutmelding!\nif False:\n    x =[np.array(a), np.array(b), np.array(c)]\n\n\n# Labels are also converted into NumPy array\ny = np.array(y)\n\nprint(x, \"\\n\\n\", y)\n",
      "metadata": {
        "trusted": true
      },
      "outputs": [],
      "execution_count": null
    },
    {
      "cell_type": "code",
      "source": "\"\"\"\nStep 4 : Defining the architecture or structure of the deep neural network. \nThis includes deciding the number of layers and the number of nodes in each layer. \nOur neural network is going to have the following structure. \n\"\"\"",
      "metadata": {
        "trusted": true
      },
      "outputs": [],
      "execution_count": null
    },
    {
      "cell_type": "code",
      "source": "# Creating the Feed forward neural network\n# 1 Input layer(1, 30)\n# 1 hidden layer (1, 5)\n# 1 output layer(1, 3)",
      "metadata": {
        "trusted": true
      },
      "outputs": [],
      "execution_count": null
    },
    {
      "cell_type": "code",
      "source": "\"\"\"\nStep 5: Declaring and defining all the function to build deep neural network.\n\"\"\"",
      "metadata": {
        "trusted": true
      },
      "outputs": [],
      "execution_count": null
    },
    {
      "cell_type": "code",
      "source": "# activation function\n\ndef sigmoid(x):\n\treturn(1/(1 + np.exp(-x)))\n\n# Creating the Feed forward neural network\n# 1 Input layer(1, 30)\n# 1 hidden layer (1, 5)\n# 1 output layer(1, 3)\n\ndef f_forward(x, w1, w2):\n\t# hidden\n\tz1 = x.dot(w1)# input from layer 1 \n\ta1 = sigmoid(z1)# out put of layer 2 \n\t\n\t# Output layer\n\tz2 = a1.dot(w2)# input of out layer\n\ta2 = sigmoid(z2)# output of out layer\n\treturn(a2)\n\n# initializing the weights randomly\ndef generate_wt(x, y):\n\tl =[]\n\tfor i in range(x * y):\n\t\tl.append(np.random.randn())\n\treturn(np.array(l).reshape(x, y))\n\t\n# for loss we will be using mean square error(MSE)\ndef loss(out, Y):\n\ts =(np.square(out-Y))\n\ts = np.sum(s)/len(y)\n\treturn(s)\n\n# Back propagation of error \ndef back_prop(x, y, w1, w2, alpha):\n\t\n\t# hidden layer\n\tz1 = x.dot(w1)# input from layer 1 \n\ta1 = sigmoid(z1)# output of layer 2 \n\t\n\t# Output layer\n\tz2 = a1.dot(w2)# input of out layer\n\ta2 = sigmoid(z2)# output of out layer\n\t# error in output layer\n\td2 =(a2-y)\n\td1 = np.multiply((w2.dot((d2.transpose()))).transpose(), \n\t\t\t\t\t\t\t\t(np.multiply(a1, 1-a1)))\n\n\t# Gradient for w1 and w2\n\tw1_adj = x.transpose().dot(d1)\n\tw2_adj = a1.transpose().dot(d2)\n\t\n\t# Updating parameters\n\tw1 = w1-(alpha*(w1_adj))\n\tw2 = w2-(alpha*(w2_adj))\n\t\n\treturn(w1, w2)\n\ndef train(x, Y, w1, w2, alpha = 0.01, epoch = 10):\n\tacc =[]\n\tlosss =[]\n\tfor j in range(epoch):\n\t\tl =[]\n\t\tfor i in range(len(x)):\n\t\t\tout = f_forward(x[i], w1, w2)\n\t\t\tl.append((loss(out, Y[i])))\n\t\t\tw1, w2 = back_prop(x[i], y[i], w1, w2, alpha)\n\t\tprint(\"epochs:\", j + 1, \"======== acc:\", (1-(sum(l)/len(x)))*100) \n\t\tacc.append((1-(sum(l)/len(x)))*100)\n\t\tlosss.append(sum(l)/len(x))\n\treturn(acc, losss, w1, w2)\n\ndef predict(x, w1, w2):\n\tOut = f_forward(x, w1, w2)\n\tmaxm = 0\n\tk = 0\n\tfor i in range(len(Out[0])):\n\t\tif(maxm<Out[0][i]):\n\t\t\tmaxm = Out[0][i]\n\t\t\tk = i\n\tif(k == 0):\n\t\tprint(\"Image is of letter A.\")\n\telif(k == 1):\n\t\tprint(\"Image is of letter B.\")\n\telse:\n\t\tprint(\"Image is of letter C.\")\n\tplt.imshow(x.reshape(5, 6))\n\tplt.show() ",
      "metadata": {
        "trusted": true
      },
      "outputs": [],
      "execution_count": null
    },
    {
      "cell_type": "code",
      "source": "\"\"\"\nStep 6: Initializing the weights, as the neural network is having 3 layers, \nso there will be 2 weight matrix associate with it. \nThe size of each matrix depends on the number of nodes in two connecting layers. \n\"\"\"",
      "metadata": {
        "trusted": true
      },
      "outputs": [],
      "execution_count": null
    },
    {
      "cell_type": "code",
      "source": "w1 = generate_wt(30, 5)\nw2 = generate_wt(5, 3)\n\nprint(w1, \"\\n\\n\", w2)",
      "metadata": {
        "trusted": true
      },
      "outputs": [],
      "execution_count": null
    },
    {
      "cell_type": "code",
      "source": "\"\"\"\nStep 7 : Training the model.\n\"\"\"",
      "metadata": {
        "trusted": true
      },
      "outputs": [],
      "execution_count": null
    },
    {
      "cell_type": "code",
      "source": "\"\"\"\nThe arguments of train function are \n    data set list x, \n    correct labels y, \n    weights w1, w2, \n    learning rate = 0.1, \n    no of epochs or iteration.\nThe function will return the matrix of accuracy and loss \nand also the matrix of trained weights w1, w2\n\"\"\"\n\n# acc, losss, w1, w2 = train(x, y, w1, w2, 0.1, 100) # max 95 accuracy\nacc, losss, w1, w2 = train(x, y, w1, w2, 0.1, 850) # max 99,9 accuracy\n# acc, losss, w1, w2 = train(x, y, w1, w2, 0.1, 1000) # max 99,99 accuracy\n",
      "metadata": {
        "trusted": true
      },
      "outputs": [],
      "execution_count": null
    },
    {
      "cell_type": "code",
      "source": "\"\"\"\nStep 8 : Plotting the graphs of loss and accuracy with respect to number of epochs(Iteration). \n\"\"\"",
      "metadata": {
        "trusted": true
      },
      "outputs": [],
      "execution_count": null
    },
    {
      "cell_type": "code",
      "source": "import matplotlib.pyplot as plt1\n\n# plotting accuracy\nplt1.plot(acc)\nplt1.ylabel('Accuracy')\nplt1.xlabel(\"Epochs:\")\nplt1.show()\n\n# plotting Loss\nplt1.plot(losss)\nplt1.ylabel('Loss')\nplt1.xlabel(\"Epochs:\")\nplt1.show()\n",
      "metadata": {
        "trusted": true
      },
      "outputs": [],
      "execution_count": null
    },
    {
      "cell_type": "code",
      "source": "\"\"\"\nGetting the weights of the trained model\n\"\"\"",
      "metadata": {
        "trusted": true
      },
      "outputs": [],
      "execution_count": null
    },
    {
      "cell_type": "code",
      "source": "# the trained weights are\nprint(w1, \"\\n\", w2)",
      "metadata": {
        "trusted": true
      },
      "outputs": [],
      "execution_count": null
    },
    {
      "cell_type": "code",
      "source": "\"\"\"\nStep9: Making prediction.\n\"\"\"",
      "metadata": {
        "trusted": true
      },
      "outputs": [],
      "execution_count": null
    },
    {
      "cell_type": "code",
      "source": "\"\"\"\nThe predict function will take the following arguments:\n1) image matrix\n2) w1 trained weights\n3) w2 trained weights\n\"\"\"\n# finding letter A\npredict(x[0], w1, w2)\n",
      "metadata": {
        "trusted": true
      },
      "outputs": [],
      "execution_count": null
    },
    {
      "cell_type": "code",
      "source": "\"\"\"\nThe predict function will take the following arguments:\n1) image matrix\n2) w1 trained weights\n3) w2 trained weights\n\"\"\"\n# finding letter B\npredict(x[1], w1, w2)\n",
      "metadata": {
        "trusted": true
      },
      "outputs": [],
      "execution_count": null
    },
    {
      "cell_type": "code",
      "source": "\"\"\"\nThe predict function will take the following arguments:\n1) image matrix\n2) w1 trained weights\n3) w2 trained weights\n\"\"\"\n# finding letter C\npredict(x[2], w1, w2)\n",
      "metadata": {
        "trusted": true
      },
      "outputs": [],
      "execution_count": null
    },
    {
      "cell_type": "code",
      "source": "\"\"\"\nTry-out with adapted values of the image matrices for letters A, B and C\n\"\"\"",
      "metadata": {
        "trusted": true
      },
      "outputs": [],
      "execution_count": null
    },
    {
      "cell_type": "code",
      "source": "# Creating data set\n\n# A\na =[\n0, 1, 1, 1, 0, 0,\n0, 1, 0, 0, 1, 0,\n1, 1, 1, 0, 1, 1,\n1, 0, 0, 0, 0, 1,\n1, 0, 0, 0, 1, 1\n]\n# B\nb =[\n0, 1, 0, 1, 1, 1,\n0, 1, 0, 0, 1, 0,\n0, 1, 1, 1, 1, 0,\n0, 1, 0, 0, 1, 0,\n0, 1, 1, 1, 0, 0\n]\n# C\nc =[\n1, 1, 0, 1, 1, 0,\n0, 1, 0, 0, 0, 0,\n0, 1, 0, 0, 0, 0,\n0, 0, 0, 0, 0, 0,\n0, 1, 1, 1, 1, 0\n]\n\n# Creating labels\ny =[\n[1, 0, 0],\n[0, 1, 0],\n[0, 0, 1]\n]\n",
      "metadata": {
        "trusted": true
      },
      "outputs": [],
      "execution_count": null
    },
    {
      "cell_type": "code",
      "source": "# visualizing the data, plotting A.\nplt.imshow(np.array(a).reshape(5, 6))\nplt.show()",
      "metadata": {
        "trusted": true
      },
      "outputs": [],
      "execution_count": null
    },
    {
      "cell_type": "code",
      "source": "# visualizing the data, plotting B.\nplt.imshow(np.array(b).reshape(5, 6))\nplt.show()",
      "metadata": {
        "trusted": true
      },
      "outputs": [],
      "execution_count": null
    },
    {
      "cell_type": "code",
      "source": "# visualizing the data, plotting C.\nplt.imshow(np.array(c).reshape(5, 6))\nplt.show()",
      "metadata": {
        "trusted": true
      },
      "outputs": [],
      "execution_count": null
    },
    {
      "cell_type": "code",
      "source": "# converting data and labels into numpy array\n\n\"\"\"\nConvert the matrix of 0 and 1 into one hot vector \nso that we can directly feed it to the neural network,\nthese vectors are then stored in a list x.\n\"\"\"\n\nx =[np.array(a).reshape(1, 30), np.array(b).reshape(1, 30), \n\t\t\t\t\t\t\t\tnp.array(c).reshape(1, 30)]\n\n# Labels are also converted into NumPy array\ny = np.array(y)\n\nprint(x, \"\\n\\n\", y)\n",
      "metadata": {
        "trusted": true
      },
      "outputs": [],
      "execution_count": null
    },
    {
      "cell_type": "code",
      "source": "\"\"\"\nThe predict function will take the following arguments:\n1) image matrix\n2) w1 trained weights\n3) w2 trained weights\n\"\"\"\n# finding letter A (distorted image)\npredict(x[0], w1, w2)\n",
      "metadata": {
        "trusted": true
      },
      "outputs": [],
      "execution_count": null
    },
    {
      "cell_type": "code",
      "source": "\"\"\"\nThe predict function will take the following arguments:\n1) image matrix\n2) w1 trained weights\n3) w2 trained weights\n\"\"\"\n# finding letter B (distorted image)\npredict(x[1], w1, w2)\n",
      "metadata": {
        "trusted": true
      },
      "outputs": [],
      "execution_count": null
    },
    {
      "cell_type": "code",
      "source": "\"\"\"\nThe predict function will take the following arguments:\n1) image matrix\n2) w1 trained weights\n3) w2 trained weights\n\"\"\"\n# finding letter C (distorted image)\npredict(x[2], w1, w2)\n",
      "metadata": {
        "trusted": true
      },
      "outputs": [],
      "execution_count": null
    },
    {
      "cell_type": "code",
      "source": "",
      "metadata": {
        "trusted": true
      },
      "outputs": [],
      "execution_count": null
    }
  ]
}