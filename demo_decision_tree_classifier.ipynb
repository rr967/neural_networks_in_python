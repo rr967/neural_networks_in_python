{
  "metadata": {
    "kernelspec": {
      "name": "python",
      "display_name": "Python (Pyodide)",
      "language": "python"
    },
    "language_info": {
      "codemirror_mode": {
        "name": "python",
        "version": 3
      },
      "file_extension": ".py",
      "mimetype": "text/x-python",
      "name": "python",
      "nbconvert_exporter": "python",
      "pygments_lexer": "ipython3",
      "version": "3.8"
    }
  },
  "nbformat_minor": 4,
  "nbformat": 4,
  "cells": [
    {
      "cell_type": "code",
      "source": "# URL: https://www.youtube.com/watch?v=LDRbO9a6XPU&ab_channel=GoogleforDevelopers",
      "metadata": {
        "trusted": true
      },
      "outputs": [],
      "execution_count": 1
    },
    {
      "cell_type": "code",
      "source": "# https://github.com/random-forests/tutorials/blob/master/decision_tree.ipynb",
      "metadata": {
        "trusted": true
      },
      "outputs": [],
      "execution_count": 2
    },
    {
      "cell_type": "code",
      "source": "# https://github.com/random-forests/tutorials/blob/master/decision_tree.py",
      "metadata": {
        "trusted": true
      },
      "outputs": [],
      "execution_count": 3
    },
    {
      "cell_type": "code",
      "source": "# https://github.com/random-forests/",
      "metadata": {
        "trusted": true
      },
      "outputs": [],
      "execution_count": 4
    },
    {
      "cell_type": "code",
      "source": "\"\"\"\nCode to accompany Machine Learning Recipes #8. \n\nWe'll write a Decision Tree Classifier, in pure Python. \n\nBelow each of the methods, I've written a little demo to help explain what it does.\n\"\"\"",
      "metadata": {
        "trusted": true
      },
      "outputs": [
        {
          "execution_count": 5,
          "output_type": "execute_result",
          "data": {
            "text/plain": "\"\\nCode to accompany Machine Learning Recipes #8. \\n\\nWe'll write a Decision Tree Classifier, in pure Python. \\n\\nBelow each of the methods, I've written a little demo to help explain what it does.\\n\""
          },
          "metadata": {}
        }
      ],
      "execution_count": 5
    },
    {
      "cell_type": "code",
      "source": "# For Python 2 / 3 compatability\nfrom __future__ import print_function\n",
      "metadata": {
        "trusted": true
      },
      "outputs": [],
      "execution_count": 6
    },
    {
      "cell_type": "code",
      "source": "# Toy dataset.\n# Format: each row is an example.\n# The last column is the label.\n# The first two columns are features.\n# Feel free to play with it by adding more features & examples.\n# Interesting note: I've written this so the 2nd and 5th examples\n# have the same features, but different labels - so we can see how the\n# tree handles this case.\ntraining_data = [\n    ['Green', 3, 'Apple'],\n    ['Yellow', 3, 'Apple'],\n    ['Red', 1, 'Grape'],\n    ['Red', 1, 'Grape'],\n    ['Yellow', 3, 'Lemon'],\n]",
      "metadata": {
        "trusted": true
      },
      "outputs": [],
      "execution_count": 7
    },
    {
      "cell_type": "code",
      "source": "# Column labels.\n# These are used only to print the tree.\nheader = [\"color\", \"diameter\", \"label\"]\n",
      "metadata": {
        "trusted": true
      },
      "outputs": [],
      "execution_count": 9
    },
    {
      "cell_type": "code",
      "source": "def unique_vals(rows, col):\n    \"\"\"Find the unique values for a column in a dataset.\"\"\"\n    return set([row[col] for row in rows])\n",
      "metadata": {
        "trusted": true
      },
      "outputs": [],
      "execution_count": 10
    },
    {
      "cell_type": "code",
      "source": "#######\n# Demo:\nunique_vals(training_data, 0)\n# unique_vals(training_data, 1)\n#######",
      "metadata": {
        "trusted": true
      },
      "outputs": [
        {
          "execution_count": 11,
          "output_type": "execute_result",
          "data": {
            "text/plain": "{'Green', 'Red', 'Yellow'}"
          },
          "metadata": {}
        }
      ],
      "execution_count": 11
    },
    {
      "cell_type": "code",
      "source": "def class_counts(rows):\n    \"\"\"Counts the number of each type of example in a dataset.\"\"\"\n    counts = {}  # a dictionary of label -> count.\n    for row in rows:\n        # in our dataset format, the label is always the last column\n        label = row[-1]\n        if label not in counts:\n            counts[label] = 0\n        counts[label] += 1\n    return counts",
      "metadata": {
        "trusted": true
      },
      "outputs": [],
      "execution_count": 12
    },
    {
      "cell_type": "code",
      "source": "#######\n# Demo:\nclass_counts(training_data)\n#######",
      "metadata": {
        "trusted": true
      },
      "outputs": [
        {
          "execution_count": 13,
          "output_type": "execute_result",
          "data": {
            "text/plain": "{'Apple': 2, 'Grape': 2, 'Lemon': 1}"
          },
          "metadata": {}
        }
      ],
      "execution_count": 13
    },
    {
      "cell_type": "code",
      "source": "def is_numeric(value):\n    \"\"\"Test if a value is numeric.\"\"\"\n    return isinstance(value, int) or isinstance(value, float)\n",
      "metadata": {
        "trusted": true
      },
      "outputs": [],
      "execution_count": 14
    },
    {
      "cell_type": "code",
      "source": "#######\n# Demo:\nis_numeric(7)\n# is_numeric(\"Red\")\n#######",
      "metadata": {
        "trusted": true
      },
      "outputs": [
        {
          "execution_count": 15,
          "output_type": "execute_result",
          "data": {
            "text/plain": "True"
          },
          "metadata": {}
        }
      ],
      "execution_count": 15
    },
    {
      "cell_type": "code",
      "source": "class Question:\n    \"\"\"A Question is used to partition a dataset.\n\n    This class just records a 'column number' (e.g., 0 for Color) and a\n    'column value' (e.g., Green). The 'match' method is used to compare\n    the feature value in an example to the feature value stored in the\n    question. See the demo below.\n    \"\"\"\n\n    def __init__(self, column, value):\n        self.column = column\n        self.value = value\n\n    def match(self, example):\n        # Compare the feature value in an example to the\n        # feature value in this question.\n        val = example[self.column]\n        if is_numeric(val):\n            return val >= self.value\n        else:\n            return val == self.value\n\n    def __repr__(self):\n        # This is just a helper method to print\n        # the question in a readable format.\n        condition = \"==\"\n        if is_numeric(self.value):\n            condition = \">=\"\n        return \"Is %s %s %s?\" % (\n            header[self.column], condition, str(self.value))",
      "metadata": {
        "trusted": true
      },
      "outputs": [],
      "execution_count": 16
    },
    {
      "cell_type": "code",
      "source": "#######\n# Demo:\n# Let's write a question for a numeric attribute\nQuestion(1, 3)\n# How about one for a categorical attribute\n# q = Question(0, 'Green')\n# Let's pick an example from the training set...\n# example = training_data[0]\n# ... and see if it matches the question\n# q.match(example)\n#######",
      "metadata": {
        "trusted": true
      },
      "outputs": [
        {
          "execution_count": 17,
          "output_type": "execute_result",
          "data": {
            "text/plain": "Is diameter >= 3?"
          },
          "metadata": {}
        }
      ],
      "execution_count": 17
    },
    {
      "cell_type": "code",
      "source": "# How about one for a categorical attribute\nq = Question(0, 'Green')\nq",
      "metadata": {
        "trusted": true
      },
      "outputs": [
        {
          "execution_count": 18,
          "output_type": "execute_result",
          "data": {
            "text/plain": "Is color == Green?"
          },
          "metadata": {}
        }
      ],
      "execution_count": 18
    },
    {
      "cell_type": "code",
      "source": "# Let's pick an example from the training set...\nexample = training_data[0]\n# ... and see if it matches the question\nq.match(example) # this will be true, since the first example is Green.\n#######",
      "metadata": {
        "trusted": true
      },
      "outputs": [
        {
          "execution_count": 19,
          "output_type": "execute_result",
          "data": {
            "text/plain": "True"
          },
          "metadata": {}
        }
      ],
      "execution_count": 19
    },
    {
      "cell_type": "code",
      "source": "def partition(rows, question):\n    \"\"\"Partitions a dataset.\n\n    For each row in the dataset, check if it matches the question. If\n    so, add it to 'true rows', otherwise, add it to 'false rows'.\n    \"\"\"\n    true_rows, false_rows = [], []\n    for row in rows:\n        if question.match(row):\n            true_rows.append(row)\n        else:\n            false_rows.append(row)\n    return true_rows, false_rows",
      "metadata": {
        "trusted": true
      },
      "outputs": [],
      "execution_count": 20
    },
    {
      "cell_type": "code",
      "source": "#######\n# Demo:\n# Let's partition the training data based on whether rows are Red.\ntrue_rows, false_rows = partition(training_data, Question(0, 'Red'))\n# This will contain all the 'Red' rows.\ntrue_rows\n# This will contain everything else.\n# false_rows\n#######\n",
      "metadata": {
        "trusted": true
      },
      "outputs": [
        {
          "execution_count": 21,
          "output_type": "execute_result",
          "data": {
            "text/plain": "[['Red', 1, 'Grape'], ['Red', 1, 'Grape']]"
          },
          "metadata": {}
        }
      ],
      "execution_count": 21
    },
    {
      "cell_type": "code",
      "source": "# This will contain everything else.\nfalse_rows",
      "metadata": {
        "trusted": true
      },
      "outputs": [
        {
          "execution_count": 22,
          "output_type": "execute_result",
          "data": {
            "text/plain": "[['Green', 3, 'Apple'], ['Yellow', 3, 'Apple'], ['Yellow', 3, 'Lemon']]"
          },
          "metadata": {}
        }
      ],
      "execution_count": 22
    },
    {
      "cell_type": "code",
      "source": "def gini(rows):\n    \"\"\"Calculate the Gini Impurity for a list of rows.\n\n    There are a few different ways to do this, I thought this one was\n    the most concise. See:\n    https://en.wikipedia.org/wiki/Decision_tree_learning#Gini_impurity\n    \"\"\"\n    counts = class_counts(rows)\n    impurity = 1\n    for lbl in counts:\n        prob_of_lbl = counts[lbl] / float(len(rows))\n        impurity -= prob_of_lbl**2\n    return impurity",
      "metadata": {
        "trusted": true
      },
      "outputs": [],
      "execution_count": 23
    },
    {
      "cell_type": "code",
      "source": "#######\n# Demo:\n# Let's look at some example to understand how Gini Impurity works.\n#\n# First, we'll look at a dataset with no mixing.\nno_mixing = [['Apple'],\n              ['Apple']]\n# this will return 0\ngini(no_mixing)\n#\n# Now, we'll look at dataset with a 50:50 apples:oranges ratio\n# some_mixing = [['Apple'],\n#               ['Orange']]\n# this will return 0.5 - meaning, there's a 50% chance of misclassifying\n# a random example we draw from the dataset.\n# gini(some_mixing)\n#\n# Now, we'll look at a dataset with many different labels\n# lots_of_mixing = [['Apple'],\n#                  ['Orange'],\n#                  ['Grape'],\n#                  ['Grapefruit'],\n#                  ['Blueberry']]\n# This will return 0.8\n# gini(lots_of_mixing)\n#######",
      "metadata": {
        "trusted": true
      },
      "outputs": [
        {
          "execution_count": 25,
          "output_type": "execute_result",
          "data": {
            "text/plain": "0.0"
          },
          "metadata": {}
        }
      ],
      "execution_count": 25
    },
    {
      "cell_type": "code",
      "source": "# Now, we'll look at dataset with a 50:50 apples:oranges ratio\nsome_mixing = [['Apple'],\n               ['Orange']]\n# this will return 0.5 - meaning, there's a 50% chance of misclassifying\n# a random example we draw from the dataset.\ngini(some_mixing)",
      "metadata": {
        "trusted": true
      },
      "outputs": [
        {
          "execution_count": 26,
          "output_type": "execute_result",
          "data": {
            "text/plain": "0.5"
          },
          "metadata": {}
        }
      ],
      "execution_count": 26
    },
    {
      "cell_type": "code",
      "source": "# Now, we'll look at a dataset with many different labels\nlots_of_mixing = [['Apple'],\n                  ['Orange'],\n                  ['Grape'],\n                  ['Grapefruit'],\n                  ['Blueberry']]\n# This will return 0.8\ngini(lots_of_mixing)\n#######",
      "metadata": {
        "trusted": true
      },
      "outputs": [
        {
          "execution_count": 27,
          "output_type": "execute_result",
          "data": {
            "text/plain": "0.7999999999999998"
          },
          "metadata": {}
        }
      ],
      "execution_count": 27
    },
    {
      "cell_type": "code",
      "source": "def info_gain(left, right, current_uncertainty):\n    \"\"\"Information Gain.\n\n    The uncertainty of the starting node, minus the weighted impurity of\n    two child nodes.\n    \"\"\"\n    p = float(len(left)) / (len(left) + len(right))\n    return current_uncertainty - p * gini(left) - (1 - p) * gini(right)",
      "metadata": {
        "trusted": true
      },
      "outputs": [],
      "execution_count": 28
    },
    {
      "cell_type": "code",
      "source": "#######\n# Demo:\n# Calculate the uncertainy of our training data.\ncurrent_uncertainty = gini(training_data)\ncurrent_uncertainty\n#\n# How much information do we gain by partioning on 'Green'?\n# true_rows, false_rows = partition(training_data, Question(0, 'Green'))\n# info_gain(true_rows, false_rows, current_uncertainty)\n#\n# What about if we partioned on 'Red' instead?\n# true_rows, false_rows = partition(training_data, Question(0,'Red'))\n# info_gain(true_rows, false_rows, current_uncertainty)\n#\n# It looks like we learned more using 'Red' (0.37), than 'Green' (0.14).\n# Why? Look at the different splits that result, and see which one\n# looks more 'unmixed' to you.\n# true_rows, false_rows = partition(training_data, Question(0,'Red'))\n#\n# Here, the true_rows contain only 'Grapes'.\n# true_rows\n#\n# And the false rows contain two types of fruit. Not too bad.\n# false_rows\n#\n# On the other hand, partitioning by Green doesn't help so much.\n# true_rows, false_rows = partition(training_data, Question(0,'Green'))\n#\n# We've isolated one apple in the true rows.\n# true_rows\n#\n# But, the false-rows are badly mixed up.\n# false_rows\n#######",
      "metadata": {
        "trusted": true
      },
      "outputs": [
        {
          "execution_count": 29,
          "output_type": "execute_result",
          "data": {
            "text/plain": "0.6399999999999999"
          },
          "metadata": {}
        }
      ],
      "execution_count": 29
    },
    {
      "cell_type": "code",
      "source": "# How much information do we gain by partioning on 'Green'?\ntrue_rows, false_rows = partition(training_data, Question(0, 'Green'))\ninfo_gain(true_rows, false_rows, current_uncertainty)",
      "metadata": {
        "trusted": true
      },
      "outputs": [
        {
          "execution_count": 30,
          "output_type": "execute_result",
          "data": {
            "text/plain": "0.1399999999999999"
          },
          "metadata": {}
        }
      ],
      "execution_count": 30
    },
    {
      "cell_type": "code",
      "source": "# What about if we partioned on 'Red' instead?\ntrue_rows, false_rows = partition(training_data, Question(0,'Red'))\ninfo_gain(true_rows, false_rows, current_uncertainty)",
      "metadata": {
        "trusted": true
      },
      "outputs": [
        {
          "execution_count": 31,
          "output_type": "execute_result",
          "data": {
            "text/plain": "0.37333333333333324"
          },
          "metadata": {}
        }
      ],
      "execution_count": 31
    },
    {
      "cell_type": "code",
      "source": "# It looks like we learned more using 'Red' (0.37), than 'Green' (0.14).\n# Why? Look at the different splits that result, and see which one\n# looks more 'unmixed' to you.\ntrue_rows, false_rows = partition(training_data, Question(0,'Red'))\n\n# Here, the true_rows contain only 'Grapes'.\ntrue_rows",
      "metadata": {
        "trusted": true
      },
      "outputs": [
        {
          "execution_count": 32,
          "output_type": "execute_result",
          "data": {
            "text/plain": "[['Red', 1, 'Grape'], ['Red', 1, 'Grape']]"
          },
          "metadata": {}
        }
      ],
      "execution_count": 32
    },
    {
      "cell_type": "code",
      "source": "# And the false rows contain two types of fruit. Not too bad.\nfalse_rows",
      "metadata": {
        "trusted": true
      },
      "outputs": [
        {
          "execution_count": 33,
          "output_type": "execute_result",
          "data": {
            "text/plain": "[['Green', 3, 'Apple'], ['Yellow', 3, 'Apple'], ['Yellow', 3, 'Lemon']]"
          },
          "metadata": {}
        }
      ],
      "execution_count": 33
    },
    {
      "cell_type": "code",
      "source": "# On the other hand, partitioning by Green doesn't help so much.\ntrue_rows, false_rows = partition(training_data, Question(0,'Green'))\n\n# We've isolated one apple in the true rows.\ntrue_rows",
      "metadata": {
        "trusted": true
      },
      "outputs": [
        {
          "execution_count": 34,
          "output_type": "execute_result",
          "data": {
            "text/plain": "[['Green', 3, 'Apple']]"
          },
          "metadata": {}
        }
      ],
      "execution_count": 34
    },
    {
      "cell_type": "code",
      "source": "# But, the false-rows are badly mixed up.\nfalse_rows\n#######",
      "metadata": {
        "trusted": true
      },
      "outputs": [
        {
          "execution_count": 35,
          "output_type": "execute_result",
          "data": {
            "text/plain": "[['Yellow', 3, 'Apple'],\n ['Red', 1, 'Grape'],\n ['Red', 1, 'Grape'],\n ['Yellow', 3, 'Lemon']]"
          },
          "metadata": {}
        }
      ],
      "execution_count": 35
    },
    {
      "cell_type": "code",
      "source": "def find_best_split(rows):\n    \"\"\"Find the best question to ask by iterating over every feature / value\n    and calculating the information gain.\"\"\"\n    best_gain = 0  # keep track of the best information gain\n    best_question = None  # keep train of the feature / value that produced it\n    current_uncertainty = gini(rows)\n    n_features = len(rows[0]) - 1  # number of columns\n\n    for col in range(n_features):  # for each feature\n\n        values = set([row[col] for row in rows])  # unique values in the column\n\n        for val in values:  # for each value\n\n            question = Question(col, val)\n\n            # try splitting the dataset\n            true_rows, false_rows = partition(rows, question)\n\n            # Skip this split if it doesn't divide the\n            # dataset.\n            if len(true_rows) == 0 or len(false_rows) == 0:\n                continue\n\n            # Calculate the information gain from this split\n            gain = info_gain(true_rows, false_rows, current_uncertainty)\n\n            # You actually can use '>' instead of '>=' here\n            # but I wanted the tree to look a certain way for our\n            # toy dataset.\n            if gain >= best_gain:\n                best_gain, best_question = gain, question\n\n    return best_gain, best_question",
      "metadata": {
        "trusted": true
      },
      "outputs": [],
      "execution_count": 36
    },
    {
      "cell_type": "code",
      "source": "#######\n# Demo:\n# Find the best question to ask first for our toy dataset.\nbest_gain, best_question = find_best_split(training_data)\nbest_question\n# FYI: is color == Red is just as good. See the note in the code above\n# where I used '>='.\n#######",
      "metadata": {
        "trusted": true
      },
      "outputs": [
        {
          "execution_count": 37,
          "output_type": "execute_result",
          "data": {
            "text/plain": "Is diameter >= 3?"
          },
          "metadata": {}
        }
      ],
      "execution_count": 37
    },
    {
      "cell_type": "code",
      "source": "class Leaf:\n    \"\"\"A Leaf node classifies data.\n\n    This holds a dictionary of class (e.g., \"Apple\") -> number of times\n    it appears in the rows from the training data that reach this leaf.\n    \"\"\"\n\n    def __init__(self, rows):\n        self.predictions = class_counts(rows)",
      "metadata": {
        "trusted": true
      },
      "outputs": [],
      "execution_count": 38
    },
    {
      "cell_type": "code",
      "source": "class Decision_Node:\n    \"\"\"A Decision Node asks a question.\n\n    This holds a reference to the question, and to the two child nodes.\n    \"\"\"\n\n    def __init__(self,\n                 question,\n                 true_branch,\n                 false_branch):\n        self.question = question\n        self.true_branch = true_branch\n        self.false_branch = false_branch",
      "metadata": {
        "trusted": true
      },
      "outputs": [],
      "execution_count": 39
    },
    {
      "cell_type": "code",
      "source": "def build_tree(rows):\n    \"\"\"Builds the tree.\n\n    Rules of recursion: 1) Believe that it works. 2) Start by checking\n    for the base case (no further information gain). 3) Prepare for\n    giant stack traces.\n    \"\"\"\n\n    # Try partitioing the dataset on each of the unique attribute,\n    # calculate the information gain,\n    # and return the question that produces the highest gain.\n    gain, question = find_best_split(rows)\n\n    # Base case: no further info gain\n    # Since we can ask no further questions,\n    # we'll return a leaf.\n    if gain == 0:\n        return Leaf(rows)\n\n    # If we reach here, we have found a useful feature / value\n    # to partition on.\n    true_rows, false_rows = partition(rows, question)\n\n    # Recursively build the true branch.\n    true_branch = build_tree(true_rows)\n\n    # Recursively build the false branch.\n    false_branch = build_tree(false_rows)\n\n    # Return a Question node.\n    # This records the best feature / value to ask at this point,\n    # as well as the branches to follow\n    # dependingo on the answer.\n    return Decision_Node(question, true_branch, false_branch)",
      "metadata": {
        "trusted": true
      },
      "outputs": [],
      "execution_count": 40
    },
    {
      "cell_type": "code",
      "source": "def print_tree(node, spacing=\"\"):\n    \"\"\"World's most elegant tree printing function.\"\"\"\n\n    # Base case: we've reached a leaf\n    if isinstance(node, Leaf):\n        print (spacing + \"Predict\", node.predictions)\n        return\n\n    # Print the question at this node\n    print (spacing + str(node.question))\n\n    # Call this function recursively on the true branch\n    print (spacing + '--> True:')\n    print_tree(node.true_branch, spacing + \"  \")\n\n    # Call this function recursively on the false branch\n    print (spacing + '--> False:')\n    print_tree(node.false_branch, spacing + \"  \")",
      "metadata": {
        "trusted": true
      },
      "outputs": [],
      "execution_count": 41
    },
    {
      "cell_type": "code",
      "source": "my_tree = build_tree(training_data)",
      "metadata": {
        "trusted": true
      },
      "outputs": [],
      "execution_count": 42
    },
    {
      "cell_type": "code",
      "source": "print_tree(my_tree)",
      "metadata": {
        "trusted": true
      },
      "outputs": [
        {
          "name": "stdout",
          "text": "Is diameter >= 3?\n--> True:\n  Is color == Yellow?\n  --> True:\n    Predict {'Apple': 1, 'Lemon': 1}\n  --> False:\n    Predict {'Apple': 1}\n--> False:\n  Predict {'Grape': 2}\n",
          "output_type": "stream"
        }
      ],
      "execution_count": 43
    },
    {
      "cell_type": "code",
      "source": "def classify(row, node):\n    \"\"\"See the 'rules of recursion' above.\"\"\"\n\n    # Base case: we've reached a leaf\n    if isinstance(node, Leaf):\n        return node.predictions\n\n    # Decide whether to follow the true-branch or the false-branch.\n    # Compare the feature / value stored in the node,\n    # to the example we're considering.\n    if node.question.match(row):\n        return classify(row, node.true_branch)\n    else:\n        return classify(row, node.false_branch)",
      "metadata": {
        "trusted": true
      },
      "outputs": [],
      "execution_count": 44
    },
    {
      "cell_type": "code",
      "source": "#######\n# Demo:\n# The tree predicts the 1st row of our\n# training data is an apple with confidence 1.\n# my_tree = build_tree(training_data)\nclassify(training_data[0], my_tree)\n#######",
      "metadata": {
        "trusted": true
      },
      "outputs": [
        {
          "execution_count": 45,
          "output_type": "execute_result",
          "data": {
            "text/plain": "{'Apple': 1}"
          },
          "metadata": {}
        }
      ],
      "execution_count": 45
    },
    {
      "cell_type": "code",
      "source": "def print_leaf(counts):\n    \"\"\"A nicer way to print the predictions at a leaf.\"\"\"\n    total = sum(counts.values()) * 1.0\n    probs = {}\n    for lbl in counts.keys():\n        probs[lbl] = str(int(counts[lbl] / total * 100)) + \"%\"\n    return probs",
      "metadata": {
        "trusted": true
      },
      "outputs": [],
      "execution_count": 46
    },
    {
      "cell_type": "code",
      "source": "#######\n# Demo:\n# Printing that a bit nicer\nprint_leaf(classify(training_data[0], my_tree))\n#######",
      "metadata": {
        "trusted": true
      },
      "outputs": [
        {
          "execution_count": 47,
          "output_type": "execute_result",
          "data": {
            "text/plain": "{'Apple': '100%'}"
          },
          "metadata": {}
        }
      ],
      "execution_count": 47
    },
    {
      "cell_type": "code",
      "source": "#######\n# Demo:\n# On the second example, the confidence is lower\nprint_leaf(classify(training_data[1], my_tree))\n#######\n",
      "metadata": {
        "trusted": true
      },
      "outputs": [
        {
          "execution_count": 48,
          "output_type": "execute_result",
          "data": {
            "text/plain": "{'Apple': '50%', 'Lemon': '50%'}"
          },
          "metadata": {}
        }
      ],
      "execution_count": 48
    },
    {
      "cell_type": "code",
      "source": "if __name__ == '__main__':\n\n    my_tree = build_tree(training_data)\n\n    print_tree(my_tree)\n\n    # Evaluate\n    testing_data = [\n        ['Green', 3, 'Apple'],\n        ['Yellow', 4, 'Apple'],\n        ['Red', 2, 'Grape'],\n        ['Red', 1, 'Grape'],\n        ['Yellow', 3, 'Lemon'],\n    ]\n\n    for row in testing_data:\n        print (\"Actual: %s. Predicted: %s\" %\n               (row[-1], print_leaf(classify(row, my_tree))))",
      "metadata": {
        "trusted": true
      },
      "outputs": [
        {
          "name": "stdout",
          "text": "Is diameter >= 3?\n--> True:\n  Is color == Yellow?\n  --> True:\n    Predict {'Apple': 1, 'Lemon': 1}\n  --> False:\n    Predict {'Apple': 1}\n--> False:\n  Predict {'Grape': 2}\nActual: Apple. Predicted: {'Apple': '100%'}\nActual: Apple. Predicted: {'Apple': '50%', 'Lemon': '50%'}\nActual: Grape. Predicted: {'Grape': '100%'}\nActual: Grape. Predicted: {'Grape': '100%'}\nActual: Lemon. Predicted: {'Apple': '50%', 'Lemon': '50%'}\n",
          "output_type": "stream"
        }
      ],
      "execution_count": 49
    },
    {
      "cell_type": "code",
      "source": "# Next steps\n# - add support for missing (or unseen) attributes\n# - prune the tree to prevent overfitting\n# - add support for regression",
      "metadata": {
        "trusted": true
      },
      "outputs": [],
      "execution_count": null
    }
  ]
}