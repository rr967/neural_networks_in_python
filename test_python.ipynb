{
 "cells": [
  {
   "cell_type": "code",
   "execution_count": 1,
   "id": "bb780c09-cfd5-49ba-94ec-d92db95835fb",
   "metadata": {},
   "outputs": [],
   "source": [
    "# test Python"
   ]
  },
  {
   "cell_type": "code",
   "execution_count": 2,
   "id": "46be9df6-2248-43a0-aa3c-86bf431c495a",
   "metadata": {},
   "outputs": [],
   "source": [
    "x = 2"
   ]
  },
  {
   "cell_type": "code",
   "execution_count": 3,
   "id": "3b9985d9-f3ee-46e2-865a-5a7972b5fb74",
   "metadata": {},
   "outputs": [],
   "source": [
    "y = 3"
   ]
  },
  {
   "cell_type": "code",
   "execution_count": 4,
   "id": "a2cb6dd1-55e3-4619-bd9c-417f7b991c3e",
   "metadata": {},
   "outputs": [],
   "source": [
    "z = x + y"
   ]
  },
  {
   "cell_type": "code",
   "execution_count": 5,
   "id": "87ce9eb3-e047-4845-93e4-bbab54ca00d9",
   "metadata": {},
   "outputs": [
    {
     "name": "stdout",
     "output_type": "stream",
     "text": [
      "2 3 5\n"
     ]
    }
   ],
   "source": [
    "print(x,y,z)"
   ]
  },
  {
   "cell_type": "code",
   "execution_count": 6,
   "id": "4f23a515-0563-4220-9a41-683a9df069aa",
   "metadata": {},
   "outputs": [
    {
     "name": "stdout",
     "output_type": "stream",
     "text": [
      "2nd version\n"
     ]
    }
   ],
   "source": [
    "print(\"2nd version\")"
   ]
  },
  {
   "cell_type": "code",
   "execution_count": null,
   "id": "87fc1a48-bc86-4ab5-b4ef-993d22398a97",
   "metadata": {},
   "outputs": [],
   "source": []
  }
 ],
 "metadata": {
  "kernelspec": {
   "display_name": "Python 3 (ipykernel)",
   "language": "python",
   "name": "python3"
  },
  "language_info": {
   "codemirror_mode": {
    "name": "ipython",
    "version": 3
   },
   "file_extension": ".py",
   "mimetype": "text/x-python",
   "name": "python",
   "nbconvert_exporter": "python",
   "pygments_lexer": "ipython3",
   "version": "3.9.6"
  }
 },
 "nbformat": 4,
 "nbformat_minor": 5
}
