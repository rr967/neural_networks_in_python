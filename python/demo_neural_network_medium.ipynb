{
 "cells": [
  {
   "cell_type": "code",
   "execution_count": 1,
   "id": "bb780c09-cfd5-49ba-94ec-d92db95835fb",
   "metadata": {},
   "outputs": [],
   "source": [
    "# URL: https://medium.com/@waadlingaadil/learn-to-build-a-neural-network-from-scratch-yes-really-cac4ca457efc"
   ]
  },
  {
   "cell_type": "markdown",
   "id": "1897a4a7-d6d3-4f3b-9c4c-27ceaaaed2d5",
   "metadata": {},
   "source": [
    "### 1. machine learning"
   ]
  },
  {
   "cell_type": "code",
   "execution_count": 2,
   "id": "46be9df6-2248-43a0-aa3c-86bf431c495a",
   "metadata": {},
   "outputs": [],
   "source": [
    "'''\n",
    "Machine learning consists of these steps:\n",
    "1. Gather correctly labeled data for the machine to train on.\n",
    "2. Create a metric to describe how much error the machine makes when trying to predict what something is.\n",
    "    (we tell them how wrong they are, which we call the cost of the model)\n",
    "3. Iteratively train to reduce that error.\n",
    "'''"
   ]
  },
  {
   "cell_type": "code",
   "execution_count": 3,
   "id": "3b9985d9-f3ee-46e2-865a-5a7972b5fb74",
   "metadata": {},
   "outputs": [],
   "source": [
    "'''\n",
    "Cost = number of errors / number of total predictions\n",
    "'''"
   ]
  },
  {
   "cell_type": "code",
   "execution_count": 4,
   "id": "a2cb6dd1-55e3-4619-bd9c-417f7b991c3e",
   "metadata": {},
   "outputs": [],
   "source": [
    "'''\n",
    "All machine learning consists of is trying to minimize this cost metric as much as possible.\n",
    "\n",
    "Low cost = good model, \n",
    "High cost = bad model\n",
    "\n",
    "You can think of cost as synonymous to a grade in school\n",
    "'''"
   ]
  },
  {
   "cell_type": "code",
   "execution_count": 5,
   "id": "87ce9eb3-e047-4845-93e4-bbab54ca00d9",
   "metadata": {},
   "outputs": [
    {
     "name": "stdout",
     "output_type": "stream",
     "text": [
      "2 3 5\n"
     ]
    }
   ],
   "source": [
    "'''\n",
    "Machine Learning (steps)\n",
    "\n",
    "split train/test data\n",
    "\n",
    "train\n",
    "test\n",
    "\n",
    "evaluate / cost metric\n",
    "minimize cost\n",
    "\n",
    "re-train\n",
    "re-test\n",
    "\n",
    "predict\n",
    "'''"
   ]
  },
  {
   "cell_type": "markdown",
   "id": "2dcb2ef6-7874-48f3-9484-76b10b518862",
   "metadata": {},
   "source": [
    "### 2. matrices"
   ]
  },
  {
   "cell_type": "code",
   "execution_count": 1,
   "id": "87fc1a48-bc86-4ab5-b4ef-993d22398a97",
   "metadata": {},
   "outputs": [
    {
     "name": "stdout",
     "output_type": "stream",
     "text": [
      "21\n"
     ]
    }
   ],
   "source": [
    "print ((2 * 1) + (3 * 5) + (2 * 2))"
   ]
  },
  {
   "cell_type": "code",
   "execution_count": 2,
   "id": "65d4f3aa-2321-4f11-a4f0-a035a6c860bc",
   "metadata": {},
   "outputs": [],
   "source": [
    "import numpy as np"
   ]
  },
  {
   "cell_type": "code",
   "execution_count": 6,
   "id": "975ccca6-9d3a-4c81-8030-0258a0403112",
   "metadata": {},
   "outputs": [
    {
     "name": "stdout",
     "output_type": "stream",
     "text": [
      "vectors = [2, 3, 2] [1, 5, 2]\n",
      "scalar = 21\n"
     ]
    }
   ],
   "source": [
    "a = [2,3,2]\n",
    "b = [1,5,2]\n",
    "print(\"vectors =\", a, b)\n",
    "print('scalar =', np.dot(a,b))"
   ]
  },
  {
   "cell_type": "code",
   "execution_count": null,
   "id": "503d3cef-6e18-4e33-af98-06d170ce9762",
   "metadata": {},
   "outputs": [],
   "source": [
    "# Vectors are just one dimensional matrices"
   ]
  },
  {
   "cell_type": "code",
   "execution_count": 7,
   "id": "e528f088-5a18-49d4-b6f5-fb0acdd9eb4c",
   "metadata": {},
   "outputs": [],
   "source": [
    "# keep in mind: you cannot dot product two vectors together if they have different lengths"
   ]
  },
  {
   "cell_type": "code",
   "execution_count": 8,
   "id": "05381773-619d-496f-818f-be5a7f9161ea",
   "metadata": {},
   "outputs": [],
   "source": [
    "# Matrices are more complicated. They are 2-dimensional, and can have many rows and columns."
   ]
  },
  {
   "cell_type": "code",
   "execution_count": null,
   "id": "254f3eb2-9c9a-45af-814c-866486e54d28",
   "metadata": {},
   "outputs": [],
   "source": [
    "\"\"\"\n",
    "terminology:\n",
    "\n",
    "When you think of a scalar, think of a single number.\n",
    "When you think of a vector, think of a list of numbers.\n",
    "When you think of a matrix, think of a table of numbers.\n",
    "\"\"\""
   ]
  },
  {
   "cell_type": "code",
   "execution_count": null,
   "id": "230c3824-8263-49a8-b20d-a178193ec2ba",
   "metadata": {},
   "outputs": [],
   "source": [
    "\"\"\"\n",
    "Matrix multiplication is exhausting and honestly confusing. \n",
    "The good new is that you don’t have to understand how to do matrix multiplication, only when it’s possible.\n",
    "\"\"\""
   ]
  },
  {
   "cell_type": "code",
   "execution_count": null,
   "id": "e1895fbe-f360-4428-a4cf-04be3f7bbb26",
   "metadata": {},
   "outputs": [],
   "source": [
    "\"\"\"\n",
    "So the general formula for describing the dimensionality of a matrix is rows x columns, always. \n",
    "This notation matters for understanding which combination of matrices we can and can’t multiply.\n",
    "\"\"\""
   ]
  },
  {
   "cell_type": "code",
   "execution_count": null,
   "id": "3e9ca19e-0a99-43b3-a265-da39b1944507",
   "metadata": {},
   "outputs": [],
   "source": [
    "\"\"\"\n",
    "Two matrices can be multiplied together \n",
    "if the first matrix has dimensions a x b, \n",
    "and the second matrix has dimensions b x c, \n",
    "and then the resultant matrix will have dimensions a x c.\n",
    "\n",
    "What do I mean by this? Well, \n",
    "the number of columns in the first matrix has to be exactly equal to the number of rows in the second matrix.\n",
    "\"\"\""
   ]
  },
  {
   "cell_type": "code",
   "execution_count": null,
   "id": "74eb528a-4997-4339-828f-c48784fb62d2",
   "metadata": {},
   "outputs": [],
   "source": [
    "\"\"\"\n",
    "One last final tip to note is that when multiplying matrices, order matters. \n",
    "Here is an example where we multiply two 2 x 2 matrices together \n",
    "(so their dimensions will always be valid), \n",
    "but we do it in two different orders and get wildly different results.\n",
    "\"\"\""
   ]
  },
  {
   "cell_type": "code",
   "execution_count": null,
   "id": "9ce256e6-780d-47fa-8e4b-174681240a97",
   "metadata": {},
   "outputs": [],
   "source": [
    "\"\"\"\n",
    "Transposition\n",
    "\n",
    "Transposition is a simple concept. You transpose a matrix by just switching around its rows and columns.\n",
    "\"\"\""
   ]
  },
  {
   "cell_type": "code",
   "execution_count": null,
   "id": "c32b12e1-97ca-47da-b7e7-3763fa027fa4",
   "metadata": {},
   "outputs": [],
   "source": [
    "\"\"\"\n",
    "Summary\n",
    "\n",
    "1. A dot product between two vectors returns a single number.\n",
    "2. For matrix multiplication, order matters.\n",
    "3. You can only multiply two matrices if the first matrix has dimensions a x b, \n",
    "   and the second has dimensions b x c, resulting in a matrix with dimensions a x c.\n",
    "4. Transposing a matrix swaps its columns and rows. \n",
    "   It makes a matrix with dimensions a x b turn into a matrix with dimensions b x a.\n",
    "\"\"\""
   ]
  },
  {
   "cell_type": "markdown",
   "id": "e3563faa-7282-4ce6-bd1d-80a37f09898e",
   "metadata": {},
   "source": [
    "### 3. Derivatives"
   ]
  },
  {
   "cell_type": "code",
   "execution_count": 9,
   "id": "a13105b0-7eb6-438d-ac55-1c1156f5fd1b",
   "metadata": {},
   "outputs": [],
   "source": [
    "# the cost of a machine learning model is just a math function."
   ]
  },
  {
   "cell_type": "code",
   "execution_count": null,
   "id": "35e1ca27-9e28-45de-91a6-6abc6719c764",
   "metadata": {},
   "outputs": [],
   "source": [
    "\"\"\"\n",
    "Calculating derivatives: Power rule\n",
    "How did we find the derivative of y=x² earlier? Well let’s use the power rule:\n",
    "\n",
    "Slip down the exponent of x² — the 2 — down in front and multiply it against the base, giving you 2x²\n",
    "Subtract one from the exponent, giving you 2x¹\n",
    "Smile in joy with your final result = 2x.\n",
    "\"\"\""
   ]
  }
 ],
 "metadata": {
  "kernelspec": {
   "display_name": "Python 3 (ipykernel)",
   "language": "python",
   "name": "python3"
  },
  "language_info": {
   "codemirror_mode": {
    "name": "ipython",
    "version": 3
   },
   "file_extension": ".py",
   "mimetype": "text/x-python",
   "name": "python",
   "nbconvert_exporter": "python",
   "pygments_lexer": "ipython3",
   "version": "3.9.6"
  }
 },
 "nbformat": 4,
 "nbformat_minor": 5
}
