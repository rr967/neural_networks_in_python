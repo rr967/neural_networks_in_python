{
 "cells": [
  {
   "cell_type": "code",
   "execution_count": 1,
   "metadata": {},
   "outputs": [],
   "source": [
    "# URL: https://www.geeksforgeeks.org/python-numpy-numpy-transpose/"
   ]
  },
  {
   "cell_type": "code",
   "execution_count": 2,
   "metadata": {},
   "outputs": [],
   "source": [
    "# importing python module named numpy\n",
    "import sys\n",
    "import os\n",
    "import numpy as np\n",
    "import inspect\n",
    "import matplotlib as plt"
   ]
  },
  {
   "cell_type": "code",
   "execution_count": 3,
   "metadata": {},
   "outputs": [],
   "source": [
    "# Example 1: In this example we can see that it’s really easy to transpose an array with just one line."
   ]
  },
  {
   "cell_type": "code",
   "execution_count": 4,
   "metadata": {},
   "outputs": [
    {
     "name": "stdout",
     "output_type": "stream",
     "text": [
      "[[1 2 3]\n",
      " [4 5 6]\n",
      " [7 8 9]]\n",
      "\n",
      "[[1 4 7]\n",
      " [2 5 8]\n",
      " [3 6 9]]\n"
     ]
    }
   ],
   "source": [
    "# making a 3x3 array\n",
    "gfg = np.array([\n",
    "    [1, 2, 3],\n",
    "\t[4, 5, 6],\n",
    "\t[7, 8, 9]\n",
    "])\n",
    "\n",
    "# before transpose\n",
    "print(gfg, end ='\\n\\n')\n",
    "\n",
    "# after transpose\n",
    "print(gfg.transpose())\n"
   ]
  },
  {
   "cell_type": "code",
   "execution_count": 5,
   "metadata": {},
   "outputs": [],
   "source": [
    "# Example 2: In this example we demonstrate the use of tuples in numpy.transpose()."
   ]
  },
  {
   "cell_type": "code",
   "execution_count": 6,
   "metadata": {},
   "outputs": [
    {
     "name": "stdout",
     "output_type": "stream",
     "text": [
      "[[1 2]\n",
      " [4 5]\n",
      " [7 8]]\n",
      "\n",
      "[[1 4 7]\n",
      " [2 5 8]]\n"
     ]
    }
   ],
   "source": [
    "# making a 2x3 array\n",
    "gfg = np.array([[1, 2],\n",
    "\t\t\t\t[4, 5],\n",
    "\t\t\t\t[7, 8]])\n",
    "\n",
    "# before transpose\n",
    "print(gfg, end ='\\n\\n')\n",
    "\n",
    "# after transpose\n",
    "print(gfg.transpose(1, 0))\n"
   ]
  },
  {
   "cell_type": "code",
   "execution_count": 7,
   "metadata": {},
   "outputs": [],
   "source": [
    "# Method 2: Using  Numpy ndarray.T object."
   ]
  },
  {
   "cell_type": "code",
   "execution_count": 8,
   "metadata": {},
   "outputs": [
    {
     "name": "stdout",
     "output_type": "stream",
     "text": [
      "[[1 2 3]\n",
      " [4 5 6]\n",
      " [7 8 9]]\n",
      "\n",
      "[[1 4 7]\n",
      " [2 5 8]\n",
      " [3 6 9]]\n"
     ]
    }
   ],
   "source": [
    "# making a 3x3 array\n",
    "gfg = np.array([[1, 2, 3],\n",
    "\t\t\t\t[4, 5, 6],\n",
    "\t\t\t\t[7, 8, 9]])\n",
    "\n",
    "# before transpose\n",
    "print(gfg, end ='\\n\\n')\n",
    "\n",
    "# after transpose\n",
    "print(gfg.T)\n"
   ]
  },
  {
   "cell_type": "code",
   "execution_count": null,
   "metadata": {},
   "outputs": [],
   "source": []
  }
 ],
 "metadata": {
  "kernelspec": {
   "display_name": "Python 3 (ipykernel)",
   "language": "python",
   "name": "python3"
  },
  "language_info": {
   "codemirror_mode": {
    "name": "ipython",
    "version": 3
   },
   "file_extension": ".py",
   "mimetype": "text/x-python",
   "name": "python",
   "nbconvert_exporter": "python",
   "pygments_lexer": "ipython3",
   "version": "3.9.6"
  }
 },
 "nbformat": 4,
 "nbformat_minor": 4
}
