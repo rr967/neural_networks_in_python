{
 "cells": [
  {
   "cell_type": "code",
   "execution_count": 1,
   "metadata": {},
   "outputs": [],
   "source": [
    "# URL: https://www.geeksforgeeks.org/numpy-dot-python/"
   ]
  },
  {
   "cell_type": "code",
   "execution_count": 2,
   "metadata": {},
   "outputs": [
    {
     "data": {
      "text/plain": [
       "'\\nnumpy.dot(vector_a, vector_b, out = None) returns the dot product of vectors a and b. \\nIt can handle 2D arrays but considers them as matrix and will perform matrix multiplication. \\nFor N dimensions it is a sum-product over the last axis of a and the second-to-last of b :\\n'"
      ]
     },
     "execution_count": 2,
     "metadata": {},
     "output_type": "execute_result"
    }
   ],
   "source": [
    "\"\"\"\n",
    "numpy.dot(vector_a, vector_b, out = None) returns the dot product of vectors a and b. \n",
    "It can handle 2D arrays but considers them as matrix and will perform matrix multiplication. \n",
    "For N dimensions it is a sum-product over the last axis of a and the second-to-last of b :\n",
    "\"\"\""
   ]
  },
  {
   "cell_type": "code",
   "execution_count": 3,
   "metadata": {},
   "outputs": [
    {
     "data": {
      "text/plain": [
       "'\\nDot Product of vectors a and b. if vector_a and vector_b are 1D, then scalar is returned\\n\\ndot(a, b)[i,j,k,m] = sum(a[i,j,:] * b[k,:,m]) \\n\\nParameters\\n\\nvector_a : [array_like] if a is complex its complex conjugate is used for the calculation of the dot product. \\nvector_b : [array_like] if b is complex its complex conjugate is used for the calculation of the dot product. \\nout : [array, optional] output argument must be C-contiguous, and its dtype must be the dtype that would be returned for dot(a,b). \\n\\nDot Product of vectors a and b. if vector_a and vector_b are 1D, then scalar is returned\\n\\n'"
      ]
     },
     "execution_count": 3,
     "metadata": {},
     "output_type": "execute_result"
    }
   ],
   "source": [
    "\"\"\"\n",
    "Dot Product of vectors a and b. if vector_a and vector_b are 1D, then scalar is returned\n",
    "\n",
    "dot(a, b)[i,j,k,m] = sum(a[i,j,:] * b[k,:,m]) \n",
    "\n",
    "Parameters\n",
    "\n",
    "vector_a : [array_like] if a is complex its complex conjugate is used for the calculation of the dot product. \n",
    "vector_b : [array_like] if b is complex its complex conjugate is used for the calculation of the dot product. \n",
    "out : [array, optional] output argument must be C-contiguous, and its dtype must be the dtype that would be returned for dot(a,b). \n",
    "\n",
    "Dot Product of vectors a and b. if vector_a and vector_b are 1D, then scalar is returned\n",
    "\n",
    "\"\"\""
   ]
  },
  {
   "cell_type": "code",
   "execution_count": 4,
   "metadata": {},
   "outputs": [
    {
     "data": {
      "text/plain": [
       "'\\nDoing dot product with a layer of neurons and multiple inputs\\nAssociated YT NNFS tutorial: https://www.youtube.com/watch?v=tMrbN67U9d4\\n'"
      ]
     },
     "execution_count": 4,
     "metadata": {},
     "output_type": "execute_result"
    }
   ],
   "source": [
    "'''\n",
    "Doing dot product with a layer of neurons and multiple inputs\n",
    "Associated YT NNFS tutorial: https://www.youtube.com/watch?v=tMrbN67U9d4\n",
    "'''"
   ]
  },
  {
   "cell_type": "code",
   "execution_count": 5,
   "metadata": {},
   "outputs": [],
   "source": [
    "# importing python module named numpy\n",
    "import sys\n",
    "import os\n",
    "import numpy as np\n",
    "import inspect\n",
    "import matplotlib as plt"
   ]
  },
  {
   "cell_type": "code",
   "execution_count": 6,
   "metadata": {},
   "outputs": [],
   "source": [
    "inputs = [1.0, 2.0, 3.0, 2.5]"
   ]
  },
  {
   "cell_type": "code",
   "execution_count": 7,
   "metadata": {},
   "outputs": [],
   "source": [
    "weights = [[0.2, 0.8, -0.5, 1.0],\n",
    "           [0.5, -0.91, 0.26, -0.5],\n",
    "           [-0.26, -0.27, 0.17, 0.87]]"
   ]
  },
  {
   "cell_type": "code",
   "execution_count": 8,
   "metadata": {},
   "outputs": [],
   "source": [
    "biases = [2.0, 3.0, 0.5]"
   ]
  },
  {
   "cell_type": "code",
   "execution_count": 9,
   "metadata": {},
   "outputs": [],
   "source": [
    "output = np.dot(weights, inputs) + biases"
   ]
  },
  {
   "cell_type": "code",
   "execution_count": 10,
   "metadata": {},
   "outputs": [
    {
     "name": "stdout",
     "output_type": "stream",
     "text": [
      "[4.8   1.21  2.385]\n"
     ]
    }
   ],
   "source": [
    "print(output)"
   ]
  },
  {
   "cell_type": "code",
   "execution_count": 11,
   "metadata": {},
   "outputs": [],
   "source": [
    "# Example 1"
   ]
  },
  {
   "cell_type": "code",
   "execution_count": 12,
   "metadata": {},
   "outputs": [
    {
     "name": "stdout",
     "output_type": "stream",
     "text": [
      "Dot Product of scalar values :  20\n",
      "(2+3j)\n",
      "(4+5j)\n",
      "Dot Product :  (-7+22j)\n"
     ]
    }
   ],
   "source": [
    "# Python Program illustrating\n",
    "# numpy.dot() method\n",
    "\n",
    "# Scalars\n",
    "product = np.dot(5, 4)\n",
    "print(\"Dot Product of scalar values : \", product)\n",
    "\n",
    "# 1D array\n",
    "vector_a = 2 + 3j\n",
    "print(vector_a)\n",
    "vector_b = 4 + 5j\n",
    "print(vector_b)\n",
    "\n",
    "product = np.dot(vector_a, vector_b)\n",
    "print(\"Dot Product : \", product)\n"
   ]
  },
  {
   "cell_type": "code",
   "execution_count": 15,
   "metadata": {},
   "outputs": [
    {
     "data": {
      "text/plain": [
       "'\\nHow Code1 works ? \\n\\nvector_a = 2 + 3j \\nvector_b = 4 + 5j\\n\\nnow dot product \\n\\n= 2(4 + 5j) + 3j(4 +5j) \\n= 8 + 10j + 12j - 15 \\n= -7 + 22j\\n'"
      ]
     },
     "execution_count": 15,
     "metadata": {},
     "output_type": "execute_result"
    }
   ],
   "source": [
    "'''\n",
    "How Code1 works ? \n",
    "\n",
    "vector_a = 2 + 3j \n",
    "vector_b = 4 + 5j\n",
    "\n",
    "now dot product \n",
    "\n",
    "= 2(4 + 5j) + 3j(4 +5j) \n",
    "= 8 + 10j + 12j - 15 \n",
    "= -7 + 22j\n",
    "'''"
   ]
  },
  {
   "cell_type": "code",
   "execution_count": 16,
   "metadata": {},
   "outputs": [],
   "source": [
    "# Example 2"
   ]
  },
  {
   "cell_type": "code",
   "execution_count": 17,
   "metadata": {},
   "outputs": [
    {
     "name": "stdout",
     "output_type": "stream",
     "text": [
      "Dot Product : \n",
      " [[22 12]\n",
      " [40 32]]\n",
      "\n",
      "Dot Product : \n",
      " [[22 32]\n",
      " [15 32]]\n"
     ]
    },
    {
     "data": {
      "text/plain": [
       "' \\nCode 2 : as normal matrix multiplication\\n'"
      ]
     },
     "execution_count": 17,
     "metadata": {},
     "output_type": "execute_result"
    }
   ],
   "source": [
    "# Python Program illustrating\n",
    "# numpy.dot() method\n",
    "\n",
    "# 1D array\n",
    "vector_a = np.array([[1, 4], [5, 6]])\n",
    "vector_b = np.array([[2, 4], [5, 2]])\n",
    "\n",
    "product = np.dot(vector_a, vector_b)\n",
    "print(\"Dot Product : \\n\", product)\n",
    "\n",
    "product = np.dot(vector_b, vector_a)\n",
    "print(\"\\nDot Product : \\n\", product)\n",
    "\n",
    "\"\"\" \n",
    "Code 2 : as normal matrix multiplication\n",
    "\"\"\"\n"
   ]
  },
  {
   "cell_type": "code",
   "execution_count": null,
   "metadata": {},
   "outputs": [],
   "source": []
  }
 ],
 "metadata": {
  "kernelspec": {
   "display_name": "Python 3 (ipykernel)",
   "language": "python",
   "name": "python3"
  },
  "language_info": {
   "codemirror_mode": {
    "name": "ipython",
    "version": 3
   },
   "file_extension": ".py",
   "mimetype": "text/x-python",
   "name": "python",
   "nbconvert_exporter": "python",
   "pygments_lexer": "ipython3",
   "version": "3.9.6"
  }
 },
 "nbformat": 4,
 "nbformat_minor": 4
}
