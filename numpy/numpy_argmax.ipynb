{
 "cells": [
  {
   "cell_type": "code",
   "execution_count": 1,
   "metadata": {},
   "outputs": [],
   "source": [
    "# URL: https://www.geeksforgeeks.org/numpy-argmax-python/"
   ]
  },
  {
   "cell_type": "code",
   "execution_count": 2,
   "metadata": {},
   "outputs": [],
   "source": [
    "# The numpy.argmax() function returns indices of the max element of the array in a particular axis. "
   ]
  },
  {
   "cell_type": "code",
   "execution_count": 3,
   "metadata": {},
   "outputs": [],
   "source": [
    "# importing python module named numpy\n",
    "import sys\n",
    "import os\n",
    "import numpy as np\n",
    "import inspect\n",
    "import matplotlib as plt"
   ]
  },
  {
   "cell_type": "code",
   "execution_count": 4,
   "metadata": {},
   "outputs": [],
   "source": [
    "# Example 1: "
   ]
  },
  {
   "cell_type": "code",
   "execution_count": 5,
   "metadata": {},
   "outputs": [
    {
     "name": "stdout",
     "output_type": "stream",
     "text": [
      "INPUT ARRAY : \n",
      " [[ 0  1  2  3]\n",
      " [ 4  5  6  7]\n",
      " [ 8  9 10 11]]\n",
      "\n",
      "Max element :  11\n",
      "\n",
      "Indices of Max element :  [2 2 2 2]\n",
      "\n",
      "Indices of Max element :  [3 3 3]\n"
     ]
    }
   ],
   "source": [
    "# Python Program illustrating \n",
    "# working of argmax() \n",
    "\n",
    "import numpy as geek \n",
    "\n",
    "# Working on 2D array \n",
    "array = geek.arange(12).reshape(3, 4) \n",
    "print(\"INPUT ARRAY : \\n\", array) \n",
    "\n",
    "# No axis mentioned, so works on entire array \n",
    "print(\"\\nMax element : \", geek.argmax(array)) \n",
    "\n",
    "# returning Indices of the max element \n",
    "# as per the indices \n",
    "print(\"\\nIndices of Max element : \", geek.argmax(array, axis=0)) \n",
    "print(\"\\nIndices of Max element : \", geek.argmax(array, axis=1)) \n"
   ]
  },
  {
   "cell_type": "code",
   "execution_count": 6,
   "metadata": {},
   "outputs": [],
   "source": [
    "# Example 2: "
   ]
  },
  {
   "cell_type": "code",
   "execution_count": 7,
   "metadata": {},
   "outputs": [
    {
     "name": "stdout",
     "output_type": "stream",
     "text": [
      "INPUT ARRAY : \n",
      " [[10  7 14  8]\n",
      " [ 4 11  4  4]\n",
      " [ 4 15  8 10]\n",
      " [ 7  1  8  1]]\n",
      "\n",
      "Max element :  9\n",
      "\n",
      "Indices of Max element :  [0 2 0 2]\n",
      "\n",
      "Indices of Max element :  [2 1 1 2]\n"
     ]
    }
   ],
   "source": [
    "# Python Program illustrating \n",
    "# working of argmax() \n",
    "\n",
    "import numpy as geek \n",
    "\n",
    "# Working on 2D array \n",
    "array = geek.random.randint(16, size=(4, 4)) \n",
    "print(\"INPUT ARRAY : \\n\", array) \n",
    "\n",
    "# No axis mentioned, so works on entire array \n",
    "print(\"\\nMax element : \", geek.argmax(array)) \n",
    "\n",
    "# returning Indices of the max element \n",
    "# as per the indices \n",
    "\n",
    "''' \n",
    "[[ 0 3 8 13] \n",
    "\t[12 11 2 11] \n",
    "\t[ 5 13 8 3] \n",
    "\t[12 15 3 4]] \n",
    "\t^ ^ ^ ^ \n",
    "\t12 15 8 13 - element \n",
    "\t1 3 0 0 - indices \n",
    "'''\n",
    "print(\"\\nIndices of Max element : \", geek.argmax(array, axis = 0)) \n",
    "\n",
    "\n",
    "''' \n",
    "\t\t\t\t\t\t\tELEMENT INDEX \n",
    "->[[ 0 3 8 13]\t\t 13\t 3 \n",
    "\t->[12 11 2 11]\t\t 12\t 0 \n",
    "\t->[ 5 13 8 3]\t\t 13\t 1 \n",
    "\t->[12 15 3 4]]\t\t 15\t 1 \n",
    "\t\t\n",
    "'''\n",
    "print(\"\\nIndices of Max element : \", geek.argmax(array, axis = 1)) \n"
   ]
  },
  {
   "cell_type": "code",
   "execution_count": 8,
   "metadata": {},
   "outputs": [],
   "source": [
    "# Example 3:"
   ]
  },
  {
   "cell_type": "code",
   "execution_count": 9,
   "metadata": {},
   "outputs": [
    {
     "name": "stdout",
     "output_type": "stream",
     "text": [
      "array : \n",
      " [[0 1 2 3 4]\n",
      " [5 6 7 8 9]]\n",
      "\n",
      "array : \n",
      " [[0 6 2 3 4]\n",
      " [5 6 7 8 9]]\n",
      "\n",
      "array :  9\n",
      "\n",
      "MAX ELEMENT INDICES :  [1 0 1 1 1]\n"
     ]
    }
   ],
   "source": [
    "# Python Program illustrating \n",
    "# working of argmax() \n",
    "\n",
    "import numpy as geek \n",
    "\n",
    "# Working on 2D array \n",
    "array = geek.arange(10).reshape(2, 5) \n",
    "print(\"array : \\n\", array) \n",
    "\n",
    "array[0][1] = 6\n",
    "print(\"\\narray : \\n\", array) \n",
    "\t\n",
    "# Returns max element \n",
    "print(\"\\narray : \", geek.argmax(array)) \n",
    "\n",
    "# First occurrence of an max element is given \n",
    "print(\"\\nMAX ELEMENT INDICES : \", geek.argmax(array, axis = 0)) \n"
   ]
  },
  {
   "cell_type": "code",
   "execution_count": null,
   "metadata": {},
   "outputs": [],
   "source": []
  }
 ],
 "metadata": {
  "kernelspec": {
   "display_name": "Python 3 (ipykernel)",
   "language": "python",
   "name": "python3"
  },
  "language_info": {
   "codemirror_mode": {
    "name": "ipython",
    "version": 3
   },
   "file_extension": ".py",
   "mimetype": "text/x-python",
   "name": "python",
   "nbconvert_exporter": "python",
   "pygments_lexer": "ipython3",
   "version": "3.9.6"
  }
 },
 "nbformat": 4,
 "nbformat_minor": 4
}
