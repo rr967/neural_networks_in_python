{
  "metadata": {
    "kernelspec": {
      "name": "python",
      "display_name": "Python (Pyodide)",
      "language": "python"
    },
    "language_info": {
      "codemirror_mode": {
        "name": "python",
        "version": 3
      },
      "file_extension": ".py",
      "mimetype": "text/x-python",
      "name": "python",
      "nbconvert_exporter": "python",
      "pygments_lexer": "ipython3",
      "version": "3.8"
    }
  },
  "nbformat_minor": 4,
  "nbformat": 4,
  "cells": [
    {
      "cell_type": "code",
      "source": "# URL: https://www.geeksforgeeks.org/numpy-argmax-python/",
      "metadata": {
        "trusted": true
      },
      "outputs": [],
      "execution_count": null
    },
    {
      "cell_type": "code",
      "source": "# The numpy.argmax() function returns indices of the max element of the array in a particular axis. ",
      "metadata": {
        "trusted": true
      },
      "outputs": [],
      "execution_count": null
    },
    {
      "cell_type": "code",
      "source": "# importing python module named numpy\nimport sys\nimport os\nimport numpy as np\nimport inspect\nimport matplotlib as plt",
      "metadata": {
        "trusted": true
      },
      "outputs": [],
      "execution_count": null
    },
    {
      "cell_type": "code",
      "source": "# Example 1: ",
      "metadata": {
        "trusted": true
      },
      "outputs": [],
      "execution_count": null
    },
    {
      "cell_type": "code",
      "source": "# Python Program illustrating \n# working of argmax() \n\nimport numpy as geek \n\n# Working on 2D array \narray = geek.arange(12).reshape(3, 4) \nprint(\"INPUT ARRAY : \\n\", array) \n\n# No axis mentioned, so works on entire array \nprint(\"\\nMax element : \", geek.argmax(array)) \n\n# returning Indices of the max element \n# as per the indices \nprint(\"\\nIndices of Max element : \", geek.argmax(array, axis=0)) \nprint(\"\\nIndices of Max element : \", geek.argmax(array, axis=1)) \n",
      "metadata": {
        "trusted": true
      },
      "outputs": [
        {
          "name": "stdout",
          "text": "INPUT ARRAY : \n [[ 0  1  2  3]\n [ 4  5  6  7]\n [ 8  9 10 11]]\n\nMax element :  11\n\nIndices of Max element :  [2 2 2 2]\n\nIndices of Max element :  [3 3 3]\n",
          "output_type": "stream"
        }
      ],
      "execution_count": 1
    },
    {
      "cell_type": "code",
      "source": "# Example 2: ",
      "metadata": {
        "trusted": true
      },
      "outputs": [],
      "execution_count": null
    },
    {
      "cell_type": "code",
      "source": "# Python Program illustrating \n# working of argmax() \n\nimport numpy as geek \n\n# Working on 2D array \narray = geek.random.randint(16, size=(4, 4)) \nprint(\"INPUT ARRAY : \\n\", array) \n\n# No axis mentioned, so works on entire array \nprint(\"\\nMax element : \", geek.argmax(array)) \n\n# returning Indices of the max element \n# as per the indices \n\n''' \n[[ 0 3 8 13] \n\t[12 11 2 11] \n\t[ 5 13 8 3] \n\t[12 15 3 4]] \n\t^ ^ ^ ^ \n\t12 15 8 13 - element \n\t1 3 0 0 - indices \n'''\nprint(\"\\nIndices of Max element : \", geek.argmax(array, axis = 0)) \n\n\n''' \n\t\t\t\t\t\t\tELEMENT INDEX \n->[[ 0 3 8 13]\t\t 13\t 3 \n\t->[12 11 2 11]\t\t 12\t 0 \n\t->[ 5 13 8 3]\t\t 13\t 1 \n\t->[12 15 3 4]]\t\t 15\t 1 \n\t\t\n'''\nprint(\"\\nIndices of Max element : \", geek.argmax(array, axis = 1)) \n",
      "metadata": {
        "trusted": true
      },
      "outputs": [
        {
          "name": "stdout",
          "text": "INPUT ARRAY : \n [[12 15 15  9]\n [ 8  1  0 13]\n [ 1  6  5  0]\n [12 15  8 13]]\n\nMax element :  1\n\nIndices of Max element :  [0 0 0 1]\n\nIndices of Max element :  [1 3 1 1]\n",
          "output_type": "stream"
        }
      ],
      "execution_count": 2
    },
    {
      "cell_type": "code",
      "source": "# Example 3:",
      "metadata": {
        "trusted": true
      },
      "outputs": [],
      "execution_count": null
    },
    {
      "cell_type": "code",
      "source": "# Python Program illustrating \n# working of argmax() \n\nimport numpy as geek \n\n# Working on 2D array \narray = geek.arange(10).reshape(2, 5) \nprint(\"array : \\n\", array) \n\narray[0][1] = 6\nprint(\"\\narray : \\n\", array) \n\t\n# Returns max element \nprint(\"\\narray : \", geek.argmax(array)) \n\n# First occurrence of an max element is given \nprint(\"\\nMAX ELEMENT INDICES : \", geek.argmax(array, axis = 0)) \n",
      "metadata": {
        "trusted": true
      },
      "outputs": [
        {
          "name": "stdout",
          "text": "array : \n [[0 1 2 3 4]\n [5 6 7 8 9]]\n\narray : \n [[0 6 2 3 4]\n [5 6 7 8 9]]\n\narray :  9\n\nMAX ELEMENT INDICES :  [1 0 1 1 1]\n",
          "output_type": "stream"
        }
      ],
      "execution_count": 3
    },
    {
      "cell_type": "code",
      "source": "",
      "metadata": {
        "trusted": true
      },
      "outputs": [],
      "execution_count": null
    }
  ]
}